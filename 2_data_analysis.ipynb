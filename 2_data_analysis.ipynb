{
 "cells": [
  {
   "cell_type": "markdown",
   "metadata": {},
   "source": [
    "# Importing Libraries"
   ]
  },
  {
   "cell_type": "code",
   "execution_count": 134,
   "metadata": {},
   "outputs": [],
   "source": [
    "import pandas as pd\n",
    "import numpy as np\n",
    "import seaborn as sns\n",
    "import matplotlib.pyplot as plt"
   ]
  },
  {
   "cell_type": "markdown",
   "metadata": {},
   "source": [
    "# Reading Dataset"
   ]
  },
  {
   "cell_type": "code",
   "execution_count": 135,
   "metadata": {},
   "outputs": [
    {
     "data": {
      "text/html": [
       "<div>\n",
       "<style scoped>\n",
       "    .dataframe tbody tr th:only-of-type {\n",
       "        vertical-align: middle;\n",
       "    }\n",
       "\n",
       "    .dataframe tbody tr th {\n",
       "        vertical-align: top;\n",
       "    }\n",
       "\n",
       "    .dataframe thead th {\n",
       "        text-align: right;\n",
       "    }\n",
       "</style>\n",
       "<table border=\"1\" class=\"dataframe\">\n",
       "  <thead>\n",
       "    <tr style=\"text-align: right;\">\n",
       "      <th></th>\n",
       "      <th>Metal used for modification</th>\n",
       "      <th>source of metal</th>\n",
       "      <th>Form of porous carbon</th>\n",
       "      <th>Detection techniques</th>\n",
       "      <th>Mechanism</th>\n",
       "      <th>LOD_nM</th>\n",
       "      <th>Unnamed: 6</th>\n",
       "    </tr>\n",
       "  </thead>\n",
       "  <tbody>\n",
       "    <tr>\n",
       "      <th>0</th>\n",
       "      <td>pd</td>\n",
       "      <td>pdcl2</td>\n",
       "      <td>graphene</td>\n",
       "      <td>cv</td>\n",
       "      <td>electrostatic interaction</td>\n",
       "      <td>1.000000e+03</td>\n",
       "      <td>NaN</td>\n",
       "    </tr>\n",
       "    <tr>\n",
       "      <th>1</th>\n",
       "      <td>pd</td>\n",
       "      <td>pdcl2</td>\n",
       "      <td>graphene</td>\n",
       "      <td>dpv</td>\n",
       "      <td>electrostatic interaction</td>\n",
       "      <td>1.000000e+03</td>\n",
       "      <td>NaN</td>\n",
       "    </tr>\n",
       "    <tr>\n",
       "      <th>2</th>\n",
       "      <td>pd</td>\n",
       "      <td>pd(no3)2·2h2o</td>\n",
       "      <td>nanoporous carbon</td>\n",
       "      <td>dpv</td>\n",
       "      <td>electrocatalysis</td>\n",
       "      <td>7.600000e+01</td>\n",
       "      <td>NaN</td>\n",
       "    </tr>\n",
       "    <tr>\n",
       "      <th>3</th>\n",
       "      <td>pd</td>\n",
       "      <td>pd(no3)2·2h2o</td>\n",
       "      <td>carbon aerogel</td>\n",
       "      <td>dpv</td>\n",
       "      <td>electrooxidation</td>\n",
       "      <td>2.600000e+00</td>\n",
       "      <td>NaN</td>\n",
       "    </tr>\n",
       "    <tr>\n",
       "      <th>4</th>\n",
       "      <td>pd</td>\n",
       "      <td>na2pdcl4, k2ptcl4</td>\n",
       "      <td>nanotubes</td>\n",
       "      <td>cv</td>\n",
       "      <td>electrocatalysis</td>\n",
       "      <td>1.250000e+09</td>\n",
       "      <td>NaN</td>\n",
       "    </tr>\n",
       "    <tr>\n",
       "      <th>5</th>\n",
       "      <td>pd</td>\n",
       "      <td>pdcl2</td>\n",
       "      <td>activated carbon</td>\n",
       "      <td>cv</td>\n",
       "      <td>NaN</td>\n",
       "      <td>5.680000e-03</td>\n",
       "      <td>NaN</td>\n",
       "    </tr>\n",
       "    <tr>\n",
       "      <th>6</th>\n",
       "      <td>pd</td>\n",
       "      <td>pdcl2</td>\n",
       "      <td>activated carbon</td>\n",
       "      <td>dpv</td>\n",
       "      <td>NaN</td>\n",
       "      <td>5.680000e-03</td>\n",
       "      <td>NaN</td>\n",
       "    </tr>\n",
       "    <tr>\n",
       "      <th>7</th>\n",
       "      <td>pd</td>\n",
       "      <td>pdcl2</td>\n",
       "      <td>activated carbon</td>\n",
       "      <td>sr</td>\n",
       "      <td>NaN</td>\n",
       "      <td>5.680000e-03</td>\n",
       "      <td>NaN</td>\n",
       "    </tr>\n",
       "    <tr>\n",
       "      <th>8</th>\n",
       "      <td>pd</td>\n",
       "      <td>pd(ch3coo)2</td>\n",
       "      <td>nanofibers</td>\n",
       "      <td>dpv</td>\n",
       "      <td>electrocatalysis</td>\n",
       "      <td>2.000000e+02</td>\n",
       "      <td>NaN</td>\n",
       "    </tr>\n",
       "    <tr>\n",
       "      <th>9</th>\n",
       "      <td>pd</td>\n",
       "      <td>pd(no3)2·2h2o</td>\n",
       "      <td>carbon paste</td>\n",
       "      <td>dpv</td>\n",
       "      <td>electrooxidation</td>\n",
       "      <td>3.600000e+00</td>\n",
       "      <td>NaN</td>\n",
       "    </tr>\n",
       "  </tbody>\n",
       "</table>\n",
       "</div>"
      ],
      "text/plain": [
       "  Metal used for modification    source of metal Form of porous carbon  \\\n",
       "0                          pd              pdcl2              graphene   \n",
       "1                          pd              pdcl2              graphene   \n",
       "2                          pd      pd(no3)2·2h2o     nanoporous carbon   \n",
       "3                          pd      pd(no3)2·2h2o        carbon aerogel   \n",
       "4                          pd  na2pdcl4, k2ptcl4             nanotubes   \n",
       "5                          pd              pdcl2      activated carbon   \n",
       "6                          pd              pdcl2      activated carbon   \n",
       "7                          pd              pdcl2      activated carbon   \n",
       "8                          pd        pd(ch3coo)2            nanofibers   \n",
       "9                          pd      pd(no3)2·2h2o          carbon paste   \n",
       "\n",
       "  Detection techniques                  Mechanism        LOD_nM  Unnamed: 6  \n",
       "0                   cv  electrostatic interaction  1.000000e+03         NaN  \n",
       "1                  dpv  electrostatic interaction  1.000000e+03         NaN  \n",
       "2                  dpv           electrocatalysis  7.600000e+01         NaN  \n",
       "3                  dpv           electrooxidation  2.600000e+00         NaN  \n",
       "4                   cv           electrocatalysis  1.250000e+09         NaN  \n",
       "5                   cv                        NaN  5.680000e-03         NaN  \n",
       "6                  dpv                        NaN  5.680000e-03         NaN  \n",
       "7                   sr                        NaN  5.680000e-03         NaN  \n",
       "8                  dpv           electrocatalysis  2.000000e+02         NaN  \n",
       "9                  dpv           electrooxidation  3.600000e+00         NaN  "
      ]
     },
     "execution_count": 135,
     "metadata": {},
     "output_type": "execute_result"
    }
   ],
   "source": [
    "# Load the updated CSV file\n",
    "df = pd.read_csv(\"2_data.csv\")\n",
    "df.head(10)"
   ]
  },
  {
   "cell_type": "code",
   "execution_count": 136,
   "metadata": {},
   "outputs": [
    {
     "data": {
      "text/plain": [
       "Detection techniques\n",
       "dpv                        36\n",
       "cv                         18\n",
       "amperometry                 2\n",
       "swv                         2\n",
       "lithium-ion battery         2\n",
       "chronoamperometry           2\n",
       "sr                          1\n",
       "fluorescence microscopy     1\n",
       "ldi-tof ms                  1\n",
       "Name: count, dtype: int64"
      ]
     },
     "execution_count": 136,
     "metadata": {},
     "output_type": "execute_result"
    }
   ],
   "source": [
    "df[\"Detection techniques\"].value_counts()"
   ]
  },
  {
   "cell_type": "code",
   "execution_count": 137,
   "metadata": {},
   "outputs": [],
   "source": [
    "# a later change is data to convert nano spherical composite to a broader term of nanocomposite\n",
    "# nanotube arrays to nanotubes\n",
    "# Replace \"nano spherical composite\" with \"nanocomposite\" \n",
    "# and \"nanotube arrays\" with \"nanotubes\"\n",
    "df[\"Form of porous carbon\"] = df[\"Form of porous carbon\"].replace({\n",
    "    \"nanospherical composites\": \"nanocomposite\",\n",
    "    \"nanotube arrays\": \"nanotubes\"\n",
    "})\n",
    "df[\"Detection techniques\"] = df[\"Detection techniques\"].replace({\n",
    "    \"fluorescence microscopy\": \"fluorescence spectroscopy\"\n",
    "})\n"
   ]
  },
  {
   "cell_type": "code",
   "execution_count": 138,
   "metadata": {},
   "outputs": [],
   "source": [
    "\n",
    "# Replace \"carbon paste\", \"carbon aerogel\", \"hollow carbon spheres\", \"activated carbon\" with \"porous carbon materials\"\n",
    "values_to_replace = [\"carbon paste\", \"carbon aerogel\", \"hollow carbon spheres\", \"activated carbon\", \"nanoporous carbon\"]\n",
    "df[\"Form of porous carbon\"] = df[\"Form of porous carbon\"].replace(values_to_replace, \"porous carbon\")\n",
    "\n",
    "# Now, the specified values in the \"Form of porous carbon\" column are replaced with \"porous carbon materials\"\n"
   ]
  },
  {
   "cell_type": "code",
   "execution_count": 139,
   "metadata": {},
   "outputs": [
    {
     "data": {
      "text/plain": [
       "Form of porous carbon\n",
       "nanocomposite     16\n",
       "porous carbon     11\n",
       "nanoparticle       9\n",
       "nanostructures     7\n",
       "nanofibers         6\n",
       "nanotubes          4\n",
       "graphene           3\n",
       "nanosheet          3\n",
       "mofs               3\n",
       "nanobelts          1\n",
       "nanospheres        1\n",
       "nanorods           1\n",
       "Name: count, dtype: int64"
      ]
     },
     "execution_count": 139,
     "metadata": {},
     "output_type": "execute_result"
    }
   ],
   "source": [
    "df[\"Form of porous carbon\"].value_counts()"
   ]
  },
  {
   "cell_type": "code",
   "execution_count": 140,
   "metadata": {},
   "outputs": [
    {
     "data": {
      "text/plain": [
       "(72, 7)"
      ]
     },
     "execution_count": 140,
     "metadata": {},
     "output_type": "execute_result"
    }
   ],
   "source": [
    "df.shape"
   ]
  },
  {
   "cell_type": "markdown",
   "metadata": {},
   "source": [
    "-   **Metal used for modification:** Type of metal used for modifying the carbon form.\n",
    "-   **Source of metal:** Chemical source of the metal.\n",
    "-   **Form of porous carbon:** Type of carbon material used.\n",
    "-   **Detection techniques:** Techniques used for detection.\n",
    "-   **Mechanism:** The mechanism of detection or modification.\n",
    "-   **LOD_nM:** Limit of detection in nanomolar (nM), which appears to be a numerical value representing the sensitivity of the detection method.\n",
    "-   **Unnamed: 6:** An unnamed column that appears to contain only missing values."
   ]
  },
  {
   "cell_type": "code",
   "execution_count": 141,
   "metadata": {},
   "outputs": [],
   "source": [
    "data=df.copy()"
   ]
  },
  {
   "cell_type": "markdown",
   "metadata": {},
   "source": [
    "# Data Cleaning Steps:\n",
    "\n",
    "-   Remove the 'Unnamed: 6' column as it doesn't contain any useful information.\n",
    "-   Check for missing values in other columns and decide on an appropriate handling strategy.\n",
    "-   Standardize the format of categorical variables for consistency.\n",
    "=   Convert numerical values into a standard notation if necessary, especially for the 'LOD_nM' column to ensure clarity in visualization and analysis."
   ]
  },
  {
   "cell_type": "code",
   "execution_count": 142,
   "metadata": {},
   "outputs": [
    {
     "data": {
      "text/plain": [
       "Metal used for modification     0\n",
       "source of metal                33\n",
       "Form of porous carbon           7\n",
       "Detection techniques            7\n",
       "Mechanism                      30\n",
       "LOD_nM                          6\n",
       "dtype: int64"
      ]
     },
     "execution_count": 142,
     "metadata": {},
     "output_type": "execute_result"
    }
   ],
   "source": [
    "# Remove the 'Unnamed: 6' column\n",
    "data_cleaned = data.drop(columns=['Unnamed: 6'])\n",
    "# Check for missing values in the dataset\n",
    "missing_values = data_cleaned.isnull().sum()\n",
    "missing_values"
   ]
  },
  {
   "cell_type": "markdown",
   "metadata": {},
   "source": [
    "**Missing Values**\n",
    "\n",
    "-   Source of metal: 33 missing values.\n",
    "-   Form of porous carbon: 7 missing values.\n",
    "-   Detection techniques: 7 missing values.\n",
    "-   Mechanism: 30 missing values.\n",
    "-   LOD_nM: 6 missing values.\n",
    "-   Unique Values in Categorical Columns\n",
    "\n",
    "We have several categories within our categorical columns, indicating a diverse dataset. These categories include different metals, sources of metals, forms of porous carbon, detection techniques, and mechanisms.\n",
    "\n",
    "**Data Cleaning Decisions:**\n",
    "\n",
    "**1- Missing values:** Given the scientific nature of the dataset, careful consideration is needed to handle missing values. For categorical variables, if imputation is not scientifically valid, we may consider removing rows with missing values or marking them as \"Unknown\" if their absence won't significantly impact the analysis. For the `LOD_nM`, missing values might be imputed based on the median or mean, if applicable, or those rows could be removed, depending on the size of the dataset and the distribution of `LOD_nM`.\n",
    "\n",
    "**2- Standardization:** It appears the dataset contains consistent categories within the inspected columns, so no major standardization issues were identified at this step, except for handling missing values as \"Unknown\" for a clearer representation.\n",
    "\n",
    "Let's handle the missing values appropriately and then proceed to generate descriptive statistics and visualizations for deeper insights"
   ]
  },
  {
   "cell_type": "code",
   "execution_count": 143,
   "metadata": {},
   "outputs": [],
   "source": [
    "# Convert 'LOD_nM' to a more readable format using scientific notation\n",
    "data_cleaned['LOD_nM'] = data_cleaned['LOD_nM'].apply(lambda x: \"{:.2e}\".format(x))\n",
    "\n",
    "# # Check for unique values in categorical columns to standardize format if necessary\n",
    "# unique_metal = data_cleaned['Metal used for modification'].unique()\n",
    "# unique_source = data_cleaned['source of metal'].unique()\n",
    "# unique_form = data_cleaned['Form of porous carbon'].unique()\n",
    "# unique_techniques = data_cleaned['Detection techniques'].unique()\n",
    "# unique_mechanism = data_cleaned['Mechanism'].unique()\n",
    "\n",
    "# unique_metal, unique_source, unique_form, unique_techniques, unique_mechanism"
   ]
  },
  {
   "cell_type": "code",
   "execution_count": 144,
   "metadata": {},
   "outputs": [
    {
     "name": "stdout",
     "output_type": "stream",
     "text": [
      "Metal used for modification\n",
      "pd    11\n",
      "cu    10\n",
      "ti     9\n",
      "mo     9\n",
      "zr     8\n",
      "au     8\n",
      "fe     7\n",
      "ag     5\n",
      "pt     4\n",
      "co     1\n",
      "Name: count, dtype: int64\n",
      "______________________________\n",
      "source of metal\n",
      "pdcl2                     5\n",
      "moo3                      4\n",
      "pd(no3)2·2h2o             3\n",
      "na2moo4·2h2o              3\n",
      "ptcl2                     2\n",
      "zrcl4                     2\n",
      "cu(no3)2·3h2o             2\n",
      "agno3                     2\n",
      "ti(ch3cochcoch3)4         2\n",
      "tic                       2\n",
      "pd(ch3coo)2               2\n",
      "h2ptcl6·6h2o and agno3    1\n",
      "agsn alloy                1\n",
      "zr based mofs             1\n",
      "zr(no3)2·6h2o             1\n",
      "mo(ch3cochcoch3)3         1\n",
      "(nh4)2moo4·4h2o           1\n",
      "na2pdcl4, k2ptcl4         1\n",
      "haucl4·xh2o               1\n",
      "cuso4.5h2o                1\n",
      "zro2                      1\n",
      "Name: count, dtype: int64\n"
     ]
    }
   ],
   "source": [
    "unique_metal = data_cleaned['Metal used for modification'].value_counts()\n",
    "print(unique_metal)\n",
    "print(30*\"_\")\n",
    "unique_source = data_cleaned['source of metal'].value_counts()\n",
    "print(unique_source)\n",
    "# print(30*\"_\")\n"
   ]
  },
  {
   "cell_type": "code",
   "execution_count": 145,
   "metadata": {},
   "outputs": [
    {
     "name": "stdout",
     "output_type": "stream",
     "text": [
      "Form of porous carbon\n",
      "nanocomposite     16\n",
      "porous carbon     11\n",
      "nanoparticle       9\n",
      "nanostructures     7\n",
      "nanofibers         6\n",
      "nanotubes          4\n",
      "graphene           3\n",
      "nanosheet          3\n",
      "mofs               3\n",
      "nanobelts          1\n",
      "nanospheres        1\n",
      "nanorods           1\n",
      "Name: count, dtype: int64\n"
     ]
    }
   ],
   "source": [
    "unique_form = data_cleaned['Form of porous carbon'].value_counts()\n",
    "print(unique_form)\n",
    "\n"
   ]
  },
  {
   "cell_type": "code",
   "execution_count": 146,
   "metadata": {},
   "outputs": [
    {
     "name": "stdout",
     "output_type": "stream",
     "text": [
      "Detection techniques\n",
      "dpv                          36\n",
      "cv                           18\n",
      "amperometry                   2\n",
      "swv                           2\n",
      "lithium-ion battery           2\n",
      "chronoamperometry             2\n",
      "sr                            1\n",
      "fluorescence spectroscopy     1\n",
      "ldi-tof ms                    1\n",
      "Name: count, dtype: int64\n"
     ]
    }
   ],
   "source": [
    "unique_techniques = data_cleaned['Detection techniques'].value_counts()\n",
    "print(unique_techniques)"
   ]
  },
  {
   "cell_type": "code",
   "execution_count": 147,
   "metadata": {},
   "outputs": [
    {
     "name": "stdout",
     "output_type": "stream",
     "text": [
      "Mechanism\n",
      "electrooxidation                        22\n",
      "electrocatalysis                         8\n",
      "electrostatic interaction                5\n",
      "electron transfer                        3\n",
      "electrochemical sensing                  2\n",
      "enhanced electrochemical performance     1\n",
      "hydrogen bonding and pi interactions     1\n",
      "Name: count, dtype: int64\n"
     ]
    }
   ],
   "source": [
    "unique_mechanism = data_cleaned['Mechanism'].value_counts()\n",
    "print(unique_mechanism)"
   ]
  },
  {
   "cell_type": "markdown",
   "metadata": {},
   "source": []
  },
  {
   "cell_type": "code",
   "execution_count": 148,
   "metadata": {},
   "outputs": [
    {
     "data": {
      "text/plain": [
       "count    6.600000e+01\n",
       "mean     7.250009e+08\n",
       "std      4.943762e+09\n",
       "min      2.400000e-07\n",
       "25%      3.000000e-02\n",
       "50%      3.000000e+00\n",
       "75%      1.500000e+02\n",
       "max      4.000000e+10\n",
       "Name: LOD_nM, dtype: float64"
      ]
     },
     "execution_count": 148,
     "metadata": {},
     "output_type": "execute_result"
    }
   ],
   "source": [
    "# Handling missing values by replacing them with \"Unknown\" for categorical columns\n",
    "# and removing rows with missing 'LOD_nM' as it's a key quantitative measure for our analysis\n",
    "data_cleaned.fillna({'source of metal': 'Unknown', \n",
    "                     'Form of porous carbon': 'Unknown', \n",
    "                     'Detection techniques': 'Unknown', \n",
    "                     'Mechanism': 'Unknown'}, inplace=True)\n",
    "\n",
    "# For 'LOD_nM', we'll remove rows with missing values to maintain data integrity for quantitative analysis\n",
    "data_cleaned.dropna(subset=['LOD_nM'], inplace=True)\n",
    "\n",
    "# Convert 'LOD_nM' back to float for descriptive statistics and visualization\n",
    "data_cleaned['LOD_nM'] = data_cleaned['LOD_nM'].astype(float).apply(lambda x: \"{:.2e}\".format(x)).astype(float)\n",
    "\n",
    "# Generate descriptive statistics for the numerical column 'LOD_nM'\n",
    "descriptive_stats = data_cleaned['LOD_nM'].describe()\n",
    "\n",
    "descriptive_stats\n"
   ]
  },
  {
   "cell_type": "markdown",
   "metadata": {},
   "source": [
    "### Interpretation:\n",
    "\n",
    "-   The wide range in `LOD_nM` values and the **high standard deviation** indicate a diverse dataset with varying levels of detection sensitivity.\n",
    "-   The extremely low minimum value suggests the presence of highly sensitive detection techniques, whereas the maximum value might point to much less sensitive methods or potential outliers.\n",
    "-   This variation underscores the importance of choosing the right detection technique and modification material based on the required sensitivity for specific applications.\n",
    "\n",
    "Next, we'll create visualizations to further explore these distributions and uncover any hidden patterns or insights between variables."
   ]
  },
  {
   "cell_type": "code",
   "execution_count": 181,
   "metadata": {},
   "outputs": [
    {
     "data": {
      "image/png": "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",
      "text/plain": [
       "<Figure size 1000x600 with 1 Axes>"
      ]
     },
     "metadata": {},
     "output_type": "display_data"
    }
   ],
   "source": [
    "import matplotlib.pyplot as plt\n",
    "import seaborn as sns\n",
    "\n",
    "# Setting style for publication-ready visuals\n",
    "sns.set(style=\"whitegrid\", font_scale=1.2)\n",
    "\n",
    "# Distribution of LOD_nM values\n",
    "plt.figure(figsize=(10, 6))\n",
    "sns.histplot(data_cleaned['LOD_nM'], kde=True, log_scale=True, color='darkblue')\n",
    "plt.title('Distribution of LOD_nM (Log Scale)')\n",
    "plt.xlabel('Limit of Detection (LOD) in nM (Log Scale)')\n",
    "plt.ylabel('Frequency')\n",
    "plt.tight_layout()\n",
    "\n",
    "# Save the figure\n",
    "plt.savefig('1.png', dpi=300)  # Save as PNG with high resolution\n"
   ]
  },
  {
   "cell_type": "code",
   "execution_count": null,
   "metadata": {},
   "outputs": [],
   "source": [
    "\n",
    "\n",
    "# # Setting style for publication-ready visuals\n",
    "# sns.set(style=\"whitegrid\", font_scale=1.5)  # Increased font_scale\n",
    "\n",
    "\n",
    "# plt.figure(figsize=(10, 6))\n",
    "# ax = sns.histplot(data=data_cleaned, x='LOD_nM', hue='Detection techniques', kde=True, log_scale=True, palette='tab10')\n",
    "# plt.title('Distribution of LOD_nM (Log Scale)', fontsize=14)  # Adjusted font size\n",
    "# plt.xlabel('Limit of Detection (LOD) in nM (Log Scale)', fontsize=12)  # Adjusted font size\n",
    "# plt.ylabel('Frequency', fontsize=12)  # Adjusted font size\n",
    "\n",
    "# # Get legend handles and labels\n",
    "# legend_handles, legend_labels = ax.get_legend_handles_labels()\n",
    "\n",
    "# # Create a new legend with adjusted font size\n",
    "# plt.legend(handles=legend_handles, labels=legend_labels, title='Detection Techniques', bbox_to_anchor=(1.05, 1), loc='upper left', fontsize='medium')\n",
    "\n",
    "# # Adjust legend position\n",
    "# ax.legend(loc='upper right', fontsize='small')\n",
    "\n",
    "# # Save the figure\n",
    "# plt.savefig('LOD_nM_distribution_adjusted_legend.png', dpi=300)  # Save as PNG with high resolution\n"
   ]
  },
  {
   "cell_type": "markdown",
   "metadata": {},
   "source": [
    "The visualizations provide a deeper insight into the distribution of the Limit of Detection (LOD) values in the dataset:\n",
    "\n",
    "### Distribution of LOD_nM (Log Scale)\n",
    "\n",
    ">   The histogram, plotted on a logarithmic scale due to the wide range of LOD values, shows a **skewed distribution** with a concentration of values at the lower end of the scale. This suggests >    that a significant portion of the detection methods are highly sensitive, capable of detecting very low concentrations of substances.\n",
    "\n",
    ">   The presence of a long tail towards the higher LOD values indicates outliers or a subset of less sensitive detection methods.\n",
    "\n"
   ]
  },
  {
   "cell_type": "code",
   "execution_count": 152,
   "metadata": {},
   "outputs": [
    {
     "data": {
      "image/png": "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",
      "text/plain": [
       "<Figure size 1000x600 with 1 Axes>"
      ]
     },
     "metadata": {},
     "output_type": "display_data"
    }
   ],
   "source": [
    "# Boxplot for LOD_nM to identify outliers and distribution\n",
    "plt.figure(figsize=(10, 6))\n",
    "sns.boxplot(x=data_cleaned['LOD_nM'], color='lightgreen')\n",
    "plt.title('Boxplot of LOD_nM')\n",
    "plt.xlabel('Limit of Detection (LOD) in nM')\n",
    "plt.xscale('log')\n",
    "plt.tight_layout()\n",
    "\n",
    "plt.show()"
   ]
  },
  {
   "cell_type": "markdown",
   "metadata": {},
   "source": [
    "### Boxplot of LOD_nM\n",
    "\n",
    "The boxplot further illustrates the **skewed distribution** of LOD values. \n",
    "\n",
    ">   Most of the data is concentrated towards the lower end of the scale, with the median (indicated by the line inside the box) closer to the first quartile than the third, reflecting the\n",
    "> skewness observed in the histogram.\n",
    "\n",
    ">   There are several points beyond the upper whisker of the boxplot, indicating potential outliers in the dataset with significantly higher LOD values compared to the majority.\n",
    "> These could represent less sensitive detection methods or specific cases where higher LODs are acceptable.\n",
    "\n",
    "\n",
    "### Interpretation and Insights:\n",
    "\n",
    "**High Sensitivity:** The majority of detection methods in this dataset are designed for high sensitivity, capable of detecting substances at very low concentrations, which is critical for applications requiring precise measurements.\n",
    "\n",
    "**Variation in Sensitivity:** The wide range and variation in LOD values highlight the diverse capabilities of detection methods and materials used for modification. This underscores the importance of selecting appropriate techniques based on specific sensitivity requirements.\n",
    "\n",
    "**Potential for Optimization:** The presence of outliers suggests opportunities for optimization or the need for alternative methods in cases where high LOD values are not suitable for the application at hand.\n",
    "\n",
    "This analysis underscores the importance of method selection in detection applications, balancing sensitivity requirements with practical considerations. Next steps in the research could involve examining the relationships between the materials used for modification, detection techniques, and their impact on LOD values to identify optimal combinations for various applications"
   ]
  },
  {
   "cell_type": "code",
   "execution_count": 153,
   "metadata": {},
   "outputs": [],
   "source": [
    "data_cleaned.to_csv(\"data_cleaned.csv\")"
   ]
  },
  {
   "cell_type": "markdown",
   "metadata": {},
   "source": [
    "# Plotly graphs"
   ]
  },
  {
   "cell_type": "code",
   "execution_count": 154,
   "metadata": {},
   "outputs": [],
   "source": [
    "import plotly.express as px"
   ]
  },
  {
   "cell_type": "code",
   "execution_count": 155,
   "metadata": {},
   "outputs": [
    {
     "data": {
      "application/vnd.plotly.v1+json": {
       "config": {
        "plotlyServerURL": "https://plot.ly"
       },
       "data": [
        {
         "alignmentgroup": "True",
         "hovertemplate": "Metal used for modification=%{x}<br>LOD_nM=%{y}<extra></extra>",
         "legendgroup": "",
         "marker": {
          "color": "#636efa"
         },
         "name": "",
         "notched": false,
         "offsetgroup": "",
         "orientation": "v",
         "showlegend": false,
         "type": "box",
         "x": [
          "pd",
          "pd",
          "pd",
          "pd",
          "pd",
          "pd",
          "pd",
          "pd",
          "pd",
          "pd",
          "pd",
          "pt",
          "pt",
          "ti",
          "ti",
          "ti",
          "ti",
          "ti",
          "ti",
          "ti",
          "ti",
          "ti",
          "ag",
          "ag",
          "ag",
          "ag",
          "ag",
          "zr",
          "zr",
          "zr",
          "zr",
          "zr",
          "zr",
          "zr",
          "zr",
          "fe",
          "cu",
          "fe",
          "fe",
          "fe",
          "cu",
          "cu",
          "co",
          "fe",
          "fe",
          "fe",
          "pt",
          "pt",
          "mo",
          "mo",
          "mo",
          "mo",
          "mo",
          "mo",
          "mo",
          "mo",
          "mo",
          "au",
          "au",
          "au",
          "au",
          "au",
          "au",
          "au",
          "au",
          "cu",
          "cu",
          "cu",
          "cu",
          "cu",
          "cu",
          "cu"
         ],
         "x0": " ",
         "xaxis": "x",
         "y": [
          1000,
          1000,
          76,
          2.6,
          1250000000,
          0.00568,
          0.00568,
          0.00568,
          200,
          3.6,
          25.8,
          24000,
          24000,
          15,
          null,
          9.5,
          null,
          0.2,
          null,
          null,
          40000000000,
          8,
          600,
          7,
          110,
          10,
          218,
          3300000000,
          3600,
          11.03,
          null,
          20,
          2000,
          2000,
          3300000000,
          58,
          58,
          null,
          150,
          150,
          150,
          150,
          1,
          1,
          2,
          2,
          0.03,
          0.03,
          0.00235,
          0.00000271,
          0.00000271,
          0.058,
          0.539,
          0.45,
          0.45,
          0.069,
          0.069,
          0.087,
          0.007,
          2.4e-7,
          2.4e-7,
          0.0076,
          0.027,
          0.027,
          3.4,
          0.0076,
          0.868,
          0.868,
          0.03,
          0.03,
          0.03,
          3.4
         ],
         "y0": " ",
         "yaxis": "y"
        }
       ],
       "layout": {
        "boxmode": "group",
        "legend": {
         "tracegroupgap": 0
        },
        "template": {
         "data": {
          "bar": [
           {
            "error_x": {
             "color": "#2a3f5f"
            },
            "error_y": {
             "color": "#2a3f5f"
            },
            "marker": {
             "line": {
              "color": "white",
              "width": 0.5
             },
             "pattern": {
              "fillmode": "overlay",
              "size": 10,
              "solidity": 0.2
             }
            },
            "type": "bar"
           }
          ],
          "barpolar": [
           {
            "marker": {
             "line": {
              "color": "white",
              "width": 0.5
             },
             "pattern": {
              "fillmode": "overlay",
              "size": 10,
              "solidity": 0.2
             }
            },
            "type": "barpolar"
           }
          ],
          "carpet": [
           {
            "aaxis": {
             "endlinecolor": "#2a3f5f",
             "gridcolor": "#C8D4E3",
             "linecolor": "#C8D4E3",
             "minorgridcolor": "#C8D4E3",
             "startlinecolor": "#2a3f5f"
            },
            "baxis": {
             "endlinecolor": "#2a3f5f",
             "gridcolor": "#C8D4E3",
             "linecolor": "#C8D4E3",
             "minorgridcolor": "#C8D4E3",
             "startlinecolor": "#2a3f5f"
            },
            "type": "carpet"
           }
          ],
          "choropleth": [
           {
            "colorbar": {
             "outlinewidth": 0,
             "ticks": ""
            },
            "type": "choropleth"
           }
          ],
          "contour": [
           {
            "colorbar": {
             "outlinewidth": 0,
             "ticks": ""
            },
            "colorscale": [
             [
              0,
              "#0d0887"
             ],
             [
              0.1111111111111111,
              "#46039f"
             ],
             [
              0.2222222222222222,
              "#7201a8"
             ],
             [
              0.3333333333333333,
              "#9c179e"
             ],
             [
              0.4444444444444444,
              "#bd3786"
             ],
             [
              0.5555555555555556,
              "#d8576b"
             ],
             [
              0.6666666666666666,
              "#ed7953"
             ],
             [
              0.7777777777777778,
              "#fb9f3a"
             ],
             [
              0.8888888888888888,
              "#fdca26"
             ],
             [
              1,
              "#f0f921"
             ]
            ],
            "type": "contour"
           }
          ],
          "contourcarpet": [
           {
            "colorbar": {
             "outlinewidth": 0,
             "ticks": ""
            },
            "type": "contourcarpet"
           }
          ],
          "heatmap": [
           {
            "colorbar": {
             "outlinewidth": 0,
             "ticks": ""
            },
            "colorscale": [
             [
              0,
              "#0d0887"
             ],
             [
              0.1111111111111111,
              "#46039f"
             ],
             [
              0.2222222222222222,
              "#7201a8"
             ],
             [
              0.3333333333333333,
              "#9c179e"
             ],
             [
              0.4444444444444444,
              "#bd3786"
             ],
             [
              0.5555555555555556,
              "#d8576b"
             ],
             [
              0.6666666666666666,
              "#ed7953"
             ],
             [
              0.7777777777777778,
              "#fb9f3a"
             ],
             [
              0.8888888888888888,
              "#fdca26"
             ],
             [
              1,
              "#f0f921"
             ]
            ],
            "type": "heatmap"
           }
          ],
          "heatmapgl": [
           {
            "colorbar": {
             "outlinewidth": 0,
             "ticks": ""
            },
            "colorscale": [
             [
              0,
              "#0d0887"
             ],
             [
              0.1111111111111111,
              "#46039f"
             ],
             [
              0.2222222222222222,
              "#7201a8"
             ],
             [
              0.3333333333333333,
              "#9c179e"
             ],
             [
              0.4444444444444444,
              "#bd3786"
             ],
             [
              0.5555555555555556,
              "#d8576b"
             ],
             [
              0.6666666666666666,
              "#ed7953"
             ],
             [
              0.7777777777777778,
              "#fb9f3a"
             ],
             [
              0.8888888888888888,
              "#fdca26"
             ],
             [
              1,
              "#f0f921"
             ]
            ],
            "type": "heatmapgl"
           }
          ],
          "histogram": [
           {
            "marker": {
             "pattern": {
              "fillmode": "overlay",
              "size": 10,
              "solidity": 0.2
             }
            },
            "type": "histogram"
           }
          ],
          "histogram2d": [
           {
            "colorbar": {
             "outlinewidth": 0,
             "ticks": ""
            },
            "colorscale": [
             [
              0,
              "#0d0887"
             ],
             [
              0.1111111111111111,
              "#46039f"
             ],
             [
              0.2222222222222222,
              "#7201a8"
             ],
             [
              0.3333333333333333,
              "#9c179e"
             ],
             [
              0.4444444444444444,
              "#bd3786"
             ],
             [
              0.5555555555555556,
              "#d8576b"
             ],
             [
              0.6666666666666666,
              "#ed7953"
             ],
             [
              0.7777777777777778,
              "#fb9f3a"
             ],
             [
              0.8888888888888888,
              "#fdca26"
             ],
             [
              1,
              "#f0f921"
             ]
            ],
            "type": "histogram2d"
           }
          ],
          "histogram2dcontour": [
           {
            "colorbar": {
             "outlinewidth": 0,
             "ticks": ""
            },
            "colorscale": [
             [
              0,
              "#0d0887"
             ],
             [
              0.1111111111111111,
              "#46039f"
             ],
             [
              0.2222222222222222,
              "#7201a8"
             ],
             [
              0.3333333333333333,
              "#9c179e"
             ],
             [
              0.4444444444444444,
              "#bd3786"
             ],
             [
              0.5555555555555556,
              "#d8576b"
             ],
             [
              0.6666666666666666,
              "#ed7953"
             ],
             [
              0.7777777777777778,
              "#fb9f3a"
             ],
             [
              0.8888888888888888,
              "#fdca26"
             ],
             [
              1,
              "#f0f921"
             ]
            ],
            "type": "histogram2dcontour"
           }
          ],
          "mesh3d": [
           {
            "colorbar": {
             "outlinewidth": 0,
             "ticks": ""
            },
            "type": "mesh3d"
           }
          ],
          "parcoords": [
           {
            "line": {
             "colorbar": {
              "outlinewidth": 0,
              "ticks": ""
             }
            },
            "type": "parcoords"
           }
          ],
          "pie": [
           {
            "automargin": true,
            "type": "pie"
           }
          ],
          "scatter": [
           {
            "fillpattern": {
             "fillmode": "overlay",
             "size": 10,
             "solidity": 0.2
            },
            "type": "scatter"
           }
          ],
          "scatter3d": [
           {
            "line": {
             "colorbar": {
              "outlinewidth": 0,
              "ticks": ""
             }
            },
            "marker": {
             "colorbar": {
              "outlinewidth": 0,
              "ticks": ""
             }
            },
            "type": "scatter3d"
           }
          ],
          "scattercarpet": [
           {
            "marker": {
             "colorbar": {
              "outlinewidth": 0,
              "ticks": ""
             }
            },
            "type": "scattercarpet"
           }
          ],
          "scattergeo": [
           {
            "marker": {
             "colorbar": {
              "outlinewidth": 0,
              "ticks": ""
             }
            },
            "type": "scattergeo"
           }
          ],
          "scattergl": [
           {
            "marker": {
             "colorbar": {
              "outlinewidth": 0,
              "ticks": ""
             }
            },
            "type": "scattergl"
           }
          ],
          "scattermapbox": [
           {
            "marker": {
             "colorbar": {
              "outlinewidth": 0,
              "ticks": ""
             }
            },
            "type": "scattermapbox"
           }
          ],
          "scatterpolar": [
           {
            "marker": {
             "colorbar": {
              "outlinewidth": 0,
              "ticks": ""
             }
            },
            "type": "scatterpolar"
           }
          ],
          "scatterpolargl": [
           {
            "marker": {
             "colorbar": {
              "outlinewidth": 0,
              "ticks": ""
             }
            },
            "type": "scatterpolargl"
           }
          ],
          "scatterternary": [
           {
            "marker": {
             "colorbar": {
              "outlinewidth": 0,
              "ticks": ""
             }
            },
            "type": "scatterternary"
           }
          ],
          "surface": [
           {
            "colorbar": {
             "outlinewidth": 0,
             "ticks": ""
            },
            "colorscale": [
             [
              0,
              "#0d0887"
             ],
             [
              0.1111111111111111,
              "#46039f"
             ],
             [
              0.2222222222222222,
              "#7201a8"
             ],
             [
              0.3333333333333333,
              "#9c179e"
             ],
             [
              0.4444444444444444,
              "#bd3786"
             ],
             [
              0.5555555555555556,
              "#d8576b"
             ],
             [
              0.6666666666666666,
              "#ed7953"
             ],
             [
              0.7777777777777778,
              "#fb9f3a"
             ],
             [
              0.8888888888888888,
              "#fdca26"
             ],
             [
              1,
              "#f0f921"
             ]
            ],
            "type": "surface"
           }
          ],
          "table": [
           {
            "cells": {
             "fill": {
              "color": "#EBF0F8"
             },
             "line": {
              "color": "white"
             }
            },
            "header": {
             "fill": {
              "color": "#C8D4E3"
             },
             "line": {
              "color": "white"
             }
            },
            "type": "table"
           }
          ]
         },
         "layout": {
          "annotationdefaults": {
           "arrowcolor": "#2a3f5f",
           "arrowhead": 0,
           "arrowwidth": 1
          },
          "autotypenumbers": "strict",
          "coloraxis": {
           "colorbar": {
            "outlinewidth": 0,
            "ticks": ""
           }
          },
          "colorscale": {
           "diverging": [
            [
             0,
             "#8e0152"
            ],
            [
             0.1,
             "#c51b7d"
            ],
            [
             0.2,
             "#de77ae"
            ],
            [
             0.3,
             "#f1b6da"
            ],
            [
             0.4,
             "#fde0ef"
            ],
            [
             0.5,
             "#f7f7f7"
            ],
            [
             0.6,
             "#e6f5d0"
            ],
            [
             0.7,
             "#b8e186"
            ],
            [
             0.8,
             "#7fbc41"
            ],
            [
             0.9,
             "#4d9221"
            ],
            [
             1,
             "#276419"
            ]
           ],
           "sequential": [
            [
             0,
             "#0d0887"
            ],
            [
             0.1111111111111111,
             "#46039f"
            ],
            [
             0.2222222222222222,
             "#7201a8"
            ],
            [
             0.3333333333333333,
             "#9c179e"
            ],
            [
             0.4444444444444444,
             "#bd3786"
            ],
            [
             0.5555555555555556,
             "#d8576b"
            ],
            [
             0.6666666666666666,
             "#ed7953"
            ],
            [
             0.7777777777777778,
             "#fb9f3a"
            ],
            [
             0.8888888888888888,
             "#fdca26"
            ],
            [
             1,
             "#f0f921"
            ]
           ],
           "sequentialminus": [
            [
             0,
             "#0d0887"
            ],
            [
             0.1111111111111111,
             "#46039f"
            ],
            [
             0.2222222222222222,
             "#7201a8"
            ],
            [
             0.3333333333333333,
             "#9c179e"
            ],
            [
             0.4444444444444444,
             "#bd3786"
            ],
            [
             0.5555555555555556,
             "#d8576b"
            ],
            [
             0.6666666666666666,
             "#ed7953"
            ],
            [
             0.7777777777777778,
             "#fb9f3a"
            ],
            [
             0.8888888888888888,
             "#fdca26"
            ],
            [
             1,
             "#f0f921"
            ]
           ]
          },
          "colorway": [
           "#636efa",
           "#EF553B",
           "#00cc96",
           "#ab63fa",
           "#FFA15A",
           "#19d3f3",
           "#FF6692",
           "#B6E880",
           "#FF97FF",
           "#FECB52"
          ],
          "font": {
           "color": "#2a3f5f"
          },
          "geo": {
           "bgcolor": "white",
           "lakecolor": "white",
           "landcolor": "white",
           "showlakes": true,
           "showland": true,
           "subunitcolor": "#C8D4E3"
          },
          "hoverlabel": {
           "align": "left"
          },
          "hovermode": "closest",
          "mapbox": {
           "style": "light"
          },
          "paper_bgcolor": "white",
          "plot_bgcolor": "white",
          "polar": {
           "angularaxis": {
            "gridcolor": "#EBF0F8",
            "linecolor": "#EBF0F8",
            "ticks": ""
           },
           "bgcolor": "white",
           "radialaxis": {
            "gridcolor": "#EBF0F8",
            "linecolor": "#EBF0F8",
            "ticks": ""
           }
          },
          "scene": {
           "xaxis": {
            "backgroundcolor": "white",
            "gridcolor": "#DFE8F3",
            "gridwidth": 2,
            "linecolor": "#EBF0F8",
            "showbackground": true,
            "ticks": "",
            "zerolinecolor": "#EBF0F8"
           },
           "yaxis": {
            "backgroundcolor": "white",
            "gridcolor": "#DFE8F3",
            "gridwidth": 2,
            "linecolor": "#EBF0F8",
            "showbackground": true,
            "ticks": "",
            "zerolinecolor": "#EBF0F8"
           },
           "zaxis": {
            "backgroundcolor": "white",
            "gridcolor": "#DFE8F3",
            "gridwidth": 2,
            "linecolor": "#EBF0F8",
            "showbackground": true,
            "ticks": "",
            "zerolinecolor": "#EBF0F8"
           }
          },
          "shapedefaults": {
           "line": {
            "color": "#2a3f5f"
           }
          },
          "ternary": {
           "aaxis": {
            "gridcolor": "#DFE8F3",
            "linecolor": "#A2B1C6",
            "ticks": ""
           },
           "baxis": {
            "gridcolor": "#DFE8F3",
            "linecolor": "#A2B1C6",
            "ticks": ""
           },
           "bgcolor": "white",
           "caxis": {
            "gridcolor": "#DFE8F3",
            "linecolor": "#A2B1C6",
            "ticks": ""
           }
          },
          "title": {
           "x": 0.05
          },
          "xaxis": {
           "automargin": true,
           "gridcolor": "#EBF0F8",
           "linecolor": "#EBF0F8",
           "ticks": "",
           "title": {
            "standoff": 15
           },
           "zerolinecolor": "#EBF0F8",
           "zerolinewidth": 2
          },
          "yaxis": {
           "automargin": true,
           "gridcolor": "#EBF0F8",
           "linecolor": "#EBF0F8",
           "ticks": "",
           "title": {
            "standoff": 15
           },
           "zerolinecolor": "#EBF0F8",
           "zerolinewidth": 2
          }
         }
        },
        "title": {
         "text": "Distribution of LOD_nM Across Metals Used for Modification"
        },
        "xaxis": {
         "anchor": "y",
         "domain": [
          0,
          1
         ],
         "title": {
          "text": "Metal Used for Modification"
         }
        },
        "yaxis": {
         "anchor": "x",
         "domain": [
          0,
          1
         ],
         "title": {
          "text": "Limit of Detection (nM)"
         }
        }
       }
      }
     },
     "metadata": {},
     "output_type": "display_data"
    }
   ],
   "source": [
    "# Creating a box plot to visualize LOD_nM across different metals used for modification\n",
    "fig = px.box(df, x=\"Metal used for modification\", y=\"LOD_nM\", title=\"Distribution of LOD_nM Across Metals Used for Modification\")\n",
    "\n",
    "# Enhancing the layout for a more professional look\n",
    "fig.update_layout(\n",
    "    xaxis_title=\"Metal Used for Modification\",\n",
    "    yaxis_title=\"Limit of Detection (nM)\",\n",
    "    template=\"plotly_white\"\n",
    ")\n",
    "\n",
    "# Show the figure\n",
    "fig.show()"
   ]
  },
  {
   "cell_type": "code",
   "execution_count": 156,
   "metadata": {},
   "outputs": [
    {
     "data": {
      "text/plain": [
       "Index(['Metal used for modification', 'source of metal',\n",
       "       'Form of porous carbon', 'Detection techniques', 'Mechanism', 'LOD_nM'],\n",
       "      dtype='object')"
      ]
     },
     "execution_count": 156,
     "metadata": {},
     "output_type": "execute_result"
    }
   ],
   "source": [
    "data_cleaned.columns"
   ]
  },
  {
   "cell_type": "code",
   "execution_count": 157,
   "metadata": {},
   "outputs": [
    {
     "data": {
      "application/vnd.plotly.v1+json": {
       "config": {
        "plotlyServerURL": "https://plot.ly"
       },
       "data": [
        {
         "name": "Metal used for modification",
         "type": "bar",
         "x": [
          "pd",
          "cu",
          "ti",
          "mo",
          "zr",
          "au",
          "fe",
          "ag",
          "pt",
          "co"
         ],
         "xaxis": "x",
         "y": [
          11,
          10,
          9,
          9,
          8,
          8,
          7,
          5,
          4,
          1
         ],
         "yaxis": "y"
        },
        {
         "name": "source of metal",
         "type": "bar",
         "x": [
          "pdcl2",
          "moo3",
          "pd(no3)2·2h2o",
          "na2moo4·2h2o",
          "ptcl2",
          "zrcl4",
          "cu(no3)2·3h2o",
          "agno3",
          "ti(ch3cochcoch3)4",
          "tic",
          "pd(ch3coo)2",
          "h2ptcl6·6h2o and agno3",
          "agsn alloy",
          "zr based mofs",
          "zr(no3)2·6h2o",
          "mo(ch3cochcoch3)3",
          "(nh4)2moo4·4h2o",
          "na2pdcl4, k2ptcl4",
          "haucl4·xh2o",
          "cuso4.5h2o",
          "zro2"
         ],
         "xaxis": "x2",
         "y": [
          5,
          4,
          3,
          3,
          2,
          2,
          2,
          2,
          2,
          2,
          2,
          1,
          1,
          1,
          1,
          1,
          1,
          1,
          1,
          1,
          1
         ],
         "yaxis": "y2"
        },
        {
         "name": "Form of porous carbon",
         "type": "bar",
         "x": [
          "nanocomposite",
          "porous carbon",
          "nanoparticle",
          "nanostructures",
          "nanofibers",
          "nanotubes",
          "graphene",
          "nanosheet",
          "mofs",
          "nanobelts",
          "nanospheres",
          "nanorods"
         ],
         "xaxis": "x3",
         "y": [
          16,
          11,
          9,
          7,
          6,
          4,
          3,
          3,
          3,
          1,
          1,
          1
         ],
         "yaxis": "y3"
        },
        {
         "name": "Detection techniques",
         "type": "bar",
         "x": [
          "dpv",
          "cv",
          "amperometry",
          "swv",
          "lithium-ion battery",
          "chronoamperometry",
          "sr",
          "fluorescence spectroscopy",
          "ldi-tof ms"
         ],
         "xaxis": "x4",
         "y": [
          36,
          18,
          2,
          2,
          2,
          2,
          1,
          1,
          1
         ],
         "yaxis": "y4"
        },
        {
         "branchvalues": "total",
         "domain": {
          "x": [
           0,
           1
          ],
          "y": [
           0,
           0.22222222222222224
          ]
         },
         "labels": [
          "pd",
          "pd",
          "pd",
          "pd",
          "pd",
          "pd",
          "pd",
          "pd",
          "pd",
          "pd",
          "pd",
          "pt",
          "pt",
          "ti",
          "ti",
          "ti",
          "ti",
          "ti",
          "ti",
          "ti",
          "ti",
          "ti",
          "ag",
          "ag",
          "ag",
          "ag",
          "ag",
          "zr",
          "zr",
          "zr",
          "zr",
          "zr",
          "zr",
          "zr",
          "zr",
          "fe",
          "cu",
          "fe",
          "fe",
          "fe",
          "cu",
          "cu",
          "co",
          "fe",
          "fe",
          "fe",
          "pt",
          "pt",
          "mo",
          "mo",
          "mo",
          "mo",
          "mo",
          "mo",
          "mo",
          "mo",
          "mo",
          "au",
          "au",
          "au",
          "au",
          "au",
          "au",
          "au",
          "au",
          "cu",
          "cu",
          "cu",
          "cu",
          "cu",
          "cu",
          "cu",
          "graphene",
          "graphene",
          "porous carbon",
          "porous carbon",
          "nanotubes",
          "porous carbon",
          "porous carbon",
          "porous carbon",
          "nanofibers",
          "porous carbon",
          "nanocomposite",
          null,
          null,
          "nanotubes",
          null,
          "nanocomposite",
          null,
          null,
          null,
          null,
          "porous carbon",
          "nanofibers",
          "porous carbon",
          "nanobelts",
          "nanofibers",
          "nanosheet",
          "porous carbon",
          "graphene",
          "nanoparticle",
          "nanocomposite",
          "nanoparticle",
          "porous carbon",
          "nanotubes",
          "nanotubes",
          "porous carbon",
          "nanocomposite",
          "nanocomposite",
          "mofs",
          "nanocomposite",
          "nanocomposite",
          "nanocomposite",
          "nanocomposite",
          "nanocomposite",
          "nanocomposite",
          "nanoparticle",
          "nanoparticle",
          "nanoparticle",
          "nanoparticle",
          "nanofibers",
          "nanosheet",
          "nanosheet",
          "nanospheres",
          "nanocomposite",
          "nanofibers",
          "nanofibers",
          "nanostructures",
          "nanostructures",
          "nanoparticle",
          "nanorods",
          "nanocomposite",
          "nanocomposite",
          "nanocomposite",
          "nanoparticle",
          "nanoparticle",
          "mofs",
          "nanocomposite",
          "nanostructures",
          "nanostructures",
          "nanostructures",
          "nanostructures",
          "nanostructures",
          "mofs",
          "cv",
          "dpv",
          "dpv",
          "dpv",
          "cv",
          "cv",
          "dpv",
          "sr",
          "dpv",
          "dpv",
          "dpv",
          "dpv",
          "amperometry",
          "dpv",
          null,
          "dpv",
          null,
          "dpv",
          "cv",
          "swv",
          "dpv",
          "dpv",
          "amperometry",
          "cv",
          "dpv",
          "dpv",
          "dpv",
          "dpv",
          "dpv",
          "swv",
          "dpv",
          "dpv",
          "dpv",
          "fluorescence spectroscopy",
          "dpv",
          "cv",
          "cv",
          "ldi-tof ms",
          "cv",
          "dpv",
          "cv",
          "dpv",
          "lithium-ion battery",
          "lithium-ion battery",
          "dpv",
          "cv",
          "dpv",
          "cv",
          null,
          "chronoamperometry",
          "cv",
          "dpv",
          "dpv",
          "cv",
          "dpv",
          "cv",
          "dpv",
          null,
          null,
          "dpv",
          "cv",
          "dpv",
          "cv",
          "dpv",
          null,
          "dpv",
          "cv",
          "dpv",
          "cv",
          "chronoamperometry",
          "dpv",
          null
         ],
         "name": "Hierarchical",
         "parents": [
          "",
          "",
          "",
          "",
          "",
          "",
          "",
          "",
          "",
          "",
          "pd",
          "pd",
          "pd",
          "pd",
          "pd",
          "pd",
          "pd",
          "pd",
          "pd",
          "pd",
          "pd",
          "pt",
          "pt",
          "ti",
          "ti",
          "ti",
          "ti",
          "ti",
          "ti",
          "ti",
          "ti",
          "ti",
          "ag",
          "ag",
          "ag",
          "ag",
          "ag",
          "zr",
          "zr",
          "zr",
          "zr",
          "zr",
          "zr",
          "zr",
          "zr",
          "fe",
          "cu",
          "fe",
          "fe",
          "fe",
          "cu",
          "cu",
          "co",
          "fe",
          "fe",
          "fe",
          "pt",
          "pt",
          "mo",
          "mo",
          "mo",
          "mo",
          "mo",
          "mo",
          "mo",
          "mo",
          "mo",
          "au",
          "au",
          "au",
          "au",
          "au",
          "au",
          "au",
          "au",
          "cu",
          "cu",
          "cu",
          "cu",
          "cu",
          "cu",
          "cu",
          "pd",
          "pd",
          "pd",
          "pd",
          "pd",
          "pd",
          "pd",
          "pd",
          "pd",
          "pd",
          "pd",
          "pt",
          "pt",
          "ti",
          "ti",
          "ti",
          "ti",
          "ti",
          "ti",
          "ti",
          "ti",
          "ti",
          "ag",
          "ag",
          "ag",
          "ag",
          "ag",
          "zr",
          "zr",
          "zr",
          "zr",
          "zr",
          "zr",
          "zr",
          "zr",
          "fe",
          "cu",
          "fe",
          "fe",
          "fe",
          "cu",
          "cu",
          "co",
          "fe",
          "fe",
          "fe",
          "pt",
          "pt",
          "mo",
          "mo",
          "mo",
          "mo",
          "mo",
          "mo",
          "mo",
          "mo",
          "mo",
          "au",
          "au",
          "au",
          "au",
          "au",
          "au",
          "au",
          "au",
          "cu",
          "cu",
          "cu",
          "cu",
          "cu",
          "cu",
          "cu"
         ],
         "type": "sunburst",
         "values": [
          1,
          1,
          1,
          1,
          1,
          1,
          1,
          1,
          1,
          1,
          1,
          1,
          1,
          1,
          1,
          1,
          1,
          1,
          1,
          1,
          1,
          1,
          1,
          1,
          1,
          1,
          1,
          1,
          1,
          1,
          1,
          1,
          1,
          1,
          1,
          1,
          1,
          1,
          1,
          1,
          1,
          1,
          1,
          1,
          1,
          1,
          1,
          1,
          1,
          1,
          1,
          1,
          1,
          1,
          1,
          1,
          1,
          1,
          1,
          1,
          1,
          1,
          1,
          1,
          1,
          1,
          1,
          1,
          1,
          1,
          1,
          1
         ]
        }
       ],
       "layout": {
        "annotations": [
         {
          "font": {
           "size": 16
          },
          "showarrow": false,
          "text": "Metal used for modification",
          "x": 0.225,
          "xanchor": "center",
          "xref": "paper",
          "y": 1,
          "yanchor": "bottom",
          "yref": "paper"
         },
         {
          "font": {
           "size": 16
          },
          "showarrow": false,
          "text": "source of metal",
          "x": 0.775,
          "xanchor": "center",
          "xref": "paper",
          "y": 1,
          "yanchor": "bottom",
          "yref": "paper"
         },
         {
          "font": {
           "size": 16
          },
          "showarrow": false,
          "text": "Form of porous carbon",
          "x": 0.225,
          "xanchor": "center",
          "xref": "paper",
          "y": 0.6111111111111112,
          "yanchor": "bottom",
          "yref": "paper"
         },
         {
          "font": {
           "size": 16
          },
          "showarrow": false,
          "text": "Detection techniques",
          "x": 0.775,
          "xanchor": "center",
          "xref": "paper",
          "y": 0.6111111111111112,
          "yanchor": "bottom",
          "yref": "paper"
         },
         {
          "font": {
           "size": 16
          },
          "showarrow": false,
          "text": "Distribution of LOD_nM and Hierarchical Representation",
          "x": 0.5,
          "xanchor": "center",
          "xref": "paper",
          "y": 0.22222222222222224,
          "yanchor": "bottom",
          "yref": "paper"
         }
        ],
        "height": 1200,
        "showlegend": false,
        "template": {
         "data": {
          "bar": [
           {
            "error_x": {
             "color": "#2a3f5f"
            },
            "error_y": {
             "color": "#2a3f5f"
            },
            "marker": {
             "line": {
              "color": "#E5ECF6",
              "width": 0.5
             },
             "pattern": {
              "fillmode": "overlay",
              "size": 10,
              "solidity": 0.2
             }
            },
            "type": "bar"
           }
          ],
          "barpolar": [
           {
            "marker": {
             "line": {
              "color": "#E5ECF6",
              "width": 0.5
             },
             "pattern": {
              "fillmode": "overlay",
              "size": 10,
              "solidity": 0.2
             }
            },
            "type": "barpolar"
           }
          ],
          "carpet": [
           {
            "aaxis": {
             "endlinecolor": "#2a3f5f",
             "gridcolor": "white",
             "linecolor": "white",
             "minorgridcolor": "white",
             "startlinecolor": "#2a3f5f"
            },
            "baxis": {
             "endlinecolor": "#2a3f5f",
             "gridcolor": "white",
             "linecolor": "white",
             "minorgridcolor": "white",
             "startlinecolor": "#2a3f5f"
            },
            "type": "carpet"
           }
          ],
          "choropleth": [
           {
            "colorbar": {
             "outlinewidth": 0,
             "ticks": ""
            },
            "type": "choropleth"
           }
          ],
          "contour": [
           {
            "colorbar": {
             "outlinewidth": 0,
             "ticks": ""
            },
            "colorscale": [
             [
              0,
              "#0d0887"
             ],
             [
              0.1111111111111111,
              "#46039f"
             ],
             [
              0.2222222222222222,
              "#7201a8"
             ],
             [
              0.3333333333333333,
              "#9c179e"
             ],
             [
              0.4444444444444444,
              "#bd3786"
             ],
             [
              0.5555555555555556,
              "#d8576b"
             ],
             [
              0.6666666666666666,
              "#ed7953"
             ],
             [
              0.7777777777777778,
              "#fb9f3a"
             ],
             [
              0.8888888888888888,
              "#fdca26"
             ],
             [
              1,
              "#f0f921"
             ]
            ],
            "type": "contour"
           }
          ],
          "contourcarpet": [
           {
            "colorbar": {
             "outlinewidth": 0,
             "ticks": ""
            },
            "type": "contourcarpet"
           }
          ],
          "heatmap": [
           {
            "colorbar": {
             "outlinewidth": 0,
             "ticks": ""
            },
            "colorscale": [
             [
              0,
              "#0d0887"
             ],
             [
              0.1111111111111111,
              "#46039f"
             ],
             [
              0.2222222222222222,
              "#7201a8"
             ],
             [
              0.3333333333333333,
              "#9c179e"
             ],
             [
              0.4444444444444444,
              "#bd3786"
             ],
             [
              0.5555555555555556,
              "#d8576b"
             ],
             [
              0.6666666666666666,
              "#ed7953"
             ],
             [
              0.7777777777777778,
              "#fb9f3a"
             ],
             [
              0.8888888888888888,
              "#fdca26"
             ],
             [
              1,
              "#f0f921"
             ]
            ],
            "type": "heatmap"
           }
          ],
          "heatmapgl": [
           {
            "colorbar": {
             "outlinewidth": 0,
             "ticks": ""
            },
            "colorscale": [
             [
              0,
              "#0d0887"
             ],
             [
              0.1111111111111111,
              "#46039f"
             ],
             [
              0.2222222222222222,
              "#7201a8"
             ],
             [
              0.3333333333333333,
              "#9c179e"
             ],
             [
              0.4444444444444444,
              "#bd3786"
             ],
             [
              0.5555555555555556,
              "#d8576b"
             ],
             [
              0.6666666666666666,
              "#ed7953"
             ],
             [
              0.7777777777777778,
              "#fb9f3a"
             ],
             [
              0.8888888888888888,
              "#fdca26"
             ],
             [
              1,
              "#f0f921"
             ]
            ],
            "type": "heatmapgl"
           }
          ],
          "histogram": [
           {
            "marker": {
             "pattern": {
              "fillmode": "overlay",
              "size": 10,
              "solidity": 0.2
             }
            },
            "type": "histogram"
           }
          ],
          "histogram2d": [
           {
            "colorbar": {
             "outlinewidth": 0,
             "ticks": ""
            },
            "colorscale": [
             [
              0,
              "#0d0887"
             ],
             [
              0.1111111111111111,
              "#46039f"
             ],
             [
              0.2222222222222222,
              "#7201a8"
             ],
             [
              0.3333333333333333,
              "#9c179e"
             ],
             [
              0.4444444444444444,
              "#bd3786"
             ],
             [
              0.5555555555555556,
              "#d8576b"
             ],
             [
              0.6666666666666666,
              "#ed7953"
             ],
             [
              0.7777777777777778,
              "#fb9f3a"
             ],
             [
              0.8888888888888888,
              "#fdca26"
             ],
             [
              1,
              "#f0f921"
             ]
            ],
            "type": "histogram2d"
           }
          ],
          "histogram2dcontour": [
           {
            "colorbar": {
             "outlinewidth": 0,
             "ticks": ""
            },
            "colorscale": [
             [
              0,
              "#0d0887"
             ],
             [
              0.1111111111111111,
              "#46039f"
             ],
             [
              0.2222222222222222,
              "#7201a8"
             ],
             [
              0.3333333333333333,
              "#9c179e"
             ],
             [
              0.4444444444444444,
              "#bd3786"
             ],
             [
              0.5555555555555556,
              "#d8576b"
             ],
             [
              0.6666666666666666,
              "#ed7953"
             ],
             [
              0.7777777777777778,
              "#fb9f3a"
             ],
             [
              0.8888888888888888,
              "#fdca26"
             ],
             [
              1,
              "#f0f921"
             ]
            ],
            "type": "histogram2dcontour"
           }
          ],
          "mesh3d": [
           {
            "colorbar": {
             "outlinewidth": 0,
             "ticks": ""
            },
            "type": "mesh3d"
           }
          ],
          "parcoords": [
           {
            "line": {
             "colorbar": {
              "outlinewidth": 0,
              "ticks": ""
             }
            },
            "type": "parcoords"
           }
          ],
          "pie": [
           {
            "automargin": true,
            "type": "pie"
           }
          ],
          "scatter": [
           {
            "fillpattern": {
             "fillmode": "overlay",
             "size": 10,
             "solidity": 0.2
            },
            "type": "scatter"
           }
          ],
          "scatter3d": [
           {
            "line": {
             "colorbar": {
              "outlinewidth": 0,
              "ticks": ""
             }
            },
            "marker": {
             "colorbar": {
              "outlinewidth": 0,
              "ticks": ""
             }
            },
            "type": "scatter3d"
           }
          ],
          "scattercarpet": [
           {
            "marker": {
             "colorbar": {
              "outlinewidth": 0,
              "ticks": ""
             }
            },
            "type": "scattercarpet"
           }
          ],
          "scattergeo": [
           {
            "marker": {
             "colorbar": {
              "outlinewidth": 0,
              "ticks": ""
             }
            },
            "type": "scattergeo"
           }
          ],
          "scattergl": [
           {
            "marker": {
             "colorbar": {
              "outlinewidth": 0,
              "ticks": ""
             }
            },
            "type": "scattergl"
           }
          ],
          "scattermapbox": [
           {
            "marker": {
             "colorbar": {
              "outlinewidth": 0,
              "ticks": ""
             }
            },
            "type": "scattermapbox"
           }
          ],
          "scatterpolar": [
           {
            "marker": {
             "colorbar": {
              "outlinewidth": 0,
              "ticks": ""
             }
            },
            "type": "scatterpolar"
           }
          ],
          "scatterpolargl": [
           {
            "marker": {
             "colorbar": {
              "outlinewidth": 0,
              "ticks": ""
             }
            },
            "type": "scatterpolargl"
           }
          ],
          "scatterternary": [
           {
            "marker": {
             "colorbar": {
              "outlinewidth": 0,
              "ticks": ""
             }
            },
            "type": "scatterternary"
           }
          ],
          "surface": [
           {
            "colorbar": {
             "outlinewidth": 0,
             "ticks": ""
            },
            "colorscale": [
             [
              0,
              "#0d0887"
             ],
             [
              0.1111111111111111,
              "#46039f"
             ],
             [
              0.2222222222222222,
              "#7201a8"
             ],
             [
              0.3333333333333333,
              "#9c179e"
             ],
             [
              0.4444444444444444,
              "#bd3786"
             ],
             [
              0.5555555555555556,
              "#d8576b"
             ],
             [
              0.6666666666666666,
              "#ed7953"
             ],
             [
              0.7777777777777778,
              "#fb9f3a"
             ],
             [
              0.8888888888888888,
              "#fdca26"
             ],
             [
              1,
              "#f0f921"
             ]
            ],
            "type": "surface"
           }
          ],
          "table": [
           {
            "cells": {
             "fill": {
              "color": "#EBF0F8"
             },
             "line": {
              "color": "white"
             }
            },
            "header": {
             "fill": {
              "color": "#C8D4E3"
             },
             "line": {
              "color": "white"
             }
            },
            "type": "table"
           }
          ]
         },
         "layout": {
          "annotationdefaults": {
           "arrowcolor": "#2a3f5f",
           "arrowhead": 0,
           "arrowwidth": 1
          },
          "autotypenumbers": "strict",
          "coloraxis": {
           "colorbar": {
            "outlinewidth": 0,
            "ticks": ""
           }
          },
          "colorscale": {
           "diverging": [
            [
             0,
             "#8e0152"
            ],
            [
             0.1,
             "#c51b7d"
            ],
            [
             0.2,
             "#de77ae"
            ],
            [
             0.3,
             "#f1b6da"
            ],
            [
             0.4,
             "#fde0ef"
            ],
            [
             0.5,
             "#f7f7f7"
            ],
            [
             0.6,
             "#e6f5d0"
            ],
            [
             0.7,
             "#b8e186"
            ],
            [
             0.8,
             "#7fbc41"
            ],
            [
             0.9,
             "#4d9221"
            ],
            [
             1,
             "#276419"
            ]
           ],
           "sequential": [
            [
             0,
             "#0d0887"
            ],
            [
             0.1111111111111111,
             "#46039f"
            ],
            [
             0.2222222222222222,
             "#7201a8"
            ],
            [
             0.3333333333333333,
             "#9c179e"
            ],
            [
             0.4444444444444444,
             "#bd3786"
            ],
            [
             0.5555555555555556,
             "#d8576b"
            ],
            [
             0.6666666666666666,
             "#ed7953"
            ],
            [
             0.7777777777777778,
             "#fb9f3a"
            ],
            [
             0.8888888888888888,
             "#fdca26"
            ],
            [
             1,
             "#f0f921"
            ]
           ],
           "sequentialminus": [
            [
             0,
             "#0d0887"
            ],
            [
             0.1111111111111111,
             "#46039f"
            ],
            [
             0.2222222222222222,
             "#7201a8"
            ],
            [
             0.3333333333333333,
             "#9c179e"
            ],
            [
             0.4444444444444444,
             "#bd3786"
            ],
            [
             0.5555555555555556,
             "#d8576b"
            ],
            [
             0.6666666666666666,
             "#ed7953"
            ],
            [
             0.7777777777777778,
             "#fb9f3a"
            ],
            [
             0.8888888888888888,
             "#fdca26"
            ],
            [
             1,
             "#f0f921"
            ]
           ]
          },
          "colorway": [
           "#636efa",
           "#EF553B",
           "#00cc96",
           "#ab63fa",
           "#FFA15A",
           "#19d3f3",
           "#FF6692",
           "#B6E880",
           "#FF97FF",
           "#FECB52"
          ],
          "font": {
           "color": "#2a3f5f"
          },
          "geo": {
           "bgcolor": "white",
           "lakecolor": "white",
           "landcolor": "#E5ECF6",
           "showlakes": true,
           "showland": true,
           "subunitcolor": "white"
          },
          "hoverlabel": {
           "align": "left"
          },
          "hovermode": "closest",
          "mapbox": {
           "style": "light"
          },
          "paper_bgcolor": "white",
          "plot_bgcolor": "#E5ECF6",
          "polar": {
           "angularaxis": {
            "gridcolor": "white",
            "linecolor": "white",
            "ticks": ""
           },
           "bgcolor": "#E5ECF6",
           "radialaxis": {
            "gridcolor": "white",
            "linecolor": "white",
            "ticks": ""
           }
          },
          "scene": {
           "xaxis": {
            "backgroundcolor": "#E5ECF6",
            "gridcolor": "white",
            "gridwidth": 2,
            "linecolor": "white",
            "showbackground": true,
            "ticks": "",
            "zerolinecolor": "white"
           },
           "yaxis": {
            "backgroundcolor": "#E5ECF6",
            "gridcolor": "white",
            "gridwidth": 2,
            "linecolor": "white",
            "showbackground": true,
            "ticks": "",
            "zerolinecolor": "white"
           },
           "zaxis": {
            "backgroundcolor": "#E5ECF6",
            "gridcolor": "white",
            "gridwidth": 2,
            "linecolor": "white",
            "showbackground": true,
            "ticks": "",
            "zerolinecolor": "white"
           }
          },
          "shapedefaults": {
           "line": {
            "color": "#2a3f5f"
           }
          },
          "ternary": {
           "aaxis": {
            "gridcolor": "white",
            "linecolor": "white",
            "ticks": ""
           },
           "baxis": {
            "gridcolor": "white",
            "linecolor": "white",
            "ticks": ""
           },
           "bgcolor": "#E5ECF6",
           "caxis": {
            "gridcolor": "white",
            "linecolor": "white",
            "ticks": ""
           }
          },
          "title": {
           "x": 0.05
          },
          "xaxis": {
           "automargin": true,
           "gridcolor": "white",
           "linecolor": "white",
           "ticks": "",
           "title": {
            "standoff": 15
           },
           "zerolinecolor": "white",
           "zerolinewidth": 2
          },
          "yaxis": {
           "automargin": true,
           "gridcolor": "white",
           "linecolor": "white",
           "ticks": "",
           "title": {
            "standoff": 15
           },
           "zerolinecolor": "white",
           "zerolinewidth": 2
          }
         }
        },
        "xaxis": {
         "anchor": "y",
         "domain": [
          0,
          0.45
         ]
        },
        "xaxis2": {
         "anchor": "y2",
         "domain": [
          0.55,
          1
         ]
        },
        "xaxis3": {
         "anchor": "y3",
         "domain": [
          0,
          0.45
         ]
        },
        "xaxis4": {
         "anchor": "y4",
         "domain": [
          0.55,
          1
         ]
        },
        "yaxis": {
         "anchor": "x",
         "domain": [
          0.7777777777777778,
          1
         ]
        },
        "yaxis2": {
         "anchor": "x2",
         "domain": [
          0.7777777777777778,
          1
         ]
        },
        "yaxis3": {
         "anchor": "x3",
         "domain": [
          0.3888888888888889,
          0.6111111111111112
         ]
        },
        "yaxis4": {
         "anchor": "x4",
         "domain": [
          0.3888888888888889,
          0.6111111111111112
         ]
        }
       }
      }
     },
     "metadata": {},
     "output_type": "display_data"
    }
   ],
   "source": [
    "from plotly.subplots import make_subplots\n",
    "import plotly.graph_objects as go\n",
    "\n",
    "# Create a subplot layout: 3 rows, 2 columns\n",
    "fig = make_subplots(\n",
    "    rows=3, cols=2,\n",
    "    specs=[[{\"type\": \"bar\"}, {\"type\": \"bar\"}], \n",
    "           [{\"type\": \"bar\"}, {\"type\": \"bar\"}], \n",
    "           [{\"type\": \"sunburst\", \"colspan\": 2}, None]],\n",
    "    subplot_titles=(\"Metal used for modification\", \"source of metal\", \n",
    "                    \"Form of porous carbon\", \"Detection techniques\", \n",
    "                    \"Distribution of LOD_nM and Hierarchical Representation\")\n",
    ")\n",
    "\n",
    "# Frequency bar charts for categorical columns\n",
    "cat_cols = [\"Metal used for modification\", \"source of metal\", \"Form of porous carbon\", \"Detection techniques\"]\n",
    "for i, col in enumerate(cat_cols, start=1):\n",
    "    fig.add_trace(\n",
    "        go.Bar(x=df[col].value_counts().index, y=df[col].value_counts().values, name=col),\n",
    "        row=(i-1)//2 + 1, col=(i-1)%2 + 1\n",
    "    )\n",
    "\n",
    "# Sunburst chart for hierarchical representation of three variables\n",
    "fig.add_trace(\n",
    "    go.Sunburst(\n",
    "        labels=df[\"Metal used for modification\"].tolist() + df[\"Form of porous carbon\"].tolist() + df[\"Detection techniques\"].tolist(),\n",
    "        parents=[\"\"]*len(df[\"Metal used for modification\"].unique()) + df[\"Metal used for modification\"].tolist() * 2,\n",
    "        values=[1]*len(df),  # dummy values, could be adjusted to reflect actual data metrics\n",
    "        branchvalues=\"total\",\n",
    "        name=\"Hierarchical\"\n",
    "    ),\n",
    "    row=3, col=1\n",
    ")\n",
    "\n",
    "# Adjust layout for clarity\n",
    "fig.update_layout(height=1200, showlegend=False)\n",
    "\n",
    "# Display the figure\n",
    "fig.show()\n"
   ]
  },
  {
   "cell_type": "code",
   "execution_count": null,
   "metadata": {},
   "outputs": [],
   "source": [
    "\n",
    "# Preparing data for the sunburst chart, which will include an additional layer for 'Detection techniques'\n",
    "sunburst_data = data.groupby(['Metal used for modification', 'Form of porous carbon', 'Detection techniques']).size().reset_index(name='counts')\n",
    "\n",
    "# Creating sunburst chart using Plotly Express\n",
    "fig_sunburst = px.sunburst(sunburst_data, path=['Metal used for modification', 'Form of porous carbon', 'Detection techniques'], values='counts',\n",
    "                           title='Sunburst Chart of Metal Modification, Form of Porous Carbon, and Detection Techniques')\n",
    "fig_sunburst.show()"
   ]
  },
  {
   "cell_type": "code",
   "execution_count": 186,
   "metadata": {},
   "outputs": [
    {
     "data": {
      "application/vnd.plotly.v1+json": {
       "config": {
        "plotlyServerURL": "https://plot.ly"
       },
       "data": [
        {
         "branchvalues": "total",
         "domain": {
          "x": [
           0,
           1
          ],
          "y": [
           0,
           1
          ]
         },
         "hovertemplate": "labels=%{label}<br>counts=%{value}<br>parent=%{parent}<br>id=%{id}<extra></extra>",
         "ids": [
          "pd/graphene",
          "zr/graphene",
          "au/mofs",
          "cu/mofs",
          "fe/mofs",
          "ag/nanobelts",
          "au/nanocomposite",
          "co/nanocomposite",
          "cu/nanocomposite",
          "fe/nanocomposite",
          "mo/nanocomposite",
          "pd/nanocomposite",
          "ti/nanocomposite",
          "zr/nanocomposite",
          "ag/nanofibers",
          "mo/nanofibers",
          "pd/nanofibers",
          "ti/nanofibers",
          "au/nanoparticle",
          "fe/nanoparticle",
          "pt/nanoparticle",
          "zr/nanoparticle",
          "au/nanorods",
          "ag/nanosheet",
          "mo/nanosheet",
          "mo/nanospheres",
          "cu/nanostructures",
          "mo/nanostructures",
          "pd/nanotubes",
          "ti/nanotubes",
          "zr/nanotubes",
          "ag/porous carbon",
          "pd/porous carbon",
          "ti/porous carbon",
          "zr/porous carbon",
          "ag",
          "au",
          "co",
          "cu",
          "fe",
          "mo",
          "pd",
          "pt",
          "ti",
          "zr"
         ],
         "labels": [
          "graphene",
          "graphene",
          "mofs",
          "mofs",
          "mofs",
          "nanobelts",
          "nanocomposite",
          "nanocomposite",
          "nanocomposite",
          "nanocomposite",
          "nanocomposite",
          "nanocomposite",
          "nanocomposite",
          "nanocomposite",
          "nanofibers",
          "nanofibers",
          "nanofibers",
          "nanofibers",
          "nanoparticle",
          "nanoparticle",
          "nanoparticle",
          "nanoparticle",
          "nanorods",
          "nanosheet",
          "nanosheet",
          "nanospheres",
          "nanostructures",
          "nanostructures",
          "nanotubes",
          "nanotubes",
          "nanotubes",
          "porous carbon",
          "porous carbon",
          "porous carbon",
          "porous carbon",
          "ag",
          "au",
          "co",
          "cu",
          "fe",
          "mo",
          "pd",
          "pt",
          "ti",
          "zr"
         ],
         "name": "",
         "parents": [
          "pd",
          "zr",
          "au",
          "cu",
          "fe",
          "ag",
          "au",
          "co",
          "cu",
          "fe",
          "mo",
          "pd",
          "ti",
          "zr",
          "ag",
          "mo",
          "pd",
          "ti",
          "au",
          "fe",
          "pt",
          "zr",
          "au",
          "ag",
          "mo",
          "mo",
          "cu",
          "mo",
          "pd",
          "ti",
          "zr",
          "ag",
          "pd",
          "ti",
          "zr",
          "",
          "",
          "",
          "",
          "",
          "",
          "",
          "",
          "",
          ""
         ],
         "type": "treemap",
         "values": [
          2,
          1,
          1,
          1,
          1,
          1,
          3,
          1,
          4,
          4,
          1,
          1,
          1,
          1,
          1,
          3,
          1,
          1,
          3,
          2,
          2,
          2,
          1,
          1,
          2,
          1,
          5,
          2,
          1,
          1,
          2,
          2,
          6,
          1,
          2,
          5,
          8,
          1,
          10,
          7,
          9,
          11,
          2,
          4,
          8
         ]
        }
       ],
       "layout": {
        "legend": {
         "tracegroupgap": 0
        },
        "template": {
         "data": {
          "bar": [
           {
            "error_x": {
             "color": "#2a3f5f"
            },
            "error_y": {
             "color": "#2a3f5f"
            },
            "marker": {
             "line": {
              "color": "#E5ECF6",
              "width": 0.5
             },
             "pattern": {
              "fillmode": "overlay",
              "size": 10,
              "solidity": 0.2
             }
            },
            "type": "bar"
           }
          ],
          "barpolar": [
           {
            "marker": {
             "line": {
              "color": "#E5ECF6",
              "width": 0.5
             },
             "pattern": {
              "fillmode": "overlay",
              "size": 10,
              "solidity": 0.2
             }
            },
            "type": "barpolar"
           }
          ],
          "carpet": [
           {
            "aaxis": {
             "endlinecolor": "#2a3f5f",
             "gridcolor": "white",
             "linecolor": "white",
             "minorgridcolor": "white",
             "startlinecolor": "#2a3f5f"
            },
            "baxis": {
             "endlinecolor": "#2a3f5f",
             "gridcolor": "white",
             "linecolor": "white",
             "minorgridcolor": "white",
             "startlinecolor": "#2a3f5f"
            },
            "type": "carpet"
           }
          ],
          "choropleth": [
           {
            "colorbar": {
             "outlinewidth": 0,
             "ticks": ""
            },
            "type": "choropleth"
           }
          ],
          "contour": [
           {
            "colorbar": {
             "outlinewidth": 0,
             "ticks": ""
            },
            "colorscale": [
             [
              0,
              "#0d0887"
             ],
             [
              0.1111111111111111,
              "#46039f"
             ],
             [
              0.2222222222222222,
              "#7201a8"
             ],
             [
              0.3333333333333333,
              "#9c179e"
             ],
             [
              0.4444444444444444,
              "#bd3786"
             ],
             [
              0.5555555555555556,
              "#d8576b"
             ],
             [
              0.6666666666666666,
              "#ed7953"
             ],
             [
              0.7777777777777778,
              "#fb9f3a"
             ],
             [
              0.8888888888888888,
              "#fdca26"
             ],
             [
              1,
              "#f0f921"
             ]
            ],
            "type": "contour"
           }
          ],
          "contourcarpet": [
           {
            "colorbar": {
             "outlinewidth": 0,
             "ticks": ""
            },
            "type": "contourcarpet"
           }
          ],
          "heatmap": [
           {
            "colorbar": {
             "outlinewidth": 0,
             "ticks": ""
            },
            "colorscale": [
             [
              0,
              "#0d0887"
             ],
             [
              0.1111111111111111,
              "#46039f"
             ],
             [
              0.2222222222222222,
              "#7201a8"
             ],
             [
              0.3333333333333333,
              "#9c179e"
             ],
             [
              0.4444444444444444,
              "#bd3786"
             ],
             [
              0.5555555555555556,
              "#d8576b"
             ],
             [
              0.6666666666666666,
              "#ed7953"
             ],
             [
              0.7777777777777778,
              "#fb9f3a"
             ],
             [
              0.8888888888888888,
              "#fdca26"
             ],
             [
              1,
              "#f0f921"
             ]
            ],
            "type": "heatmap"
           }
          ],
          "heatmapgl": [
           {
            "colorbar": {
             "outlinewidth": 0,
             "ticks": ""
            },
            "colorscale": [
             [
              0,
              "#0d0887"
             ],
             [
              0.1111111111111111,
              "#46039f"
             ],
             [
              0.2222222222222222,
              "#7201a8"
             ],
             [
              0.3333333333333333,
              "#9c179e"
             ],
             [
              0.4444444444444444,
              "#bd3786"
             ],
             [
              0.5555555555555556,
              "#d8576b"
             ],
             [
              0.6666666666666666,
              "#ed7953"
             ],
             [
              0.7777777777777778,
              "#fb9f3a"
             ],
             [
              0.8888888888888888,
              "#fdca26"
             ],
             [
              1,
              "#f0f921"
             ]
            ],
            "type": "heatmapgl"
           }
          ],
          "histogram": [
           {
            "marker": {
             "pattern": {
              "fillmode": "overlay",
              "size": 10,
              "solidity": 0.2
             }
            },
            "type": "histogram"
           }
          ],
          "histogram2d": [
           {
            "colorbar": {
             "outlinewidth": 0,
             "ticks": ""
            },
            "colorscale": [
             [
              0,
              "#0d0887"
             ],
             [
              0.1111111111111111,
              "#46039f"
             ],
             [
              0.2222222222222222,
              "#7201a8"
             ],
             [
              0.3333333333333333,
              "#9c179e"
             ],
             [
              0.4444444444444444,
              "#bd3786"
             ],
             [
              0.5555555555555556,
              "#d8576b"
             ],
             [
              0.6666666666666666,
              "#ed7953"
             ],
             [
              0.7777777777777778,
              "#fb9f3a"
             ],
             [
              0.8888888888888888,
              "#fdca26"
             ],
             [
              1,
              "#f0f921"
             ]
            ],
            "type": "histogram2d"
           }
          ],
          "histogram2dcontour": [
           {
            "colorbar": {
             "outlinewidth": 0,
             "ticks": ""
            },
            "colorscale": [
             [
              0,
              "#0d0887"
             ],
             [
              0.1111111111111111,
              "#46039f"
             ],
             [
              0.2222222222222222,
              "#7201a8"
             ],
             [
              0.3333333333333333,
              "#9c179e"
             ],
             [
              0.4444444444444444,
              "#bd3786"
             ],
             [
              0.5555555555555556,
              "#d8576b"
             ],
             [
              0.6666666666666666,
              "#ed7953"
             ],
             [
              0.7777777777777778,
              "#fb9f3a"
             ],
             [
              0.8888888888888888,
              "#fdca26"
             ],
             [
              1,
              "#f0f921"
             ]
            ],
            "type": "histogram2dcontour"
           }
          ],
          "mesh3d": [
           {
            "colorbar": {
             "outlinewidth": 0,
             "ticks": ""
            },
            "type": "mesh3d"
           }
          ],
          "parcoords": [
           {
            "line": {
             "colorbar": {
              "outlinewidth": 0,
              "ticks": ""
             }
            },
            "type": "parcoords"
           }
          ],
          "pie": [
           {
            "automargin": true,
            "type": "pie"
           }
          ],
          "scatter": [
           {
            "fillpattern": {
             "fillmode": "overlay",
             "size": 10,
             "solidity": 0.2
            },
            "type": "scatter"
           }
          ],
          "scatter3d": [
           {
            "line": {
             "colorbar": {
              "outlinewidth": 0,
              "ticks": ""
             }
            },
            "marker": {
             "colorbar": {
              "outlinewidth": 0,
              "ticks": ""
             }
            },
            "type": "scatter3d"
           }
          ],
          "scattercarpet": [
           {
            "marker": {
             "colorbar": {
              "outlinewidth": 0,
              "ticks": ""
             }
            },
            "type": "scattercarpet"
           }
          ],
          "scattergeo": [
           {
            "marker": {
             "colorbar": {
              "outlinewidth": 0,
              "ticks": ""
             }
            },
            "type": "scattergeo"
           }
          ],
          "scattergl": [
           {
            "marker": {
             "colorbar": {
              "outlinewidth": 0,
              "ticks": ""
             }
            },
            "type": "scattergl"
           }
          ],
          "scattermapbox": [
           {
            "marker": {
             "colorbar": {
              "outlinewidth": 0,
              "ticks": ""
             }
            },
            "type": "scattermapbox"
           }
          ],
          "scatterpolar": [
           {
            "marker": {
             "colorbar": {
              "outlinewidth": 0,
              "ticks": ""
             }
            },
            "type": "scatterpolar"
           }
          ],
          "scatterpolargl": [
           {
            "marker": {
             "colorbar": {
              "outlinewidth": 0,
              "ticks": ""
             }
            },
            "type": "scatterpolargl"
           }
          ],
          "scatterternary": [
           {
            "marker": {
             "colorbar": {
              "outlinewidth": 0,
              "ticks": ""
             }
            },
            "type": "scatterternary"
           }
          ],
          "surface": [
           {
            "colorbar": {
             "outlinewidth": 0,
             "ticks": ""
            },
            "colorscale": [
             [
              0,
              "#0d0887"
             ],
             [
              0.1111111111111111,
              "#46039f"
             ],
             [
              0.2222222222222222,
              "#7201a8"
             ],
             [
              0.3333333333333333,
              "#9c179e"
             ],
             [
              0.4444444444444444,
              "#bd3786"
             ],
             [
              0.5555555555555556,
              "#d8576b"
             ],
             [
              0.6666666666666666,
              "#ed7953"
             ],
             [
              0.7777777777777778,
              "#fb9f3a"
             ],
             [
              0.8888888888888888,
              "#fdca26"
             ],
             [
              1,
              "#f0f921"
             ]
            ],
            "type": "surface"
           }
          ],
          "table": [
           {
            "cells": {
             "fill": {
              "color": "#EBF0F8"
             },
             "line": {
              "color": "white"
             }
            },
            "header": {
             "fill": {
              "color": "#C8D4E3"
             },
             "line": {
              "color": "white"
             }
            },
            "type": "table"
           }
          ]
         },
         "layout": {
          "annotationdefaults": {
           "arrowcolor": "#2a3f5f",
           "arrowhead": 0,
           "arrowwidth": 1
          },
          "autotypenumbers": "strict",
          "coloraxis": {
           "colorbar": {
            "outlinewidth": 0,
            "ticks": ""
           }
          },
          "colorscale": {
           "diverging": [
            [
             0,
             "#8e0152"
            ],
            [
             0.1,
             "#c51b7d"
            ],
            [
             0.2,
             "#de77ae"
            ],
            [
             0.3,
             "#f1b6da"
            ],
            [
             0.4,
             "#fde0ef"
            ],
            [
             0.5,
             "#f7f7f7"
            ],
            [
             0.6,
             "#e6f5d0"
            ],
            [
             0.7,
             "#b8e186"
            ],
            [
             0.8,
             "#7fbc41"
            ],
            [
             0.9,
             "#4d9221"
            ],
            [
             1,
             "#276419"
            ]
           ],
           "sequential": [
            [
             0,
             "#0d0887"
            ],
            [
             0.1111111111111111,
             "#46039f"
            ],
            [
             0.2222222222222222,
             "#7201a8"
            ],
            [
             0.3333333333333333,
             "#9c179e"
            ],
            [
             0.4444444444444444,
             "#bd3786"
            ],
            [
             0.5555555555555556,
             "#d8576b"
            ],
            [
             0.6666666666666666,
             "#ed7953"
            ],
            [
             0.7777777777777778,
             "#fb9f3a"
            ],
            [
             0.8888888888888888,
             "#fdca26"
            ],
            [
             1,
             "#f0f921"
            ]
           ],
           "sequentialminus": [
            [
             0,
             "#0d0887"
            ],
            [
             0.1111111111111111,
             "#46039f"
            ],
            [
             0.2222222222222222,
             "#7201a8"
            ],
            [
             0.3333333333333333,
             "#9c179e"
            ],
            [
             0.4444444444444444,
             "#bd3786"
            ],
            [
             0.5555555555555556,
             "#d8576b"
            ],
            [
             0.6666666666666666,
             "#ed7953"
            ],
            [
             0.7777777777777778,
             "#fb9f3a"
            ],
            [
             0.8888888888888888,
             "#fdca26"
            ],
            [
             1,
             "#f0f921"
            ]
           ]
          },
          "colorway": [
           "#636efa",
           "#EF553B",
           "#00cc96",
           "#ab63fa",
           "#FFA15A",
           "#19d3f3",
           "#FF6692",
           "#B6E880",
           "#FF97FF",
           "#FECB52"
          ],
          "font": {
           "color": "#2a3f5f"
          },
          "geo": {
           "bgcolor": "white",
           "lakecolor": "white",
           "landcolor": "#E5ECF6",
           "showlakes": true,
           "showland": true,
           "subunitcolor": "white"
          },
          "hoverlabel": {
           "align": "left"
          },
          "hovermode": "closest",
          "mapbox": {
           "style": "light"
          },
          "paper_bgcolor": "white",
          "plot_bgcolor": "#E5ECF6",
          "polar": {
           "angularaxis": {
            "gridcolor": "white",
            "linecolor": "white",
            "ticks": ""
           },
           "bgcolor": "#E5ECF6",
           "radialaxis": {
            "gridcolor": "white",
            "linecolor": "white",
            "ticks": ""
           }
          },
          "scene": {
           "xaxis": {
            "backgroundcolor": "#E5ECF6",
            "gridcolor": "white",
            "gridwidth": 2,
            "linecolor": "white",
            "showbackground": true,
            "ticks": "",
            "zerolinecolor": "white"
           },
           "yaxis": {
            "backgroundcolor": "#E5ECF6",
            "gridcolor": "white",
            "gridwidth": 2,
            "linecolor": "white",
            "showbackground": true,
            "ticks": "",
            "zerolinecolor": "white"
           },
           "zaxis": {
            "backgroundcolor": "#E5ECF6",
            "gridcolor": "white",
            "gridwidth": 2,
            "linecolor": "white",
            "showbackground": true,
            "ticks": "",
            "zerolinecolor": "white"
           }
          },
          "shapedefaults": {
           "line": {
            "color": "#2a3f5f"
           }
          },
          "ternary": {
           "aaxis": {
            "gridcolor": "white",
            "linecolor": "white",
            "ticks": ""
           },
           "baxis": {
            "gridcolor": "white",
            "linecolor": "white",
            "ticks": ""
           },
           "bgcolor": "#E5ECF6",
           "caxis": {
            "gridcolor": "white",
            "linecolor": "white",
            "ticks": ""
           }
          },
          "title": {
           "x": 0.05
          },
          "xaxis": {
           "automargin": true,
           "gridcolor": "white",
           "linecolor": "white",
           "ticks": "",
           "title": {
            "standoff": 15
           },
           "zerolinecolor": "white",
           "zerolinewidth": 2
          },
          "yaxis": {
           "automargin": true,
           "gridcolor": "white",
           "linecolor": "white",
           "ticks": "",
           "title": {
            "standoff": 15
           },
           "zerolinecolor": "white",
           "zerolinewidth": 2
          }
         }
        },
        "title": {
         "text": "Treemap of Metal Used for Modification and Form of Porous Carbon"
        }
       }
      }
     },
     "metadata": {},
     "output_type": "display_data"
    },
    {
     "data": {
      "text/plain": [
       "<Figure size 640x480 with 0 Axes>"
      ]
     },
     "metadata": {},
     "output_type": "display_data"
    }
   ],
   "source": [
    "# Since the squarify module was missing and caused an interruption, we didn't define treemap_data.\n",
    "# We will prepare the data for treemap and sunburst chart again using plotly this time.\n",
    "\n",
    "# Grouping data for treemap visualization\n",
    "treemap_data = data.groupby(['Metal used for modification', 'Form of porous carbon']).size().reset_index(name='counts')\n",
    "\n",
    "# Creating treemap using Plotly Express\n",
    "fig_treemap = px.treemap(treemap_data, path=['Metal used for modification', 'Form of porous carbon'], values='counts',\n",
    "                         title='Treemap of Metal Used for Modification and Form of Porous Carbon')\n",
    "\n",
    "fig_treemap.show()\n",
    "# Save the figure\n",
    "plt.savefig('2.png', dpi=300)  # Save as PNG with high resolution"
   ]
  },
  {
   "cell_type": "markdown",
   "metadata": {},
   "source": [
    "# Poster ready graphs"
   ]
  },
  {
   "cell_type": "code",
   "execution_count": 159,
   "metadata": {},
   "outputs": [
    {
     "data": {
      "application/vnd.plotly.v1+json": {
       "config": {
        "plotlyServerURL": "https://plot.ly"
       },
       "data": [
        {
         "branchvalues": "total",
         "domain": {
          "x": [
           0,
           1
          ],
          "y": [
           0,
           1
          ]
         },
         "hovertemplate": "labels=%{label}<br>counts=%{value}<br>parent=%{parent}<br>id=%{id}<extra></extra>",
         "ids": [
          "pd/graphene",
          "zr/graphene",
          "au/mofs",
          "cu/mofs",
          "fe/mofs",
          "ag/nanobelts",
          "au/nanocomposite",
          "co/nanocomposite",
          "cu/nanocomposite",
          "fe/nanocomposite",
          "mo/nanocomposite",
          "pd/nanocomposite",
          "ti/nanocomposite",
          "zr/nanocomposite",
          "ag/nanofibers",
          "mo/nanofibers",
          "pd/nanofibers",
          "ti/nanofibers",
          "au/nanoparticle",
          "fe/nanoparticle",
          "pt/nanoparticle",
          "zr/nanoparticle",
          "au/nanorods",
          "ag/nanosheet",
          "mo/nanosheet",
          "mo/nanospheres",
          "cu/nanostructures",
          "mo/nanostructures",
          "pd/nanotubes",
          "ti/nanotubes",
          "zr/nanotubes",
          "ag/porous carbon",
          "pd/porous carbon",
          "ti/porous carbon",
          "zr/porous carbon",
          "ag",
          "au",
          "co",
          "cu",
          "fe",
          "mo",
          "pd",
          "pt",
          "ti",
          "zr"
         ],
         "labels": [
          "graphene",
          "graphene",
          "mofs",
          "mofs",
          "mofs",
          "nanobelts",
          "nanocomposite",
          "nanocomposite",
          "nanocomposite",
          "nanocomposite",
          "nanocomposite",
          "nanocomposite",
          "nanocomposite",
          "nanocomposite",
          "nanofibers",
          "nanofibers",
          "nanofibers",
          "nanofibers",
          "nanoparticle",
          "nanoparticle",
          "nanoparticle",
          "nanoparticle",
          "nanorods",
          "nanosheet",
          "nanosheet",
          "nanospheres",
          "nanostructures",
          "nanostructures",
          "nanotubes",
          "nanotubes",
          "nanotubes",
          "porous carbon",
          "porous carbon",
          "porous carbon",
          "porous carbon",
          "ag",
          "au",
          "co",
          "cu",
          "fe",
          "mo",
          "pd",
          "pt",
          "ti",
          "zr"
         ],
         "name": "",
         "parents": [
          "pd",
          "zr",
          "au",
          "cu",
          "fe",
          "ag",
          "au",
          "co",
          "cu",
          "fe",
          "mo",
          "pd",
          "ti",
          "zr",
          "ag",
          "mo",
          "pd",
          "ti",
          "au",
          "fe",
          "pt",
          "zr",
          "au",
          "ag",
          "mo",
          "mo",
          "cu",
          "mo",
          "pd",
          "ti",
          "zr",
          "ag",
          "pd",
          "ti",
          "zr",
          "",
          "",
          "",
          "",
          "",
          "",
          "",
          "",
          "",
          ""
         ],
         "type": "treemap",
         "values": [
          2,
          1,
          1,
          1,
          1,
          1,
          3,
          1,
          4,
          4,
          1,
          1,
          1,
          1,
          1,
          3,
          1,
          1,
          3,
          2,
          2,
          2,
          1,
          1,
          2,
          1,
          5,
          2,
          1,
          1,
          2,
          2,
          6,
          1,
          2,
          5,
          8,
          1,
          10,
          7,
          9,
          11,
          2,
          4,
          8
         ]
        }
       ],
       "layout": {
        "legend": {
         "tracegroupgap": 0
        },
        "template": {
         "data": {
          "bar": [
           {
            "error_x": {
             "color": "#2a3f5f"
            },
            "error_y": {
             "color": "#2a3f5f"
            },
            "marker": {
             "line": {
              "color": "#E5ECF6",
              "width": 0.5
             },
             "pattern": {
              "fillmode": "overlay",
              "size": 10,
              "solidity": 0.2
             }
            },
            "type": "bar"
           }
          ],
          "barpolar": [
           {
            "marker": {
             "line": {
              "color": "#E5ECF6",
              "width": 0.5
             },
             "pattern": {
              "fillmode": "overlay",
              "size": 10,
              "solidity": 0.2
             }
            },
            "type": "barpolar"
           }
          ],
          "carpet": [
           {
            "aaxis": {
             "endlinecolor": "#2a3f5f",
             "gridcolor": "white",
             "linecolor": "white",
             "minorgridcolor": "white",
             "startlinecolor": "#2a3f5f"
            },
            "baxis": {
             "endlinecolor": "#2a3f5f",
             "gridcolor": "white",
             "linecolor": "white",
             "minorgridcolor": "white",
             "startlinecolor": "#2a3f5f"
            },
            "type": "carpet"
           }
          ],
          "choropleth": [
           {
            "colorbar": {
             "outlinewidth": 0,
             "ticks": ""
            },
            "type": "choropleth"
           }
          ],
          "contour": [
           {
            "colorbar": {
             "outlinewidth": 0,
             "ticks": ""
            },
            "colorscale": [
             [
              0,
              "#0d0887"
             ],
             [
              0.1111111111111111,
              "#46039f"
             ],
             [
              0.2222222222222222,
              "#7201a8"
             ],
             [
              0.3333333333333333,
              "#9c179e"
             ],
             [
              0.4444444444444444,
              "#bd3786"
             ],
             [
              0.5555555555555556,
              "#d8576b"
             ],
             [
              0.6666666666666666,
              "#ed7953"
             ],
             [
              0.7777777777777778,
              "#fb9f3a"
             ],
             [
              0.8888888888888888,
              "#fdca26"
             ],
             [
              1,
              "#f0f921"
             ]
            ],
            "type": "contour"
           }
          ],
          "contourcarpet": [
           {
            "colorbar": {
             "outlinewidth": 0,
             "ticks": ""
            },
            "type": "contourcarpet"
           }
          ],
          "heatmap": [
           {
            "colorbar": {
             "outlinewidth": 0,
             "ticks": ""
            },
            "colorscale": [
             [
              0,
              "#0d0887"
             ],
             [
              0.1111111111111111,
              "#46039f"
             ],
             [
              0.2222222222222222,
              "#7201a8"
             ],
             [
              0.3333333333333333,
              "#9c179e"
             ],
             [
              0.4444444444444444,
              "#bd3786"
             ],
             [
              0.5555555555555556,
              "#d8576b"
             ],
             [
              0.6666666666666666,
              "#ed7953"
             ],
             [
              0.7777777777777778,
              "#fb9f3a"
             ],
             [
              0.8888888888888888,
              "#fdca26"
             ],
             [
              1,
              "#f0f921"
             ]
            ],
            "type": "heatmap"
           }
          ],
          "heatmapgl": [
           {
            "colorbar": {
             "outlinewidth": 0,
             "ticks": ""
            },
            "colorscale": [
             [
              0,
              "#0d0887"
             ],
             [
              0.1111111111111111,
              "#46039f"
             ],
             [
              0.2222222222222222,
              "#7201a8"
             ],
             [
              0.3333333333333333,
              "#9c179e"
             ],
             [
              0.4444444444444444,
              "#bd3786"
             ],
             [
              0.5555555555555556,
              "#d8576b"
             ],
             [
              0.6666666666666666,
              "#ed7953"
             ],
             [
              0.7777777777777778,
              "#fb9f3a"
             ],
             [
              0.8888888888888888,
              "#fdca26"
             ],
             [
              1,
              "#f0f921"
             ]
            ],
            "type": "heatmapgl"
           }
          ],
          "histogram": [
           {
            "marker": {
             "pattern": {
              "fillmode": "overlay",
              "size": 10,
              "solidity": 0.2
             }
            },
            "type": "histogram"
           }
          ],
          "histogram2d": [
           {
            "colorbar": {
             "outlinewidth": 0,
             "ticks": ""
            },
            "colorscale": [
             [
              0,
              "#0d0887"
             ],
             [
              0.1111111111111111,
              "#46039f"
             ],
             [
              0.2222222222222222,
              "#7201a8"
             ],
             [
              0.3333333333333333,
              "#9c179e"
             ],
             [
              0.4444444444444444,
              "#bd3786"
             ],
             [
              0.5555555555555556,
              "#d8576b"
             ],
             [
              0.6666666666666666,
              "#ed7953"
             ],
             [
              0.7777777777777778,
              "#fb9f3a"
             ],
             [
              0.8888888888888888,
              "#fdca26"
             ],
             [
              1,
              "#f0f921"
             ]
            ],
            "type": "histogram2d"
           }
          ],
          "histogram2dcontour": [
           {
            "colorbar": {
             "outlinewidth": 0,
             "ticks": ""
            },
            "colorscale": [
             [
              0,
              "#0d0887"
             ],
             [
              0.1111111111111111,
              "#46039f"
             ],
             [
              0.2222222222222222,
              "#7201a8"
             ],
             [
              0.3333333333333333,
              "#9c179e"
             ],
             [
              0.4444444444444444,
              "#bd3786"
             ],
             [
              0.5555555555555556,
              "#d8576b"
             ],
             [
              0.6666666666666666,
              "#ed7953"
             ],
             [
              0.7777777777777778,
              "#fb9f3a"
             ],
             [
              0.8888888888888888,
              "#fdca26"
             ],
             [
              1,
              "#f0f921"
             ]
            ],
            "type": "histogram2dcontour"
           }
          ],
          "mesh3d": [
           {
            "colorbar": {
             "outlinewidth": 0,
             "ticks": ""
            },
            "type": "mesh3d"
           }
          ],
          "parcoords": [
           {
            "line": {
             "colorbar": {
              "outlinewidth": 0,
              "ticks": ""
             }
            },
            "type": "parcoords"
           }
          ],
          "pie": [
           {
            "automargin": true,
            "type": "pie"
           }
          ],
          "scatter": [
           {
            "fillpattern": {
             "fillmode": "overlay",
             "size": 10,
             "solidity": 0.2
            },
            "type": "scatter"
           }
          ],
          "scatter3d": [
           {
            "line": {
             "colorbar": {
              "outlinewidth": 0,
              "ticks": ""
             }
            },
            "marker": {
             "colorbar": {
              "outlinewidth": 0,
              "ticks": ""
             }
            },
            "type": "scatter3d"
           }
          ],
          "scattercarpet": [
           {
            "marker": {
             "colorbar": {
              "outlinewidth": 0,
              "ticks": ""
             }
            },
            "type": "scattercarpet"
           }
          ],
          "scattergeo": [
           {
            "marker": {
             "colorbar": {
              "outlinewidth": 0,
              "ticks": ""
             }
            },
            "type": "scattergeo"
           }
          ],
          "scattergl": [
           {
            "marker": {
             "colorbar": {
              "outlinewidth": 0,
              "ticks": ""
             }
            },
            "type": "scattergl"
           }
          ],
          "scattermapbox": [
           {
            "marker": {
             "colorbar": {
              "outlinewidth": 0,
              "ticks": ""
             }
            },
            "type": "scattermapbox"
           }
          ],
          "scatterpolar": [
           {
            "marker": {
             "colorbar": {
              "outlinewidth": 0,
              "ticks": ""
             }
            },
            "type": "scatterpolar"
           }
          ],
          "scatterpolargl": [
           {
            "marker": {
             "colorbar": {
              "outlinewidth": 0,
              "ticks": ""
             }
            },
            "type": "scatterpolargl"
           }
          ],
          "scatterternary": [
           {
            "marker": {
             "colorbar": {
              "outlinewidth": 0,
              "ticks": ""
             }
            },
            "type": "scatterternary"
           }
          ],
          "surface": [
           {
            "colorbar": {
             "outlinewidth": 0,
             "ticks": ""
            },
            "colorscale": [
             [
              0,
              "#0d0887"
             ],
             [
              0.1111111111111111,
              "#46039f"
             ],
             [
              0.2222222222222222,
              "#7201a8"
             ],
             [
              0.3333333333333333,
              "#9c179e"
             ],
             [
              0.4444444444444444,
              "#bd3786"
             ],
             [
              0.5555555555555556,
              "#d8576b"
             ],
             [
              0.6666666666666666,
              "#ed7953"
             ],
             [
              0.7777777777777778,
              "#fb9f3a"
             ],
             [
              0.8888888888888888,
              "#fdca26"
             ],
             [
              1,
              "#f0f921"
             ]
            ],
            "type": "surface"
           }
          ],
          "table": [
           {
            "cells": {
             "fill": {
              "color": "#EBF0F8"
             },
             "line": {
              "color": "white"
             }
            },
            "header": {
             "fill": {
              "color": "#C8D4E3"
             },
             "line": {
              "color": "white"
             }
            },
            "type": "table"
           }
          ]
         },
         "layout": {
          "annotationdefaults": {
           "arrowcolor": "#2a3f5f",
           "arrowhead": 0,
           "arrowwidth": 1
          },
          "autotypenumbers": "strict",
          "coloraxis": {
           "colorbar": {
            "outlinewidth": 0,
            "ticks": ""
           }
          },
          "colorscale": {
           "diverging": [
            [
             0,
             "#8e0152"
            ],
            [
             0.1,
             "#c51b7d"
            ],
            [
             0.2,
             "#de77ae"
            ],
            [
             0.3,
             "#f1b6da"
            ],
            [
             0.4,
             "#fde0ef"
            ],
            [
             0.5,
             "#f7f7f7"
            ],
            [
             0.6,
             "#e6f5d0"
            ],
            [
             0.7,
             "#b8e186"
            ],
            [
             0.8,
             "#7fbc41"
            ],
            [
             0.9,
             "#4d9221"
            ],
            [
             1,
             "#276419"
            ]
           ],
           "sequential": [
            [
             0,
             "#0d0887"
            ],
            [
             0.1111111111111111,
             "#46039f"
            ],
            [
             0.2222222222222222,
             "#7201a8"
            ],
            [
             0.3333333333333333,
             "#9c179e"
            ],
            [
             0.4444444444444444,
             "#bd3786"
            ],
            [
             0.5555555555555556,
             "#d8576b"
            ],
            [
             0.6666666666666666,
             "#ed7953"
            ],
            [
             0.7777777777777778,
             "#fb9f3a"
            ],
            [
             0.8888888888888888,
             "#fdca26"
            ],
            [
             1,
             "#f0f921"
            ]
           ],
           "sequentialminus": [
            [
             0,
             "#0d0887"
            ],
            [
             0.1111111111111111,
             "#46039f"
            ],
            [
             0.2222222222222222,
             "#7201a8"
            ],
            [
             0.3333333333333333,
             "#9c179e"
            ],
            [
             0.4444444444444444,
             "#bd3786"
            ],
            [
             0.5555555555555556,
             "#d8576b"
            ],
            [
             0.6666666666666666,
             "#ed7953"
            ],
            [
             0.7777777777777778,
             "#fb9f3a"
            ],
            [
             0.8888888888888888,
             "#fdca26"
            ],
            [
             1,
             "#f0f921"
            ]
           ]
          },
          "colorway": [
           "#636efa",
           "#EF553B",
           "#00cc96",
           "#ab63fa",
           "#FFA15A",
           "#19d3f3",
           "#FF6692",
           "#B6E880",
           "#FF97FF",
           "#FECB52"
          ],
          "font": {
           "color": "#2a3f5f"
          },
          "geo": {
           "bgcolor": "white",
           "lakecolor": "white",
           "landcolor": "#E5ECF6",
           "showlakes": true,
           "showland": true,
           "subunitcolor": "white"
          },
          "hoverlabel": {
           "align": "left"
          },
          "hovermode": "closest",
          "mapbox": {
           "style": "light"
          },
          "paper_bgcolor": "white",
          "plot_bgcolor": "#E5ECF6",
          "polar": {
           "angularaxis": {
            "gridcolor": "white",
            "linecolor": "white",
            "ticks": ""
           },
           "bgcolor": "#E5ECF6",
           "radialaxis": {
            "gridcolor": "white",
            "linecolor": "white",
            "ticks": ""
           }
          },
          "scene": {
           "xaxis": {
            "backgroundcolor": "#E5ECF6",
            "gridcolor": "white",
            "gridwidth": 2,
            "linecolor": "white",
            "showbackground": true,
            "ticks": "",
            "zerolinecolor": "white"
           },
           "yaxis": {
            "backgroundcolor": "#E5ECF6",
            "gridcolor": "white",
            "gridwidth": 2,
            "linecolor": "white",
            "showbackground": true,
            "ticks": "",
            "zerolinecolor": "white"
           },
           "zaxis": {
            "backgroundcolor": "#E5ECF6",
            "gridcolor": "white",
            "gridwidth": 2,
            "linecolor": "white",
            "showbackground": true,
            "ticks": "",
            "zerolinecolor": "white"
           }
          },
          "shapedefaults": {
           "line": {
            "color": "#2a3f5f"
           }
          },
          "ternary": {
           "aaxis": {
            "gridcolor": "white",
            "linecolor": "white",
            "ticks": ""
           },
           "baxis": {
            "gridcolor": "white",
            "linecolor": "white",
            "ticks": ""
           },
           "bgcolor": "#E5ECF6",
           "caxis": {
            "gridcolor": "white",
            "linecolor": "white",
            "ticks": ""
           }
          },
          "title": {
           "x": 0.05
          },
          "xaxis": {
           "automargin": true,
           "gridcolor": "white",
           "linecolor": "white",
           "ticks": "",
           "title": {
            "standoff": 15
           },
           "zerolinecolor": "white",
           "zerolinewidth": 2
          },
          "yaxis": {
           "automargin": true,
           "gridcolor": "white",
           "linecolor": "white",
           "ticks": "",
           "title": {
            "standoff": 15
           },
           "zerolinecolor": "white",
           "zerolinewidth": 2
          }
         }
        },
        "title": {
         "text": "Treemap of Metal Used for Modification and Form of Porous Carbon"
        }
       }
      }
     },
     "metadata": {},
     "output_type": "display_data"
    }
   ],
   "source": [
    "import plotly.graph_objects as go\n",
    "\n",
    "# Treemap of Metal Used for Modification Across Different Forms of Porous Carbon\n",
    "fig_treemap = px.treemap(treemap_data, path=['Metal used for modification', 'Form of porous carbon'], values='counts',\n",
    "                         title='Treemap of Metal Used for Modification and Form of Porous Carbon')\n",
    "\n",
    "\n",
    "\n",
    "fig_treemap.show()\n",
    "\n",
    "# # Since we cannot directly show the plots in this environment, we display the titles as placeholders\n",
    "# # for where you would execute each plot's display code in your own environment.\n",
    "# fig_titles = [\n",
    "#     fig_treemap.title,\n",
    "#     fig_sunburst.title,\n",
    "#     fig_bar_detection_techniques.title,\n",
    "#     fig_histogram_lod.title,\n",
    "#     fig_scatter_lod_metal.title\n",
    "# ]\n",
    "\n",
    "# fig_titles\n",
    "# # Set resolution to 300 dpi and export to TIFF\n",
    "# fig_treemap.write_image(\"treemap.svg\", scale=3)"
   ]
  },
  {
   "cell_type": "code",
   "execution_count": 160,
   "metadata": {},
   "outputs": [
    {
     "data": {
      "application/vnd.plotly.v1+json": {
       "config": {
        "plotlyServerURL": "https://plot.ly"
       },
       "data": [
        {
         "hovertemplate": "Metal used for modification=%{x}<br>LOD_nM=%{y}<extra></extra>",
         "legendgroup": "pd",
         "marker": {
          "color": "#636efa",
          "symbol": "circle"
         },
         "mode": "markers",
         "name": "pd",
         "orientation": "v",
         "showlegend": true,
         "type": "scatter",
         "x": [
          "pd",
          "pd",
          "pd",
          "pd",
          "pd",
          "pd",
          "pd",
          "pd",
          "pd",
          "pd",
          "pd"
         ],
         "xaxis": "x",
         "y": [
          1000,
          1000,
          76,
          2.6,
          1250000000,
          0.00568,
          0.00568,
          0.00568,
          200,
          3.6,
          25.8
         ],
         "yaxis": "y"
        },
        {
         "hovertemplate": "Metal used for modification=%{x}<br>LOD_nM=%{y}<extra></extra>",
         "legendgroup": "pt",
         "marker": {
          "color": "#EF553B",
          "symbol": "circle"
         },
         "mode": "markers",
         "name": "pt",
         "orientation": "v",
         "showlegend": true,
         "type": "scatter",
         "x": [
          "pt",
          "pt",
          "pt",
          "pt"
         ],
         "xaxis": "x",
         "y": [
          24000,
          24000,
          0.03,
          0.03
         ],
         "yaxis": "y"
        },
        {
         "hovertemplate": "Metal used for modification=%{x}<br>LOD_nM=%{y}<extra></extra>",
         "legendgroup": "ti",
         "marker": {
          "color": "#00cc96",
          "symbol": "circle"
         },
         "mode": "markers",
         "name": "ti",
         "orientation": "v",
         "showlegend": true,
         "type": "scatter",
         "x": [
          "ti",
          "ti",
          "ti",
          "ti",
          "ti",
          "ti",
          "ti",
          "ti",
          "ti"
         ],
         "xaxis": "x",
         "y": [
          15,
          null,
          9.5,
          null,
          0.2,
          null,
          null,
          40000000000,
          8
         ],
         "yaxis": "y"
        },
        {
         "hovertemplate": "Metal used for modification=%{x}<br>LOD_nM=%{y}<extra></extra>",
         "legendgroup": "ag",
         "marker": {
          "color": "#ab63fa",
          "symbol": "circle"
         },
         "mode": "markers",
         "name": "ag",
         "orientation": "v",
         "showlegend": true,
         "type": "scatter",
         "x": [
          "ag",
          "ag",
          "ag",
          "ag",
          "ag"
         ],
         "xaxis": "x",
         "y": [
          600,
          7,
          110,
          10,
          218
         ],
         "yaxis": "y"
        },
        {
         "hovertemplate": "Metal used for modification=%{x}<br>LOD_nM=%{y}<extra></extra>",
         "legendgroup": "zr",
         "marker": {
          "color": "#FFA15A",
          "symbol": "circle"
         },
         "mode": "markers",
         "name": "zr",
         "orientation": "v",
         "showlegend": true,
         "type": "scatter",
         "x": [
          "zr",
          "zr",
          "zr",
          "zr",
          "zr",
          "zr",
          "zr",
          "zr"
         ],
         "xaxis": "x",
         "y": [
          3300000000,
          3600,
          11.03,
          null,
          20,
          2000,
          2000,
          3300000000
         ],
         "yaxis": "y"
        },
        {
         "hovertemplate": "Metal used for modification=%{x}<br>LOD_nM=%{y}<extra></extra>",
         "legendgroup": "fe",
         "marker": {
          "color": "#19d3f3",
          "symbol": "circle"
         },
         "mode": "markers",
         "name": "fe",
         "orientation": "v",
         "showlegend": true,
         "type": "scatter",
         "x": [
          "fe",
          "fe",
          "fe",
          "fe",
          "fe",
          "fe",
          "fe"
         ],
         "xaxis": "x",
         "y": [
          58,
          null,
          150,
          150,
          1,
          2,
          2
         ],
         "yaxis": "y"
        },
        {
         "hovertemplate": "Metal used for modification=%{x}<br>LOD_nM=%{y}<extra></extra>",
         "legendgroup": "cu",
         "marker": {
          "color": "#FF6692",
          "symbol": "circle"
         },
         "mode": "markers",
         "name": "cu",
         "orientation": "v",
         "showlegend": true,
         "type": "scatter",
         "x": [
          "cu",
          "cu",
          "cu",
          "cu",
          "cu",
          "cu",
          "cu",
          "cu",
          "cu",
          "cu"
         ],
         "xaxis": "x",
         "y": [
          58,
          150,
          150,
          0.0076,
          0.868,
          0.868,
          0.03,
          0.03,
          0.03,
          3.4
         ],
         "yaxis": "y"
        },
        {
         "hovertemplate": "Metal used for modification=%{x}<br>LOD_nM=%{y}<extra></extra>",
         "legendgroup": "co",
         "marker": {
          "color": "#B6E880",
          "symbol": "circle"
         },
         "mode": "markers",
         "name": "co",
         "orientation": "v",
         "showlegend": true,
         "type": "scatter",
         "x": [
          "co"
         ],
         "xaxis": "x",
         "y": [
          1
         ],
         "yaxis": "y"
        },
        {
         "hovertemplate": "Metal used for modification=%{x}<br>LOD_nM=%{y}<extra></extra>",
         "legendgroup": "mo",
         "marker": {
          "color": "#FF97FF",
          "symbol": "circle"
         },
         "mode": "markers",
         "name": "mo",
         "orientation": "v",
         "showlegend": true,
         "type": "scatter",
         "x": [
          "mo",
          "mo",
          "mo",
          "mo",
          "mo",
          "mo",
          "mo",
          "mo",
          "mo"
         ],
         "xaxis": "x",
         "y": [
          0.00235,
          0.00000271,
          0.00000271,
          0.058,
          0.539,
          0.45,
          0.45,
          0.069,
          0.069
         ],
         "yaxis": "y"
        },
        {
         "hovertemplate": "Metal used for modification=%{x}<br>LOD_nM=%{y}<extra></extra>",
         "legendgroup": "au",
         "marker": {
          "color": "#FECB52",
          "symbol": "circle"
         },
         "mode": "markers",
         "name": "au",
         "orientation": "v",
         "showlegend": true,
         "type": "scatter",
         "x": [
          "au",
          "au",
          "au",
          "au",
          "au",
          "au",
          "au",
          "au"
         ],
         "xaxis": "x",
         "y": [
          0.087,
          0.007,
          2.4e-7,
          2.4e-7,
          0.0076,
          0.027,
          0.027,
          3.4
         ],
         "yaxis": "y"
        }
       ],
       "layout": {
        "legend": {
         "title": {
          "text": "Metal used for modification"
         },
         "tracegroupgap": 0
        },
        "template": {
         "data": {
          "bar": [
           {
            "error_x": {
             "color": "#2a3f5f"
            },
            "error_y": {
             "color": "#2a3f5f"
            },
            "marker": {
             "line": {
              "color": "#E5ECF6",
              "width": 0.5
             },
             "pattern": {
              "fillmode": "overlay",
              "size": 10,
              "solidity": 0.2
             }
            },
            "type": "bar"
           }
          ],
          "barpolar": [
           {
            "marker": {
             "line": {
              "color": "#E5ECF6",
              "width": 0.5
             },
             "pattern": {
              "fillmode": "overlay",
              "size": 10,
              "solidity": 0.2
             }
            },
            "type": "barpolar"
           }
          ],
          "carpet": [
           {
            "aaxis": {
             "endlinecolor": "#2a3f5f",
             "gridcolor": "white",
             "linecolor": "white",
             "minorgridcolor": "white",
             "startlinecolor": "#2a3f5f"
            },
            "baxis": {
             "endlinecolor": "#2a3f5f",
             "gridcolor": "white",
             "linecolor": "white",
             "minorgridcolor": "white",
             "startlinecolor": "#2a3f5f"
            },
            "type": "carpet"
           }
          ],
          "choropleth": [
           {
            "colorbar": {
             "outlinewidth": 0,
             "ticks": ""
            },
            "type": "choropleth"
           }
          ],
          "contour": [
           {
            "colorbar": {
             "outlinewidth": 0,
             "ticks": ""
            },
            "colorscale": [
             [
              0,
              "#0d0887"
             ],
             [
              0.1111111111111111,
              "#46039f"
             ],
             [
              0.2222222222222222,
              "#7201a8"
             ],
             [
              0.3333333333333333,
              "#9c179e"
             ],
             [
              0.4444444444444444,
              "#bd3786"
             ],
             [
              0.5555555555555556,
              "#d8576b"
             ],
             [
              0.6666666666666666,
              "#ed7953"
             ],
             [
              0.7777777777777778,
              "#fb9f3a"
             ],
             [
              0.8888888888888888,
              "#fdca26"
             ],
             [
              1,
              "#f0f921"
             ]
            ],
            "type": "contour"
           }
          ],
          "contourcarpet": [
           {
            "colorbar": {
             "outlinewidth": 0,
             "ticks": ""
            },
            "type": "contourcarpet"
           }
          ],
          "heatmap": [
           {
            "colorbar": {
             "outlinewidth": 0,
             "ticks": ""
            },
            "colorscale": [
             [
              0,
              "#0d0887"
             ],
             [
              0.1111111111111111,
              "#46039f"
             ],
             [
              0.2222222222222222,
              "#7201a8"
             ],
             [
              0.3333333333333333,
              "#9c179e"
             ],
             [
              0.4444444444444444,
              "#bd3786"
             ],
             [
              0.5555555555555556,
              "#d8576b"
             ],
             [
              0.6666666666666666,
              "#ed7953"
             ],
             [
              0.7777777777777778,
              "#fb9f3a"
             ],
             [
              0.8888888888888888,
              "#fdca26"
             ],
             [
              1,
              "#f0f921"
             ]
            ],
            "type": "heatmap"
           }
          ],
          "heatmapgl": [
           {
            "colorbar": {
             "outlinewidth": 0,
             "ticks": ""
            },
            "colorscale": [
             [
              0,
              "#0d0887"
             ],
             [
              0.1111111111111111,
              "#46039f"
             ],
             [
              0.2222222222222222,
              "#7201a8"
             ],
             [
              0.3333333333333333,
              "#9c179e"
             ],
             [
              0.4444444444444444,
              "#bd3786"
             ],
             [
              0.5555555555555556,
              "#d8576b"
             ],
             [
              0.6666666666666666,
              "#ed7953"
             ],
             [
              0.7777777777777778,
              "#fb9f3a"
             ],
             [
              0.8888888888888888,
              "#fdca26"
             ],
             [
              1,
              "#f0f921"
             ]
            ],
            "type": "heatmapgl"
           }
          ],
          "histogram": [
           {
            "marker": {
             "pattern": {
              "fillmode": "overlay",
              "size": 10,
              "solidity": 0.2
             }
            },
            "type": "histogram"
           }
          ],
          "histogram2d": [
           {
            "colorbar": {
             "outlinewidth": 0,
             "ticks": ""
            },
            "colorscale": [
             [
              0,
              "#0d0887"
             ],
             [
              0.1111111111111111,
              "#46039f"
             ],
             [
              0.2222222222222222,
              "#7201a8"
             ],
             [
              0.3333333333333333,
              "#9c179e"
             ],
             [
              0.4444444444444444,
              "#bd3786"
             ],
             [
              0.5555555555555556,
              "#d8576b"
             ],
             [
              0.6666666666666666,
              "#ed7953"
             ],
             [
              0.7777777777777778,
              "#fb9f3a"
             ],
             [
              0.8888888888888888,
              "#fdca26"
             ],
             [
              1,
              "#f0f921"
             ]
            ],
            "type": "histogram2d"
           }
          ],
          "histogram2dcontour": [
           {
            "colorbar": {
             "outlinewidth": 0,
             "ticks": ""
            },
            "colorscale": [
             [
              0,
              "#0d0887"
             ],
             [
              0.1111111111111111,
              "#46039f"
             ],
             [
              0.2222222222222222,
              "#7201a8"
             ],
             [
              0.3333333333333333,
              "#9c179e"
             ],
             [
              0.4444444444444444,
              "#bd3786"
             ],
             [
              0.5555555555555556,
              "#d8576b"
             ],
             [
              0.6666666666666666,
              "#ed7953"
             ],
             [
              0.7777777777777778,
              "#fb9f3a"
             ],
             [
              0.8888888888888888,
              "#fdca26"
             ],
             [
              1,
              "#f0f921"
             ]
            ],
            "type": "histogram2dcontour"
           }
          ],
          "mesh3d": [
           {
            "colorbar": {
             "outlinewidth": 0,
             "ticks": ""
            },
            "type": "mesh3d"
           }
          ],
          "parcoords": [
           {
            "line": {
             "colorbar": {
              "outlinewidth": 0,
              "ticks": ""
             }
            },
            "type": "parcoords"
           }
          ],
          "pie": [
           {
            "automargin": true,
            "type": "pie"
           }
          ],
          "scatter": [
           {
            "fillpattern": {
             "fillmode": "overlay",
             "size": 10,
             "solidity": 0.2
            },
            "type": "scatter"
           }
          ],
          "scatter3d": [
           {
            "line": {
             "colorbar": {
              "outlinewidth": 0,
              "ticks": ""
             }
            },
            "marker": {
             "colorbar": {
              "outlinewidth": 0,
              "ticks": ""
             }
            },
            "type": "scatter3d"
           }
          ],
          "scattercarpet": [
           {
            "marker": {
             "colorbar": {
              "outlinewidth": 0,
              "ticks": ""
             }
            },
            "type": "scattercarpet"
           }
          ],
          "scattergeo": [
           {
            "marker": {
             "colorbar": {
              "outlinewidth": 0,
              "ticks": ""
             }
            },
            "type": "scattergeo"
           }
          ],
          "scattergl": [
           {
            "marker": {
             "colorbar": {
              "outlinewidth": 0,
              "ticks": ""
             }
            },
            "type": "scattergl"
           }
          ],
          "scattermapbox": [
           {
            "marker": {
             "colorbar": {
              "outlinewidth": 0,
              "ticks": ""
             }
            },
            "type": "scattermapbox"
           }
          ],
          "scatterpolar": [
           {
            "marker": {
             "colorbar": {
              "outlinewidth": 0,
              "ticks": ""
             }
            },
            "type": "scatterpolar"
           }
          ],
          "scatterpolargl": [
           {
            "marker": {
             "colorbar": {
              "outlinewidth": 0,
              "ticks": ""
             }
            },
            "type": "scatterpolargl"
           }
          ],
          "scatterternary": [
           {
            "marker": {
             "colorbar": {
              "outlinewidth": 0,
              "ticks": ""
             }
            },
            "type": "scatterternary"
           }
          ],
          "surface": [
           {
            "colorbar": {
             "outlinewidth": 0,
             "ticks": ""
            },
            "colorscale": [
             [
              0,
              "#0d0887"
             ],
             [
              0.1111111111111111,
              "#46039f"
             ],
             [
              0.2222222222222222,
              "#7201a8"
             ],
             [
              0.3333333333333333,
              "#9c179e"
             ],
             [
              0.4444444444444444,
              "#bd3786"
             ],
             [
              0.5555555555555556,
              "#d8576b"
             ],
             [
              0.6666666666666666,
              "#ed7953"
             ],
             [
              0.7777777777777778,
              "#fb9f3a"
             ],
             [
              0.8888888888888888,
              "#fdca26"
             ],
             [
              1,
              "#f0f921"
             ]
            ],
            "type": "surface"
           }
          ],
          "table": [
           {
            "cells": {
             "fill": {
              "color": "#EBF0F8"
             },
             "line": {
              "color": "white"
             }
            },
            "header": {
             "fill": {
              "color": "#C8D4E3"
             },
             "line": {
              "color": "white"
             }
            },
            "type": "table"
           }
          ]
         },
         "layout": {
          "annotationdefaults": {
           "arrowcolor": "#2a3f5f",
           "arrowhead": 0,
           "arrowwidth": 1
          },
          "autotypenumbers": "strict",
          "coloraxis": {
           "colorbar": {
            "outlinewidth": 0,
            "ticks": ""
           }
          },
          "colorscale": {
           "diverging": [
            [
             0,
             "#8e0152"
            ],
            [
             0.1,
             "#c51b7d"
            ],
            [
             0.2,
             "#de77ae"
            ],
            [
             0.3,
             "#f1b6da"
            ],
            [
             0.4,
             "#fde0ef"
            ],
            [
             0.5,
             "#f7f7f7"
            ],
            [
             0.6,
             "#e6f5d0"
            ],
            [
             0.7,
             "#b8e186"
            ],
            [
             0.8,
             "#7fbc41"
            ],
            [
             0.9,
             "#4d9221"
            ],
            [
             1,
             "#276419"
            ]
           ],
           "sequential": [
            [
             0,
             "#0d0887"
            ],
            [
             0.1111111111111111,
             "#46039f"
            ],
            [
             0.2222222222222222,
             "#7201a8"
            ],
            [
             0.3333333333333333,
             "#9c179e"
            ],
            [
             0.4444444444444444,
             "#bd3786"
            ],
            [
             0.5555555555555556,
             "#d8576b"
            ],
            [
             0.6666666666666666,
             "#ed7953"
            ],
            [
             0.7777777777777778,
             "#fb9f3a"
            ],
            [
             0.8888888888888888,
             "#fdca26"
            ],
            [
             1,
             "#f0f921"
            ]
           ],
           "sequentialminus": [
            [
             0,
             "#0d0887"
            ],
            [
             0.1111111111111111,
             "#46039f"
            ],
            [
             0.2222222222222222,
             "#7201a8"
            ],
            [
             0.3333333333333333,
             "#9c179e"
            ],
            [
             0.4444444444444444,
             "#bd3786"
            ],
            [
             0.5555555555555556,
             "#d8576b"
            ],
            [
             0.6666666666666666,
             "#ed7953"
            ],
            [
             0.7777777777777778,
             "#fb9f3a"
            ],
            [
             0.8888888888888888,
             "#fdca26"
            ],
            [
             1,
             "#f0f921"
            ]
           ]
          },
          "colorway": [
           "#636efa",
           "#EF553B",
           "#00cc96",
           "#ab63fa",
           "#FFA15A",
           "#19d3f3",
           "#FF6692",
           "#B6E880",
           "#FF97FF",
           "#FECB52"
          ],
          "font": {
           "color": "#2a3f5f"
          },
          "geo": {
           "bgcolor": "white",
           "lakecolor": "white",
           "landcolor": "#E5ECF6",
           "showlakes": true,
           "showland": true,
           "subunitcolor": "white"
          },
          "hoverlabel": {
           "align": "left"
          },
          "hovermode": "closest",
          "mapbox": {
           "style": "light"
          },
          "paper_bgcolor": "white",
          "plot_bgcolor": "#E5ECF6",
          "polar": {
           "angularaxis": {
            "gridcolor": "white",
            "linecolor": "white",
            "ticks": ""
           },
           "bgcolor": "#E5ECF6",
           "radialaxis": {
            "gridcolor": "white",
            "linecolor": "white",
            "ticks": ""
           }
          },
          "scene": {
           "xaxis": {
            "backgroundcolor": "#E5ECF6",
            "gridcolor": "white",
            "gridwidth": 2,
            "linecolor": "white",
            "showbackground": true,
            "ticks": "",
            "zerolinecolor": "white"
           },
           "yaxis": {
            "backgroundcolor": "#E5ECF6",
            "gridcolor": "white",
            "gridwidth": 2,
            "linecolor": "white",
            "showbackground": true,
            "ticks": "",
            "zerolinecolor": "white"
           },
           "zaxis": {
            "backgroundcolor": "#E5ECF6",
            "gridcolor": "white",
            "gridwidth": 2,
            "linecolor": "white",
            "showbackground": true,
            "ticks": "",
            "zerolinecolor": "white"
           }
          },
          "shapedefaults": {
           "line": {
            "color": "#2a3f5f"
           }
          },
          "ternary": {
           "aaxis": {
            "gridcolor": "white",
            "linecolor": "white",
            "ticks": ""
           },
           "baxis": {
            "gridcolor": "white",
            "linecolor": "white",
            "ticks": ""
           },
           "bgcolor": "#E5ECF6",
           "caxis": {
            "gridcolor": "white",
            "linecolor": "white",
            "ticks": ""
           }
          },
          "title": {
           "x": 0.05
          },
          "xaxis": {
           "automargin": true,
           "gridcolor": "white",
           "linecolor": "white",
           "ticks": "",
           "title": {
            "standoff": 15
           },
           "zerolinecolor": "white",
           "zerolinewidth": 2
          },
          "yaxis": {
           "automargin": true,
           "gridcolor": "white",
           "linecolor": "white",
           "ticks": "",
           "title": {
            "standoff": 15
           },
           "zerolinecolor": "white",
           "zerolinewidth": 2
          }
         }
        },
        "title": {
         "text": "Scatter Plot of LOD_nM vs. Metal Used for Modification"
        },
        "xaxis": {
         "anchor": "y",
         "categoryarray": [
          "pd",
          "pt",
          "ti",
          "ag",
          "zr",
          "fe",
          "cu",
          "co",
          "mo",
          "au"
         ],
         "categoryorder": "array",
         "domain": [
          0,
          1
         ],
         "title": {
          "text": "Metal used for modification"
         }
        },
        "yaxis": {
         "anchor": "x",
         "domain": [
          0,
          1
         ],
         "title": {
          "text": "LOD_nM"
         },
         "type": "log"
        }
       }
      }
     },
     "metadata": {},
     "output_type": "display_data"
    }
   ],
   "source": [
    "# Scatter Plot of LOD_nM vs. Metal Used for Modification\n",
    "fig_scatter_lod_metal = px.scatter(data, x='Metal used for modification', y='LOD_nM', log_y=True, color='Metal used for modification',\n",
    "                                   title='Scatter Plot of LOD_nM vs. Metal Used for Modification')\n",
    "fig_scatter_lod_metal.show()"
   ]
  },
  {
   "cell_type": "code",
   "execution_count": 161,
   "metadata": {},
   "outputs": [
    {
     "data": {
      "application/vnd.plotly.v1+json": {
       "config": {
        "plotlyServerURL": "https://plot.ly"
       },
       "data": [
        {
         "hovertemplate": "Metal used for modification=%{x}<br>LOD_nM=%{y}<extra></extra>",
         "legendgroup": "pd",
         "marker": {
          "color": "#636efa",
          "size": 10,
          "symbol": "circle"
         },
         "mode": "markers",
         "name": "pd",
         "orientation": "v",
         "showlegend": true,
         "type": "scatter",
         "x": [
          "pd",
          "pd",
          "pd",
          "pd",
          "pd",
          "pd",
          "pd",
          "pd",
          "pd",
          "pd",
          "pd"
         ],
         "xaxis": "x",
         "y": [
          1000,
          1000,
          76,
          2.6,
          1250000000,
          0.00568,
          0.00568,
          0.00568,
          200,
          3.6,
          25.8
         ],
         "yaxis": "y"
        },
        {
         "hovertemplate": "Metal used for modification=%{x}<br>LOD_nM=%{y}<extra></extra>",
         "legendgroup": "pt",
         "marker": {
          "color": "#EF553B",
          "size": 10,
          "symbol": "circle"
         },
         "mode": "markers",
         "name": "pt",
         "orientation": "v",
         "showlegend": true,
         "type": "scatter",
         "x": [
          "pt",
          "pt",
          "pt",
          "pt"
         ],
         "xaxis": "x",
         "y": [
          24000,
          24000,
          0.03,
          0.03
         ],
         "yaxis": "y"
        },
        {
         "hovertemplate": "Metal used for modification=%{x}<br>LOD_nM=%{y}<extra></extra>",
         "legendgroup": "ti",
         "marker": {
          "color": "#00cc96",
          "size": 10,
          "symbol": "circle"
         },
         "mode": "markers",
         "name": "ti",
         "orientation": "v",
         "showlegend": true,
         "type": "scatter",
         "x": [
          "ti",
          "ti",
          "ti",
          "ti",
          "ti",
          "ti",
          "ti",
          "ti",
          "ti"
         ],
         "xaxis": "x",
         "y": [
          15,
          null,
          9.5,
          null,
          0.2,
          null,
          null,
          40000000000,
          8
         ],
         "yaxis": "y"
        },
        {
         "hovertemplate": "Metal used for modification=%{x}<br>LOD_nM=%{y}<extra></extra>",
         "legendgroup": "ag",
         "marker": {
          "color": "#ab63fa",
          "size": 10,
          "symbol": "circle"
         },
         "mode": "markers",
         "name": "ag",
         "orientation": "v",
         "showlegend": true,
         "type": "scatter",
         "x": [
          "ag",
          "ag",
          "ag",
          "ag",
          "ag"
         ],
         "xaxis": "x",
         "y": [
          600,
          7,
          110,
          10,
          218
         ],
         "yaxis": "y"
        },
        {
         "hovertemplate": "Metal used for modification=%{x}<br>LOD_nM=%{y}<extra></extra>",
         "legendgroup": "zr",
         "marker": {
          "color": "#FFA15A",
          "size": 10,
          "symbol": "circle"
         },
         "mode": "markers",
         "name": "zr",
         "orientation": "v",
         "showlegend": true,
         "type": "scatter",
         "x": [
          "zr",
          "zr",
          "zr",
          "zr",
          "zr",
          "zr",
          "zr",
          "zr"
         ],
         "xaxis": "x",
         "y": [
          3300000000,
          3600,
          11.03,
          null,
          20,
          2000,
          2000,
          3300000000
         ],
         "yaxis": "y"
        },
        {
         "hovertemplate": "Metal used for modification=%{x}<br>LOD_nM=%{y}<extra></extra>",
         "legendgroup": "fe",
         "marker": {
          "color": "#19d3f3",
          "size": 10,
          "symbol": "circle"
         },
         "mode": "markers",
         "name": "fe",
         "orientation": "v",
         "showlegend": true,
         "type": "scatter",
         "x": [
          "fe",
          "fe",
          "fe",
          "fe",
          "fe",
          "fe",
          "fe"
         ],
         "xaxis": "x",
         "y": [
          58,
          null,
          150,
          150,
          1,
          2,
          2
         ],
         "yaxis": "y"
        },
        {
         "hovertemplate": "Metal used for modification=%{x}<br>LOD_nM=%{y}<extra></extra>",
         "legendgroup": "cu",
         "marker": {
          "color": "#FF6692",
          "size": 10,
          "symbol": "circle"
         },
         "mode": "markers",
         "name": "cu",
         "orientation": "v",
         "showlegend": true,
         "type": "scatter",
         "x": [
          "cu",
          "cu",
          "cu",
          "cu",
          "cu",
          "cu",
          "cu",
          "cu",
          "cu",
          "cu"
         ],
         "xaxis": "x",
         "y": [
          58,
          150,
          150,
          0.0076,
          0.868,
          0.868,
          0.03,
          0.03,
          0.03,
          3.4
         ],
         "yaxis": "y"
        },
        {
         "hovertemplate": "Metal used for modification=%{x}<br>LOD_nM=%{y}<extra></extra>",
         "legendgroup": "co",
         "marker": {
          "color": "#B6E880",
          "size": 10,
          "symbol": "circle"
         },
         "mode": "markers",
         "name": "co",
         "orientation": "v",
         "showlegend": true,
         "type": "scatter",
         "x": [
          "co"
         ],
         "xaxis": "x",
         "y": [
          1
         ],
         "yaxis": "y"
        },
        {
         "hovertemplate": "Metal used for modification=%{x}<br>LOD_nM=%{y}<extra></extra>",
         "legendgroup": "mo",
         "marker": {
          "color": "#FF97FF",
          "size": 10,
          "symbol": "circle"
         },
         "mode": "markers",
         "name": "mo",
         "orientation": "v",
         "showlegend": true,
         "type": "scatter",
         "x": [
          "mo",
          "mo",
          "mo",
          "mo",
          "mo",
          "mo",
          "mo",
          "mo",
          "mo"
         ],
         "xaxis": "x",
         "y": [
          0.00235,
          0.00000271,
          0.00000271,
          0.058,
          0.539,
          0.45,
          0.45,
          0.069,
          0.069
         ],
         "yaxis": "y"
        },
        {
         "hovertemplate": "Metal used for modification=%{x}<br>LOD_nM=%{y}<extra></extra>",
         "legendgroup": "au",
         "marker": {
          "color": "#FECB52",
          "size": 10,
          "symbol": "circle"
         },
         "mode": "markers",
         "name": "au",
         "orientation": "v",
         "showlegend": true,
         "type": "scatter",
         "x": [
          "au",
          "au",
          "au",
          "au",
          "au",
          "au",
          "au",
          "au"
         ],
         "xaxis": "x",
         "y": [
          0.087,
          0.007,
          2.4e-7,
          2.4e-7,
          0.0076,
          0.027,
          0.027,
          3.4
         ],
         "yaxis": "y"
        }
       ],
       "layout": {
        "coloraxis": {
         "colorbar": {
          "ticktext": [
           "Metal A",
           "Metal B",
           "Metal C"
          ],
          "tickvals": [
           0,
           1,
           2
          ],
          "title": {
           "text": "Metal used for modification"
          }
         }
        },
        "height": 600,
        "legend": {
         "title": {
          "text": "Metal used for modification"
         },
         "tracegroupgap": 0
        },
        "template": {
         "data": {
          "bar": [
           {
            "error_x": {
             "color": "#2a3f5f"
            },
            "error_y": {
             "color": "#2a3f5f"
            },
            "marker": {
             "line": {
              "color": "#E5ECF6",
              "width": 0.5
             },
             "pattern": {
              "fillmode": "overlay",
              "size": 10,
              "solidity": 0.2
             }
            },
            "type": "bar"
           }
          ],
          "barpolar": [
           {
            "marker": {
             "line": {
              "color": "#E5ECF6",
              "width": 0.5
             },
             "pattern": {
              "fillmode": "overlay",
              "size": 10,
              "solidity": 0.2
             }
            },
            "type": "barpolar"
           }
          ],
          "carpet": [
           {
            "aaxis": {
             "endlinecolor": "#2a3f5f",
             "gridcolor": "white",
             "linecolor": "white",
             "minorgridcolor": "white",
             "startlinecolor": "#2a3f5f"
            },
            "baxis": {
             "endlinecolor": "#2a3f5f",
             "gridcolor": "white",
             "linecolor": "white",
             "minorgridcolor": "white",
             "startlinecolor": "#2a3f5f"
            },
            "type": "carpet"
           }
          ],
          "choropleth": [
           {
            "colorbar": {
             "outlinewidth": 0,
             "ticks": ""
            },
            "type": "choropleth"
           }
          ],
          "contour": [
           {
            "colorbar": {
             "outlinewidth": 0,
             "ticks": ""
            },
            "colorscale": [
             [
              0,
              "#0d0887"
             ],
             [
              0.1111111111111111,
              "#46039f"
             ],
             [
              0.2222222222222222,
              "#7201a8"
             ],
             [
              0.3333333333333333,
              "#9c179e"
             ],
             [
              0.4444444444444444,
              "#bd3786"
             ],
             [
              0.5555555555555556,
              "#d8576b"
             ],
             [
              0.6666666666666666,
              "#ed7953"
             ],
             [
              0.7777777777777778,
              "#fb9f3a"
             ],
             [
              0.8888888888888888,
              "#fdca26"
             ],
             [
              1,
              "#f0f921"
             ]
            ],
            "type": "contour"
           }
          ],
          "contourcarpet": [
           {
            "colorbar": {
             "outlinewidth": 0,
             "ticks": ""
            },
            "type": "contourcarpet"
           }
          ],
          "heatmap": [
           {
            "colorbar": {
             "outlinewidth": 0,
             "ticks": ""
            },
            "colorscale": [
             [
              0,
              "#0d0887"
             ],
             [
              0.1111111111111111,
              "#46039f"
             ],
             [
              0.2222222222222222,
              "#7201a8"
             ],
             [
              0.3333333333333333,
              "#9c179e"
             ],
             [
              0.4444444444444444,
              "#bd3786"
             ],
             [
              0.5555555555555556,
              "#d8576b"
             ],
             [
              0.6666666666666666,
              "#ed7953"
             ],
             [
              0.7777777777777778,
              "#fb9f3a"
             ],
             [
              0.8888888888888888,
              "#fdca26"
             ],
             [
              1,
              "#f0f921"
             ]
            ],
            "type": "heatmap"
           }
          ],
          "heatmapgl": [
           {
            "colorbar": {
             "outlinewidth": 0,
             "ticks": ""
            },
            "colorscale": [
             [
              0,
              "#0d0887"
             ],
             [
              0.1111111111111111,
              "#46039f"
             ],
             [
              0.2222222222222222,
              "#7201a8"
             ],
             [
              0.3333333333333333,
              "#9c179e"
             ],
             [
              0.4444444444444444,
              "#bd3786"
             ],
             [
              0.5555555555555556,
              "#d8576b"
             ],
             [
              0.6666666666666666,
              "#ed7953"
             ],
             [
              0.7777777777777778,
              "#fb9f3a"
             ],
             [
              0.8888888888888888,
              "#fdca26"
             ],
             [
              1,
              "#f0f921"
             ]
            ],
            "type": "heatmapgl"
           }
          ],
          "histogram": [
           {
            "marker": {
             "pattern": {
              "fillmode": "overlay",
              "size": 10,
              "solidity": 0.2
             }
            },
            "type": "histogram"
           }
          ],
          "histogram2d": [
           {
            "colorbar": {
             "outlinewidth": 0,
             "ticks": ""
            },
            "colorscale": [
             [
              0,
              "#0d0887"
             ],
             [
              0.1111111111111111,
              "#46039f"
             ],
             [
              0.2222222222222222,
              "#7201a8"
             ],
             [
              0.3333333333333333,
              "#9c179e"
             ],
             [
              0.4444444444444444,
              "#bd3786"
             ],
             [
              0.5555555555555556,
              "#d8576b"
             ],
             [
              0.6666666666666666,
              "#ed7953"
             ],
             [
              0.7777777777777778,
              "#fb9f3a"
             ],
             [
              0.8888888888888888,
              "#fdca26"
             ],
             [
              1,
              "#f0f921"
             ]
            ],
            "type": "histogram2d"
           }
          ],
          "histogram2dcontour": [
           {
            "colorbar": {
             "outlinewidth": 0,
             "ticks": ""
            },
            "colorscale": [
             [
              0,
              "#0d0887"
             ],
             [
              0.1111111111111111,
              "#46039f"
             ],
             [
              0.2222222222222222,
              "#7201a8"
             ],
             [
              0.3333333333333333,
              "#9c179e"
             ],
             [
              0.4444444444444444,
              "#bd3786"
             ],
             [
              0.5555555555555556,
              "#d8576b"
             ],
             [
              0.6666666666666666,
              "#ed7953"
             ],
             [
              0.7777777777777778,
              "#fb9f3a"
             ],
             [
              0.8888888888888888,
              "#fdca26"
             ],
             [
              1,
              "#f0f921"
             ]
            ],
            "type": "histogram2dcontour"
           }
          ],
          "mesh3d": [
           {
            "colorbar": {
             "outlinewidth": 0,
             "ticks": ""
            },
            "type": "mesh3d"
           }
          ],
          "parcoords": [
           {
            "line": {
             "colorbar": {
              "outlinewidth": 0,
              "ticks": ""
             }
            },
            "type": "parcoords"
           }
          ],
          "pie": [
           {
            "automargin": true,
            "type": "pie"
           }
          ],
          "scatter": [
           {
            "fillpattern": {
             "fillmode": "overlay",
             "size": 10,
             "solidity": 0.2
            },
            "type": "scatter"
           }
          ],
          "scatter3d": [
           {
            "line": {
             "colorbar": {
              "outlinewidth": 0,
              "ticks": ""
             }
            },
            "marker": {
             "colorbar": {
              "outlinewidth": 0,
              "ticks": ""
             }
            },
            "type": "scatter3d"
           }
          ],
          "scattercarpet": [
           {
            "marker": {
             "colorbar": {
              "outlinewidth": 0,
              "ticks": ""
             }
            },
            "type": "scattercarpet"
           }
          ],
          "scattergeo": [
           {
            "marker": {
             "colorbar": {
              "outlinewidth": 0,
              "ticks": ""
             }
            },
            "type": "scattergeo"
           }
          ],
          "scattergl": [
           {
            "marker": {
             "colorbar": {
              "outlinewidth": 0,
              "ticks": ""
             }
            },
            "type": "scattergl"
           }
          ],
          "scattermapbox": [
           {
            "marker": {
             "colorbar": {
              "outlinewidth": 0,
              "ticks": ""
             }
            },
            "type": "scattermapbox"
           }
          ],
          "scatterpolar": [
           {
            "marker": {
             "colorbar": {
              "outlinewidth": 0,
              "ticks": ""
             }
            },
            "type": "scatterpolar"
           }
          ],
          "scatterpolargl": [
           {
            "marker": {
             "colorbar": {
              "outlinewidth": 0,
              "ticks": ""
             }
            },
            "type": "scatterpolargl"
           }
          ],
          "scatterternary": [
           {
            "marker": {
             "colorbar": {
              "outlinewidth": 0,
              "ticks": ""
             }
            },
            "type": "scatterternary"
           }
          ],
          "surface": [
           {
            "colorbar": {
             "outlinewidth": 0,
             "ticks": ""
            },
            "colorscale": [
             [
              0,
              "#0d0887"
             ],
             [
              0.1111111111111111,
              "#46039f"
             ],
             [
              0.2222222222222222,
              "#7201a8"
             ],
             [
              0.3333333333333333,
              "#9c179e"
             ],
             [
              0.4444444444444444,
              "#bd3786"
             ],
             [
              0.5555555555555556,
              "#d8576b"
             ],
             [
              0.6666666666666666,
              "#ed7953"
             ],
             [
              0.7777777777777778,
              "#fb9f3a"
             ],
             [
              0.8888888888888888,
              "#fdca26"
             ],
             [
              1,
              "#f0f921"
             ]
            ],
            "type": "surface"
           }
          ],
          "table": [
           {
            "cells": {
             "fill": {
              "color": "#EBF0F8"
             },
             "line": {
              "color": "white"
             }
            },
            "header": {
             "fill": {
              "color": "#C8D4E3"
             },
             "line": {
              "color": "white"
             }
            },
            "type": "table"
           }
          ]
         },
         "layout": {
          "annotationdefaults": {
           "arrowcolor": "#2a3f5f",
           "arrowhead": 0,
           "arrowwidth": 1
          },
          "autotypenumbers": "strict",
          "coloraxis": {
           "colorbar": {
            "outlinewidth": 0,
            "ticks": ""
           }
          },
          "colorscale": {
           "diverging": [
            [
             0,
             "#8e0152"
            ],
            [
             0.1,
             "#c51b7d"
            ],
            [
             0.2,
             "#de77ae"
            ],
            [
             0.3,
             "#f1b6da"
            ],
            [
             0.4,
             "#fde0ef"
            ],
            [
             0.5,
             "#f7f7f7"
            ],
            [
             0.6,
             "#e6f5d0"
            ],
            [
             0.7,
             "#b8e186"
            ],
            [
             0.8,
             "#7fbc41"
            ],
            [
             0.9,
             "#4d9221"
            ],
            [
             1,
             "#276419"
            ]
           ],
           "sequential": [
            [
             0,
             "#0d0887"
            ],
            [
             0.1111111111111111,
             "#46039f"
            ],
            [
             0.2222222222222222,
             "#7201a8"
            ],
            [
             0.3333333333333333,
             "#9c179e"
            ],
            [
             0.4444444444444444,
             "#bd3786"
            ],
            [
             0.5555555555555556,
             "#d8576b"
            ],
            [
             0.6666666666666666,
             "#ed7953"
            ],
            [
             0.7777777777777778,
             "#fb9f3a"
            ],
            [
             0.8888888888888888,
             "#fdca26"
            ],
            [
             1,
             "#f0f921"
            ]
           ],
           "sequentialminus": [
            [
             0,
             "#0d0887"
            ],
            [
             0.1111111111111111,
             "#46039f"
            ],
            [
             0.2222222222222222,
             "#7201a8"
            ],
            [
             0.3333333333333333,
             "#9c179e"
            ],
            [
             0.4444444444444444,
             "#bd3786"
            ],
            [
             0.5555555555555556,
             "#d8576b"
            ],
            [
             0.6666666666666666,
             "#ed7953"
            ],
            [
             0.7777777777777778,
             "#fb9f3a"
            ],
            [
             0.8888888888888888,
             "#fdca26"
            ],
            [
             1,
             "#f0f921"
            ]
           ]
          },
          "colorway": [
           "#636efa",
           "#EF553B",
           "#00cc96",
           "#ab63fa",
           "#FFA15A",
           "#19d3f3",
           "#FF6692",
           "#B6E880",
           "#FF97FF",
           "#FECB52"
          ],
          "font": {
           "color": "#2a3f5f"
          },
          "geo": {
           "bgcolor": "white",
           "lakecolor": "white",
           "landcolor": "#E5ECF6",
           "showlakes": true,
           "showland": true,
           "subunitcolor": "white"
          },
          "hoverlabel": {
           "align": "left"
          },
          "hovermode": "closest",
          "mapbox": {
           "style": "light"
          },
          "paper_bgcolor": "white",
          "plot_bgcolor": "#E5ECF6",
          "polar": {
           "angularaxis": {
            "gridcolor": "white",
            "linecolor": "white",
            "ticks": ""
           },
           "bgcolor": "#E5ECF6",
           "radialaxis": {
            "gridcolor": "white",
            "linecolor": "white",
            "ticks": ""
           }
          },
          "scene": {
           "xaxis": {
            "backgroundcolor": "#E5ECF6",
            "gridcolor": "white",
            "gridwidth": 2,
            "linecolor": "white",
            "showbackground": true,
            "ticks": "",
            "zerolinecolor": "white"
           },
           "yaxis": {
            "backgroundcolor": "#E5ECF6",
            "gridcolor": "white",
            "gridwidth": 2,
            "linecolor": "white",
            "showbackground": true,
            "ticks": "",
            "zerolinecolor": "white"
           },
           "zaxis": {
            "backgroundcolor": "#E5ECF6",
            "gridcolor": "white",
            "gridwidth": 2,
            "linecolor": "white",
            "showbackground": true,
            "ticks": "",
            "zerolinecolor": "white"
           }
          },
          "shapedefaults": {
           "line": {
            "color": "#2a3f5f"
           }
          },
          "ternary": {
           "aaxis": {
            "gridcolor": "white",
            "linecolor": "white",
            "ticks": ""
           },
           "baxis": {
            "gridcolor": "white",
            "linecolor": "white",
            "ticks": ""
           },
           "bgcolor": "#E5ECF6",
           "caxis": {
            "gridcolor": "white",
            "linecolor": "white",
            "ticks": ""
           }
          },
          "title": {
           "x": 0.05
          },
          "xaxis": {
           "automargin": true,
           "gridcolor": "white",
           "linecolor": "white",
           "ticks": "",
           "title": {
            "standoff": 15
           },
           "zerolinecolor": "white",
           "zerolinewidth": 2
          },
          "yaxis": {
           "automargin": true,
           "gridcolor": "white",
           "linecolor": "white",
           "ticks": "",
           "title": {
            "standoff": 15
           },
           "zerolinecolor": "white",
           "zerolinewidth": 2
          }
         }
        },
        "title": {
         "text": "Scatter Plot of LOD_nM vs. Metal Used for Modification"
        },
        "width": 1000,
        "xaxis": {
         "anchor": "y",
         "categoryarray": [
          "pd",
          "pt",
          "ti",
          "ag",
          "zr",
          "fe",
          "cu",
          "co",
          "mo",
          "au"
         ],
         "categoryorder": "array",
         "domain": [
          0,
          1
         ],
         "title": {
          "text": "Metal used for modification"
         }
        },
        "yaxis": {
         "anchor": "x",
         "domain": [
          0,
          1
         ],
         "title": {
          "text": "LOD_nM"
         },
         "type": "log"
        }
       }
      }
     },
     "metadata": {},
     "output_type": "display_data"
    }
   ],
   "source": [
    "import plotly.express as px\n",
    "\n",
    "# Scatter Plot of LOD_nM vs. Metal Used for Modification\n",
    "fig_scatter_lod_metal = px.scatter(data, x='Metal used for modification', y='LOD_nM', log_y=True, color='Metal used for modification',\n",
    "                                   title='Scatter Plot of LOD_nM vs. Metal Used for Modification',\n",
    "                                   width=1000, height=600)  # Increase size and resolution\n",
    "\n",
    "fig_scatter_lod_metal.update_traces(marker=dict(size=10))  # Increase marker size\n",
    "\n",
    "# Use a professional color scheme\n",
    "fig_scatter_lod_metal.update_layout(coloraxis_colorbar=dict(\n",
    "    title='Metal used for modification',\n",
    "    tickvals=[0, 1, 2],  # Example tick values\n",
    "    ticktext=['Metal A', 'Metal B', 'Metal C'],  # Example tick labels\n",
    "))\n",
    "\n",
    "fig_scatter_lod_metal.show()\n"
   ]
  },
  {
   "cell_type": "code",
   "execution_count": 190,
   "metadata": {},
   "outputs": [],
   "source": [
    "import plotly.express as px\n",
    "# !pip install -U kaleido\n",
    "## Image export using the \"kaleido\" engine requires the kaleido package,\n",
    "## which can be installed using pip:\n",
    "\n",
    "## You need kaleido while importing image from plotly\n",
    "# Scatter Plot of LOD_nM vs. Metal Used for Modification\n",
    "fig_scatter_lod_metal = px.scatter(data, x='Metal used for modification', y='LOD_nM', log_y=True, color='Metal used for modification',\n",
    "                                   title='Scatter Plot of LOD_nM vs. Metal Used for Modification',\n",
    "                                   width=1000, height=600)  # Increase size and resolution\n",
    "\n",
    "fig_scatter_lod_metal.update_traces(marker=dict(size=10))  # Increase marker size\n",
    "\n",
    "# Use a professional color scheme\n",
    "fig_scatter_lod_metal.update_layout(coloraxis_colorbar=dict(\n",
    "    title='Metal used for modification',\n",
    "    tickvals=[0, 1, 2],  # Example tick values\n",
    "    ticktext=['Metal A', 'Metal B', 'Metal C'],  # Example tick labels\n",
    "))\n",
    "\n",
    "\n",
    "# Set resolution to 300 dpi and export to TIFF\n",
    "fig_scatter_lod_metal.write_image(\"3.png\", scale=3)\n",
    "\n",
    "# # Save an interactive version of the plot\n",
    "# fig_scatter_lod_metal.write_html(\"interactive_scatter_plot.html\")\n"
   ]
  },
  {
   "cell_type": "code",
   "execution_count": 163,
   "metadata": {},
   "outputs": [],
   "source": [
    "\n",
    "# # Set resolution to 300 dpi and export to TIFF using kaleido engine\n",
    "# fig_scatter_lod_metal.write_image(\"scatter_plot.tiff\", scale=3, engine='kaleido')\n"
   ]
  },
  {
   "cell_type": "code",
   "execution_count": 164,
   "metadata": {},
   "outputs": [
    {
     "data": {
      "application/vnd.plotly.v1+json": {
       "config": {
        "plotlyServerURL": "https://plot.ly"
       },
       "data": [
        {
         "alignmentgroup": "True",
         "bingroup": "x",
         "hovertemplate": "LOD_nM=%{x}<br>count=%{y}<extra></extra>",
         "legendgroup": "",
         "marker": {
          "color": "#636efa",
          "pattern": {
           "shape": ""
          }
         },
         "name": "",
         "nbinsx": 30,
         "offsetgroup": "",
         "orientation": "v",
         "showlegend": false,
         "type": "histogram",
         "x": [
          1000,
          1000,
          76,
          2.6,
          1250000000,
          0.00568,
          0.00568,
          0.00568,
          200,
          3.6,
          25.8,
          24000,
          24000,
          15,
          null,
          9.5,
          null,
          0.2,
          null,
          null,
          40000000000,
          8,
          600,
          7,
          110,
          10,
          218,
          3300000000,
          3600,
          11.03,
          null,
          20,
          2000,
          2000,
          3300000000,
          58,
          58,
          null,
          150,
          150,
          150,
          150,
          1,
          1,
          2,
          2,
          0.03,
          0.03,
          0.00235,
          0.00000271,
          0.00000271,
          0.058,
          0.539,
          0.45,
          0.45,
          0.069,
          0.069,
          0.087,
          0.007,
          2.4e-7,
          2.4e-7,
          0.0076,
          0.027,
          0.027,
          3.4,
          0.0076,
          0.868,
          0.868,
          0.03,
          0.03,
          0.03,
          3.4
         ],
         "xaxis": "x",
         "yaxis": "y"
        }
       ],
       "layout": {
        "barmode": "relative",
        "legend": {
         "tracegroupgap": 0
        },
        "template": {
         "data": {
          "bar": [
           {
            "error_x": {
             "color": "#2a3f5f"
            },
            "error_y": {
             "color": "#2a3f5f"
            },
            "marker": {
             "line": {
              "color": "#E5ECF6",
              "width": 0.5
             },
             "pattern": {
              "fillmode": "overlay",
              "size": 10,
              "solidity": 0.2
             }
            },
            "type": "bar"
           }
          ],
          "barpolar": [
           {
            "marker": {
             "line": {
              "color": "#E5ECF6",
              "width": 0.5
             },
             "pattern": {
              "fillmode": "overlay",
              "size": 10,
              "solidity": 0.2
             }
            },
            "type": "barpolar"
           }
          ],
          "carpet": [
           {
            "aaxis": {
             "endlinecolor": "#2a3f5f",
             "gridcolor": "white",
             "linecolor": "white",
             "minorgridcolor": "white",
             "startlinecolor": "#2a3f5f"
            },
            "baxis": {
             "endlinecolor": "#2a3f5f",
             "gridcolor": "white",
             "linecolor": "white",
             "minorgridcolor": "white",
             "startlinecolor": "#2a3f5f"
            },
            "type": "carpet"
           }
          ],
          "choropleth": [
           {
            "colorbar": {
             "outlinewidth": 0,
             "ticks": ""
            },
            "type": "choropleth"
           }
          ],
          "contour": [
           {
            "colorbar": {
             "outlinewidth": 0,
             "ticks": ""
            },
            "colorscale": [
             [
              0,
              "#0d0887"
             ],
             [
              0.1111111111111111,
              "#46039f"
             ],
             [
              0.2222222222222222,
              "#7201a8"
             ],
             [
              0.3333333333333333,
              "#9c179e"
             ],
             [
              0.4444444444444444,
              "#bd3786"
             ],
             [
              0.5555555555555556,
              "#d8576b"
             ],
             [
              0.6666666666666666,
              "#ed7953"
             ],
             [
              0.7777777777777778,
              "#fb9f3a"
             ],
             [
              0.8888888888888888,
              "#fdca26"
             ],
             [
              1,
              "#f0f921"
             ]
            ],
            "type": "contour"
           }
          ],
          "contourcarpet": [
           {
            "colorbar": {
             "outlinewidth": 0,
             "ticks": ""
            },
            "type": "contourcarpet"
           }
          ],
          "heatmap": [
           {
            "colorbar": {
             "outlinewidth": 0,
             "ticks": ""
            },
            "colorscale": [
             [
              0,
              "#0d0887"
             ],
             [
              0.1111111111111111,
              "#46039f"
             ],
             [
              0.2222222222222222,
              "#7201a8"
             ],
             [
              0.3333333333333333,
              "#9c179e"
             ],
             [
              0.4444444444444444,
              "#bd3786"
             ],
             [
              0.5555555555555556,
              "#d8576b"
             ],
             [
              0.6666666666666666,
              "#ed7953"
             ],
             [
              0.7777777777777778,
              "#fb9f3a"
             ],
             [
              0.8888888888888888,
              "#fdca26"
             ],
             [
              1,
              "#f0f921"
             ]
            ],
            "type": "heatmap"
           }
          ],
          "heatmapgl": [
           {
            "colorbar": {
             "outlinewidth": 0,
             "ticks": ""
            },
            "colorscale": [
             [
              0,
              "#0d0887"
             ],
             [
              0.1111111111111111,
              "#46039f"
             ],
             [
              0.2222222222222222,
              "#7201a8"
             ],
             [
              0.3333333333333333,
              "#9c179e"
             ],
             [
              0.4444444444444444,
              "#bd3786"
             ],
             [
              0.5555555555555556,
              "#d8576b"
             ],
             [
              0.6666666666666666,
              "#ed7953"
             ],
             [
              0.7777777777777778,
              "#fb9f3a"
             ],
             [
              0.8888888888888888,
              "#fdca26"
             ],
             [
              1,
              "#f0f921"
             ]
            ],
            "type": "heatmapgl"
           }
          ],
          "histogram": [
           {
            "marker": {
             "pattern": {
              "fillmode": "overlay",
              "size": 10,
              "solidity": 0.2
             }
            },
            "type": "histogram"
           }
          ],
          "histogram2d": [
           {
            "colorbar": {
             "outlinewidth": 0,
             "ticks": ""
            },
            "colorscale": [
             [
              0,
              "#0d0887"
             ],
             [
              0.1111111111111111,
              "#46039f"
             ],
             [
              0.2222222222222222,
              "#7201a8"
             ],
             [
              0.3333333333333333,
              "#9c179e"
             ],
             [
              0.4444444444444444,
              "#bd3786"
             ],
             [
              0.5555555555555556,
              "#d8576b"
             ],
             [
              0.6666666666666666,
              "#ed7953"
             ],
             [
              0.7777777777777778,
              "#fb9f3a"
             ],
             [
              0.8888888888888888,
              "#fdca26"
             ],
             [
              1,
              "#f0f921"
             ]
            ],
            "type": "histogram2d"
           }
          ],
          "histogram2dcontour": [
           {
            "colorbar": {
             "outlinewidth": 0,
             "ticks": ""
            },
            "colorscale": [
             [
              0,
              "#0d0887"
             ],
             [
              0.1111111111111111,
              "#46039f"
             ],
             [
              0.2222222222222222,
              "#7201a8"
             ],
             [
              0.3333333333333333,
              "#9c179e"
             ],
             [
              0.4444444444444444,
              "#bd3786"
             ],
             [
              0.5555555555555556,
              "#d8576b"
             ],
             [
              0.6666666666666666,
              "#ed7953"
             ],
             [
              0.7777777777777778,
              "#fb9f3a"
             ],
             [
              0.8888888888888888,
              "#fdca26"
             ],
             [
              1,
              "#f0f921"
             ]
            ],
            "type": "histogram2dcontour"
           }
          ],
          "mesh3d": [
           {
            "colorbar": {
             "outlinewidth": 0,
             "ticks": ""
            },
            "type": "mesh3d"
           }
          ],
          "parcoords": [
           {
            "line": {
             "colorbar": {
              "outlinewidth": 0,
              "ticks": ""
             }
            },
            "type": "parcoords"
           }
          ],
          "pie": [
           {
            "automargin": true,
            "type": "pie"
           }
          ],
          "scatter": [
           {
            "fillpattern": {
             "fillmode": "overlay",
             "size": 10,
             "solidity": 0.2
            },
            "type": "scatter"
           }
          ],
          "scatter3d": [
           {
            "line": {
             "colorbar": {
              "outlinewidth": 0,
              "ticks": ""
             }
            },
            "marker": {
             "colorbar": {
              "outlinewidth": 0,
              "ticks": ""
             }
            },
            "type": "scatter3d"
           }
          ],
          "scattercarpet": [
           {
            "marker": {
             "colorbar": {
              "outlinewidth": 0,
              "ticks": ""
             }
            },
            "type": "scattercarpet"
           }
          ],
          "scattergeo": [
           {
            "marker": {
             "colorbar": {
              "outlinewidth": 0,
              "ticks": ""
             }
            },
            "type": "scattergeo"
           }
          ],
          "scattergl": [
           {
            "marker": {
             "colorbar": {
              "outlinewidth": 0,
              "ticks": ""
             }
            },
            "type": "scattergl"
           }
          ],
          "scattermapbox": [
           {
            "marker": {
             "colorbar": {
              "outlinewidth": 0,
              "ticks": ""
             }
            },
            "type": "scattermapbox"
           }
          ],
          "scatterpolar": [
           {
            "marker": {
             "colorbar": {
              "outlinewidth": 0,
              "ticks": ""
             }
            },
            "type": "scatterpolar"
           }
          ],
          "scatterpolargl": [
           {
            "marker": {
             "colorbar": {
              "outlinewidth": 0,
              "ticks": ""
             }
            },
            "type": "scatterpolargl"
           }
          ],
          "scatterternary": [
           {
            "marker": {
             "colorbar": {
              "outlinewidth": 0,
              "ticks": ""
             }
            },
            "type": "scatterternary"
           }
          ],
          "surface": [
           {
            "colorbar": {
             "outlinewidth": 0,
             "ticks": ""
            },
            "colorscale": [
             [
              0,
              "#0d0887"
             ],
             [
              0.1111111111111111,
              "#46039f"
             ],
             [
              0.2222222222222222,
              "#7201a8"
             ],
             [
              0.3333333333333333,
              "#9c179e"
             ],
             [
              0.4444444444444444,
              "#bd3786"
             ],
             [
              0.5555555555555556,
              "#d8576b"
             ],
             [
              0.6666666666666666,
              "#ed7953"
             ],
             [
              0.7777777777777778,
              "#fb9f3a"
             ],
             [
              0.8888888888888888,
              "#fdca26"
             ],
             [
              1,
              "#f0f921"
             ]
            ],
            "type": "surface"
           }
          ],
          "table": [
           {
            "cells": {
             "fill": {
              "color": "#EBF0F8"
             },
             "line": {
              "color": "white"
             }
            },
            "header": {
             "fill": {
              "color": "#C8D4E3"
             },
             "line": {
              "color": "white"
             }
            },
            "type": "table"
           }
          ]
         },
         "layout": {
          "annotationdefaults": {
           "arrowcolor": "#2a3f5f",
           "arrowhead": 0,
           "arrowwidth": 1
          },
          "autotypenumbers": "strict",
          "coloraxis": {
           "colorbar": {
            "outlinewidth": 0,
            "ticks": ""
           }
          },
          "colorscale": {
           "diverging": [
            [
             0,
             "#8e0152"
            ],
            [
             0.1,
             "#c51b7d"
            ],
            [
             0.2,
             "#de77ae"
            ],
            [
             0.3,
             "#f1b6da"
            ],
            [
             0.4,
             "#fde0ef"
            ],
            [
             0.5,
             "#f7f7f7"
            ],
            [
             0.6,
             "#e6f5d0"
            ],
            [
             0.7,
             "#b8e186"
            ],
            [
             0.8,
             "#7fbc41"
            ],
            [
             0.9,
             "#4d9221"
            ],
            [
             1,
             "#276419"
            ]
           ],
           "sequential": [
            [
             0,
             "#0d0887"
            ],
            [
             0.1111111111111111,
             "#46039f"
            ],
            [
             0.2222222222222222,
             "#7201a8"
            ],
            [
             0.3333333333333333,
             "#9c179e"
            ],
            [
             0.4444444444444444,
             "#bd3786"
            ],
            [
             0.5555555555555556,
             "#d8576b"
            ],
            [
             0.6666666666666666,
             "#ed7953"
            ],
            [
             0.7777777777777778,
             "#fb9f3a"
            ],
            [
             0.8888888888888888,
             "#fdca26"
            ],
            [
             1,
             "#f0f921"
            ]
           ],
           "sequentialminus": [
            [
             0,
             "#0d0887"
            ],
            [
             0.1111111111111111,
             "#46039f"
            ],
            [
             0.2222222222222222,
             "#7201a8"
            ],
            [
             0.3333333333333333,
             "#9c179e"
            ],
            [
             0.4444444444444444,
             "#bd3786"
            ],
            [
             0.5555555555555556,
             "#d8576b"
            ],
            [
             0.6666666666666666,
             "#ed7953"
            ],
            [
             0.7777777777777778,
             "#fb9f3a"
            ],
            [
             0.8888888888888888,
             "#fdca26"
            ],
            [
             1,
             "#f0f921"
            ]
           ]
          },
          "colorway": [
           "#636efa",
           "#EF553B",
           "#00cc96",
           "#ab63fa",
           "#FFA15A",
           "#19d3f3",
           "#FF6692",
           "#B6E880",
           "#FF97FF",
           "#FECB52"
          ],
          "font": {
           "color": "#2a3f5f"
          },
          "geo": {
           "bgcolor": "white",
           "lakecolor": "white",
           "landcolor": "#E5ECF6",
           "showlakes": true,
           "showland": true,
           "subunitcolor": "white"
          },
          "hoverlabel": {
           "align": "left"
          },
          "hovermode": "closest",
          "mapbox": {
           "style": "light"
          },
          "paper_bgcolor": "white",
          "plot_bgcolor": "#E5ECF6",
          "polar": {
           "angularaxis": {
            "gridcolor": "white",
            "linecolor": "white",
            "ticks": ""
           },
           "bgcolor": "#E5ECF6",
           "radialaxis": {
            "gridcolor": "white",
            "linecolor": "white",
            "ticks": ""
           }
          },
          "scene": {
           "xaxis": {
            "backgroundcolor": "#E5ECF6",
            "gridcolor": "white",
            "gridwidth": 2,
            "linecolor": "white",
            "showbackground": true,
            "ticks": "",
            "zerolinecolor": "white"
           },
           "yaxis": {
            "backgroundcolor": "#E5ECF6",
            "gridcolor": "white",
            "gridwidth": 2,
            "linecolor": "white",
            "showbackground": true,
            "ticks": "",
            "zerolinecolor": "white"
           },
           "zaxis": {
            "backgroundcolor": "#E5ECF6",
            "gridcolor": "white",
            "gridwidth": 2,
            "linecolor": "white",
            "showbackground": true,
            "ticks": "",
            "zerolinecolor": "white"
           }
          },
          "shapedefaults": {
           "line": {
            "color": "#2a3f5f"
           }
          },
          "ternary": {
           "aaxis": {
            "gridcolor": "white",
            "linecolor": "white",
            "ticks": ""
           },
           "baxis": {
            "gridcolor": "white",
            "linecolor": "white",
            "ticks": ""
           },
           "bgcolor": "#E5ECF6",
           "caxis": {
            "gridcolor": "white",
            "linecolor": "white",
            "ticks": ""
           }
          },
          "title": {
           "x": 0.05
          },
          "xaxis": {
           "automargin": true,
           "gridcolor": "white",
           "linecolor": "white",
           "ticks": "",
           "title": {
            "standoff": 15
           },
           "zerolinecolor": "white",
           "zerolinewidth": 2
          },
          "yaxis": {
           "automargin": true,
           "gridcolor": "white",
           "linecolor": "white",
           "ticks": "",
           "title": {
            "standoff": 15
           },
           "zerolinecolor": "white",
           "zerolinewidth": 2
          }
         }
        },
        "title": {
         "text": "Histogram of Limit of Detection (LOD_nM)"
        },
        "xaxis": {
         "anchor": "y",
         "domain": [
          0,
          1
         ],
         "title": {
          "text": "LOD_nM"
         }
        },
        "yaxis": {
         "anchor": "x",
         "domain": [
          0,
          1
         ],
         "title": {
          "text": "count"
         },
         "type": "log"
        }
       }
      }
     },
     "metadata": {},
     "output_type": "display_data"
    }
   ],
   "source": [
    "\n",
    "# Histogram of Limit of Detection (LOD_nM)\n",
    "fig_histogram_lod = px.histogram(data, x='LOD_nM', nbins=30, log_y=True,\n",
    "                                 title='Histogram of Limit of Detection (LOD_nM)')\n",
    "fig_histogram_lod.show()"
   ]
  },
  {
   "cell_type": "code",
   "execution_count": 165,
   "metadata": {},
   "outputs": [
    {
     "data": {
      "application/vnd.plotly.v1+json": {
       "config": {
        "plotlyServerURL": "https://plot.ly"
       },
       "data": [
        {
         "alignmentgroup": "True",
         "hovertemplate": "Detection techniques=%{x}<br>counts=%{y}<extra></extra>",
         "legendgroup": "",
         "marker": {
          "color": "#636efa",
          "pattern": {
           "shape": ""
          }
         },
         "name": "",
         "offsetgroup": "",
         "orientation": "v",
         "showlegend": false,
         "textposition": "auto",
         "type": "bar",
         "x": [
          "dpv",
          "cv",
          "amperometry",
          "swv",
          "lithium-ion battery",
          "chronoamperometry",
          "sr",
          "fluorescence spectroscopy",
          "ldi-tof ms"
         ],
         "xaxis": "x",
         "y": [
          36,
          18,
          2,
          2,
          2,
          2,
          1,
          1,
          1
         ],
         "yaxis": "y"
        }
       ],
       "layout": {
        "barmode": "relative",
        "legend": {
         "tracegroupgap": 0
        },
        "template": {
         "data": {
          "bar": [
           {
            "error_x": {
             "color": "#2a3f5f"
            },
            "error_y": {
             "color": "#2a3f5f"
            },
            "marker": {
             "line": {
              "color": "#E5ECF6",
              "width": 0.5
             },
             "pattern": {
              "fillmode": "overlay",
              "size": 10,
              "solidity": 0.2
             }
            },
            "type": "bar"
           }
          ],
          "barpolar": [
           {
            "marker": {
             "line": {
              "color": "#E5ECF6",
              "width": 0.5
             },
             "pattern": {
              "fillmode": "overlay",
              "size": 10,
              "solidity": 0.2
             }
            },
            "type": "barpolar"
           }
          ],
          "carpet": [
           {
            "aaxis": {
             "endlinecolor": "#2a3f5f",
             "gridcolor": "white",
             "linecolor": "white",
             "minorgridcolor": "white",
             "startlinecolor": "#2a3f5f"
            },
            "baxis": {
             "endlinecolor": "#2a3f5f",
             "gridcolor": "white",
             "linecolor": "white",
             "minorgridcolor": "white",
             "startlinecolor": "#2a3f5f"
            },
            "type": "carpet"
           }
          ],
          "choropleth": [
           {
            "colorbar": {
             "outlinewidth": 0,
             "ticks": ""
            },
            "type": "choropleth"
           }
          ],
          "contour": [
           {
            "colorbar": {
             "outlinewidth": 0,
             "ticks": ""
            },
            "colorscale": [
             [
              0,
              "#0d0887"
             ],
             [
              0.1111111111111111,
              "#46039f"
             ],
             [
              0.2222222222222222,
              "#7201a8"
             ],
             [
              0.3333333333333333,
              "#9c179e"
             ],
             [
              0.4444444444444444,
              "#bd3786"
             ],
             [
              0.5555555555555556,
              "#d8576b"
             ],
             [
              0.6666666666666666,
              "#ed7953"
             ],
             [
              0.7777777777777778,
              "#fb9f3a"
             ],
             [
              0.8888888888888888,
              "#fdca26"
             ],
             [
              1,
              "#f0f921"
             ]
            ],
            "type": "contour"
           }
          ],
          "contourcarpet": [
           {
            "colorbar": {
             "outlinewidth": 0,
             "ticks": ""
            },
            "type": "contourcarpet"
           }
          ],
          "heatmap": [
           {
            "colorbar": {
             "outlinewidth": 0,
             "ticks": ""
            },
            "colorscale": [
             [
              0,
              "#0d0887"
             ],
             [
              0.1111111111111111,
              "#46039f"
             ],
             [
              0.2222222222222222,
              "#7201a8"
             ],
             [
              0.3333333333333333,
              "#9c179e"
             ],
             [
              0.4444444444444444,
              "#bd3786"
             ],
             [
              0.5555555555555556,
              "#d8576b"
             ],
             [
              0.6666666666666666,
              "#ed7953"
             ],
             [
              0.7777777777777778,
              "#fb9f3a"
             ],
             [
              0.8888888888888888,
              "#fdca26"
             ],
             [
              1,
              "#f0f921"
             ]
            ],
            "type": "heatmap"
           }
          ],
          "heatmapgl": [
           {
            "colorbar": {
             "outlinewidth": 0,
             "ticks": ""
            },
            "colorscale": [
             [
              0,
              "#0d0887"
             ],
             [
              0.1111111111111111,
              "#46039f"
             ],
             [
              0.2222222222222222,
              "#7201a8"
             ],
             [
              0.3333333333333333,
              "#9c179e"
             ],
             [
              0.4444444444444444,
              "#bd3786"
             ],
             [
              0.5555555555555556,
              "#d8576b"
             ],
             [
              0.6666666666666666,
              "#ed7953"
             ],
             [
              0.7777777777777778,
              "#fb9f3a"
             ],
             [
              0.8888888888888888,
              "#fdca26"
             ],
             [
              1,
              "#f0f921"
             ]
            ],
            "type": "heatmapgl"
           }
          ],
          "histogram": [
           {
            "marker": {
             "pattern": {
              "fillmode": "overlay",
              "size": 10,
              "solidity": 0.2
             }
            },
            "type": "histogram"
           }
          ],
          "histogram2d": [
           {
            "colorbar": {
             "outlinewidth": 0,
             "ticks": ""
            },
            "colorscale": [
             [
              0,
              "#0d0887"
             ],
             [
              0.1111111111111111,
              "#46039f"
             ],
             [
              0.2222222222222222,
              "#7201a8"
             ],
             [
              0.3333333333333333,
              "#9c179e"
             ],
             [
              0.4444444444444444,
              "#bd3786"
             ],
             [
              0.5555555555555556,
              "#d8576b"
             ],
             [
              0.6666666666666666,
              "#ed7953"
             ],
             [
              0.7777777777777778,
              "#fb9f3a"
             ],
             [
              0.8888888888888888,
              "#fdca26"
             ],
             [
              1,
              "#f0f921"
             ]
            ],
            "type": "histogram2d"
           }
          ],
          "histogram2dcontour": [
           {
            "colorbar": {
             "outlinewidth": 0,
             "ticks": ""
            },
            "colorscale": [
             [
              0,
              "#0d0887"
             ],
             [
              0.1111111111111111,
              "#46039f"
             ],
             [
              0.2222222222222222,
              "#7201a8"
             ],
             [
              0.3333333333333333,
              "#9c179e"
             ],
             [
              0.4444444444444444,
              "#bd3786"
             ],
             [
              0.5555555555555556,
              "#d8576b"
             ],
             [
              0.6666666666666666,
              "#ed7953"
             ],
             [
              0.7777777777777778,
              "#fb9f3a"
             ],
             [
              0.8888888888888888,
              "#fdca26"
             ],
             [
              1,
              "#f0f921"
             ]
            ],
            "type": "histogram2dcontour"
           }
          ],
          "mesh3d": [
           {
            "colorbar": {
             "outlinewidth": 0,
             "ticks": ""
            },
            "type": "mesh3d"
           }
          ],
          "parcoords": [
           {
            "line": {
             "colorbar": {
              "outlinewidth": 0,
              "ticks": ""
             }
            },
            "type": "parcoords"
           }
          ],
          "pie": [
           {
            "automargin": true,
            "type": "pie"
           }
          ],
          "scatter": [
           {
            "fillpattern": {
             "fillmode": "overlay",
             "size": 10,
             "solidity": 0.2
            },
            "type": "scatter"
           }
          ],
          "scatter3d": [
           {
            "line": {
             "colorbar": {
              "outlinewidth": 0,
              "ticks": ""
             }
            },
            "marker": {
             "colorbar": {
              "outlinewidth": 0,
              "ticks": ""
             }
            },
            "type": "scatter3d"
           }
          ],
          "scattercarpet": [
           {
            "marker": {
             "colorbar": {
              "outlinewidth": 0,
              "ticks": ""
             }
            },
            "type": "scattercarpet"
           }
          ],
          "scattergeo": [
           {
            "marker": {
             "colorbar": {
              "outlinewidth": 0,
              "ticks": ""
             }
            },
            "type": "scattergeo"
           }
          ],
          "scattergl": [
           {
            "marker": {
             "colorbar": {
              "outlinewidth": 0,
              "ticks": ""
             }
            },
            "type": "scattergl"
           }
          ],
          "scattermapbox": [
           {
            "marker": {
             "colorbar": {
              "outlinewidth": 0,
              "ticks": ""
             }
            },
            "type": "scattermapbox"
           }
          ],
          "scatterpolar": [
           {
            "marker": {
             "colorbar": {
              "outlinewidth": 0,
              "ticks": ""
             }
            },
            "type": "scatterpolar"
           }
          ],
          "scatterpolargl": [
           {
            "marker": {
             "colorbar": {
              "outlinewidth": 0,
              "ticks": ""
             }
            },
            "type": "scatterpolargl"
           }
          ],
          "scatterternary": [
           {
            "marker": {
             "colorbar": {
              "outlinewidth": 0,
              "ticks": ""
             }
            },
            "type": "scatterternary"
           }
          ],
          "surface": [
           {
            "colorbar": {
             "outlinewidth": 0,
             "ticks": ""
            },
            "colorscale": [
             [
              0,
              "#0d0887"
             ],
             [
              0.1111111111111111,
              "#46039f"
             ],
             [
              0.2222222222222222,
              "#7201a8"
             ],
             [
              0.3333333333333333,
              "#9c179e"
             ],
             [
              0.4444444444444444,
              "#bd3786"
             ],
             [
              0.5555555555555556,
              "#d8576b"
             ],
             [
              0.6666666666666666,
              "#ed7953"
             ],
             [
              0.7777777777777778,
              "#fb9f3a"
             ],
             [
              0.8888888888888888,
              "#fdca26"
             ],
             [
              1,
              "#f0f921"
             ]
            ],
            "type": "surface"
           }
          ],
          "table": [
           {
            "cells": {
             "fill": {
              "color": "#EBF0F8"
             },
             "line": {
              "color": "white"
             }
            },
            "header": {
             "fill": {
              "color": "#C8D4E3"
             },
             "line": {
              "color": "white"
             }
            },
            "type": "table"
           }
          ]
         },
         "layout": {
          "annotationdefaults": {
           "arrowcolor": "#2a3f5f",
           "arrowhead": 0,
           "arrowwidth": 1
          },
          "autotypenumbers": "strict",
          "coloraxis": {
           "colorbar": {
            "outlinewidth": 0,
            "ticks": ""
           }
          },
          "colorscale": {
           "diverging": [
            [
             0,
             "#8e0152"
            ],
            [
             0.1,
             "#c51b7d"
            ],
            [
             0.2,
             "#de77ae"
            ],
            [
             0.3,
             "#f1b6da"
            ],
            [
             0.4,
             "#fde0ef"
            ],
            [
             0.5,
             "#f7f7f7"
            ],
            [
             0.6,
             "#e6f5d0"
            ],
            [
             0.7,
             "#b8e186"
            ],
            [
             0.8,
             "#7fbc41"
            ],
            [
             0.9,
             "#4d9221"
            ],
            [
             1,
             "#276419"
            ]
           ],
           "sequential": [
            [
             0,
             "#0d0887"
            ],
            [
             0.1111111111111111,
             "#46039f"
            ],
            [
             0.2222222222222222,
             "#7201a8"
            ],
            [
             0.3333333333333333,
             "#9c179e"
            ],
            [
             0.4444444444444444,
             "#bd3786"
            ],
            [
             0.5555555555555556,
             "#d8576b"
            ],
            [
             0.6666666666666666,
             "#ed7953"
            ],
            [
             0.7777777777777778,
             "#fb9f3a"
            ],
            [
             0.8888888888888888,
             "#fdca26"
            ],
            [
             1,
             "#f0f921"
            ]
           ],
           "sequentialminus": [
            [
             0,
             "#0d0887"
            ],
            [
             0.1111111111111111,
             "#46039f"
            ],
            [
             0.2222222222222222,
             "#7201a8"
            ],
            [
             0.3333333333333333,
             "#9c179e"
            ],
            [
             0.4444444444444444,
             "#bd3786"
            ],
            [
             0.5555555555555556,
             "#d8576b"
            ],
            [
             0.6666666666666666,
             "#ed7953"
            ],
            [
             0.7777777777777778,
             "#fb9f3a"
            ],
            [
             0.8888888888888888,
             "#fdca26"
            ],
            [
             1,
             "#f0f921"
            ]
           ]
          },
          "colorway": [
           "#636efa",
           "#EF553B",
           "#00cc96",
           "#ab63fa",
           "#FFA15A",
           "#19d3f3",
           "#FF6692",
           "#B6E880",
           "#FF97FF",
           "#FECB52"
          ],
          "font": {
           "color": "#2a3f5f"
          },
          "geo": {
           "bgcolor": "white",
           "lakecolor": "white",
           "landcolor": "#E5ECF6",
           "showlakes": true,
           "showland": true,
           "subunitcolor": "white"
          },
          "hoverlabel": {
           "align": "left"
          },
          "hovermode": "closest",
          "mapbox": {
           "style": "light"
          },
          "paper_bgcolor": "white",
          "plot_bgcolor": "#E5ECF6",
          "polar": {
           "angularaxis": {
            "gridcolor": "white",
            "linecolor": "white",
            "ticks": ""
           },
           "bgcolor": "#E5ECF6",
           "radialaxis": {
            "gridcolor": "white",
            "linecolor": "white",
            "ticks": ""
           }
          },
          "scene": {
           "xaxis": {
            "backgroundcolor": "#E5ECF6",
            "gridcolor": "white",
            "gridwidth": 2,
            "linecolor": "white",
            "showbackground": true,
            "ticks": "",
            "zerolinecolor": "white"
           },
           "yaxis": {
            "backgroundcolor": "#E5ECF6",
            "gridcolor": "white",
            "gridwidth": 2,
            "linecolor": "white",
            "showbackground": true,
            "ticks": "",
            "zerolinecolor": "white"
           },
           "zaxis": {
            "backgroundcolor": "#E5ECF6",
            "gridcolor": "white",
            "gridwidth": 2,
            "linecolor": "white",
            "showbackground": true,
            "ticks": "",
            "zerolinecolor": "white"
           }
          },
          "shapedefaults": {
           "line": {
            "color": "#2a3f5f"
           }
          },
          "ternary": {
           "aaxis": {
            "gridcolor": "white",
            "linecolor": "white",
            "ticks": ""
           },
           "baxis": {
            "gridcolor": "white",
            "linecolor": "white",
            "ticks": ""
           },
           "bgcolor": "#E5ECF6",
           "caxis": {
            "gridcolor": "white",
            "linecolor": "white",
            "ticks": ""
           }
          },
          "title": {
           "x": 0.05
          },
          "xaxis": {
           "automargin": true,
           "gridcolor": "white",
           "linecolor": "white",
           "ticks": "",
           "title": {
            "standoff": 15
           },
           "zerolinecolor": "white",
           "zerolinewidth": 2
          },
          "yaxis": {
           "automargin": true,
           "gridcolor": "white",
           "linecolor": "white",
           "ticks": "",
           "title": {
            "standoff": 15
           },
           "zerolinecolor": "white",
           "zerolinewidth": 2
          }
         }
        },
        "title": {
         "text": "Frequency of Detection Techniques"
        },
        "xaxis": {
         "anchor": "y",
         "domain": [
          0,
          1
         ],
         "title": {
          "text": "Detection techniques"
         }
        },
        "yaxis": {
         "anchor": "x",
         "domain": [
          0,
          1
         ],
         "title": {
          "text": "counts"
         }
        }
       }
      }
     },
     "metadata": {},
     "output_type": "display_data"
    }
   ],
   "source": [
    "# Bar Graph of Detection Techniques Frequency\n",
    "detection_techniques_counts = data['Detection techniques'].value_counts().reset_index()\n",
    "detection_techniques_counts.columns = ['Detection techniques', 'counts']\n",
    "fig_bar_detection_techniques = px.bar(detection_techniques_counts, x='Detection techniques', y='counts',\n",
    "                                      title='Frequency of Detection Techniques')\n",
    "\n",
    "\n",
    "fig_bar_detection_techniques.show()\n"
   ]
  },
  {
   "cell_type": "code",
   "execution_count": 194,
   "metadata": {},
   "outputs": [
    {
     "data": {
      "application/vnd.plotly.v1+json": {
       "config": {
        "plotlyServerURL": "https://plot.ly"
       },
       "data": [
        {
         "branchvalues": "total",
         "customdata": [
          [
           "nanofibers"
          ],
          [
           "nanocomposite"
          ],
          [
           "nanoparticle"
          ],
          [
           "porous carbon"
          ],
          [
           "nanoparticle"
          ],
          [
           "nanotubes"
          ],
          [
           "nanospheres"
          ],
          [
           "nanosheet"
          ],
          [
           "porous carbon"
          ],
          [
           "nanotubes"
          ],
          [
           "nanostructures"
          ],
          [
           "nanostructures"
          ],
          [
           "nanofibers"
          ],
          [
           "nanocomposite"
          ],
          [
           "nanocomposite"
          ],
          [
           "nanosheet"
          ],
          [
           "nanosheet"
          ],
          [
           "mofs"
          ],
          [
           "porous carbon"
          ],
          [
           "nanosheet"
          ],
          [
           "nanoparticle"
          ],
          [
           "nanotubes"
          ],
          [
           "porous carbon"
          ],
          [
           "nanocomposite"
          ],
          [
           "nanostructures"
          ],
          [
           "graphene"
          ],
          [
           "nanobelts"
          ],
          [
           "nanofibers"
          ],
          [
           "mofs"
          ],
          [
           "nanocomposite"
          ],
          [
           "graphene"
          ],
          [
           "nanospheres"
          ],
          [
           "nanostructures"
          ],
          [
           "nanotubes"
          ],
          [
           "nanobelts"
          ],
          [
           "graphene"
          ],
          [
           "porous carbon"
          ]
         ],
         "domain": {
          "x": [
           0,
           1
          ],
          "y": [
           0,
           1
          ]
         },
         "hovertemplate": "labels=%{label}<br>counts=%{value}<br>parent=%{parent}<br>id=%{id}<br>Form of porous carbon=%{customdata[0]}<extra></extra>",
         "ids": [
          "nanofibers",
          "nanocomposite",
          "nanoparticle/dpv",
          "porous carbon/amperometry",
          "nanoparticle",
          "nanotubes/fluorescence spectroscopy",
          "nanospheres/dpv",
          "nanosheet/dpv",
          "porous carbon/cv",
          "nanotubes/cv",
          "nanostructures/dpv",
          "nanostructures/cv",
          "nanofibers/cv",
          "nanocomposite/cv",
          "nanocomposite/lithium-ion battery",
          "nanosheet",
          "nanosheet/chronoamperometry",
          "mofs/ldi-tof ms",
          "porous carbon/dpv",
          "nanosheet/cv",
          "nanoparticle/cv",
          "nanotubes/dpv",
          "porous carbon/sr",
          "nanocomposite/swv",
          "nanostructures/chronoamperometry",
          "graphene",
          "nanobelts",
          "nanofibers/dpv",
          "mofs",
          "nanocomposite/dpv",
          "graphene/dpv",
          "nanospheres",
          "nanostructures",
          "nanotubes",
          "nanobelts/cv",
          "graphene/cv",
          "porous carbon"
         ],
         "labels": [
          "nanofibers",
          "nanocomposite",
          "dpv",
          "amperometry",
          "nanoparticle",
          "fluorescence spectroscopy",
          "dpv",
          "dpv",
          "cv",
          "cv",
          "dpv",
          "cv",
          "cv",
          "cv",
          "lithium-ion battery",
          "nanosheet",
          "chronoamperometry",
          "ldi-tof ms",
          "dpv",
          "cv",
          "cv",
          "dpv",
          "sr",
          "swv",
          "chronoamperometry",
          "graphene",
          "nanobelts",
          "dpv",
          "mofs",
          "dpv",
          "dpv",
          "nanospheres",
          "nanostructures",
          "nanotubes",
          "cv",
          "cv",
          "porous carbon"
         ],
         "marker": {
          "colors": [
           "#636efa",
           "#EF553B",
           "#00cc96",
           "#ab63fa",
           "#00cc96",
           "#FFA15A",
           "#19d3f3",
           "#FF6692",
           "#ab63fa",
           "#FFA15A",
           "#B6E880",
           "#B6E880",
           "#636efa",
           "#EF553B",
           "#EF553B",
           "#FF6692",
           "#FF6692",
           "#FF97FF",
           "#ab63fa",
           "#FF6692",
           "#00cc96",
           "#FFA15A",
           "#ab63fa",
           "#EF553B",
           "#B6E880",
           "#FECB52",
           "#636efa",
           "#636efa",
           "#FF97FF",
           "#EF553B",
           "#FECB52",
           "#19d3f3",
           "#B6E880",
           "#FFA15A",
           "#636efa",
           "#FECB52",
           "#ab63fa"
          ]
         },
         "name": "",
         "parents": [
          "",
          "",
          "nanoparticle",
          "porous carbon",
          "",
          "nanotubes",
          "nanospheres",
          "nanosheet",
          "porous carbon",
          "nanotubes",
          "nanostructures",
          "nanostructures",
          "nanofibers",
          "nanocomposite",
          "nanocomposite",
          "",
          "nanosheet",
          "mofs",
          "porous carbon",
          "nanosheet",
          "nanoparticle",
          "nanotubes",
          "porous carbon",
          "nanocomposite",
          "nanostructures",
          "",
          "",
          "nanofibers",
          "",
          "nanocomposite",
          "graphene",
          "",
          "",
          "",
          "nanobelts",
          "graphene",
          ""
         ],
         "type": "sunburst",
         "values": [
          5,
          16,
          5,
          1,
          8,
          1,
          1,
          1,
          1,
          1,
          3,
          3,
          1,
          5,
          2,
          3,
          1,
          1,
          8,
          1,
          3,
          2,
          1,
          1,
          1,
          3,
          1,
          4,
          1,
          8,
          2,
          1,
          7,
          4,
          1,
          1,
          11
         ]
        }
       ],
       "layout": {
        "height": 800,
        "legend": {
         "tracegroupgap": 0
        },
        "template": {
         "data": {
          "bar": [
           {
            "error_x": {
             "color": "#2a3f5f"
            },
            "error_y": {
             "color": "#2a3f5f"
            },
            "marker": {
             "line": {
              "color": "#E5ECF6",
              "width": 0.5
             },
             "pattern": {
              "fillmode": "overlay",
              "size": 10,
              "solidity": 0.2
             }
            },
            "type": "bar"
           }
          ],
          "barpolar": [
           {
            "marker": {
             "line": {
              "color": "#E5ECF6",
              "width": 0.5
             },
             "pattern": {
              "fillmode": "overlay",
              "size": 10,
              "solidity": 0.2
             }
            },
            "type": "barpolar"
           }
          ],
          "carpet": [
           {
            "aaxis": {
             "endlinecolor": "#2a3f5f",
             "gridcolor": "white",
             "linecolor": "white",
             "minorgridcolor": "white",
             "startlinecolor": "#2a3f5f"
            },
            "baxis": {
             "endlinecolor": "#2a3f5f",
             "gridcolor": "white",
             "linecolor": "white",
             "minorgridcolor": "white",
             "startlinecolor": "#2a3f5f"
            },
            "type": "carpet"
           }
          ],
          "choropleth": [
           {
            "colorbar": {
             "outlinewidth": 0,
             "ticks": ""
            },
            "type": "choropleth"
           }
          ],
          "contour": [
           {
            "colorbar": {
             "outlinewidth": 0,
             "ticks": ""
            },
            "colorscale": [
             [
              0,
              "#0d0887"
             ],
             [
              0.1111111111111111,
              "#46039f"
             ],
             [
              0.2222222222222222,
              "#7201a8"
             ],
             [
              0.3333333333333333,
              "#9c179e"
             ],
             [
              0.4444444444444444,
              "#bd3786"
             ],
             [
              0.5555555555555556,
              "#d8576b"
             ],
             [
              0.6666666666666666,
              "#ed7953"
             ],
             [
              0.7777777777777778,
              "#fb9f3a"
             ],
             [
              0.8888888888888888,
              "#fdca26"
             ],
             [
              1,
              "#f0f921"
             ]
            ],
            "type": "contour"
           }
          ],
          "contourcarpet": [
           {
            "colorbar": {
             "outlinewidth": 0,
             "ticks": ""
            },
            "type": "contourcarpet"
           }
          ],
          "heatmap": [
           {
            "colorbar": {
             "outlinewidth": 0,
             "ticks": ""
            },
            "colorscale": [
             [
              0,
              "#0d0887"
             ],
             [
              0.1111111111111111,
              "#46039f"
             ],
             [
              0.2222222222222222,
              "#7201a8"
             ],
             [
              0.3333333333333333,
              "#9c179e"
             ],
             [
              0.4444444444444444,
              "#bd3786"
             ],
             [
              0.5555555555555556,
              "#d8576b"
             ],
             [
              0.6666666666666666,
              "#ed7953"
             ],
             [
              0.7777777777777778,
              "#fb9f3a"
             ],
             [
              0.8888888888888888,
              "#fdca26"
             ],
             [
              1,
              "#f0f921"
             ]
            ],
            "type": "heatmap"
           }
          ],
          "heatmapgl": [
           {
            "colorbar": {
             "outlinewidth": 0,
             "ticks": ""
            },
            "colorscale": [
             [
              0,
              "#0d0887"
             ],
             [
              0.1111111111111111,
              "#46039f"
             ],
             [
              0.2222222222222222,
              "#7201a8"
             ],
             [
              0.3333333333333333,
              "#9c179e"
             ],
             [
              0.4444444444444444,
              "#bd3786"
             ],
             [
              0.5555555555555556,
              "#d8576b"
             ],
             [
              0.6666666666666666,
              "#ed7953"
             ],
             [
              0.7777777777777778,
              "#fb9f3a"
             ],
             [
              0.8888888888888888,
              "#fdca26"
             ],
             [
              1,
              "#f0f921"
             ]
            ],
            "type": "heatmapgl"
           }
          ],
          "histogram": [
           {
            "marker": {
             "pattern": {
              "fillmode": "overlay",
              "size": 10,
              "solidity": 0.2
             }
            },
            "type": "histogram"
           }
          ],
          "histogram2d": [
           {
            "colorbar": {
             "outlinewidth": 0,
             "ticks": ""
            },
            "colorscale": [
             [
              0,
              "#0d0887"
             ],
             [
              0.1111111111111111,
              "#46039f"
             ],
             [
              0.2222222222222222,
              "#7201a8"
             ],
             [
              0.3333333333333333,
              "#9c179e"
             ],
             [
              0.4444444444444444,
              "#bd3786"
             ],
             [
              0.5555555555555556,
              "#d8576b"
             ],
             [
              0.6666666666666666,
              "#ed7953"
             ],
             [
              0.7777777777777778,
              "#fb9f3a"
             ],
             [
              0.8888888888888888,
              "#fdca26"
             ],
             [
              1,
              "#f0f921"
             ]
            ],
            "type": "histogram2d"
           }
          ],
          "histogram2dcontour": [
           {
            "colorbar": {
             "outlinewidth": 0,
             "ticks": ""
            },
            "colorscale": [
             [
              0,
              "#0d0887"
             ],
             [
              0.1111111111111111,
              "#46039f"
             ],
             [
              0.2222222222222222,
              "#7201a8"
             ],
             [
              0.3333333333333333,
              "#9c179e"
             ],
             [
              0.4444444444444444,
              "#bd3786"
             ],
             [
              0.5555555555555556,
              "#d8576b"
             ],
             [
              0.6666666666666666,
              "#ed7953"
             ],
             [
              0.7777777777777778,
              "#fb9f3a"
             ],
             [
              0.8888888888888888,
              "#fdca26"
             ],
             [
              1,
              "#f0f921"
             ]
            ],
            "type": "histogram2dcontour"
           }
          ],
          "mesh3d": [
           {
            "colorbar": {
             "outlinewidth": 0,
             "ticks": ""
            },
            "type": "mesh3d"
           }
          ],
          "parcoords": [
           {
            "line": {
             "colorbar": {
              "outlinewidth": 0,
              "ticks": ""
             }
            },
            "type": "parcoords"
           }
          ],
          "pie": [
           {
            "automargin": true,
            "type": "pie"
           }
          ],
          "scatter": [
           {
            "fillpattern": {
             "fillmode": "overlay",
             "size": 10,
             "solidity": 0.2
            },
            "type": "scatter"
           }
          ],
          "scatter3d": [
           {
            "line": {
             "colorbar": {
              "outlinewidth": 0,
              "ticks": ""
             }
            },
            "marker": {
             "colorbar": {
              "outlinewidth": 0,
              "ticks": ""
             }
            },
            "type": "scatter3d"
           }
          ],
          "scattercarpet": [
           {
            "marker": {
             "colorbar": {
              "outlinewidth": 0,
              "ticks": ""
             }
            },
            "type": "scattercarpet"
           }
          ],
          "scattergeo": [
           {
            "marker": {
             "colorbar": {
              "outlinewidth": 0,
              "ticks": ""
             }
            },
            "type": "scattergeo"
           }
          ],
          "scattergl": [
           {
            "marker": {
             "colorbar": {
              "outlinewidth": 0,
              "ticks": ""
             }
            },
            "type": "scattergl"
           }
          ],
          "scattermapbox": [
           {
            "marker": {
             "colorbar": {
              "outlinewidth": 0,
              "ticks": ""
             }
            },
            "type": "scattermapbox"
           }
          ],
          "scatterpolar": [
           {
            "marker": {
             "colorbar": {
              "outlinewidth": 0,
              "ticks": ""
             }
            },
            "type": "scatterpolar"
           }
          ],
          "scatterpolargl": [
           {
            "marker": {
             "colorbar": {
              "outlinewidth": 0,
              "ticks": ""
             }
            },
            "type": "scatterpolargl"
           }
          ],
          "scatterternary": [
           {
            "marker": {
             "colorbar": {
              "outlinewidth": 0,
              "ticks": ""
             }
            },
            "type": "scatterternary"
           }
          ],
          "surface": [
           {
            "colorbar": {
             "outlinewidth": 0,
             "ticks": ""
            },
            "colorscale": [
             [
              0,
              "#0d0887"
             ],
             [
              0.1111111111111111,
              "#46039f"
             ],
             [
              0.2222222222222222,
              "#7201a8"
             ],
             [
              0.3333333333333333,
              "#9c179e"
             ],
             [
              0.4444444444444444,
              "#bd3786"
             ],
             [
              0.5555555555555556,
              "#d8576b"
             ],
             [
              0.6666666666666666,
              "#ed7953"
             ],
             [
              0.7777777777777778,
              "#fb9f3a"
             ],
             [
              0.8888888888888888,
              "#fdca26"
             ],
             [
              1,
              "#f0f921"
             ]
            ],
            "type": "surface"
           }
          ],
          "table": [
           {
            "cells": {
             "fill": {
              "color": "#EBF0F8"
             },
             "line": {
              "color": "white"
             }
            },
            "header": {
             "fill": {
              "color": "#C8D4E3"
             },
             "line": {
              "color": "white"
             }
            },
            "type": "table"
           }
          ]
         },
         "layout": {
          "annotationdefaults": {
           "arrowcolor": "#2a3f5f",
           "arrowhead": 0,
           "arrowwidth": 1
          },
          "autotypenumbers": "strict",
          "coloraxis": {
           "colorbar": {
            "outlinewidth": 0,
            "ticks": ""
           }
          },
          "colorscale": {
           "diverging": [
            [
             0,
             "#8e0152"
            ],
            [
             0.1,
             "#c51b7d"
            ],
            [
             0.2,
             "#de77ae"
            ],
            [
             0.3,
             "#f1b6da"
            ],
            [
             0.4,
             "#fde0ef"
            ],
            [
             0.5,
             "#f7f7f7"
            ],
            [
             0.6,
             "#e6f5d0"
            ],
            [
             0.7,
             "#b8e186"
            ],
            [
             0.8,
             "#7fbc41"
            ],
            [
             0.9,
             "#4d9221"
            ],
            [
             1,
             "#276419"
            ]
           ],
           "sequential": [
            [
             0,
             "#0d0887"
            ],
            [
             0.1111111111111111,
             "#46039f"
            ],
            [
             0.2222222222222222,
             "#7201a8"
            ],
            [
             0.3333333333333333,
             "#9c179e"
            ],
            [
             0.4444444444444444,
             "#bd3786"
            ],
            [
             0.5555555555555556,
             "#d8576b"
            ],
            [
             0.6666666666666666,
             "#ed7953"
            ],
            [
             0.7777777777777778,
             "#fb9f3a"
            ],
            [
             0.8888888888888888,
             "#fdca26"
            ],
            [
             1,
             "#f0f921"
            ]
           ],
           "sequentialminus": [
            [
             0,
             "#0d0887"
            ],
            [
             0.1111111111111111,
             "#46039f"
            ],
            [
             0.2222222222222222,
             "#7201a8"
            ],
            [
             0.3333333333333333,
             "#9c179e"
            ],
            [
             0.4444444444444444,
             "#bd3786"
            ],
            [
             0.5555555555555556,
             "#d8576b"
            ],
            [
             0.6666666666666666,
             "#ed7953"
            ],
            [
             0.7777777777777778,
             "#fb9f3a"
            ],
            [
             0.8888888888888888,
             "#fdca26"
            ],
            [
             1,
             "#f0f921"
            ]
           ]
          },
          "colorway": [
           "#636efa",
           "#EF553B",
           "#00cc96",
           "#ab63fa",
           "#FFA15A",
           "#19d3f3",
           "#FF6692",
           "#B6E880",
           "#FF97FF",
           "#FECB52"
          ],
          "font": {
           "color": "#2a3f5f"
          },
          "geo": {
           "bgcolor": "white",
           "lakecolor": "white",
           "landcolor": "#E5ECF6",
           "showlakes": true,
           "showland": true,
           "subunitcolor": "white"
          },
          "hoverlabel": {
           "align": "left"
          },
          "hovermode": "closest",
          "mapbox": {
           "style": "light"
          },
          "paper_bgcolor": "white",
          "plot_bgcolor": "#E5ECF6",
          "polar": {
           "angularaxis": {
            "gridcolor": "white",
            "linecolor": "white",
            "ticks": ""
           },
           "bgcolor": "#E5ECF6",
           "radialaxis": {
            "gridcolor": "white",
            "linecolor": "white",
            "ticks": ""
           }
          },
          "scene": {
           "xaxis": {
            "backgroundcolor": "#E5ECF6",
            "gridcolor": "white",
            "gridwidth": 2,
            "linecolor": "white",
            "showbackground": true,
            "ticks": "",
            "zerolinecolor": "white"
           },
           "yaxis": {
            "backgroundcolor": "#E5ECF6",
            "gridcolor": "white",
            "gridwidth": 2,
            "linecolor": "white",
            "showbackground": true,
            "ticks": "",
            "zerolinecolor": "white"
           },
           "zaxis": {
            "backgroundcolor": "#E5ECF6",
            "gridcolor": "white",
            "gridwidth": 2,
            "linecolor": "white",
            "showbackground": true,
            "ticks": "",
            "zerolinecolor": "white"
           }
          },
          "shapedefaults": {
           "line": {
            "color": "#2a3f5f"
           }
          },
          "ternary": {
           "aaxis": {
            "gridcolor": "white",
            "linecolor": "white",
            "ticks": ""
           },
           "baxis": {
            "gridcolor": "white",
            "linecolor": "white",
            "ticks": ""
           },
           "bgcolor": "#E5ECF6",
           "caxis": {
            "gridcolor": "white",
            "linecolor": "white",
            "ticks": ""
           }
          },
          "title": {
           "x": 0.05
          },
          "xaxis": {
           "automargin": true,
           "gridcolor": "white",
           "linecolor": "white",
           "ticks": "",
           "title": {
            "standoff": 15
           },
           "zerolinecolor": "white",
           "zerolinewidth": 2
          },
          "yaxis": {
           "automargin": true,
           "gridcolor": "white",
           "linecolor": "white",
           "ticks": "",
           "title": {
            "standoff": 15
           },
           "zerolinecolor": "white",
           "zerolinewidth": 2
          }
         }
        },
        "title": {
         "text": "Sunburst Chart of Metal Modification, Form of Porous Carbon, and Detection Techniques"
        },
        "width": 1200
       }
      }
     },
     "metadata": {},
     "output_type": "display_data"
    }
   ],
   "source": [
    "import plotly.express as px\n",
    "\n",
    "# Assuming sunburst_data is your DataFrame prepared for the sunburst chart\n",
    "fig_sunburst = px.sunburst(sunburst_data, path=['Form of porous carbon', 'Detection techniques'], values='counts',\n",
    "                           title='Sunburst Chart of Metal Modification, Form of Porous Carbon, and Detection Techniques',\n",
    "                           color='Form of porous carbon',  # This assigns different colors based on the 'Form of porous carbon' category\n",
    "                           color_continuous_scale=px.colors.sequential.Viridis)  # Using a professional and contrasting color scale\n",
    "\n",
    "# Adjusting the layout for a larger figure\n",
    "fig_sunburst.update_layout(width=1200, height=800)\n",
    "\n",
    "# Show the figure in the notebook (or IDE)\n",
    "fig_sunburst.show()\n",
    "\n",
    "# Saving the figure as a PNG file. Ensure the kaleido package is installed.\n",
    "fig_sunburst.write_image(\"5.png\")\n"
   ]
  },
  {
   "cell_type": "code",
   "execution_count": 191,
   "metadata": {},
   "outputs": [
    {
     "data": {
      "application/vnd.plotly.v1+json": {
       "config": {
        "plotlyServerURL": "https://plot.ly"
       },
       "data": [
        {
         "branchvalues": "total",
         "domain": {
          "x": [
           0,
           1
          ],
          "y": [
           0,
           1
          ]
         },
         "hovertemplate": "labels=%{label}<br>counts=%{value}<br>parent=%{parent}<br>id=%{id}<extra></extra>",
         "ids": [
          "porous carbon/amperometry",
          "nanosheet/chronoamperometry",
          "nanostructures/chronoamperometry",
          "graphene/cv",
          "nanobelts/cv",
          "nanocomposite/cv",
          "nanofibers/cv",
          "nanoparticle/cv",
          "nanosheet/cv",
          "nanostructures/cv",
          "nanotubes/cv",
          "porous carbon/cv",
          "graphene/dpv",
          "nanocomposite/dpv",
          "nanofibers/dpv",
          "nanoparticle/dpv",
          "nanosheet/dpv",
          "nanospheres/dpv",
          "nanostructures/dpv",
          "nanotubes/dpv",
          "porous carbon/dpv",
          "nanotubes/fluorescence spectroscopy",
          "mofs/ldi-tof ms",
          "nanocomposite/lithium-ion battery",
          "porous carbon/sr",
          "nanocomposite/swv",
          "graphene",
          "mofs",
          "nanobelts",
          "nanocomposite",
          "nanofibers",
          "nanoparticle",
          "nanosheet",
          "nanospheres",
          "nanostructures",
          "nanotubes",
          "porous carbon"
         ],
         "labels": [
          "amperometry",
          "chronoamperometry",
          "chronoamperometry",
          "cv",
          "cv",
          "cv",
          "cv",
          "cv",
          "cv",
          "cv",
          "cv",
          "cv",
          "dpv",
          "dpv",
          "dpv",
          "dpv",
          "dpv",
          "dpv",
          "dpv",
          "dpv",
          "dpv",
          "fluorescence spectroscopy",
          "ldi-tof ms",
          "lithium-ion battery",
          "sr",
          "swv",
          "graphene",
          "mofs",
          "nanobelts",
          "nanocomposite",
          "nanofibers",
          "nanoparticle",
          "nanosheet",
          "nanospheres",
          "nanostructures",
          "nanotubes",
          "porous carbon"
         ],
         "name": "",
         "parents": [
          "porous carbon",
          "nanosheet",
          "nanostructures",
          "graphene",
          "nanobelts",
          "nanocomposite",
          "nanofibers",
          "nanoparticle",
          "nanosheet",
          "nanostructures",
          "nanotubes",
          "porous carbon",
          "graphene",
          "nanocomposite",
          "nanofibers",
          "nanoparticle",
          "nanosheet",
          "nanospheres",
          "nanostructures",
          "nanotubes",
          "porous carbon",
          "nanotubes",
          "mofs",
          "nanocomposite",
          "porous carbon",
          "nanocomposite",
          "",
          "",
          "",
          "",
          "",
          "",
          "",
          "",
          "",
          "",
          ""
         ],
         "type": "sunburst",
         "values": [
          1,
          1,
          1,
          1,
          1,
          5,
          1,
          3,
          1,
          3,
          1,
          1,
          2,
          8,
          4,
          5,
          1,
          1,
          3,
          2,
          8,
          1,
          1,
          2,
          1,
          1,
          3,
          1,
          1,
          16,
          5,
          8,
          3,
          1,
          7,
          4,
          11
         ]
        }
       ],
       "layout": {
        "legend": {
         "tracegroupgap": 0
        },
        "template": {
         "data": {
          "bar": [
           {
            "error_x": {
             "color": "#2a3f5f"
            },
            "error_y": {
             "color": "#2a3f5f"
            },
            "marker": {
             "line": {
              "color": "#E5ECF6",
              "width": 0.5
             },
             "pattern": {
              "fillmode": "overlay",
              "size": 10,
              "solidity": 0.2
             }
            },
            "type": "bar"
           }
          ],
          "barpolar": [
           {
            "marker": {
             "line": {
              "color": "#E5ECF6",
              "width": 0.5
             },
             "pattern": {
              "fillmode": "overlay",
              "size": 10,
              "solidity": 0.2
             }
            },
            "type": "barpolar"
           }
          ],
          "carpet": [
           {
            "aaxis": {
             "endlinecolor": "#2a3f5f",
             "gridcolor": "white",
             "linecolor": "white",
             "minorgridcolor": "white",
             "startlinecolor": "#2a3f5f"
            },
            "baxis": {
             "endlinecolor": "#2a3f5f",
             "gridcolor": "white",
             "linecolor": "white",
             "minorgridcolor": "white",
             "startlinecolor": "#2a3f5f"
            },
            "type": "carpet"
           }
          ],
          "choropleth": [
           {
            "colorbar": {
             "outlinewidth": 0,
             "ticks": ""
            },
            "type": "choropleth"
           }
          ],
          "contour": [
           {
            "colorbar": {
             "outlinewidth": 0,
             "ticks": ""
            },
            "colorscale": [
             [
              0,
              "#0d0887"
             ],
             [
              0.1111111111111111,
              "#46039f"
             ],
             [
              0.2222222222222222,
              "#7201a8"
             ],
             [
              0.3333333333333333,
              "#9c179e"
             ],
             [
              0.4444444444444444,
              "#bd3786"
             ],
             [
              0.5555555555555556,
              "#d8576b"
             ],
             [
              0.6666666666666666,
              "#ed7953"
             ],
             [
              0.7777777777777778,
              "#fb9f3a"
             ],
             [
              0.8888888888888888,
              "#fdca26"
             ],
             [
              1,
              "#f0f921"
             ]
            ],
            "type": "contour"
           }
          ],
          "contourcarpet": [
           {
            "colorbar": {
             "outlinewidth": 0,
             "ticks": ""
            },
            "type": "contourcarpet"
           }
          ],
          "heatmap": [
           {
            "colorbar": {
             "outlinewidth": 0,
             "ticks": ""
            },
            "colorscale": [
             [
              0,
              "#0d0887"
             ],
             [
              0.1111111111111111,
              "#46039f"
             ],
             [
              0.2222222222222222,
              "#7201a8"
             ],
             [
              0.3333333333333333,
              "#9c179e"
             ],
             [
              0.4444444444444444,
              "#bd3786"
             ],
             [
              0.5555555555555556,
              "#d8576b"
             ],
             [
              0.6666666666666666,
              "#ed7953"
             ],
             [
              0.7777777777777778,
              "#fb9f3a"
             ],
             [
              0.8888888888888888,
              "#fdca26"
             ],
             [
              1,
              "#f0f921"
             ]
            ],
            "type": "heatmap"
           }
          ],
          "heatmapgl": [
           {
            "colorbar": {
             "outlinewidth": 0,
             "ticks": ""
            },
            "colorscale": [
             [
              0,
              "#0d0887"
             ],
             [
              0.1111111111111111,
              "#46039f"
             ],
             [
              0.2222222222222222,
              "#7201a8"
             ],
             [
              0.3333333333333333,
              "#9c179e"
             ],
             [
              0.4444444444444444,
              "#bd3786"
             ],
             [
              0.5555555555555556,
              "#d8576b"
             ],
             [
              0.6666666666666666,
              "#ed7953"
             ],
             [
              0.7777777777777778,
              "#fb9f3a"
             ],
             [
              0.8888888888888888,
              "#fdca26"
             ],
             [
              1,
              "#f0f921"
             ]
            ],
            "type": "heatmapgl"
           }
          ],
          "histogram": [
           {
            "marker": {
             "pattern": {
              "fillmode": "overlay",
              "size": 10,
              "solidity": 0.2
             }
            },
            "type": "histogram"
           }
          ],
          "histogram2d": [
           {
            "colorbar": {
             "outlinewidth": 0,
             "ticks": ""
            },
            "colorscale": [
             [
              0,
              "#0d0887"
             ],
             [
              0.1111111111111111,
              "#46039f"
             ],
             [
              0.2222222222222222,
              "#7201a8"
             ],
             [
              0.3333333333333333,
              "#9c179e"
             ],
             [
              0.4444444444444444,
              "#bd3786"
             ],
             [
              0.5555555555555556,
              "#d8576b"
             ],
             [
              0.6666666666666666,
              "#ed7953"
             ],
             [
              0.7777777777777778,
              "#fb9f3a"
             ],
             [
              0.8888888888888888,
              "#fdca26"
             ],
             [
              1,
              "#f0f921"
             ]
            ],
            "type": "histogram2d"
           }
          ],
          "histogram2dcontour": [
           {
            "colorbar": {
             "outlinewidth": 0,
             "ticks": ""
            },
            "colorscale": [
             [
              0,
              "#0d0887"
             ],
             [
              0.1111111111111111,
              "#46039f"
             ],
             [
              0.2222222222222222,
              "#7201a8"
             ],
             [
              0.3333333333333333,
              "#9c179e"
             ],
             [
              0.4444444444444444,
              "#bd3786"
             ],
             [
              0.5555555555555556,
              "#d8576b"
             ],
             [
              0.6666666666666666,
              "#ed7953"
             ],
             [
              0.7777777777777778,
              "#fb9f3a"
             ],
             [
              0.8888888888888888,
              "#fdca26"
             ],
             [
              1,
              "#f0f921"
             ]
            ],
            "type": "histogram2dcontour"
           }
          ],
          "mesh3d": [
           {
            "colorbar": {
             "outlinewidth": 0,
             "ticks": ""
            },
            "type": "mesh3d"
           }
          ],
          "parcoords": [
           {
            "line": {
             "colorbar": {
              "outlinewidth": 0,
              "ticks": ""
             }
            },
            "type": "parcoords"
           }
          ],
          "pie": [
           {
            "automargin": true,
            "type": "pie"
           }
          ],
          "scatter": [
           {
            "fillpattern": {
             "fillmode": "overlay",
             "size": 10,
             "solidity": 0.2
            },
            "type": "scatter"
           }
          ],
          "scatter3d": [
           {
            "line": {
             "colorbar": {
              "outlinewidth": 0,
              "ticks": ""
             }
            },
            "marker": {
             "colorbar": {
              "outlinewidth": 0,
              "ticks": ""
             }
            },
            "type": "scatter3d"
           }
          ],
          "scattercarpet": [
           {
            "marker": {
             "colorbar": {
              "outlinewidth": 0,
              "ticks": ""
             }
            },
            "type": "scattercarpet"
           }
          ],
          "scattergeo": [
           {
            "marker": {
             "colorbar": {
              "outlinewidth": 0,
              "ticks": ""
             }
            },
            "type": "scattergeo"
           }
          ],
          "scattergl": [
           {
            "marker": {
             "colorbar": {
              "outlinewidth": 0,
              "ticks": ""
             }
            },
            "type": "scattergl"
           }
          ],
          "scattermapbox": [
           {
            "marker": {
             "colorbar": {
              "outlinewidth": 0,
              "ticks": ""
             }
            },
            "type": "scattermapbox"
           }
          ],
          "scatterpolar": [
           {
            "marker": {
             "colorbar": {
              "outlinewidth": 0,
              "ticks": ""
             }
            },
            "type": "scatterpolar"
           }
          ],
          "scatterpolargl": [
           {
            "marker": {
             "colorbar": {
              "outlinewidth": 0,
              "ticks": ""
             }
            },
            "type": "scatterpolargl"
           }
          ],
          "scatterternary": [
           {
            "marker": {
             "colorbar": {
              "outlinewidth": 0,
              "ticks": ""
             }
            },
            "type": "scatterternary"
           }
          ],
          "surface": [
           {
            "colorbar": {
             "outlinewidth": 0,
             "ticks": ""
            },
            "colorscale": [
             [
              0,
              "#0d0887"
             ],
             [
              0.1111111111111111,
              "#46039f"
             ],
             [
              0.2222222222222222,
              "#7201a8"
             ],
             [
              0.3333333333333333,
              "#9c179e"
             ],
             [
              0.4444444444444444,
              "#bd3786"
             ],
             [
              0.5555555555555556,
              "#d8576b"
             ],
             [
              0.6666666666666666,
              "#ed7953"
             ],
             [
              0.7777777777777778,
              "#fb9f3a"
             ],
             [
              0.8888888888888888,
              "#fdca26"
             ],
             [
              1,
              "#f0f921"
             ]
            ],
            "type": "surface"
           }
          ],
          "table": [
           {
            "cells": {
             "fill": {
              "color": "#EBF0F8"
             },
             "line": {
              "color": "white"
             }
            },
            "header": {
             "fill": {
              "color": "#C8D4E3"
             },
             "line": {
              "color": "white"
             }
            },
            "type": "table"
           }
          ]
         },
         "layout": {
          "annotationdefaults": {
           "arrowcolor": "#2a3f5f",
           "arrowhead": 0,
           "arrowwidth": 1
          },
          "autotypenumbers": "strict",
          "coloraxis": {
           "colorbar": {
            "outlinewidth": 0,
            "ticks": ""
           }
          },
          "colorscale": {
           "diverging": [
            [
             0,
             "#8e0152"
            ],
            [
             0.1,
             "#c51b7d"
            ],
            [
             0.2,
             "#de77ae"
            ],
            [
             0.3,
             "#f1b6da"
            ],
            [
             0.4,
             "#fde0ef"
            ],
            [
             0.5,
             "#f7f7f7"
            ],
            [
             0.6,
             "#e6f5d0"
            ],
            [
             0.7,
             "#b8e186"
            ],
            [
             0.8,
             "#7fbc41"
            ],
            [
             0.9,
             "#4d9221"
            ],
            [
             1,
             "#276419"
            ]
           ],
           "sequential": [
            [
             0,
             "#0d0887"
            ],
            [
             0.1111111111111111,
             "#46039f"
            ],
            [
             0.2222222222222222,
             "#7201a8"
            ],
            [
             0.3333333333333333,
             "#9c179e"
            ],
            [
             0.4444444444444444,
             "#bd3786"
            ],
            [
             0.5555555555555556,
             "#d8576b"
            ],
            [
             0.6666666666666666,
             "#ed7953"
            ],
            [
             0.7777777777777778,
             "#fb9f3a"
            ],
            [
             0.8888888888888888,
             "#fdca26"
            ],
            [
             1,
             "#f0f921"
            ]
           ],
           "sequentialminus": [
            [
             0,
             "#0d0887"
            ],
            [
             0.1111111111111111,
             "#46039f"
            ],
            [
             0.2222222222222222,
             "#7201a8"
            ],
            [
             0.3333333333333333,
             "#9c179e"
            ],
            [
             0.4444444444444444,
             "#bd3786"
            ],
            [
             0.5555555555555556,
             "#d8576b"
            ],
            [
             0.6666666666666666,
             "#ed7953"
            ],
            [
             0.7777777777777778,
             "#fb9f3a"
            ],
            [
             0.8888888888888888,
             "#fdca26"
            ],
            [
             1,
             "#f0f921"
            ]
           ]
          },
          "colorway": [
           "#636efa",
           "#EF553B",
           "#00cc96",
           "#ab63fa",
           "#FFA15A",
           "#19d3f3",
           "#FF6692",
           "#B6E880",
           "#FF97FF",
           "#FECB52"
          ],
          "font": {
           "color": "#2a3f5f"
          },
          "geo": {
           "bgcolor": "white",
           "lakecolor": "white",
           "landcolor": "#E5ECF6",
           "showlakes": true,
           "showland": true,
           "subunitcolor": "white"
          },
          "hoverlabel": {
           "align": "left"
          },
          "hovermode": "closest",
          "mapbox": {
           "style": "light"
          },
          "paper_bgcolor": "white",
          "plot_bgcolor": "#E5ECF6",
          "polar": {
           "angularaxis": {
            "gridcolor": "white",
            "linecolor": "white",
            "ticks": ""
           },
           "bgcolor": "#E5ECF6",
           "radialaxis": {
            "gridcolor": "white",
            "linecolor": "white",
            "ticks": ""
           }
          },
          "scene": {
           "xaxis": {
            "backgroundcolor": "#E5ECF6",
            "gridcolor": "white",
            "gridwidth": 2,
            "linecolor": "white",
            "showbackground": true,
            "ticks": "",
            "zerolinecolor": "white"
           },
           "yaxis": {
            "backgroundcolor": "#E5ECF6",
            "gridcolor": "white",
            "gridwidth": 2,
            "linecolor": "white",
            "showbackground": true,
            "ticks": "",
            "zerolinecolor": "white"
           },
           "zaxis": {
            "backgroundcolor": "#E5ECF6",
            "gridcolor": "white",
            "gridwidth": 2,
            "linecolor": "white",
            "showbackground": true,
            "ticks": "",
            "zerolinecolor": "white"
           }
          },
          "shapedefaults": {
           "line": {
            "color": "#2a3f5f"
           }
          },
          "ternary": {
           "aaxis": {
            "gridcolor": "white",
            "linecolor": "white",
            "ticks": ""
           },
           "baxis": {
            "gridcolor": "white",
            "linecolor": "white",
            "ticks": ""
           },
           "bgcolor": "#E5ECF6",
           "caxis": {
            "gridcolor": "white",
            "linecolor": "white",
            "ticks": ""
           }
          },
          "title": {
           "x": 0.05
          },
          "xaxis": {
           "automargin": true,
           "gridcolor": "white",
           "linecolor": "white",
           "ticks": "",
           "title": {
            "standoff": 15
           },
           "zerolinecolor": "white",
           "zerolinewidth": 2
          },
          "yaxis": {
           "automargin": true,
           "gridcolor": "white",
           "linecolor": "white",
           "ticks": "",
           "title": {
            "standoff": 15
           },
           "zerolinecolor": "white",
           "zerolinewidth": 2
          }
         }
        },
        "title": {
         "text": "Sunburst Chart of Metal Modification, Form of Porous Carbon, and Detection Techniques"
        }
       }
      }
     },
     "metadata": {},
     "output_type": "display_data"
    }
   ],
   "source": [
    "# Sunburst Chart of Detection Techniques by Metal and Carbon Form\n",
    "fig_sunburst = px.sunburst(sunburst_data, path=['Form of porous carbon', 'Detection techniques'], values='counts',\n",
    "                           title='Sunburst Chart of Metal Modification, Form of Porous Carbon, and Detection Techniques')\n",
    "\n",
    "fig_sunburst.show()"
   ]
  },
  {
   "cell_type": "code",
   "execution_count": null,
   "metadata": {},
   "outputs": [],
   "source": []
  },
  {
   "cell_type": "code",
   "execution_count": 168,
   "metadata": {},
   "outputs": [
    {
     "data": {
      "image/png": "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",
      "text/plain": [
       "<Figure size 1400x800 with 1 Axes>"
      ]
     },
     "metadata": {},
     "output_type": "display_data"
    }
   ],
   "source": [
    "import matplotlib.pyplot as plt\n",
    "import seaborn as sns\n",
    "\n",
    "# Setting the visual theme for the graphs suitable for a scientific poster\n",
    "sns.set_theme(style=\"whitegrid\")\n",
    "plt.figure(figsize=(14, 8))\n",
    "\n",
    "# Scatter plot for LOD_nM across different forms of porous carbon, colored by metal used for modification\n",
    "sns.scatterplot(data=data, x=\"Form of porous carbon\", y=\"LOD_nM\", hue=\"Metal used for modification\", size=\"LOD_nM\", sizes=(50, 200), alpha=0.7, palette=\"viridis\")\n",
    "\n",
    "plt.title('Limit of Detection (LOD) Across Different Forms of Porous Carbon', fontsize=20)\n",
    "plt.xlabel('Form of Porous Carbon', fontsize=16)\n",
    "plt.ylabel('Limit of Detection (LOD) in nM', fontsize=16)\n",
    "plt.xticks(rotation=45)\n",
    "plt.yscale(\"log\")\n",
    "plt.grid(True, which=\"both\", ls=\"--\", linewidth=0.5)\n",
    "plt.legend(title='Metal Used for Modification', title_fontsize='13', fontsize='11')\n",
    "\n",
    "# Enhancing overall readability for poster presentation\n",
    "plt.tight_layout()\n",
    "\n",
    "# Saving the figure in high resolution\n",
    "plt.savefig('LOD_PorousCarbon_MetalModification.png', format='png', dpi=300)\n",
    "\n",
    "plt.show()\n"
   ]
  },
  {
   "cell_type": "code",
   "execution_count": 192,
   "metadata": {},
   "outputs": [
    {
     "data": {
      "image/png": "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",
      "text/plain": [
       "<Figure size 1400x800 with 1 Axes>"
      ]
     },
     "metadata": {},
     "output_type": "display_data"
    }
   ],
   "source": [
    "plt.figure(figsize=(14, 8))\n",
    "\n",
    "# Count plot for detection techniques, segmented by form of porous carbon\n",
    "sns.countplot(data=data, x=\"Detection techniques\", hue=\"Form of porous carbon\", palette=\"coolwarm\")\n",
    "\n",
    "plt.title('Distribution of Detection Techniques by Form of Porous Carbon', fontsize=20)\n",
    "plt.xlabel('Detection Techniques', fontsize=16)\n",
    "plt.ylabel('Count', fontsize=16)\n",
    "plt.xticks(rotation=45)\n",
    "plt.legend(title='Form of Porous Carbon', title_fontsize='13', loc='upper right', fontsize='11')\n",
    "\n",
    "# Enhancing overall readability for poster presentation\n",
    "plt.tight_layout()\n",
    "\n",
    "# Saving the figure in high resolution\n",
    "plt.savefig('4.png', format='png', dpi=300)\n",
    "\n",
    "plt.show()\n"
   ]
  },
  {
   "cell_type": "code",
   "execution_count": 193,
   "metadata": {},
   "outputs": [
    {
     "name": "stderr",
     "output_type": "stream",
     "text": [
      "C:\\Users\\DELL\\AppData\\Local\\Temp\\ipykernel_11232\\1017143275.py:4: FutureWarning:\n",
      "\n",
      "\n",
      "\n",
      "Passing `palette` without assigning `hue` is deprecated and will be removed in v0.14.0. Assign the `x` variable to `hue` and set `legend=False` for the same effect.\n",
      "\n",
      "\n"
     ]
    },
    {
     "data": {
      "image/png": "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",
      "text/plain": [
       "<Figure size 1400x800 with 1 Axes>"
      ]
     },
     "metadata": {},
     "output_type": "display_data"
    }
   ],
   "source": [
    "plt.figure(figsize=(14, 8))\n",
    "\n",
    "# Box plot for LOD_nM across different detection mechanisms\n",
    "sns.boxplot(data=data, x=\"Mechanism\", y=\"LOD_nM\", palette=\"cubehelix\")\n",
    "\n",
    "plt.title('LOD_nM Across Different Detection Mechanisms', fontsize=20)\n",
    "plt.xlabel('Detection Mechanism', fontsize=16)\n",
    "plt.ylabel('Limit of Detection (LOD) in nM', fontsize=16)\n",
    "plt.xticks(rotation=45)\n",
    "plt.yscale(\"log\")\n",
    "plt.grid(True, which=\"both\", ls=\"--\", linewidth=0.5)\n",
    "\n",
    "# Enhancing overall readability for poster presentation\n",
    "plt.tight_layout()\n",
    "\n",
    "# Saving the figure in high resolution\n",
    "plt.savefig(\"3.png\", format='png', dpi=300)\n",
    "\n",
    "plt.show()\n"
   ]
  },
  {
   "cell_type": "markdown",
   "metadata": {},
   "source": [
    "# Clustering to find patterns: Without a specific prediction task in mind, you might apply clustering techniques to discover inherent groupings or patterns in the data. This could reveal relationships between materials, techniques, and outcomes that aren't immediately obvious."
   ]
  },
  {
   "cell_type": "markdown",
   "metadata": {},
   "source": [
    "Interpretation of Corrected Results\n",
    "Cluster Distribution: The distribution of data points across the clusters might look similar to the initial analysis, but now it's based on a dataset where missing values have been appropriately handled, ensuring the analysis's integrity.\n",
    "Centroids: The location of the centroids provides a visual cue to the density and central tendency of each cluster in the reduced feature space.\n",
    "PCA and Clustering Integrity: By correctly preprocessing the data, including handling missing values, the PCA and clustering results are now more reliable, providing a sound basis for interpreting the underlying patterns in the data."
   ]
  },
  {
   "cell_type": "code",
   "execution_count": 196,
   "metadata": {},
   "outputs": [
    {
     "name": "stderr",
     "output_type": "stream",
     "text": [
      "c:\\Users\\DELL\\AppData\\Local\\Programs\\Python\\Python312\\Lib\\site-packages\\sklearn\\preprocessing\\_encoders.py:975: FutureWarning:\n",
      "\n",
      "`sparse` was renamed to `sparse_output` in version 1.2 and will be removed in 1.4. `sparse_output` is ignored unless you leave `sparse` to its default value.\n",
      "\n",
      "c:\\Users\\DELL\\AppData\\Local\\Programs\\Python\\Python312\\Lib\\site-packages\\sklearn\\cluster\\_kmeans.py:1416: FutureWarning:\n",
      "\n",
      "The default value of `n_init` will change from 10 to 'auto' in 1.4. Set the value of `n_init` explicitly to suppress the warning\n",
      "\n"
     ]
    },
    {
     "data": {
      "image/png": "iVBORw0KGgoAAAANSUhEUgAAA2UAAALLCAYAAAB5Fyp5AAAAOXRFWHRTb2Z0d2FyZQBNYXRwbG90bGliIHZlcnNpb24zLjguMiwgaHR0cHM6Ly9tYXRwbG90bGliLm9yZy8g+/7EAAAACXBIWXMAAA9hAAAPYQGoP6dpAADhU0lEQVR4nOzdd1wUd+I+8GcbC0vvSAcpUpQqioo9auyaHqMpamISzZlvcomXS2KSS7vLXZqaGI1Ro6Zq7L2LIAp2sCAoooAI0uu2+f3hDyKhCAg7IM/79brX95uZz+w+yyy4z87MZySCIAggIiIiIiIiUUjFDkBERERERNSVsZQRERERERGJiKWMiIiIiIhIRCxlREREREREImIpIyIiIiIiEhFLGRERERERkYhYyoiIiIiIiETEUkZERERERCQiljIiIiIiIiIRsZQRUYeRkpKCd999F6NGjUJISAjCw8Px+OOPY82aNdBqtXXGHj16FP7+/vjoo4/aPdeVK1ewffv2dn8eABg1ahT8/f1x4cKFJscVFhYiODgYw4YNgyAImDp1Kvz9/VFSUmKQnHdz/fp1+Pv746WXXqpdtmDBAvj7+2PPnj3t+tw6nQ6rV69GRUWFwZ+7rdy6dQsvv/wyIiIiEBoaivnz5wMw7HsRAObNmwd/f/96/wsODkZ0dDSmT5+OgwcPNrp9bm4uFixYgIkTJ6J3797o1asXxowZg//+978oLCxs8rnVajV69+4Nf39/LF26tEW5hw4d2mDuHj16IDIyEhMnTsTChQtRVVXVosdtjpKSEvj7+2Pq1Klt/th/VVpaitWrV9dZ1tH+FhBR88jFDkBEpNfrsWDBAnz77bdQKBQYOHAghgwZgtLSUhw+fBgffPABduzYgaVLl8LY2Nig2S5cuICHH34YTzzxBB588MF2f76JEyfiiy++wLZt29CjR49Gx+3YsQMajQYTJ06ERCLBpEmTEBUVBaVS2e4ZWysqKgqzZ8+Gl5dXuz7Pa6+9hu3bt2P8+PEGf+628tFHH2HPnj2Ijo5Gr1690KtXL4O/F+80adIkuLi41P63VqtFTk4OduzYgcOHD+PDDz/EI488Umeb3bt3Y968eSgrK0NUVBQmTJgAADhx4gSWLl2KDRs2YM2aNfDw8GjwOffu3YuSkhKYmJhg7dq1mDlzZotzz549u85/63Q6ZGdnY+/evViwYAFOnz6NJUuWQCKRtPixO4KRI0fC3t4eTz31VO2yzvC3gIjqYykjItEtXrwY33zzDUJDQ/H111/D0dGxdp1arcZbb72FzZs3Y968efjyyy8Nmq24uBgajcZgzzdhwgR89dVX2LZtG/7v//6v0XGbN2+GRCLBxIkTAQCTJ082UMLW69OnD/r06dPuz3Pr1i3RnrutpKSkQCaTYcmSJTAyMgJw++iwId+Ld5o0aVKDP7/HHnsMU6ZMwaeffoqxY8fCxMQEAJCYmIhXXnkFVlZW+PXXXxEaGlpnu9WrV+Nf//oXnn32WWzfvr3BArFx40aYmZnhkUcewfLly5GYmIjevXu3KPecOXMaXJ6bm4vJkyfj0KFDiIuLw4ABA1r0uB3FrVu3YG9vX2dZZ/hbQET18fRFIhLVlStX8M0338DGxgZLly6tU8gAwMjICJ988glcXFywY8cOpKeni5TUMLp164aoqChcu3YNZ86caXBMVlYWTpw4gd69e8PNzc3ACckQNBoNVCpVbSHrqCIiIhAWFoaysjIcP34cwO0j3/PmzYNer8fChQvrFTIAeOqppzB27FhkZWXhjz/+qLe+oKAAsbGxiIqKqj0q+Pvvv7dZbkdHRzz22GMAgCNHjrTZ4xIRtRZLGRGJasOGDdBoNJgyZQosLCwaHKNQKPDOO+/g448/hrW1daOP1di1FA1d3wQAq1atwuTJkxEWFobw8HA8+eSTda7XWbBgAaZNmwYA+PHHH+Hv74+jR4/Wrk9JScFLL72EPn36oFevXpgwYQJ+/vlnCIJQ53n8/f0xb948LF68GJGRkYiMjMSKFSsafR2TJk0CAGzbtq3B9Vu3boUgCLVHyRp77YcPH8bTTz9dewrcuHHj8N1330GtVteO+eOPP+Dv799gnoYeU6PRYOXKlXj00UcRERGB4OBgDBkyBO+++y4KCgoafU1A/eu6GrteqeZ/Q4cObfHz+vv749ixYwCA3r17117X09g1ZXFxcXj22WcRHh6OXr16YdKkSVizZg30en2dcUOHDsXUqVORnp6OWbNm1ZaRmTNn3vX6vxrl5eVYtGgRJkyYgLCwMPTs2RMjRozAf/7zn9rr32r2R1ZWFkpLS2t/FmK9F5uj5ouUoqIiAEBCQgKuX7+OPn36ICIiotHtZs2ahbfeeqvBI3CbN2+GVqvFgAEDEBISAhcXF+zcuROlpaX3lPVOtra2AFDn9wEAysrK8N///hfDhw9HcHAwYmJiMH/+/AaPwF6/fh2vv/46+vXrh7CwMMyePRvZ2dn1xjV1TePQoUMRGRlZb/m6devwyCOPICwsDP3798eLL75Y+16ruaYWuH2Kdc17BGj491av1+Onn37CxIkT0atXL0RERODZZ59FXFxcvddT81h79+7Fww8/jF69eiE6Ohpvv/32XX/Hiaj1ePoiEYkqNjYWABATE9PkuCFDhrTp8y5ZsgT/+9//EBQUhMcffxwajQY7duzA3LlzUV1djYkTJyIqKgqTJk3C+vXrERISgpiYmNrrag4ePIjZs2dDoVBgxIgRsLGxQWxsLN577z2cO3cO//rXv+q9zt27d2PSpEnIz89HSEhIo9lGjBiB999/H9u3b8ebb75Z73qXzZs3Q6VSYdSoUY0+RlJSEmbNmgVra2uMHj0aSqUS8fHx+Pzzz3H16lV8/PHHrfq5vfbaa9i5cyciIiLw6KOPQq1W4/Dhw/j111+RkpKCdevWNfuxhg8fXuc6pRr79+9HSkoKwsLCWvy8s2fPxvr165GVlYWZM2fC29u70edftWoVPvzwQ5ibm+OBBx6ASqVCbGwsPvjgAyQlJeHzzz+v87PPycnB448/Dk9PTzz66KO4cuUK9u/fj1OnTmHnzp2wsbFp9Lm0Wi2effZZnDlzBgMGDMCAAQNQXl6Offv2YdmyZbh+/Tq+/vprBAQEYPbs2Vi5ciWqq6vx/PPPA4Bo78XmyMzMBPBnOTt06BAA3PWUQF9fX/j6+ja4buPGjZDJZBg5ciQAYPTo0Vi6dCk2bdqEKVOm3FPeGjV/e+68drO0tBRPPvkkUlNTER0djREjRuD69ev47bffEBsbi19++QUODg4AgBs3buDxxx9Hfn4+hg4dCmdnZ8TGxmLGjBn3nO3dd9/Fr7/+ChcXF0yYMAEajQZbtmxBQkICfv75Z7i4uGD27NlYuHAh7Ozs8PjjjyMqKqrBx9Lr9Xj11VexY8cOuLm54aGHHkJFRQX27t2L6dOn45133qn3M92/fz+++eYbDB48GH369EFcXBx+//13pKWl4Zdffrnn10dEDRCIiEQUHR0t+Pn5CUVFRS3aLiEhQfDz8xM+/PDD2mVPPfWU4OfnJxQXF9cZe+3aNcHPz0948cUXa5dFRUUJw4cPFzQaTe2ynJwcITg4WJg8eXKTz1NRUSH07dtXiI6OFq5du1a7XKfTCXPmzBH8/PyEAwcO1C738/MT/Pz8hL179zb79b3xxhuCn5+fkJSUVGf5+fPnBT8/P+GNN96os/yvr70mR2ZmZu0YtVotTJgwQQgICBBKS0sFQRCEdevWCX5+fsLy5cvrZfjrY548eVLw8/MTXnvttTrjNBqNMHbsWMHPz0+4fPmyIAgN/8y//vprwc/PT9i9e3ejrzspKUkICgoSxowZI5SVlbX4eRvK3dBzZ2ZmCoGBgcLgwYPr/IzKy8uFadOmCX5+fsL69etrlw8ZMkTw8/MT3n//fUGv19cuf/vttwU/Pz/hp59+avQ1CYIgbNmyRfDz8xM+//zzOstLS0uFfv36CQEBAUJFRUWd54uIiKgzVoz34ptvvin4+fkJCQkJDa7fvXu34OfnJwwYMECorq4WBEEQ/va3vwl+fn7Crl27mvUcf5Wamir4+fkJzz77bO2ymvf9xIkTm/UYNfvrr6qrq4WMjAzhk08+Efz8/IQHHnigNrcgCMJ7770n+Pn5CatXr66z3Z49ewQ/Pz/hlVdeqV1W8zv6xx9/1C4rLy+vff899dRTtcubeu//dV/Hx8cLfn5+wpNPPln7eyoIgnD8+HHB399feOGFF2qX+fn5CePHj6/zeH99/69fv17w8/MTnnvuOaG8vLx2XGZmptC/f38hMDCw9neg5vfWz89P2LZtW+1YtVotjBkzRvDz8xPS0tLqvQYiunc8fZGIRFVzio2pqalBn1cQBBQUFODatWu1y5ycnLB9+3b89NNPTW67b98+FBQUYPr06XB1da1dLpVK8dprrwFAvSNGxsbGGDRoULPz1Zya+NdTGDdv3gzgz1McG1Nz+t3Zs2drlykUCixduhRHjx6FmZlZs7PUcHJywqeffoq//e1vdZbL5fLa09QaOsWruXJycvDKK6/A2NgYCxcurH1PtMfzbtq0CVqtFi+//HKd6/JUKhXefvttAPX3IQDMnDmzztGzmn2alZXV5PMFBgbiww8/xNNPP11nuZmZGQIDA6HT6VBcXNyi1wAY5r0IAOvXr8eCBQtq//e///0Pzz//PF555RXI5XK89957tde/1Zxi2Nrf6Y0bNwIAxowZU7usR48e8PX1xblz55CSktLsx/rrKbE1p4wuX74cUVFRWLZsWW1urVaLDRs2wNfXt96Ro2HDhiE8PBy7d+9GWVkZ1Go1du3aBV9f3zq/iyqVCq+//nqrXneNrVu3Arh9dPjO39Pw8HD83//9X4vPGli/fj0A4L333oNKpapd7ubmhhdffLH2dd/Jzc2tzgyfCoUC0dHRAO7+Xiei1uHpi0QkKisrK+Tl5aGkpKTJ07/a2mOPPYYlS5Zg9OjR6NmzJwYOHIhBgwahZ8+ed902OTkZwO3reGqu47iTTCard52Rk5MTZDJZs/P17dsXzs7O2LlzJ/75z39CKpVCEARs27YNLi4ud51J8JFHHsGePXvw6quv4quvvkJMTAwGDhyIvn37tnryCCcnJ0yaNAlarRYpKSm4cuUKMjMzcf78ecTHxwNAvWuxmquqqgovv/wyCgoK8O2338LT07Ndn7dm/zQ0m5+vry8sLCzq7UOlUolu3brVWVbzofmv1yX9lZeXF7y8vFBdXY3Tp0/XvoaUlJTaa+B0Ol2LXgNgmPci8OcH+xpGRkaws7PDqFGj8Mwzz6BXr16166ysrACgVSVTr9dj8+bNMDIywogRI+qsGzduHD7//HP8/vvvCAoKatbj1UyJr9frceHCBRw4cABWVlb4/PPPa0tGjStXrqCiogI6na7Bn2V1dTV0Oh0uXrwIKysrVFRUIDg4uN644OBgKBSK5r7kei5cuACZTNbg36Ka01lb+niOjo4NTgpU86XGX98jd/7+1TA3Nwdw9/c6EbUOSxkRicrNzQ15eXm4evVqk6WstLQUlZWVtddz3Kv/+7//g4eHB3755RecOXMGp0+fxoIFC+Dl5YX58+fX+8D21yzAn99oN+SvH0hben81iUSC8ePHY/HixTh69Ciio6ORlJSE7OxsvPTSS3e9r9KgQYPw448/YtmyZYiPj8eqVauwatUqWFlZYfbs2a2+se0vv/yCRYsW4ebNmwAACwsLhISEoHv37jh9+nS9iSWa66233kJKSgpeeeUVDB48uN2ft6ysDMCfHzT/ysHBAVevXq2zrKEyW7Mf7vb8er0e3333HZYvX1773rC1tUVYWBhcXFyQnp7eqp+dId6LwO3JRZp7S4GaI3Y115o1JT09Hd27d6/974SEBNy4cQMAGpz8AgC2bNmCefPmNet1/HVK/D179uCVV17Bq6++ijVr1tR57pqj9pcvX8bChQsbfczi4uLa/d7Q0UCZTNaqI9F35lAqlfdU7O5UVlYGOzu7BtfV/D396020m3qvE1H7YCkjIlHFxMTgxIkTiIuLqzOxw1/9+uuv+Oyzz/Diiy9i7ty5TT7mX4+a/PUDB3D7A8bDDz+Mhx9+GLdu3UJ8fDx2796NXbt24cUXX8S+ffsaLYk1pwCtWLGiyfJ2ryZOnIjFixdj+/btiI6Orr032d1OXawRFRWFqKgoVFRUICkpCQcOHMD69evx4Ycfwt3dHYMGDWqyVFRWVtb57+3bt2P+/Pnw9/fH/PnzERQUVHvkaP78+Th9+nSrXud3332HrVu3Yvjw4fVmyGyv5635MJ2bm9vgfi4uLq494tMWfvjhB3z55ZeIiorCzJkzERAQUHt/qRkzZrT6Vg+Gei+2RExMDBYvXozDhw/jhRdeaHTcmTNn8MgjjyAiIqL2lOGa0+iGDRvWYJE4evQoMjIysGPHjjqzjzbX8OHD8eKLL2LhwoV46aWX8Mcff9S+F2r+74QJE/Cf//ynycep2V8NzQYpCEK9352a37OGjuj+daxKpUJ1dTW0Wi3kcnm9sTX3gmsuU1NT5ObmNriuprC35XudiFqH15QRkajGjRsHhUKB1atXNzrddWVlZe09ivr379/oY9V8u/vXDzl//ca+sLAQCxYsqD0ly9bWFuPGjcPXX3+NyZMno7KyEufOnQPQ8LfDNVNR15w6dqeioiJ89NFHtdfF3AsvLy+EhoZi79690Gg02L17NyIiIuDu7n7XbVeuXFl7o22VSoWBAwfi3Xffxfz58wGg9p5SNd/G10zJXkMQhDrX2wG3j1AAwP/+9z8MHz68zql8ly9frt2uJfbv348vv/wS3t7e+Pe//93gz7s9nrdmxr2an8Odrl69iry8vEZnBmyNLVu2QCaT4dtvv8XAgQNrC5kgCM1+DWK+F1siLCwMnp6eOHbsWIM/3xorV64EAPTr1w/A7ffg7t27YWpqis8//xwffPBBvf/VlPZ7uWfZiy++iKCgIGRkZOCzzz6rXe7l5QUjIyOkpKQ0uC9WrFiBb775BoWFhXB3d4e5uTlOnjxZb1xaWlq9L4Ia+z0rKSmpvZVADT8/P+h0utq/QXd66aWXEBkZWe9vXFN69OiB0tJSpKam1luXlJQEAPDx8Wn24xFR+2ApIyJRubm54ZlnnkFhYSFmzJhRe3pajdLSUrz++uvIyMjAkCFDGrwGqIaXlxeA2x/0a1RXV2PZsmV1xpmamuLHH3/EF198Ue8DUc09hpydnQGg9ptqjUZTO+aBBx6AmZkZvv/+e1y5cqXO9p999hl+/PHHZp261RwTJkxAfn4+li9fjoKCgmYfHTh8+DAWL16MU6dO1Vlec5F+zeurmTI+Nja2zjVNP/30U72fjVKpBADk5+fXWb5hw4ba66K0Wm2z8gG3jza8/vrrMDc3x6JFixo95aulz1vzAfjOffZXEyZMgFwux+LFi+uUz4qKCnzwwQe1Y9qKUqmETqerd5+nRYsW1e6Tu/3sxH4vNpdMJsM///lPAMArr7xS7z2o0+nw7bffYsuWLejWrVvt5Ce7du1CRUUFHnjggUZPTRwxYgTMzMyQlJRU7/U2l1wux0cffQSZTIZffvmltlgplUqMHj0aaWlpWL58eZ1tjh49iv/85z9Yt24dLC0toVAoMHbsWGRmZtYZq1ar8b///a/ec9b8nh04cKDO8sWLF9c7ejZ+/HgAwBdffFGn3J08eRLHjh1DWFhY7dEyhULR5PscACZPngwA+Oijj+qUwmvXrmHRokVQKBR1JlUhInHw9EUiEt2rr76KW7du4Y8//sCwYcMwePBguLu7Izc3F3FxcSgoKEB4ePhdTyl6+OGH8dNPP+Hjjz/G6dOnYW1tjb1798Lc3LzOrGNGRkZ45ZVX8OGHH2Ls2LG1HwITExNx9uxZTJgwofZDVM29l7Zv3w6VSoVJkybB19cXH374IV5//XVMmjQJw4cPh4ODAxITE3HmzBn07NkTzz33XJv8bMaMGYNPPvkE33zzDUxMTOrMiNaUOXPm4OjRo5g2bRpGjRoFR0dHpKWlYf/+/ejevXvtB7/AwEAEBQXh5MmTePLJJ9G7d29cvHgRCQkJCAkJqXNq4Pjx47F161bMnj0bY8aMgZmZGc6ePYtjx47B1tYWt27dqlfkmvLiiy+irKwMDz74IPbu3Ytt27bVO0Lx9NNPt/h5a/bZW2+9hf79+9fedPlObm5uePPNN/HRRx/V7kOVSoVDhw7h2rVrGDNmTKtOj2vM+PHjcerUKTzxxBN48MEHoVAocPToUaSkpDT7Zyf2e7ElBg4ciH/9619477338NhjjyEqKgpBQUGoqKhAYmIiLl++DHt7eyxevLj2ur6aUxdr3psNMTExwejRo/Hbb7/h999/xxtvvNGqfAEBAZg2bRqWL1+Od999F3/88QcUCgXefPNNnDx5Ev/+97+xd+9e9OrVC7m5udi1axfkcjk+/vhjSKW3v89+9dVXceTIEXz66ac4fPgwunfvjiNHjqCoqKj2i4QagwYNgoODA7Zv347S0lL06NEDJ0+exKVLl+Dn54ecnJzasQMGDMBDDz2EdevWYcKECYiJiUF5eTm2bt0KU1NTvPvuu7VjHRwccPnyZcyfPx+DBg2qc8P1GhMmTMC+ffuwc+dOjB8/HgMHDqy9T1lZWRnefvvtZh19J6L2xSNlRCQ6mUyGTz75BMuWLcOgQYNw4cIFrFq1Cvv27YOnpyfef/99rF69GhYWFk0+To8ePbBkyRIEBwdj+/bt2LRpE6Kjo7FixYp6s81NnToVX3zxBVxdXbFt2zasWbMGarUa//jHP+rcWNnFxQVz586FRCLBmjVrcObMGQDAgw8+iNWrV6Nv376IjY3F6tWrUVZWhpdeegkrVqxosyn+LS0tMWTIEFRWVtYeFWmOXr16YfXq1ejfvz8SEhKwfPlyXLx4EdOmTcOaNWvqlNTvvvsOkyZNQkZGBlavXo3KykqsXLmy3k2FBw8ejC+++ALu7u7YvHkz1q9fj+rqarz77rv4/vvvAdy+kXFz1UyksX37dvz3v//FggULsHDhwjr/KykpafHzzpo1CyEhIYiLi8OaNWsaff5p06Zh6dKlCAoKwq5du7B+/XpYWVnhww8/bPBox7148skn8c4778DKygq///47Nm/eXOc0vb++hoaI/V5sqUcffRQbN27E448/jsLCQvz+++/YsGEDZDIZZs2aha1bt9aeRpqbm4ujR4/C3t7+rtfG1Rz52bhx412PEjXllVdegYuLC1JTU2vfRzY2Nvjtt9/w3HPPITc3F6tWrUJSUhKGDh2K3377rc5kJ5aWlvj555/x+OOP4+LFi/j1119hZ2eHFStW1Jsow8jICKtWrcIDDzyAU6dO4eeff4a5uTl+/vnnBmdF/OijjzB//nwYGxvj119/xe7duzFw4MB649999124urpi3bp12Lt3b4OvUyKR4Msvv8Tbb78NU1NTrF27Fvv370doaCiWL1/eZjfjJqJ7IxFaO1UWERERERER3TMeKSMiIiIiIhIRSxkREREREZGIWMqIiIiIiIhExFJGREREREQkIpYyIiIiIiIiEbGUERERERERiYg3j25DJ0+ehCAIUCgUYkchIiIiIiIRaTQaSCQShIWF3XUsj5S1IUEQwNu+3V8EQYBareZ+7YK477s27v+ui/u+a+P+77raY9+3pBvwSFkbqjlC1rNnT5GTUFupqKjA+fPn4ePjA5VKJXYcMiDu+66N+7/r4r7v2rj/u6722Pdnz55t9lgeKSMiIiIiIhIRSxkREREREZGIWMqIiIiIiIhExFJGREREREQkIpYyIiIiIiIiEbGUERERERERiYiljIiIiIiISEQsZURERERERCJiKSMiIiIiIhIRSxkREREREZGIWMqIiIiIiIhExFJGREREREQkIpYyIiIiIiIiEbGUERERERERiYiljIiIiIiISEQsZURERERERCJiKSMiIiIiIhIRSxkREREREZGIWMqIiIiIiIhExFJGREREREQkIrnYAYiIiIi6GkEQcPXqVRQXF8PIyAje3t5QKpVixyIikbCUERERERlQUlISduzZgSs3rkCj10AqkcLW1A6D+g7EyJEjWc6IuiCWMiIiIiID2bt3L37e/DOMPI3RY3IQLB0sUV1RjWvJmVh7YB0yrmVg1sxZMDIyEjsqERkQrykjIiIiMoCsrCz8tuV32Ebao/eEKNi52UGhVMDM2gwBMYEIfTgcSWnHsW/fPrGjEpGBsZQRERERGUB8fDyqjKvgF+3f4HrrbtawDbTDoSOHoNVqDZyOiMTEUkZERERkAKfPn4a9vwOk0sY/frkFueNGcS6ys7MNmIyIxMZSRkRERGQAao0aCqWiyTEKYwUEQQ+NRmOgVETUEbCUERERERmAo50jinIKmxxTmFUApVQJa2trA6Uioo6ApYyIiIjIAPr36Y+yjDKUFZQ2uF6v1+PqyQyEBYTBxsbGwOmISEwsZUREREQGEBYWhh7O/khal4SSvOI669RVapzYehzGJUo8MPwBkRISkVh4nzIiIiIiA1AqlXjx+RexeOlinFh9HEpnJcztLVBVUYWSK8WwVdhi+tPPwdvbW+yoRGRgLGVEREREBmJjY4M3XnsDZ8+exdHEoyi4VQClUomQ0SGIioqChYWF2BGJSAQsZUREREQGJJfLERYWhrCwMLGjEFEHwWvKiIiIiIiIRMRSRkREREREJCKWMiIiIiIiIhGxlBEREREREYmIpYyIiIiIiEhELGVEREREREQiYikjIiIiIiISEUsZERERERGRiFjKiIiIiIiIRMRSRkREREREJCKWMiIiIiIiIhGxlBEREREREYmIpYyIiIiIiEhELGVEREREREQiYikjIiIiIiISkVzsAERERPeqsLAQ169fh16vR7du3eDg4CB2JCIiomZjKSMiok4rLy8PW7duxvmUeAi6EgACIDWDt08kRo8eB3d3d7EjEhER3RVLGRERdUq5ubn49pv/wVh+CRNH2SEowBsyqQQX0wpxMG4vFn97HtNnvIru3buLHZWIiKhJvKaMiIg6HUEQ8Osvq2FufAmzZ/ijT6QTzEwVMDGRI7SnPV6aHgCPbjewZs330Gq1YsclIiJqEksZERF1OteuXcP1a6fx4AMuUKkU9dYrFFKMH+2BsuLLSE5OFiEhERFR87GUERFRp5OamgqVshx+3a0aHeNor0I3By1SU1MNF4yIiKgVWMqIiKjT0Wq1UColkEolTY4zMZHw9EUiIurwWMqIiKjTsbGxQXGJBEXF1Y2O0Wj0yLmhh42NjQGTERERtRxLGRERdTq9evWCXOmM+KM5jY5JOpWLSrUVevfubcBkRERELcdSRkREnY6xsTEGDxmHQwkaHD6SDZ1OX7tOEAScOpuHrTuLEBk1Era2tiImJSIiujvep4yIiDqlYcOGobKyElv2/IFDR84jwNcYUpkEqekVuFVkhp4h4zF58kNixyQiIrorljIiIuqUJBIJxo0bh4iICCQkJOBqRir0gg5u3l54NDoanp6ekEiangiEiIioI2ApIyKiTs3Z2RmTJ08WOwYREVGr8ZoyIiIiIiIiEbGUERERERERiYiljIiIiIiISEQsZURERERERCJiKSMiIiIiIhIRSxkREREREZGIWMqIiIiIiIhExFJGRETUSoIgQK/Xix2DiIg6Od48moiIqAUEQUBqairi4mJx6eIJ6HRaWFk7IarPQPTt2xdmZmZiRyQiok6GpYyIiKiZBEHAxo0bEX94HbrZl2PkYCuYGMuRef0S9u9OQcKR/Zj5/CtwdHQUOyoREXUi900pW7JkCVauXIm4uLhmjdfpdPjhhx/w+++/48aNG/D09MSsWbMwevTodk5KRESd1eHDhxEf+wsmjjZHnwgPSCQSAEDvcEc8MESNH1adx7Jli/D662/DyMhI5LRtIzc3F0ePHsW1rOuQSiTwcPdA3759YWNjI3Y0IqL7xn1Ryg4ePIivv/4alpaWzd7m3//+N1auXIlJkyYhNDQUO3bswKuvvgq9Xo+xY8e2Y1oiIuqM9Ho9Dh3ciYheEvSNdKq33sLcCE895o3/LbqA06dPo3fv3iKkbDt6vR6bNm3C9oM7UKmohLmrBQRBQPy+I9iyZwsmjpqIBx54oLaYEhFR63XqUiYIAtasWYNPP/0UGo2m2dtlZGRg1apVmDp1Kt5++20AwCOPPIIpU6bg008/xYgRI+6bbziJiKhtXL58GcWFlxE9uX4hq2FnawIfLz1OnEjs9KVs+/btWL9/PdxiPOEZ4gmZXAYA0Gq0SDt2Cb9s/QVGRkYYPHiwuEGJiO4DnXr2xcceewz/+te/0KdPHwQFBTV7u61bt0Kv12PKlCm1y2QyGaZMmYK8vDwkJia2R1wiIurEysrKAEENe3uTJsc52ClRWlpgoFTto7i4GNv3b4dzH1d0j+heW8gAQK6Qo0f/AFj1tMHmXVtQVVUlYlIiovtDpy5l2dnZ+OCDD/D999/D1NS02dslJyfDzMwMXl5edZbXFLvk5OQ2zUlERJ2fsbExIJGjuLi6yXHFJRoYG3fuGRiPHz+OYn0JvMK9Gx3j09sXN8tu4syZMwZMRkR0f+rUpy/u27evVacZ5ubmNjgzloODA4DbZY+IiOhO3t7eMDF1QdLJmxg9wrPBMWXlGpy/pMOD48ING66N5eXlwdjWGAqlotExJhYmUFgokJeXZ8BkRET3p05dylp73Vd5eXmDR9aMjY0BAJWVla3OJAgCKioqWr09dSw174V7eU9Q58R93/YEQcC1a9dw/PhxFNy6CbnCCD4+fggPD4eJSdOnBBpaY/s/LDwGsbE/wtszHz7eVnXWaTR6/Lz2EiBzRWBgYKf+t0Cv10NTrYFWq210jCAI0Kq10Gq1nfq1/hV/97s27v+uqz32vSAIzZ4MqVOXsnvR1A/oXmaS0mg0OH/+fKu3p44pIyND7AgkEu77tqFWq7Fr13ZkXz8Ne5tKuDrLUV2ix8Y/BPyx1h6DhoyFr6+v2DHr+ev+d3Z2hsoiGIu+T0TPACl6BlrB2FiGrOxyHDtZglvFDhj14DBcvXpVnMBtqORaMbIuX4OpTcOnYhZmF6IivwKCINyX/+7xd79r4/7vutp63zf3IFKXLGUqlarBC5NrlpmZtf5aAIVCAR8fn1ZvTx1LZWUlMjIy4Onp2eG+yaf2xX3fdgRBwMqVy6EuP4NZTzsisIdN7ZdfpWVqbN2ZiaRjOxEQENBhillT+z8gIABHjx7F0aOH8Mf2KwB0kMltERQ8Hs/FxMDJqfHZGTsLX19fnEo+haxT2Yic0BtSWd1L0LUaLc6fPoee3YPvu2nx+bvftXH/d13tse/T0tKaPbZLljJnZ+cGZ1i8efMmADR4vVlzSSQSqFSqVm9PHZOJiQn3axfFfX/vLl26hIz0BDz9uAsC/OrecNjaSo4nH/FH+Y/ncWD/bvTq1atDfcBvbP8PHz4cw4YNQ2FhITQaDSwsLO67D3DPTXsOC5YuQOIfx+DTxxcOXg4QBAE30m4gPeESrCot8cyLz7Rooq3OhL/7XRv3f9fVlvu+Jf+edclSFhQUhD179uDatWtwc3OrXZ6SkgIA6Nmzp1jRiIjuOwkJCXC0q0APX88G10ulEgzq3w0rfjmDrKwsuLq6GjZgK0kkEtjY2Nx9YCfl7++PubPmYsPmDbiw+QLO6k9DAglMpCYI6d4LD016qNPsKyKijq5LlrKRI0fi66+/xo8//oh//vOfAACdToc1a9bA0dERkZGRIickIrp/5Oddh5eHcZPfGHp5WAD6G8jLy+MH/Q7Ex8cHr819DZmZmcjJyYFEIoGrqytcXFzEjkZEdF+570tZRUUFdu/eDTs7O/Tv3x8A0L17dzz22GP48ccfUV5ejtDQUGzbtg0nT57EF198AYWi8SmAiYioZWQyBTQafZNjbq+XQiaTNTmODE8ikcDDwwMeHh5iRyEium/d96WsoKAAb7zxBqKiompLGQC88847sLOzw7p167B161Z4eXnh66+/xsiRI0VMS0R0/+nuE4BjcXHQaPRQKKQNjjmTnA+p3Jof/ImIqEu6b0rZqlWrGlzu6uqKixcv1lsul8sxZ84czJkzp72jERF1aX379sWhAxuw52AmHhzuWW99cUk1DsbfQlDPybC0tDR8QCIiIpE1/JUlERFRG7G1tcXosU/h4BHgl3WXkJVdBgBQq3VIPJGLb5ddAuTBGDdunMhJiYiIxHHfHCkjIqKOa9CgQVCpVNi1cyNOfZ8OubQaOr0EkFrDP2AMJk9+GFZWVmLHJCIiEgVLGRERGUTv3r0RERGB1NRU3Lp1C3K5HL6+vvf1tPJERETNwVJGREQGI5VK0aNHD7FjEBERdSi8poyIiIiIiEhELGVEREREREQiYikjIiIiIiISEUsZERERERGRiFjKiIiIiIiIRMRSRkREREREJCKWMiIiIiIiIhGxlBEREREREYmIpYyIiIiIiEhELGVERITSS2nI3rLtnh4je8s2lF5Ka6NE1BS1Wo3r168jMzMTFRUVYschIqJ7JBc7ABFRV1ZcXIzS0lIolUrY2dlBIpEYPEPppTSkzH8fuvIKCFotXCaOb/FjZG3YhIzlKyEzVSHo/fkw9/Vph6RUUVGBvXv3IinxACrLcwEIkCss0DNkIIYPHw57e3uxIxIRUSuwlBERieDSpUvYv38P0lKTAKEakMjh4OSPmJihiIqKMlg5u7OQAUDG8pUA0KJiVlPIAEBXXoGU+e+zmLWDsrIyfPvtVygtOI4+EaYIDrSDXCbFpctFiD/2GxaeT8LM51+Fq6ur2FGJiKiFWMqIiAwsISEB69ctgatTMR4dbwdHewuUlKmRdOIk1v12GlevTsIjjzxqkGJWejG1tpDVaEkxu7OQ1dCVV6D0YipLWRtbu/Y3VJYkYfbM7rCzNald3s3JFL3DHfHD6lSsXPkd5s17DzKZTMSkRETUUrymjIjIgLKzs7F+3TL0CavCS9MDEB7iABdnMwT42WDq4/54bIIlko6ux9GjRw2Sx3nsaHg++3S95RnLVyJrw6Ymt22okAGA57NPw3ns6DbLSEBBQQHOp8Rh5FD7OoWshomxHJPHeaC44BLOnTsnQkIiIroXLGVERAZ05MgRmKvyMf5B7waPhIWFOCDYX8Dhw/sgCIJBMrlMHN/iYtZUIWvNNWnUtJSUFMhQhJBgu0bHdHM0hYuTGsnJyQZMRkREbYGljIjIgJLPJiC8lzmk0sZPTYwMt8fNGxeRn59vsFwtKWYsZIanVqthbAwYGTV9WqK5mRTV1dUGSkVERG2FpYyIyICqqypgYW7U5BgLMwUg6FBVVWWgVLc1p5ixkInDwsIC5RUSlJSqGx0jCAJy8/SwsLAwYDIiImoLLGVERAZkbmGL3JtN31cq92YFIDGCubm5gVL9qalilvjsTBYykQQHB0Ou7IaExBuNjrmQWojCEjNEREQYMBkREbUFljIiIgMKj+iPUynVqKzUNrheEAQcScxHd99IWFlZGTbc/9dYMVMXFNRbxkJmGCYmJug/4EEciKvAqbN59a43vJ5VhnWbc+Dt0wfu7u4ipSQiotbilPhERAbUt29fxB3eiR9/TcW0x/xgYvLnn2G9XsDWnVeQmWOB6TOHiZjyz+nwGzoyVoOFzLBGjRqFoqIi/LJ+Gw7G3USvQAvI5FKkXS5F6mUJXD36Y9q0Z0W5ATkREd0bljIiIgOytLTEs8/NwfIfFuDTry4iNNgYTg4qlJSqceJMKUrKbTHpoenw9/cXOypcJo5H9sbNDR4hM7KxYSEzMKlUiieeeALh4eE4ciQOhxJToNPp4OjUE488PgChoaFQKBRixyQiolZgKSMiMjAvLy+89vp8JCQk4HjSYSSezoexsRWCeo5Dv3794OLiInZEALcn9WiokAG3T2XM2rCJxczAJBIJevTogR49eogdhYiI2hBLGRGRCCwtLTFy5EiMHDlS7CgNamyWxTvVrGcxIyIiujec6IOIiOporJAZ2djUW9bUDaaJiIioeVjKiIioVlP3Ieu9fGmzbzBNREREzcdSRkREAJp3Y+jm3GCaiIiIWoaljIiImlXIarCYERERtS2WMiKiLq4lhawGixkREVHbYSkjIurCsrdsa3Ehq9FUMcvesq3NMhIREd3vOCU+EVEXZu7vB5mpCrryitplzSlkNWrG3VnsZKYqmPv7tW3QTi4vLw/JycmorKyEmZkZevXqBSsrK7FjERFRB8FSRkTUhZn7+iDo/flImf8+dOUVLSpkNe4sZjJTFYLenw9zX5/2iNvplJeX4+dff0bi2SRUSisgN1FAU66BxUZzDOg9AA9NfghGRkZixyQiIpGxlBERdXE1xaz0Yiqcx45u1WO4TBwPiVwOc38/FrL/r7KyEgu/XYiUm+fgM9QXzj1cIJPLoKnW4FpKJrbFbUdRcRFmTp8JuZz/HBMRdWX8V4CIqBPQ6/WQSCSQSCTt8vjmvj73XKZaW+juV7GxsTiXfQ6RT/SGuZ1F7XKFUgHv8O6wsLdEwrqjiDwZid69e4uYlIiIxMZSRkTUQVVVVeHYsWOIPRiLa1ezIJVIENgrADEDY9CzZ09IpZyrqaPS6/U4dOQQrPxt6hSyO9m52cHEVYXY+FiWMiKiLo6ljIioAyouLsaiBYtw9tg5mGjNYGNqC71eh2NbT+LowSQMGzsYU6dOhUwmEzsqNaCoqAg3i26ie4xvk+McfR2Rdigder2eJZuIqAtjKSMi6mAEQcD3S5fh7OFzCHYKg6nSrHadu50XbpbkYue6PbC1tcW4ceNETEqN0ev1EARAIm36dNPbRUyAIAiGCUZERB0Sv5YjIupg0tPTcSbxLHxtA+sUshoOFo6wkzliz/a9qKysFCEh3Y2VlRWszaxx88rNJsflXsmFWzd3HvEkIuriWMqIiDqYEydOQFOsg7WpTaNjXG08cDMrH8nJyQZMRs0ll8sxsG8MclNuoLKk4eJckleMssslGNgvxsDpiIioo2EpIyLqYEpKSqAQlE3OtKhUKCHRSVBWVmbAZNQSgwYNgrelN479noC8zLzaUxT1ej1yLmUjaW0ienn2QmRkpMhJiYhIbLymjIiog1GpVNBC0+QYjU4DvUQPExMTA6WiljI3N8ffXn4FP6z8AefXn8d5Uz0UZgqoS9RQVMrRLyAaU6dMhVKpFDsqERGJjKWMiKiD6dmzJ7aZ7URpZQnMTRqeTj2n8DqsHS0REBBg4HTUEjY2Nnht7mu4fPkyzp49i4qKCpiZmSE8PByurq5ixyMiog6CpYyIqIMJDAyEb5A3LhxNRohrJIzkRnXWl1QWI7vyOsY/NBqWlpYipaTmkkgk6N69O7p37y52FCIi6qBYyoiIOhiZTIaZs2bi68oFOJl8FLZKB9ia2kEn6JFbnINyWQl6Dw3HpEmTxI5KREREbYCljIioA3J2dsYb//g7Dhw4gNh9h3Gt4DIgBVxDnTFo6GQMGDCA1yIRERHdJ1jKiIg6KBsbG0yePBljxoxBcXExZDIZrK2t//8Nh4mIiOh+wVJGRNTBKZVKODg4iB2DiIiI2glLGRERERF1CHq9HufPn0f8kXhcvnYZkEjg6+GDftH94O/v3+T9G4k6M5YyIiIiIhKdWq3GylUrEX/mCGR2Mtj62gEQEJcej8On4zAofCCmPDkFcjk/vtL9h+9qIiIiIhLd2nVrcSglFkHjg+Ho7VS7XOjXAzmXcrB3+16YmZrhoYceEjElUfvg1eJERETU5ZVeSkP2lm339BjZW7ah9FJaGyXqWm7duoVDxw7Be2D3OoUMuH2vP2c/Z7j188S+I/tRXFwsUkqi9sNSRkRERF1a6aU0pMx/H1eWLkNuK4tZ1oZNuLJ0GVLmv89i1grHjx9HhawSbkHujY7x6OWBUn0JTp06ZbhgRAbCUkZERERdVk0h05VXAACy1/wM7ZGjLXqMrA2bkLF8JQBAV17BYtYKxcXFUFopIZPLGh2jUCqgMDNCUVGR4YIRGQivKSMi6uR0Oh1SUlJw5swZVFaWw8zMAmFhYZypjKgZSi+m1hayGtrde5Hr4ACvRx++6/Z3FrIauvIKlF5MhbmvT5tmvZ8ZGRlBW6mBIAiN/t3S6/XQVmuhVCoNnI6o/bGUERF1Yjk5OVixfDEKb12Eazc1LMylOH+mAnt3/wQn50C88sprvMcZUROcx46GoNXWK1bZa36GkZERXCaOb3TbhgoZAHg++zScx45u86z3s8DAQGzcvwm3rt+CnZtdg2PyMm5CUa1AYGCggdMRtT+evkhE1EkVFhZi6ZIvYSw7i1ee74aIUBtkXCnD1dRSFFzLw8Htu/D0U1Oxfft26PV6seMSdVguE8fD89mn6y3PWL4SWRs2NbhNU4WsqSJHDfPx8YGfiy/O70uBulJdb31VeRUuHDiPIK9AuLm5iZCQqH2xlBERdVKHDh0CtJcw/SlfHD95E4sXXUDmCcBT7oY+TgEY6NkDmsxqLPh0EX788UcWM6ImtKSYsZC1PYlEgmemPgNHvQPiVx1GWuIllN4qRWl+CVITLiJhdTxc5a6YOmUqT8um+xJPXyQi6oQ0Gg2SEvejX7gZsnLKseGPTNjpHeDuYls7xs7CDD26OSC7SII9m/bB398f0dHRIqYm6thcJo6HWq1G9pqf6yyvKWAuE8ezkLUjJycnvP6317Fr1y7EJx1BdlwWAMDC2AKjwx/EiBEjYG1tLXJKovbBUkZEnUp1dTXOnDmDvLw8yGQyeHt7w8fHp8t9c1pSUoLqqkJ097JEbHw2qgvlcHOxqTfO0sII+QUC5BVKHDxwCH379u1yPyuilnAcOxo3b96EdvfeOsszlq9E9sbNUBcU1NuGhazt2Nra4oknnsD48eORm5sL4HZZU6lUIicjal8sZUTUKQiCgNjYWOzZvR7VFVmwstRDoxGwd5cx7BwD8NhjU+Hh4XHXxyktLUVVVRXMzMxgYmJigOTtQyqVApBArdbheNItOJhYN1i2dHoBANDNygVp59NRVFTEb5qJ7kIe3QcODg71jpixkBmOqakpvL29xY5BZDAsZUTUKezbtw87t/2AvhECBvX3gLWVMQRBQMbVEuzYexLfLc7Fiy+90eAF4IIg4MyZM4iNPYDMjNMAdJBIlAgI6ovBg4fC09PTwK/m3llZWcHG1hOnzp6HTidAIWv43j4FBdUwt+gGI5kR9Fo9tFqtgZMSdU6OY0fDyMiowVMVa7CQEVFb4UQfRNThFRYWYteOXzGkvwwTx3SHtZUxgNsXhnt5WmLGtB5wtLmODet/r7etIAjYvHkz1vz4GRT6WDw+0QjPT7XE+JF63MrZgsXffITjx48b+iXdM4lEgr7Rg3EuVQ+lsQTFlZX1xhQWV6GkTAoHBycUVxZBZW4Cc3NzEdISdU4uE8fDyKb+acEAYGRjw0JGRG2GR8qIqMM7duwYjOT5GBzTo8H1CoUUwwZ2w4+/n8b169fh6upau+7kyZM4fPBXTBhlgugor9rl3p6W6BPhhD82p+P3X5fAxeV9ODk5tftraUv9+/dHSsoZHM36A3kl+fCwtoPK2AhqjQ438yqRnauBtY07rG2scPnaBYwfPBrGxsZixybqNLI2bGrwlEXg9qmMWRs2sZiRKLRaLZKTk5FwLAE3b+XB2EiJ4IBg9O3bFzaNfJFAHRtLGRF1eJmZGfDxlEFp1PApegDQw88GUtxAZmZmbSkTBAGHDu6Ff/dqREfVvzZBKpVg0lhvXEw7h/j4eEyePLndXkN7UCgUmDHjBZibW2HlsiXYfuIinI2dIIMCUpkKTt284NTNCWevn4K9lw0GDRokdmSiTiN3y7Z615T91Z2zMhIZSnFxMRYvXYxzmeeh7KaEhZMl8itvIXlvMrbt24Zpj05DVFSU2DGphVjKiKjDEwQ9pHc52VoiAaSS20WsRmFhIbKzUjD1YYdGt5PJpAgPMUPi6c5XygBAqVRi2rRpiI6Oxn8++Q+y0nOg0qtga2mJYn0BbuRlopuvI2bNfgHOzs5ixyXqFLRHjiL7L7MvArdPWfzrkTMWMzIkrVaLxUsXI+XWOYQ9GQErR6s/16m1SDlwFst+XgYzMzMEBgaKF5RajKWMiDq8bt1cceKoDhqNHgpFw+0s/UoxtHoVunXrVrussrISELSwtFA2+fhWlkpUVpS1aWZD8/X1xYJvFuDEiRM4djQRhbcKYW5hhojeEejduzfMzMzEjkjUKeRu2VZvOnzgz0k9GrpPGYsZGcqZM2dwLvN8vUIGAHIjOXo9EIqEwnjs2LUDAQEBvAVKJ8JSRkQdXt++fRF7cD2OJt3AgOj6R3v0egH7YrPg6NwbXl5/XjdmamoKSIyQX1AJV5fGS0l+fiXMzN3bJbshGRsbo1+/fujXr5/YUYg6pawNmxo8ZfHOWRZr/i+LGYnhaOJRKJ2V9QpZDYlEAq8Ib5zfegE5OTk8Q6IT4eyLRNTh2dvbo3/MBGzdU4p9B6+hsurPad3z8iux6tdUZFy3x7hxD9X5VtDKygpe3cORkJhX57TGO1WrdThxphLhEQPa/XUQUcfV0BEwoOFp710mjofns0/XG5uxfCWyNmxqt4xEufm5sHSyanKMtbMNqvXVKCwsNEwoahM8UkZEncK4ceMgl8ux5+Am7I9LhYuTBGqNgOxcGUzNPTHtmWfg5+dXb7tBg4ZixQ9J2LH3KkYN86hT2tRqHX5eewlauCI6OtqQL4eIOpCWFLIaPGJGYlAqlCisKm5yjKZKDalECoVCYaBU1BZYyoioU5BKpRgzZgwGDBiApKQk5OXlQSaTIWaYN3r16tXoPz6BgYEYO/45bNm0AikXziEy1BIW5kbIzavA8VPlqNa5YNrTL3MKYaIuKnvLtgYLmfOUJ+5arJoqZhK5HM5jR7ddUCIAPQN74vzB36HT6iCTNzwj8bWUa7AztYWHh4eB09G9YCkjok7F0tISw4YNa9E2AwcOhLu7Ow4fPow9sUeg1VbDROWA8MiB6N+/P+zs7NopLRF1dOb+fpCZqqArr6hdJn9gGBybWagaKmYyUxXM/esfuSe6V3379sX2/dtx7mAKgof2rDeRR/HNYtw4nY2HBj4EpbLpSa6oY2EpI6IuwdPTE56enhCEKdBqtZDL5ZyViohg7uuDoPfnI2X++9CVV8B5yhMo6O519w3vcGcxk5mqEPT+fJj7+rRHXOri7Ozs8NTDT2H5b8txtDABXuHesO5mDXWVGtdSMnHjVDZC3UMxcuRIsaNSC7GUEVGXIpFIeJ49EdVRU8xKL6bCauhgFJw/3+LHcJk4HhK5HOb+fixk1K6io6Nhbm6O7bu24+LmVKj1akglEtiobPHQwIcwcuRIGBsbix2TWoiljIiIiLo8c18fmPv6oKKi4u6DG8FryMhQgoODERQUhKysLBQVFUEul8PT05NlrBNjKSMiIiIi6mQkEglcXV3h6uoqdhRqA7xPGRERERERkYh4pIyIiIiIOr2qqioUFxdDoVDA2tqakzlRp8JSRkRERESdVl5eHvbv34/Y/XEoKy6DVCqBe3d3DB46CP3794dczo+71PHxXUpEREREnVJGRga+/nwBclJvwt7EEe6mPtDqtMhMzMaSU98jOTkFzz8/k7PuUofHUkZEREQkAkEQoNPpeCSnlaqrq/HdN0uQl1qICNe+kMv+/DnaWzigsLwAsdvj4OrqggkTJoiYlOju+FeAiIiIyEAEQcC5c+dwOPYwTh8/A71OD4duDogZPADR0dEwMzMTO2KncerUKVy9mIme3SLqFLIa1qY2sCtzxP7dB3jvLurwWMqIiIiIDEAQBKxduxZb122HrgiwN3WATCZHzql8/HB6BQ4diMXsV16Go6Oj2FE7hdOnTkNerYSJkarRMa7W7jhz/TguXryIkJAQA6YjahlOiU9ERERkAAcOHMCGnzfDQe+CCI8+cLfzgou1G4JceyHEIQrpxzOweNFiaLVasaN2CmWlZTCSKZsco1QYQ6fRoaqqykCpiFqHpYyIiIionWm1Wuzatgtmaks4W9e/2a+xwhiBjr2QejYNZ86cESFh52Nta40qXWWTYyrU5VAYy3laKHV4LGVERERE7SwtLQ3Xr2TDzdaj0TFmxuaQVSpwPOm4AZN1XhEREYCpDqWVJY2OyczPgIuXM/z8/AyYjKjlWMqIiIiI2llpaSk01RqolKZNjjOWqVBYUGSYUJ1cUFAQeoT44dzNs6hU1z9ill14HWWKIox48AFOiU8dHif6ICIiImpnJiYmkCvkqNJUQdXExBTVuiqYmfNUu+aQyWSY9dIsLNQuwpmTSTDVW8BKZQ2dXou88puQWQITnhiHoUOHih2V6K5YyoiIiIjama+vLxxc7ZF1NRO+Tj0aHFOlroTaqAph4aGGDdeJ2dnZ4Y15f8fRo0dx6EAscrJuQCaTIuaBvhgQMwCBgYGQSCRixyS6K5YyIiIionamVCoxbORQrF78M26V2cHWzK7Oeq1Oi3M5Z+Ee7IqwsDCRUnZOKpUKQ4YMwZAhQ6DX6yGRSFjEqNNhKSMiIiIygJEjRyLrehYO7jiMrMJMOFm6QC6Vo6iiAHmVN9DNzxEvzp7FmxzfA6mU0yVQ58RSRkRERGQAcrkcz01/DgGBATh04BCupGZArxdg1s0Uk4dMwKBBg+Dg4CB2TCISAUsZERERkYHI5XLExMRgwIABKCwshE6ng4WFBZTKpm+CTET3N5YyIiIiIgOTSCSwsbEROwYRdRA88ZaIiIiIiEhELGVEREREREQiYikjIiIiIiISEUsZERERERGRiFjKiIiIiIiIRMRSRkREREREJKJOPyV+dnY2PvvsMxw5cgQajQZ9+/bFvHnz4Obm1uR2n3/+Ob777rsG1yUmJsLCwqI94hIREREREdXRqUtZUVERpk2bhrKyMjz99NMwMjLCDz/8gClTpmDDhg1N3v8jNTUVbm5umDNnTr11JiYm7RmbiIiIiIioVqcuZStWrMD169exdu1aBAcHAwBiYmIwceJELF26FG+++Waj26ampiIkJAQTJkwwVFwiIiIiIqJ6OvU1ZVu2bEFoaGhtIQMAPz8/9O3bF1u2bGl0u7KyMmRnZ6N79+6GiElERERERNSoTlvKiouLce3atTqFrEZQUBBu3ryJmzdvNrhtWloaBEGoLWWVlZXQ6/XtmpeIiIiIiKghnbaU5ebmAgAcHR3rrXNwcAAA5OTkNLhtamoqACA2NhaDBw9GaGgoIiIi8N5776GysrKdEhMREREREdXXaa8pKy8vB9DwpBzGxsYAgIqKiga3rSllZ8+exezZs2FmZoaDBw/i559/Rnp6OlauXAmptHV9VRCERp+XOp+aks6y3vVw33dt3P9dF/d918b933W1x74XBAESiaRZYzttKRMEAQCafKGNrYuJiYG5uTlmzpwJlUoFABg1ahSsra2xbNky7N69GyNHjmxVLo1Gg/Pnz7dqW+q4MjIyxI5AIuG+79q4/7su7vuujfu/62rrfW9kZNSscZ22lNWUqYbabFVVFQDAzMyswW0HDRqEQYMG1Vv+5JNPYtmyZUhISGh1KVMoFPDx8WnVttTxVFZWIiMjA56enrxVQhfDfd+1cf93Xdz3XRv3f9fVHvs+LS2t2WM7bSlzcXEBAOTl5dVbVzPBR0PXmzXF1tYWQOOnPTaHRCKpLYx0/zAxMeF+7aK477s27v+ui/u+a+P+77ract8399RFoBNP9GFubg53d3ekpKTUW5eSkgInJyfY29s3uO0zzzyD5557rt7yy5cvAwDc3NzaNiwREREREVEjOm0pA25fB3b8+PE6xSw1NRUJCQkYO3Zso9tZWVkhPj4eJ0+erF2m1+uxcOFCyGQyjB49ul1zExERERER1ei0py8CwPTp07FhwwZMnz4d06dPh1QqxfLly+Ho6Ijp06cDAPLz8xEXFwd3d3eEhYUBAF5//XXExcVh5syZmDp1KmxsbLBz504kJiZi7ty58Pb2FvNlERERERFRF9KpS5mVlRV++uknfPLJJ/jmm29gZGSEqKgovPHGG7CxsQEApKen44033sCkSZNqS5mrqyt++uknfPnll1i1ahXUajV8fHzw73//GxMnThTxFRERERERUVfTqUsZcPv6r2+++abR9X369MHFixfrLff19cWiRYvaMxoREREREdFddfpSRkRERER0NwUFBaisrISpqSmsrKzEjkNUB0sZEVEno9PpoNfroVAoxI5CRNThnT59Gvv27kPKqfPQqrVQKOUIieyFocOGIjAwUOx4RABYyoiIOgVBEHD69Gkcjj2M5NPnIOj1cHR2xKAhAxEdHc376RARNWDbtm347ce10BdJ4GLlBmOFCSqqynF06wmcSDiFaTOfwuDBg8WOScRSRkTU0en1eqxZswa7N+0FSmWwN3OETCpD9sl8LD31A2IPHsacv82Gra2t2FGJiDqM5ORk/LZqLazU9vD0+HNmbUuVFZwsnZGWm4rVP/wENzc3dO/eXcSkRC28T1l+fj62bNmC3377DSdOnGhy7OnTp/Hjjz/eUzgiIgJ27dqF7Wt3wkXmiXCPKLjZesDZ2hXBrr0QYt8bF4+lY/E330Gv14sdlYiowzh48BB0hYCnff1bHUkkEvg4+qHiZhViY2NFSEdUV7NL2YoVKzBs2DD8/e9/x/z58zFlyhRMmDABZ8+ebXB8bGwsPvnkkzYLSkTUFVVXV2PXtt2wEuzgaNmt3noTIxMEOATjwumLOHfunAgJiYg6noqKCpxOOgMnC+dGx0gkEjiouiHxSBK/1CLRNauU7d69G59++imsrKzwyiuv4PXXX0dISAguXryIJ598Etu2bWvvnEREXdKFCxeQe+0m3Gw9Gh1jYWIJoUyKkydPGjAZEVHHVVVVBZ1GB2O5cZPjjBXG0FRrUV1dbaBkRA1r1jVlP/zwA6ytrbF+/framzJPnz4d69evx/z58/H3v/8der0eY8eObdewRERdTVlZGXQaPUyMmp7IQylRorio2ECpiIg6NpVKBaWJEmUFpbA1t290XFl1KUwdVDA2brq8EbW3Zh0pu3DhAh544IHaQlZj0qRJWLx4MeRyOebNm4cDBw60R0Yioi7LxMQEUpkE1Zqmv8VV66thamZqoFRERB2bsbEx+sZEIbf8BgRBaHCMTq/DreqbiBkyABKJxMAJiepqVinT6/UwMjJqcF2/fv3w5ZdfQhAEzJ07964TgBARUfMFBATA1tkWWQWZjY4pry6DXqVFSEiIAZMREXVsgwcPhoWLKVKyztS7Zkyn1+Hs9VOw87RF//79RUpI9KdmlbLu3bvj0KFDjZ5vO2TIELz33nuoqqrCrFmzcObMmTYNSUTUVZmYmGDIA4OQp81BYXlBvfUanQbnbyTDO9ALPXv2FCEhEVHH5O7ujudfngEjZwkSr8chNecCrt26iovZ55CYFQ8LLxO8OOcFODo6ih2VqHnXlD388MP44IMP8Mwzz2DWrFno2bNnvVMZH3nkEdy6dQtffvklpk6dCh8fn3YJTETU1YwbNw45OTcQv/sIlAWmcLLsBplUjsKyW7ilvgm3IBfMeukFKBQKsaMSEXUo4eHhmP+hC+Lj43EkNgFlpcWwtLLAgzHD0K9fP9jZ2YkdkQhAM0vZk08+iXPnzmHt2rWYNWsWXn75ZcyePbveuFmzZkGlUuE///kPUlJSeH4uUQeh1+uRlZWFiooKmJmZwdnZmb+fnYhCocALLzyPnj2DcXD/IVxNuwq9IMDS3QKPDXsYAwcOrPdFGRER3ebo6IhJkyZh0qRJEASB//5Rh9SsUgYAH374IR5++GHs3r0b4eHhjY6bNm0aIiMj8fXXX/P6MiKRCYKAw4cPY8+BA0jPzoJWr4eRTI4eHh54YOhQREZG8h+nTkIul2PgwIGIiYlBcXExdDodLCwseHSMiKgF+G8edVTNLmUAEBoaitDQ0LuOCwwMxOLFi1ubiYjagCAI+PW337B+3z4I3RzhGNMfRqZmqCopwYmLF5GybBmeys/Hgw8+KHZUagGJRAIrKyuxYxAREVEbalEpI6LOIykpCRv374NV73DYeXvXLjc2N4OVizOyk1Pw8+bN6N69O/z8/ERMSkRERNS1NWv2RSLqXARBwIHYWGisreoUsjt1CwpEmVKB2MOHDZyOiIiIiO7EUkZ0HyotLcX5y5dh2717o2MkEgksvb2ReOZ0vfu3EBEREZHhsJQR3YfUajW0ej0UJsZNjlMoldDq9NBqtQZKRkRERER/xVJGdB8yMzODqdII5fm3mhxXfusWrM3NOYMfERERkYhaVcoWLlyIxMTEJsfs378f77zzTqtCEdG9MTY2xoDI3ihKS4dep2twjFatRsXVTAzu359TBBMRERGJqNWl7NixY02OOXjwIDZu3NiqUER07wYPHoxuCiNcOnAQWrW6zjpNZSUu7d0Hb2sbREdHi5SQiIiIiIBmTom/Zs0arF27ts6yn3/+GXv27GlwvEajweXLl+Hq6nrvCYmoVVxcXDBn5kx888MypK7fCCMXZyjNTFFVXAJtzg1429lh9vMvwMbGRuyoRERERF1as0rZhAkTsGjRIhQUFAC4PWtbfn4+8vPzG35QuRzdunXDP//5z7ZLSkQtFhAQgH/9820cO3YMR48fR2lhMawtLBH95DBERkbCzMxM7IhEREREXV6zSpmZmRni4+Nr/7tHjx6YPXs2Zs+e3W7BiKhtWFlZYcSIERgxYoTYUYiIiIioAc0qZX/1448/wsXFpa2zEBERERERdTmtKmVRUVG1/79arYb6L5MI3ImnRxERERERETWuVaVMr9fj66+/xtq1a3HrVuP3QZJIJDh37lyrwxER3e+qq6tx8uRJHE86jqLCYlhYmiM8Ihzh4eEwMTEROx4REREZQKtK2ZIlS7B48WLI5XL4+/vD3Ny8rXMRETVIr9cjNTUVR48dw838fJgolQgMCEBUVFSnOzKflZWFbxd+i/RzGTBSm8BEboIqzRXE7zkKdz9XvDh7Fjw9PcWOSURERO2sVaVs3bp1sLe3xy+//MJry4jIYMrKyrB02TIcO38OVcbGUNraQFuQj31nTsNl21bMmDoNISEhYsdsluLiYiz8ciEyz+Sgl3METIxUteuqNFVIST6NBV8sxD/emQc7OzsRkxIREVF7a9XNo2/cuIGxY8eykBGRweh0Onz3/fc4ePE87AYOQMC4Mejevx/8hw6Bz4TxyDVVYeEPy5CWliZ21GaJi4vDlXPXEOJat5ABgLHCGCGuEchOvYFDhw6JlJCIiIgMpVWlzNnZGSUlJW2dhYioUcnJyTh2/hzcBw6EhZMTJBJJ7TqFsRI+MQOQr5Bj+44dIqZsHkEQcGh/LKykNjCSGzU4Ri6Tw07piNh9h6HRaAyckMiwNBoNioqKUFZWBkEQxI7T6ZWXl+PEiRNISEjAuXPnoNVqxY5ERHfRqtMXH330USxatAizZs2Cm5tbW2ciIhEJgoDs7Gzk5eVBLpfDw8OjQ1w3Gp+QAK2FOcwd7BtcL5FK4RgYgOPHTyE3NxeOjo4GTth81dXVKMgrhI2q6YyWKivkFGWirKwM1tbWBkpHZDj5+fk4ePAg4pLiUFZVBimk8HH3waABgxAREQGptFXfHXdZlZWV2Lx5Mw7tjUXBjULodHoYGSvg1t0Vo8aMRExMTJ0vtIio42hVKQsMDISXlxceeughjBw5Eh4eHjAyavjb3mnTpt1TQCIynIsXL2LL9u04nZqKco0aUokEtipTxPTujXHjxsHCwkK0bNk3b8LEvuFCVsPc0REFGg1u3brVoUuZXC6HVCaBVtf0ETCtTgupQgqFQmGgZESGk5GRgYVLFiJPlwenYGd4O3eDplqN9POXkbwmBcMuDMWUKVNYzJqpqqoK3yz6Bon7TsLR2Bmhdr5QyIxQXl2Gq8lXsDR9GYqLizFu3DixoxJRA1pVyp599tna///3339vdJxEImEpI+okTp06hYU/LMMtpRLd+kSim6Mj9Fot8q9k4Pe4w0i9fBn/98orsLS0FCWfQiaD7i6n8enUGkglt0tPRyaXy9EzvCcSNifB1daj0XE3SrIRFOEPU1NTA6Yjan+VlZVY/MNilJiXov+kgVAo//ziwTXADTmXsrF72x44OTnhgQceEDFp57Fv3z4kHTiJILsQmJv8+QWambE5glx7ITP/Ctb/uhHBwcHw8vISMSkRNaRVn1w++eSTts5BRCIqLy/HstWrUWJjjYAB/SGp+WbayAjOQYGw9XDH6Z27sH7DBjzz9NOiZOwVGIiTu3ZCr9NBKpM1OCb/8mU4WFh2itOqBw6MwbGDicguvA5na9d662+W3IBOpcagwQN5uhHdd44fP46s4mxEP9y/TiGr0c3XGXlBedh/eD+GDBnS4b9oEZtGo8GBPQdhJbGtU8ju5GbriZzMLMTHx7OUEXVArforN2nSpLbOQUQiSkpKQlZJMXyGDvqzkN1BaWYG26AgHD5+HBMnTICVlZXBM/bt2xeb9+7B9VOn4R4RXm99ZXExSi+lYeKIkZ3ipsvBwcEY8/CD2PTLFhRdL4SrrTtURqao0lTiekEmSqSFGDl5OCIjI8WOStTmTpw6ATNPc5iYN/676hniiVPJJ3D58mX4+fkZMF3nc+PGDdzMzoOXlX+jYyQSCWyV9jh7MhmYYsBwRNQs9/zVU3p6Os6fP4/i4mJMmTIF2dnZsLS05Ok2RJ3IuQsXILGzhcLYuNExdt5euHTiFC5duoTevXsbMN1tTk5OeGryQ1j2+29ILSlBt6BAmNnZQVtdjZtp6Sg6fwFRXt4YNWqUwbO1hkQiwSOPPAIHBwfs2rEbaennoCnSQm4kg7N/N0weMRbDhw/n9TR0XyqrKIOJTdNfnphYqKAVdKioqDBQqs5Lq9VCr9dDJm34LIIaMqkMGi1ncyXqiFpdytLS0vDWW2/h7NmztcumTJmCP/74AytWrMAHH3yA0aNHt0lIImpfarUaskYm66khUyggQIBOpzNQqvqGDBkCMzMzbN25E6kHYnFdq4VUKoG9mRlGDR6C8ePHQ6VS3f2BOgiJRILBgwcjJiYGly9fRllZGVQqFbp3787Ttei+ZmFmiczi602OKS8qh1wi55e8zWBjYwOVmQmKSgpgZtz4bLnFVUXo5RZowGRE1Fyt+lf/2rVrmDJlCsrLyzF27Fjk5+cjISEBAODq6gq9Xo/XX38dDg4OPPWGqBNwtLeH5lIqBEFo9Pqlsvx8GMvlsLGxMXC6unr37o2IiAhcvnwZhYWFUCgU8PHxgZmZmai57oVMJoOvr6/YMYgMJiIsHEd/PoqKkgqoLBr+IiXj1BW42DjD29vbwOk6H0tLS/QZEIVdv+5HN2vXBo+YlVWVQq2swoCY/iIkJKK7adV5MV999RWqqqrw66+/4rPPPkNERETtuokTJ+K3336DsbExlixZ0mZBiaj99O7dG6YaLQqvNfzNtSAIyElOga+LK3x8fAycrj6pVAofHx/07t0boaGhnbqQEXVFYWFh8LBxx4lNx6GuVNdbfy0lE0XnCzF80HDIGpnYh+p6YMQDsPO2xplrJ1ClqaqzrrC8ACm5p9CrTzBCQ0PFCUhETWrVkbL4+Hg8+OCDCAoKanC9j48PRo0ahUOHDt1TOCIyDG9vbwwIDcXOhKOQyqSwdHauPWKm12px7eQpmNwqxLhnn+U1TkR0z4yNjTFrxiws/G4hDv9wCA4BjrB2toamWoPs81nQ5Woxpv9oDBo0SOyonYarqyte+b/Z+O6bJTidnghFtRJGMiUq9eWQmUsQMTQUM1+Y2eh9ZYlIXK0qZWVlZXc9hcnCwgKlpaWtCkVEhiWRSPD0tGnQ6fWIi0tAtrESxvZ20Ot0UOfcgJ3CCE899pgoE3wQ0f3J1dUV816bh/j4eBw6cgjXU65BCgnCfEMRMzYGwcHBvB1EC/n6+uLDT/6FEydO4OyZs6isqISNnQ0iIyPRo0cPfqlG1IG1qpS5ubnh+PHjja4XBAHHjh3rFPcKIqLbTExM8NKsWRiemoojCQnIunEDRiYKBIyJRN++fWFnZyd2RCK6z1hZWWH06NF48MEHUVVVBblcDoWi/n3LqPmMjY3Rr18/9OvXT+woRNQCrSpl48ePxxdffIHPP/8cc+fOrbNOrVbjv//9L86fP485c+a0RUYiMhCJRAJ/f3/4+zd+rxsiorYmkUg6xf0FiYjaS6tK2XPPPYf4+HgsWbIEv/76a+35yVOnTsWlS5dQVFSEkJAQzJgxo03DEpF4ioqKUF5eDpVKBWtra7HjEBEREd03WlXKFAoFli1bhhUrVmDt2rXIyMgAACQmJsLZ2RlTpkzB888/z4tJie4DycnJ2HtgP05duACNTgeFTIYQP38MGzIEPXv2FDseERERUafX6ruTyuVyzJgxAzNmzEBFRQVKS0thamrKqamJ7iN79+7FynXrUG6mgl1oL1hYWKCqpBSxly4h6dtvMG3iJIwYMULsmERERESdWqtL2Z1UKhVUqoZv/khEndOlS5fw4x/rAB8v+IeE1M6CZmZnBztvL2SdOYvVGzbAzc0NAQEB7Z6nuroaZ86cQUFBQe3Nlt3d3Tk7GxEREXV6rS5l8fHxWLduHbKysqBWqyEIQr0xEokEf/zxxz0FJCJxHIqNRYmRAgF3FLI7ufTqifPXr+PgoUPtWsoEQcCBAwewcccOXC8sgKBUQtBqYSaRopevL5564gk4OTm12/MTERERtbdWlbJdu3Zh7ty50Ov1TY7jN9hEnZNGo8Gx06dg7evT5O+xTXdvHE9JRlVVFYyNjdsly44dO7BywwZIPd3h2b8vlGZmEAQBRdezEHfyJHK+/gpvzn0VDg4O7fL8RERERO2tVaVs8eLFUCgU+OijjzBo0CCYm5u3dS4iEpFarYZGp4fRXU5LNlKZolKvR3V1dbuUstzcXPy+dSuMA/zh0uvPSUUkEgms3Vxh7mCPi9t3YOOmTZjJ2V6JiIiok2rVrd3T0tIwbtw4jB07loWM6D5kbGwMU2MlKouKmhxXUVQEY4VRu11TmpCQgEK9Ft2CAhtcL1cqYR8YiITTp1FQUNAuGYiIiIjaW6tKmYWFBW/ySHQfk8lkiInqg5LLV6DX6Roco9frUZyejpjevaFQKNolR2p6OoycnCCVyRodY+PhjqKqSmRmZrZLBiIiIqL21qpSNmzYMOzbtw/V1dVtnYeIOoiYmBh0M1Ii7VAs9FptnXV6nQ7psYfhIJFh4MCB7ZZBgHDXa1Ml0tt/xu52jSsRERFRR9Wqa8pee+01JCcnY9q0aXjqqafg4eHR6I2ie/TocU8BiUgc3bp1w0vPPYdvfvgBFzZshMrDHcbmFqguLUX51Uw4GRtj1nPPwdXVtd0yeLi44khsLASh8XJWlJUNMyMjzsBIREREnVarSllUVBQkEgkEQcCZM2eaHHv+/PlWBSMi8QUHB+P9f/wD8fHxiEtMRHF2LqxNTTFgxEj069ev3Wc87Nu3L7YePIi89HQ4+PjUW6/X6XAjORlDAgLg7OzcrlmIiIiI2kurStnEiRM53T1RF2Fvb48JEyZgwoQJTR6xag/u7u4YNWAA1h08AJ1GAwdfX8jkt/9sVRYX4+rRRDhDigljxxksExEREVFba1Up+/TTT9s6BxF1Aob+MkYikeDRRx+FXKHAzkOHcPFsCqSWFtBrtFCUlcPX0RHTp8+Ap6enQXMRERERtaVWlbI7aTQaXL58GVVVVbCysoKzs3O7zcRGRB2LIAjIzs5GUVERjIyM4O7uDqVS2abPIZfL8egjj2DY0KFITEzErVu3IJfL4evri169ekEuv+c/Y0RERESiavWnmZKSEvznP//B5s2boVara5erVCqMHj0af//732FhYdEmIYmo40lOTsa2nTuRnJ6OKq0GUokU3aysMHTAAIwYMaLNy5mtrS1GjRrVpo9JRERE1BG0qpSVlZXhiSeeQHp6OhwdHdGzZ084ODiguLgYJ06cwO+//45Tp07ht99+4/3MiO5DR44cwXerV6PETAWnPr3hZGcLTXU18tLSsXzrFqRfuYIXX3ihzYsZERER0f2oVaXs22+/RXp6OmbOnIk5c+bUmQ5fEAR89dVXWLx4Mb7//nvMmTOnzcISkfjy8vKw/OefoXbphh59omqvM1OYmMAjMgJlnh44tO8AfHbvxtixY0VOS0RERNTxterm0bt27UJoaChee+21evcnk0gkmDt3LkJDQ7Ft27Y2CUlEHUdCQgLyNNXwiIxocOIPMzs7qLw8sT8urs6pzURERETUsFaVspycHISFhTU5JiwsDNnZ2a0KRUQd16nkZBi7uEDaxAQb9j7dkV1YgMzMTAMmIyIiIuqcWlXKLC0tce3atSbHZGZmwszMrFWhiKjjqqquhvwu14rJjIyg0ws8Ukb3vdJLacjecm9nhWRv2YbSS2ltlIiIiDqjVpWy6Oho7N+/H3FxcQ2uP3jwIPbv34/o6Oh7CkdEHY+TvT0qbhU0OaY8/xZMFHLY2NgYKBWR4ZVeSkPK/PdxZekyZG3Y1KrHyNqwCVeWLkPK/PdZzIiIurBWTfQxe/Zs7N27Fy+88ALGjRuHiIgImJubIzc3F8ePH8fu3bthYmKCl19+ua3zEpHI+kZF4dDpU6goLITK2rreekEQkHv+PAb4+sHJyUmEhETtr6aQ6corAAAZy1cCAFwmjm/2Y2Rt2FS7na68Ainz30fQ+/Nh7uvT9oGJiKhDa1Up8/T0xIoVK/DGG29g/fr12LBhA4DbH8YAwMPDA59++im8vLzaLCgRdQyhoaEI9e6OxP0H4DVkcJ1iptNqcfVYIiwrKjFqxAjRMhK1t9KLqbWFrEZLitmdhayGrrwCpRdTWcqIiLqgVt88OiQkBNu3b8eJEydw4cIFlJWVwdTUFAEBAYiIaHhWNiLq/BQKBV58/nlgyRKc3rkbOmsrmNjaQltdjeqsbDgYG2P6tKcRGBgodlSiduM8djQErbZesWpOMWuokAGA57NPw3ns6LYNSkREnUKrSxkASKVSREZGomfPnigtLYWVlRXkTczIRkT3BxsbG7zx2ms4c+YMEo4exY1bt2CiNEbIuPGIjo7mtWTUJdQUr5YUs6YKWUtOfSQiovtLqxtUZWUlli1bhs2bN9eZ9jowMBAPPfQQnnjiCR4tI7qPKRQKREREICIiQuwoRKJpSTFjISMiosa0qpQVFxfjqaeeQlpaGkxMTBAQEAB7e3uUlJTgwoUL+Ne//oXdu3djyZIlUCgUbZ2ZiIiow2hOMWMhIyKiprSqlH399de4dOkSnnrqKcydO7fO/ciqqqrw3//+F6tXr8aSJUs4AyMREd33mipm2Rs3Q11Q/zYSHbWQ6XQ6nDt3DsnJyaisrIS5uTnCw8Ph7e3NM2CIiNpJq0rZ7t270bt3b7z99tv11hkbG+Ptt99GcnIyNmzYwFJGRERdQmPFrDMVsuzsbHy//HtcvnkZMls5FKYKVF2uwo64nejVvSeee+Y5mJubix2TiOi+06pSVlJSgpCQkCbHhIaG4pdffmlVKCIios6osWJ2p45ayAoKCvD1t18jT56PkCfCYeVoBeD27W7yMm7ixK6TqPruG8ydMxdKpVLcsEREDaioqMCNGzdgYmICR0dHSKVSsSM1W6tKWc+ePREfHw9BEBo9leHUqVMICAi4p3BERESdjcvE8Y2esmhkY9MhCxkA7Nu3D9nqHPR/IgZGJka1yyUSCRy8HGHykAmSVh/D8ePH0a9fPxGTEhHVdfHiRaxYsQKxcUdRWaWBRCKBm4sDxo8bg6lTp3aK2eFbVR/ffvttZGVlYc6cOXVmXgSAsrIyfPDBB7h48SL+8Y9/tElIIiKiziJrw6YGCxlw+1TGrA2bDJzo7qqqqhCXFAfnXi51CtmdzO0sYOZlgdj4WAOnIyJqXHx8PGY8/zK27T0OiZk/HLyHwNa9P67fkuOrRcvx8uzZUKvVYse8q1bVxg8++AAWFhbYu3cv9u3bB3t7ezg6OqKqqgoZGRnQaDSQy+WYMWNGne0kEgmOHj3aJsGJxCQIAtRqNRQKRac6NE5E7auxWRbv1JwbTBtaYWEhSqtK4eLh3uQ4Ow97XDt8rckzZYiIDKW4uBj/fOc9VOjM0SNyBOTyP0+ttuvmi4LcK0hIisXnn3+OefPmiZj07lpVynJycgAA3bp1q12Wn58PALCzs2uDWEQdU1FREeLj47E/Lg6FJSWQSaWICA5GzIAB6NGjBz+kEHVhjRWyMkECM4lQZ1lHK2YymQyABHqdvslxeq3u/48lIhLfb7/9hoKiaviEj6lTyGrYOHqhpCgH23fuwyuvvAKVSiVCyuZpVSnbt29fW+cg6vCuXbuGr779FukFt6DycIeppzs01dXYcf4cDp08gUdHPYhx48axmBF1QY0VsjQTTxRa+sGxPAPupal11nWkYmZrawtHKwdkX8yCvbt9o+NyL91AuHcY/84RUYdw8GAsjMycYGzS+Kyw9s49kHE2Ffv27cPYsWMNmK5lOv5Vb0QdQGVlJRYu+Q6Xq6vgN2Ec5HfMPNYtMAA3zl/Az9u2wt7eHtHR0SImJSJDa6yQXTXzQaGZNwAg19QTADpsMZPJZBgYPRA/7fwJJaHFsLC3rDcm51IOtLlaDBg3QISERET1lZSVQ2Fk0eQYY5U59MLtUx07slaXsurqahw7dgxZWVlNXjw3bdq01j4FUYdx8uRJpOXmovv4sXUKWQ2ngB5Izc3Frn370LdvX36LTNRFNFbIzkjtUf3/C1mNjl7MBg0ahLPnzuL474nwjPaGa6AbFEoFqsqrkHHqCnKSsjE8chiCg4NFzUlEVMPK0hzZBWVNjqksL4JUcvuMgI6sVaXswoULmDVrFnJzcwHcnvSgIRKJhKWM7gtJJ05A6ugAoybORXbq4Y9LsXHIzMyEh4eHAdMRkRgaK2TxUiXUln4wbWCbjlzMjI2N8fKsl7Fu3TrEH47HlUPpkClk0FXrYaeyxSPDHsbo0aP5pRMRdRjDhw3F6a+/R2V5IUxMrRsck5d1ATaWJhg8eLBhw7VQq0rZxx9/jBs3bmDSpEkICQnhTSTpvldUWgqleePnKwOAsaUl1Do9ysqa/saGiDq/7C3bGixk5uPH4uzOg/DV6xrdNtfUE/mlNxGOojrLM5avhEQuh/PY0W0dt9lMTEzw1FNPYezYsTh37hwqKythYWGB4OBgmJiYiJaLiKghkydPxqo1vyDj/EF4Bz8ApXHdr8NuZl9EeWE6HpkyCcbGxiKlbJ5WlbKUlBQ8+OCD+OSTT9o6D1GbEwQBt27dQnl5OVQqFezs7Fr8Ta+ZSgV1eXmTY6rLyiCXSvnBhagLMPf3g8xUBV15Re0yz2efhu2oEbA9eRa513JgbtLwdQ6CICC+Wg2P3sGwPZNcu1xmqoK5v1+7Z28OKysr3iCaiDo8MzMz/OfTj/Da3+ch9cR6mNt4wtTSATqtBkV5V6CvysewgZH429/+JnbUu2pVKVOpVLC3b3x2JqKO4tSpU9h74ADOXkqFWqeHQiZFkHd3DB8yBGFhzZ9BLCI0FCc2rIemqhoK44aPDN9MvYTuTk7w9PRsw1dARB2Rua8Pgt6fj5T570NXXgHPZ5+uPfVw4LAY/Lp0HZzVblAZ1T/lOasgEyY2SgQ/+zSUZ5KRsXwlZKYqBL0/H+a+PoZ+KUREnVpYWBhWLv8eq1atwu69B1GYeQmQAAG+Xpg0cQomTZrUKe4p26pSNn78eOzYsQOvvvoqjwpQh7Vz506s2rABlZYWsI8Mh7WFBapKSnEsNRWnly7Bk2PHYcyYMc16rPDwcLjv34/02Fj4DRkMqbzur86tjAzor2fhgSee7BS/+ER072qKWenF1DqnHI4YMQIpZ1NwJv44XM090M3KBTKpDBXqClzLz0CpohCTHpoALy8vSLy9IZHLYe7vx0JGRNRKbm5ueOuttzBv3jyUlpZCqVR2+NMV/6pVpexvf/sb0tPTMX78eDz22GNwcXGBkZFRg2OHDRt2TwGJWuPChQtYs3Ej5D380KPnnzOFqaytYePhjuyUc/hl6xZ4enoiKCjoro9nbm6Ol2fOxFeLF+P8pi2w8ukOUztbaKvVuJWeDnlBISYMHISBAwe258siog7G3NenXpkyNTXF3179G9a6rsWR2KO4npMBCaSQyAHn7o54aOw0DBs2rPZIvZjXkBER3U+kUiksLevf0qMzaFUpy83NRWZmJq5du4b//e9/DY4RBAESiQTnz5+/p4BErXEoNhalxkoE9mx46mbnoECcv5qJg7GxzSplAODr64u3//53HDhwAIeOHUPZpTTIJFL08fLC4EkPITIykrOSERGA21/kPPvcs5gwcQIuXLgAtVoNS0tLBAYGcnIsIiKqp1Wl7L333sPly5cRFhaGsLAwqJqYJpzI0DQaDY4nn4WNn2+T42y6e+NESgqqqqqafYjbyckJjz/+OCZNmoTy8nLI5XKYm5uzjBFRg2xsbDhhBhER3VWrStnJkycxYMAAfP/9922dh+ieqdVqaHR6GN3lekcjlQkqBT2qq6tbfN6xUqnkt91ERERE1CZaNSOBUqmEv79/W2chahPGxsYwMzFBRWFhk+PKCwuhMlLySC8RERERiapVpWzYsGE4dOgQNBpNW+chumcymQwxUVEovXwFeq22wTF6nQ4laVcQExUFhUJh4IRERERERH9q1emLr7/+OqZNm4apU6fi8ccfh4eHR6NT4/fo0eOeAhK1xsCBA3EwIQGXDhyCz6AYyO4oXjqtFmmHDsPJSMHZEomIiIhIdK0qZf379wcA6HQ6nD59usmxnH2RxODo6IjZM2di0fdLcXH9Rhi7ucLYwgLVZWWozLwGF5UpXpw+A87OzmJHJSIiIqIurlWlbNy4cZxtjjq8Hj164P23/omEhATEHTuG4oxMOJubIXrMWERHR8PW1lbsiERERERErStln376aVvnIGoXNjY2GD16NEaP5s1ZiYiIiKhjalUpu5NGo8Hly5dRVVUFKysrODs7c+IEIiIiIiKiZmp1KSspKcF//vMfbN68GWq1una5SqXC6NGj8fe//x0WFhZtEpKIiIiIiOh+1apSVlZWhieeeALp6elwdHREz5494eDggOLiYpw4cQK///47Tp06hd9++63RWRmJiIiIiIiolaXs22+/RXp6OmbOnIk5c+bAyMiodp0gCPjqq6+wePFifP/995gzZ06bhSUiIiIiai5BEJCTk4OCggIoFAp4eHjA2NhY7FhE9bSqlO3atQuhoaF47bXX6q2TSCSYO3cuEhISsG3btnYvZdnZ2fjss89w5MgRaDQa9O3bF/PmzYObm1uT21VVVWHhwoXYunUrCgoK0KNHD8ydOxfR0dHtmpeIiIiI2t+5c+ewfcdOJJ+7hKoqDaRSCeztLDEoph9GjRrFs7moQ5G2ZqOcnByEhYU1OSYsLAzZ2dmtCtVcRUVFmDZtGo4cOYKnn34aL730Ek6dOoUpU6agoKCgyW1fe+01/PDDDxg2bBjefPNNaDQazJgxA0lJSe2amYiIiIjaV2JiIj7/chFOJGfBzi0CQVHj4BsyAlWwx89rt2PBwkWorKwUOyZRrVaVMktLS1y7dq3JMZmZmTAzM2tVqOZasWIFrl+/ju+//x4vvvgipk+fjuXLlyM/Px9Lly5tdLsjR45gz549eOONN/D222/jySefxOrVq9GtWzd8/PHH7ZqZiIiIiNpPYWEhlq9cA73CAb16PwB7RzcYGRlDZWoBb79Q9AgdhuOnL2H79u1iRyWq1apSFh0djf379yMuLq7B9QcPHsT+/fvb/VTALVu2IDQ0FMHBwbXL/Pz80LdvX2zZsqXR7TZv3gyFQoFHH320dplKpcLDDz+MlJQUZGRktGdsIiIiImonR48eRX5hBXwCIiGRSOqtNzO3ho2jDw4eiufRMuowWnVN2ezZs7F371688MILGDduHCIiImBubo7c3FwcP34cu3fvhomJCV5++eW2zluruLgY165dw+DBg+utCwoKQlxcHG7evAkHB4d665OTk+Hl5QWVSlVvu5r1np6e7RGbiIiIiNpRcvI5qCycIJc3ft9cJ5fuuHjqEq5cuYLAwEADpiNqWKtKmaenJ1asWIE33ngD69evx4YNGwDcnuEGADw8PPDpp5/Cy8urzYL+VW5uLgDA0dGx3rqaIpaTk9NgKcvNzUWvXr0a3a69r4UjIiIiovZRVV0NhULZ5BiFwgh6vR4ajcZAqYia1uqbR4eEhGD79u04ceIELly4gLKyMpiamiIgIAARERENHi5uS+Xl5QDQ4Mw5NVOdVlRUNLptU9vdy6FsQRAafV7qfGreCzy9oevhvu/auP+7Lu77zs/aygJnL16CVqttdEzBrVwo5FKYmJjU+dzG/d91tce+FwSh2Z2o1aUMAKRSKSIjIxEZGXkvD9MqNUflmnqhrS2G91IoNRoNzp8/3+rtqWPidYZdF/d918b933Vx33de9vb2qCw9jOtXL8PMwqbeekEQcOn8cXg5m6GkpKTBz23c/11XW+/7O+/n3JQWlbL8/Hz8+OOPePDBBxEQEFBnnSAIGD58OKKjo/HSSy/B2dm5JQ/dYjXXgzXUZquqqgCg0dkfVSpV7ZiWbNccCoUCPj4+rd6eOpbKykpkZGTA09OT9zPpYrjvuzbu/66L+77z8/PzQ3r6FRw/exYWVgNgYWlbu06n0+Jy6klYqXSY8uQT9a4n4/7vutpj36elpTV7bLNL2ZkzZzBz5kyUlJTAwsKiXinLyMhATk4O1q5di127dmHBggXo06dP81O3kIuLCwAgLy+v3rqbN28CaPh6MwBwdnZu1XbNIZFI6k0gYmg3btzApUuXoNPpYGNjg8DAQMjl93RQtMszMTERfb+SOLjvuzbu/66L+75ze/nlF/HdkqU4eSYWkJnDzMIWWo0aZcU5sLFUYtrMp9G7d+9Gt+f+77ract+35Oy7Zn1Sz8nJwbPPPovq6mo8//zzmDhxYr0xXl5eOHToEFatWoWlS5dizpw52Lx58z0VnKaYm5vD3d0dKSkp9dalpKTAyckJ9vb2DW4bFBSETZs2oaqqqvY6sprtAKBnz57tkrm93bp1C7/8+isSU1JQolEDMhnkOj28HBww/sEH0a9fv3a/1o+IiIhIbBYWFnh17t+QkpKCI0cScCP3JpRGJug5ehz69u0LOzs7sSMS1dGsUvb999+jvLwcixYtwrBhwxodZ2dnh1dffRUeHh546623sHz5csybN6/Nwv7VqFGj8P333yMlJaV2OvvU1FQkJCTg2WefbXK7tWvX4pdffsEzzzwD4PakIGvXrkWvXr3g7u7ebpnbS0FBAf771Zc4X1gIx7AQ+Hu4QyqToaKoCFdTzuGbVatQWVmJ4cOHix2ViIiIqN3J5XKEhIQgJCRE7ChEd9Wsm0fHxsYiKiqqyUJ2p8mTJyMoKAgHDhy4l2x3NX36dNjZ2WH69OlYunQpli1bhueeew6Ojo6YPn06gNvXwW3cuBEnT56s3S4mJgYxMTH47LPP8Mknn+CXX37BU089hRs3buDNN99s18ztZcPGjThfcAt+o0bAztsLUpkMAKCyskL3/v0g8+2OXzZuQH5+vshJiYiIiIjoTs0qZTk5ObVHoporNDS03e/3ZWVlhZ9++gnh4eH45ptvsGTJEoSFheHHH3+Ejc3t2XbS09Pxxhtv4Ndff62z7VdffYUnnngCmzdvxr///W8YGRlh2bJloswkea8KCwsRf/IkbAMDoWjkwkSXnsG4pdXgyJEjBk5HRERERERNadbpi2ZmZqiurm7RA0ulUoPMWuPm5oZvvvmm0fV9+vTBxYsX6y03NTXF22+/jbfffrs94xlEZmYmiior4O3p2egYqVwOIycnXLh0CeMMF42IiIiIiO6iWaXMzc0NZ8+ebdEDnzp1Ct26dWtVKGoZnU4HAYBULmtynEQqhV6vN0yoDiIvLw/FxcUwNjaGs7MzpNJmHRwmIiIiIjKYZpWyUaNG4bPPPsPBgwcxaNCgu47fv38/zp49ixkzZtxzQLo7R0dHmCqMUJydAxt3twbHCIKA6rx8uPX1NXA6caSkpGDn7t04cykV1TodZFIpvJy6YdjAgRg4cGCnL2dqtRqpqakoLy+HSqWCn58flEql2LGIiIiIqBWaVcoeeugh/PDDD5g7dy4++ugjjB49utGxW7Zswfz582FiYoIpU6a0WVBqnIuLC0L9/BCbnAxrVxdIGigcBVevwlSrRd++fUVIaFixsbH4/pefUWpmCofIcNhYWUNTVYnUS2m48PNPyLh6FdOmTu2UxUyn02H37t3Ys2Mvcq7mQqvWQm4kg6ObA4aPGoYRI0bwnnREREREnUyzPr1ZWlriyy+/xIwZM/Daa6/hq6++Qr9+/eDp6QlTU1OUlJTg6tWrOHLkCK5duwaZTIZFixbx9EUDGj92LC4sWIBLBw7CI6o3lGZmAAC9Xo/8y5dx6/hJjO0bDS8vL5GTtq+srCys+O1XaN1d0SMysva+bCaWFrBwdERB5jVsi4+Ht5cXBg4cKHLaltHr9Vi9ejV2rtsNS9ghyCYUJkYqVGoqcT0jE6sW/4QbOTfwzLPPdMrCSURERNRVNfsr9cjISKxfvx7vvPMOkpKScPXq1To3IhYEAQAQHR2Nf/zjH/Dz82v7tNQoHx8f/O3557Fs1SpkbN4GnZUFpAoF9MUlsAQwcUAMHn/ssfv+5tHx8fEo0OsREBHR4Gu1cXfDrStXsO/QIcTExHSqn8eJEyewe9M+eJr6wsHCqXa5ykgFv249kFdig31bDyIoOAh9+vQRMSkRERERtUSLznPy8vLC6tWrkZmZiUOHDuHGjRsoKSmBtbU1XF1dERMTAycnp7s/ELWLoKAgfPL++zh58iRSU1Oh0WhgZ2eH3r17w9nZWex4BpF4+jRMPdwbPIWzhr2vDy7HH0Vubm6ner8eOhgLWYUCDnYNZ7a3cEBWZiYOHjiEqKioTlU4iYiIiLqyVl184u7ujqeeeqqts1AbUCqV6Nu3b5e4dqwhFZWVUDjaNzlGYWwCrV7f4ts8iKm6uhoXUy7CwbzpEulo0Q1p59NQWVkJlUploHRERETUGQmCAJ1OB5lMxi9zRcYZAei+4mhnh+SCgibHVBQUwFguh6WlpYFS3TudTge9ToBc2vSvrEwqh14vQKvVGigZERERdTa5ubmIj4/H4bgElJVXwNjYGP36RmLAgAFwcXERO16XxNkA6L7Sv08faLJzoK6sbHC9IAjIu3ARvXv2hJWVlWHD3QNjY2PY2FujsLzpwllUXgBrWyuYmpoaKBkRERF1JsnJyfjXh//Gz+t2okxrDZVtANRSB6zbfBAffPhvHDt2TOyIXRJLGXUaNZPJNCUqKgp+Do5I27sP6oqKOuv0Oh0uxx+BjUaLB4YNa6+Y7UIqlWLQ0IEo0hdArW34tEu1Vo0CbR4GDo2BTNb0jcSJiIio68nNzcXi735ASbUxwqLHo3uPcHRz9YGXbwgi+o+HRmqLpT+swuXLl8WO2uXw9EXq0G7evIn4+HjEJSaipKwMFmZmGBAVhX79+sHevv61Y2ZmZpgzaxYWfrcYqZu2QurkAJWNNTQVlai8dh0OSiVmTJsGHx8fEV7Nvenfvz8OH4zDqVNJCOoWAlOlWe268upynMs5A89e7oiJiRExJREREXVUcXFxyCusRFi/ByCV1v0CVyKRwj+4L04mbMOBgwfh7e0tUsquiaWMOqwzZ85g8YoVyKmqhKmHO4xduyGnpBQrdm7HzoMH8dJzzyE4OLjedi4uLnhn3j+QmJiI+KNHkZebD1MTE/R+cDSio6MbLHOdgaWlJV55dQ6+XbQY55JPQVqpgFJmjGpdFXTGGnSP9MKsl17oVKdlEhERkWEIgoDYwwmwtvesV8hqSCQSODh3x7HEk3ji8cdhYmJi4JRdF0sZdUhZWVn45ocfUGBhhh4PjoD0jtPx9GGhSDsch0U/LMM7r/+9wen+VSoVBg0ahEGDBhkydrtzcnLC2+/+E2fPnsWJ4ydQUlwCc0tzhIWFISQkBAqFQuyIRERE1AGp1WqUV1TCzN6iyXGmppYozdOivLycpcyAmlXKfvzxx1Y/wbRp01q9LXVdhw4dwg2tBgEDYyD9yz3HpHI5fGIG4MLGzTh8+DAeffRRkVKKQ6FQIDw8HOHh4WJHISIiok7CyMgISiMFqqsqmhxXVVUBuUwKY2NjAyUjoJml7OOPP4ZEImnWRAt3kkgkLGUdXHFxMU6fPo3S0lIolUoEBweLfkNljUaDw4mJsPLpXq+Q1ZDKZLDo7o1DR49i8uTJkMt50JeIiIioMRKJBH37RGDTjiNw9w5u9L5kuVlp6N87EGZmZg2up/bRrE+yn3zySXvnIAPTaDRYv2ED9hw+jPyqSkiMlRDUGlisX48+vXphyhNPwMKi6cPb7aWyshIV6mqY3OXaKBMrS1SkX0FVVRX/cBARERHdxYABA3AgNgFp55PgExBZr5hdTU+GkaQCgwYOFClh19WsUjZp0qT2zkEGpNfrsXzFCuxIPAbLnsHw9fWB3MgIep0OBVevYufJU8i/dQuvzZ0LlUpl8HxKpRJyqRSayqYPr6srKqCQSaFUKg2UjIiIiKjz8vDwwDNTH8fylT/hVMJ2OLr6wkRljuqqcuRmpUOBcjzx2MQGJ1Kj9tUu53xptVoUFRXh4MGDeOihh9rjKegenDlzBvuSEtEtZgCsXP6cJEMqk8HO2xtm9vY4uX0n9u/fjzFjxhg8n1KpRO+evbD9/Dk4+Pk1eHhdEAQUpl3GmJBQTm5BRHSPNBoNTp06hcRjSbiVfwumZiqEhoUiKiqKZyIQ3Wf69+8PBwcHHDhwAInHT6Pohg4KuQzR4QEYPHgQC5lIWlXKdDod/ve//2HLli0oKCiATqdrdCxLWcdzOC4OGkvLOoXsTsbm5jDxcMf+uDiMGDFClNIzMCYGh0+eRNaZs3AN6VVnnSAIyDp9BhZqNQYOGGDwbERE95O8vDx8u/BbXDh9CfIqI5gqzFCtrUbigRPY7LkFM1+cgcDAQLFjElEb8vX1ha+vL558shxlZWVQqVQwNzcXO1aX1qpS9v333+OHH36AkZERPDw8cPXqVVhbW8Pc3BzZ2dmoqqqCra0tXnjhhbbOS/dIEAScT0+HpZdHk+NsPNyRezget27dEmXijx49euCpiROxasN6XLhxA3a+vlCam6G6tAz5qZdgWlaOaZMnw8/Pz+DZiIjuF5WVlVj49SKkHktHcLfQOjelV2vVOJ92Ft989S3efPsNuLm5iZiUiNqDqakpTE1NxY5BABqe2u4uNm/eDEtLS+zevRtbt25F79690adPH2zbtg1Hjx7FI488goKCAvj4+LR1XmoDer0ekDY8404Nyf+f9bClM262pREjRuCNF1/CQFc3qE+dRsGBWKhPncZAd3e88dJLGD58uGjZiIjuB4mJiUg9lYZezhF1ChkAGMmN0NM1DAUZxdize49ICYmIuoZWHSm7fv06xo0bB0dHRwBAz549sWnTJgC3rwd6//33kZSUhBUrVqBfv35tl5bumUQigY+nJ45cz0K3gIBGxxVez4KNmRlsbGwMmK6+nj17omfPnigsLERFRQVMTU1hdZdZGYmIqHkOH4qDic4MJkYN3yBWKpWim7krjh4+hocfeZinNxERtZNWHSkDUOfDuqenJ3Jzc1FSUnL7QaVSDBgwAGlpafeekNrcwP79IS0oRGleXoPr1ZWVKLt8GUP69e8wMxtaW1vDxcWFhQxA6aU0ZG/Zdk+Pkb1lG0ov8feTqKvLycqBlYlVk2MsVVaoLK9CUVGRQTIREXVFrTpS5uzsjCtXrtT+t7u7OwAgN/zzmDhxYr0xXl5eOHToEFatWoWlS5dizpw52Lx58z0VnKaYm5vD3d0dKSkp9dalpKTAyckJ9vb2DW4bFBSETZs2oaqqqvY6sprtAKBnz57tkrm93bp1C7/8+isSU1JQolEDMhnkOj28HBww/sEH0a9fv3a/1o+IiIhIbBYWFnh17t+QkpKCI0cScCP3JpRGJug5ehz69u0LOzs7sSMS1dGsUvb999+jvLwcixYtwrBhwxodZ2dnh1dffRUeHh546623sHz5csybN6/Nwv7VqFGj8P333yMlJaV2OvvU1FQkJCTg2WefbXK7tWvX4pdffsEzzzwD4PakIGvXrkWvXr3g7u7ebpnbS0FBAf771Zc4X1gIx7AQ+Hu4QyqToaKoCFdTzuGbVatQWVmJ4cOHix2ViIiIqN3J5XKEhIQgJCRE7ChEd9Wsm0fHxsYiKiqqyUJ2p8mTJyMoKAgHDhy4l2x3NX36dNjZ2WH69OlYunQpli1bhueeew6Ojo6YPn06gNvXwW3cuBEnT56s3S4mJgYxMTH47LPP8Mknn+CXX37BU089hRs3buDNN99s18ztZcPGjThfcAt+o0bAztsLUpkMAKCyskL3/v0g8+2OXzZuQH5+vshJiYiIiIjoTs0qZTk5ObVHoporNDS03e/3ZWVlhZ9++gnh4eH45ptvsGTJEoSFheHHH3+Ejc3t2XbS09Pxxhtv4Ndff62z7VdffYUnnngCmzdvxr///W8YGRlh2bJloswkea8KCwsRf/IkbAMDoWjkwkSXnsG4pdXgyJEjBk5HRERERERNadbpi2ZmZqiurm7RA0ulUoPMWuPm5oZvvvmm0fV9+vTBxYsX6y03NTXF22+/jbfffrs94xlEZmYmiior4O3p2egYqVwOIycnXLh0CeMMF42IiIiIiO6iWaXMzc0NZ8+ebdEDnzp1Ct26dWtVKGoZnU4HAYBULmtynEQqhV6vN0yoDiIvLw/FxcUwNjaGs7MzpNJmHRwmIiIiIjKYZpWyUaNG4bPPPsPBgwcxaNCgu47fv38/zp49ixkzZtxzQLo7R0dHmCqMUJydAxt3twbHCIKA6rx8uPX1NXA6caSkpGDn7t04cykV1TodZFIpvJy6YdjAgRg4cGCnL2dqtRqpqakoLy+HSqWCn58flEql2LGIiIiIqBWaVcoeeugh/PDDD5g7dy4++ugjjB49utGxW7Zswfz582FiYoIpU6a0WVBqnIuLC0L9/BCbnAxrVxdIGigcBVevwlSrRd++fUVIaFixsbH4/pefUWpmCofIcNhYWUNTVYnUS2m48PNPyLh6FdOmTu2UxUyn02H37t3Ys2Mvcq7mQqvWQm4kg6ObA4aPGoYRI0bwnnREREREnUyzPr1ZWlriyy+/xIwZM/Daa6/hq6++Qr9+/eDp6QlTU1OUlJTg6tWrOHLkCK5duwaZTIZFixbx9EUDGj92LC4sWIBLBw7CI6o3lGZmAAC9Xo/8y5dx6/hJjO0bDS8vL5GTtq+srCys+O1XaN1d0SMysva+bCaWFrBwdERB5jVsi4+Ht5cXBg4cKHLaltHr9Vi9ejV2rtsNS9ghyCYUJkYqVGoqcT0jE6sW/4QbOTfwzLPPdMrCSURERNRVNfsr9cjISKxfvx7vvPMOkpKScPXq1To3IhYEAQAQHR2Nf/zjH/Dz82v7tNQoHx8f/O3557Fs1SpkbN4GnZUFpAoF9MUlsAQwcUAMHn/ssfv+5tHx8fEo0OsREBHR4Gu1cXfDrStXsO/QIcTExHSqn8eJEyewe9M+eJr6wsHCqXa5ykgFv249kFdig31bDyIoOAh9+vQRMSkRERERtUSLznPy8vLC6tWrkZmZiUOHDuHGjRsoKSmBtbU1XF1dERMTAycnp7s/ELWLoKAgfPL++zh58iRSU1Oh0WhgZ2eH3r17w9nZWex4BpF4+jRMPdwbPIWzhr2vDy7HH0Vubm6ner8eOhgLWYUCDnYNZ7a3cEBWZiYOHjiEqKioTlU4iYiIiLqyVl184u7ujqeeeqqts1AbUCqV6Nu3b5e4dqwhFZWVUDjaNzlGYWwCrV7f4ts8iKm6uhoXUy7CwbzpEulo0Q1p59NQWVkJlUploHRERETUGQmCAJ1OB5lMxi9zRcYZAei+4mhnh+SCgibHVBQUwFguh6WlpYFS3TudTge9ToBc2vSvrEwqh14vQKvVGigZERERdTa5ubmIj4/H4bgElJVXwNjYGP36RmLAgAFwcXERO16XxNkA6L7Sv08faLJzoK6sbHC9IAjIu3ARvXv2hJWVlWHD3QNjY2PY2FujsLzpwllUXgBrWyuYmpoaKBkRERF1JsnJyfjXh//Gz+t2okxrDZVtANRSB6zbfBAffPhvHDt2TOyIXRJLGXUaNZPJNCUqKgp+Do5I27sP6oqKOuv0Oh0uxx+BjUaLB4YNa6+Y7UIqlWLQ0IEo0hdArW34tEu1Vo0CbR4GDo2BTNb0jcSJiIio68nNzcXi735ASbUxwqLHo3uPcHRz9YGXbwgi+o+HRmqLpT+swuXLl8WO2uXw9EXq0G7evIn4+HjEJSaipKwMFmZmGBAVhX79+sHevv61Y2ZmZpgzaxYWfrcYqZu2QurkAJWNNTQVlai8dh0OSiVmTJsGHx8fEV7Nvenfvz8OH4zDqVNJCOoWAlOlWe268upynMs5A89e7oiJiRExJREREXVUcXFxyCusRFi/ByCV1v0CVyKRwj+4L04mbMOBgwfh7e0tUsquiaWMOqwzZ85g8YoVyKmqhKmHO4xduyGnpBQrdm7HzoMH8dJzzyE4OLjedi4uLnhn3j+QmJiI+KNHkZebD1MTE/R+cDSio6MbLHOdgaWlJV55dQ6+XbQY55JPQVqpgFJmjGpdFXTGGnSP9MKsl17oVKdlEhERkWEIgoDYwwmwtvesV8hqSCQSODh3x7HEk3ji8cdhYmJi4JRdF0sZdUhZWVn45ocfUGBhhh4PjoD0jtPx9GGhSDsch0U/LMM7r/+9wen+VSoVBg0ahEGDBhkydrtzcnLC2+/+E2fPnsWJ4ydQUlwCc0tzhIWFISQkBAqFQuyIRERE1AGp1WqUV1TCzN6iyXGmppYozdOivLycpcyAmlXKfvzxx1Y/wbRp01q9LXVdhw4dwg2tBgEDYyD9yz3HpHI5fGIG4MLGzTh8+DAeffRRkVKKQ6FQIDw8HOHh4WJHISIiok7CyMgISiMFqqsqmhxXVVUBuUwKY2NjAyUjoJml7OOPP4ZEImnWRAt3kkgkLGUdXHFxMU6fPo3S0lIolUoEBweLfkNljUaDw4mJsPLpXq+Q1ZDKZLDo7o1DR49i8uTJkMt50JeIiIioMRKJBH37RGDTjiNw9w5u9L5kuVlp6N87EGZmZg2up/bRrE+yn3zySXvnIAPTaDRYv2ED9hw+jPyqSkiMlRDUGlisX48+vXphyhNPwMKi6cPb7aWyshIV6mqY3OXaKBMrS1SkX0FVVRX/cBARERHdxYABA3AgNgFp55PgExBZr5hdTU+GkaQCgwYOFClh19WsUjZp0qT2zkEGpNfrsXzFCuxIPAbLnsHw9fWB3MgIep0OBVevYufJU8i/dQuvzZ0LlUpl8HxKpRJyqRSayqYPr6srKqCQSaFUKg2UjIiIiKjz8vDwwDNTH8fylT/hVMJ2OLr6wkRljuqqcuRmpUOBcjzx2MQGJ1Kj9tUu53xptVoUFRXh4MGDeOihh9rjKegenDlzBvuSEtEtZgCsXP6cJEMqk8HO2xtm9vY4uX0n9u/fjzFjxhg8n1KpRO+evbD9/Dk4+Pk1eHhdEAQUpl3GmJBQTm5BRHSPNBoNTp06hcRjSbiVfwumZiqEhoUiKiqKZyIQ3Wf69+8PBwcHHDhwAInHT6Pohg4KuQzR4QEYPHgQC5lIWlXKdDod/ve//2HLli0oKCiATqdrdCxLWcdzOC4OGkvLOoXsTsbm5jDxcMf+uDiMGDFClNIzMCYGh0+eRNaZs3AN6VVnnSAIyDp9BhZqNQYOGGDwbERE95O8vDx8u/BbXDh9CfIqI5gqzFCtrUbigRPY7LkFM1+cgcDAQLFjElEb8vX1ha+vL558shxlZWVQqVQwNzcXO1aX1qpS9v333+OHH36AkZERPDw8cPXqVVhbW8Pc3BzZ2dmoqqqCra0tXnjhhbbOS/dIEAScT0+HpZdHk+NsPNyRezget27dEmXijx49euCpiROxasN6XLhxA3a+vlCam6G6tAz5qZdgWlaOaZMnw8/Pz+DZiIjuF5WVlVj49SKkHktHcLfQOjelV2vVOJ92Ft989S3efPsNuLm5iZiUiNqDqakpTE1NxY5BABqe2u4uNm/eDEtLS+zevRtbt25F79690adPH2zbtg1Hjx7FI488goKCAvj4+LR1XmoDer0ekDY8404Nyf+f9bClM262pREjRuCNF1/CQFc3qE+dRsGBWKhPncZAd3e88dJLGD58uGjZiIjuB4mJiUg9lYZezhF1ChkAGMmN0NM1DAUZxdize49ICYmIuoZWHSm7fv06xo0bB0dHRwBAz549sWnTJgC3rwd6//33kZSUhBUrVqBfv35tl5bumUQigY+nJ45cz0K3gIBGxxVez4KNmRlsbGwMmK6+nj17omfPnigsLERFRQVMTU1hdZdZGYmIqHkOH4qDic4MJkYN3yBWKpWim7krjh4+hocfeZinNxERtZNWHSkDUOfDuqenJ3Jzc1FSUnL7QaVSDBgwAGlpafeekNrcwP79IS0oRGleXoPr1ZWVKLt8GUP69e8wMxtaW1vDxcWFhQxA6aU0ZG/Zdk+Pkb1lG0ov8feTqKvLycqBlYlVk2MsVVaoLK9CUVGRQTIREXVFrTpS5uzsjCtXrtT+t7u7OwAgNTUVkZGRtx9YLkdBQUEbRKS2Fhoaiv7BwThw4BAcIsJh4+kBqVQKQRBQciMX148eQ6C9IwYPHix2VPqL0ktpSJn/PnTlFRC0WrhMHN/ix8jasAkZy1dCZqpC0PvzYe7L04yJWksQBKSmpiInJwcSiQQeHh7w8PBo9KasHY1SqUS1TtPkGK1OC6lMypluiYjaUatK2aBBg7Bq1SqsW7cOEydORGBgIIyNjbFmzRpERkaipKQEe/bsqT29kToWhUKB52fMhMmaNYg/eQIXTpyE1MwU+soqqLRa9PXujunPPMOjUh3MnYUMADKWrwSAFhWzmkIGALryCqTMf5/FjKiVkpOTse73P/D/2rvv8KjqRH3g75mWTHpPSEhIQph0EgIBQui9iRQBWaqCHRRXr7vc3951V1233dUVXF1FVFBsgCKCiBRBeg0thQAppJFC+iSZycyc3x/czBJTSD+T5P08j89uzvmemTf5Msm8c9rN5DTUag0QAVg7qBAWHYoFC+fD399f6oj3FT0kCntSfkSgOKDJIplbmgPf6L7w8PDo4nRERL1Hm0rZ448/jv379+N3v/sdjEYjFixYgAULFmDz5s04e/YsdDodKisrsWbNmo7OSx1ErVbj8VWrMDM3FwkJCaioqIC1tTUiIiLQv3//bvMpb29ScS3VXMjqtKaY3VvI6hi1Vai4lspSRtRKly5dwr/efBe62wYEuofA8f8+xLpTWYTLhxKRnZmN5/9rLQICAqQNeh8jRozATz8cRkZRGgLc+zdYX1J5B1WKcoydMA8yWZvPeCAiovtoUylzdnbGzp078dlnnyEyMhIA8MILL0Cv12PPnj2wsrLC/Pnz8fjjj3doWOp43t7e8PZu/H5lZFm8Z06HaDA0KFYtKWaNFTIA8H9kObxnTu/YoERNqKmpQVVVFdRqNdTqxi8s0R3odDp88tGnMBQA0X5D6n2I5WbvDmdbF1y8eQ6fffo5/vt36yz6Q67AwEDMX/IQPv/wS1y+VQ5f136wt3aAzlCDnOIslIhFGD0tHqNHj5Y6KhFRj9amUgYAdnZ29UqXSqXCyy+/jJdffrlDgpF0KisrcfPmTej1ejg7OyMwMJCfkFqIuuLVmmLWXCFryzlpRK2VmZmJI0eO4NTRM9BV66BQyhEdG4UxY8d0y5sSX7x4EbkZtxHpGdNo4ZLL5Ah0C0Lq1eu4efOmxd8eZsqUKXB2dsa+7/fhZkoqaitqIVPI4dXfAzMmLsLkyZOhULT57QIREbVAu3/LJiQkICUlBRUVFXB2dkZ0dDQGDBjQEdmoi1VVVWHXrl04cuY0CisrYTSZoFYoMcDHBzOnTkVsbKzUEQmtK2YsZCS18+fPY+M7m1Ceo4WnbR+4WHmhprIaJ3adxZlj57BoxUJMnjxZ6pitkpGRAVmNAmqVTZNjnGxdoM8xIC0tzeJLmSAIGDZsGIYOHYr09HRUVFTAysoKgYGBUKlUUscjIuoV2lzKTpw4gT/84Q/IysoC8J+bDAuCgIiICLz66qsICQnpmJTU6aqrq/HW22/jTPpNOIaEIDCoPxRWVqgsuoOkxETc/OhDPFpRgfHjx0sdldCyYsZCRlLLy8vDB+9+CMNtAbF+cfX2KvV18UN6wQ18/tGX8Pb2RkREhIRJW8doNEJ2nzvKCIIAGQTz38buQBAEBAYGSh2DiKhXalMpu3DhAp544gmIoogHHngAAwcOhJubGyoqKnDhwgXs3r0by5cvx+eff85f8N3Evn37cCbtJvwnT4TNPVddtPdwh73HWGRdSMDWr79GWFgYvLy8OjWLKIq4ceMGLly4gIqKCtjY2GDgwIEICwvjYZT3aK6Y5X77HfSN3JKChYy60rFjx1CaU4ZY3/hGD/ML8AjChcwz+OnQT92qlHl6eqJWoUOtsRZKeeOXidfqKgGVyCsWEhFRi7SplG3YsAEKhQKbN2/GwIED662bP38+5s+fjxUrVmD9+vX45z//2RE5qRPV1NTg0PHjsA/qX6+Q3csnaiCS09Jw8uRJzJkzp9OylJaWYuOmTUi4fh1VVkrIbe1gqqnGriOHEerrhydWrer0UtidNFXMWMjIEpw6dhquKg/IhKY/TOnj6IPL56+irKwMjo6OXZiu7YYMGYLtXl8jqygDgZ6NH66fXnATfcN8ulXZJCIi6bRpt8OVK1cwderUBoWsTkxMDKZMmYJTp061Kxx1jaysLBSUl8M1sOlLN8vkcqh9fHApKanTclRXV2PDO+/geHoaXEfHI2zWAwiZOB5hM2fAa+J4XCwqxD//9S+UlpZ2WobuyGf2LPg/srzZMSxk1NVMJhO0lVpYq5q/yqJaaQOD3oDq6uouStZ+jo6OeGDuDBTLCpFecAMGo8G8Tm/QIyU3EUYnHebOn8MbLhMRUYu0qZQplUrY2to2O8bOzq5bHUvfmxkMBphEEfL7vHlQqFQwGAzNjmmP06dP42JGBvpPHA8HL696hzvZurpiwKQJuHanEEeOHOm0DN2Vz+xZULm4NLpO5eLCQkZdTiaTwd7BHlW6qmbHVem1UFop7vs3xdJMmzYNi1YugM65EufyTuJCxllcyDiDhILTUPoAjz61AsOGDZM6JhERdRNtOnxxxowZ+O6777BixQr07du3wfrCwkLs378fU6ZMaXdA6nxubm6wUSpRUVAIq4Cm3xhVFRbCO7DzriJ2+NgxyL29YO3g0Oh6pVoNW39//HTiBKZPn85PoO+Rs3NXo4csAncPZczZuYvFjLpc/JgR+DJlO0wmTaPng4qiiNzybMSPHQp7e3sJEradIAiYMWMG4uLicObMGeTl5UEQBPj5+WHo0KGws7OTOiIREXUjbSplCxYswIULFzBnzhwsXboUsbGx8PDwgE6nw5UrV7Bp0ybo9XrExMTg4MGD9badMGFChwSnjuPu7o7BoaE4lJQM135+EBp581RRWAh5aTlGDB/eKRkMBgNyCvLhGNH8PYscvfugJPMWysvL4erq2ilZupumrrJ4r5bcYJqoo40YMQIHfziEK5kXEdk3ul4xE0URN/KvwcpNgXHjx0mYsn1cXFwwdepUqWMQEVE316ZSNmvWLAjC3Uv9vvPOOw2uqlV32OK6devqLRMEAcnJye2IS51l2tSpuLxhPW78fBT+w4dDaW0F4O68VeTnI+vocYwKC+u0k9ZlMhkECDAajM2OE41GCBAavZJbb9RUIVO5uDTYc8ZiRl3Nw8MDT6x+HP9++z2czTgON2tP2FrZoaa2BgVVebDxsMbyVUt5+xQiIur12lTKnnnmGb4p7mGCgoLw7KrH8P7mzbix81sI7m5QWltDV1wC6+pqjA4JxeOrVkGhaPf9xhslk8kQPiAIP2dmwiskuMlxRekZCPXyglMTV4nsTe53H7LG1rOYUVeLiIjA7/7w/3D06FEcP3ICxZX5UDopMGXEBIwaNYq3TSEiIkIbS9maNWs6OgdZgMjISPz5D3/AuXPncDUxEdU6Hdz9/DF82DBoNI2fE9KRRsWPxMn3/o2SrGw4+zY8V7GyqAimvNsYt+hXvf5+ZS25MXRLbjBN1BW8vLwwf/58zJs3DzqdDiqVCnK5XOpYREREFqNzdntQt2VnZ4exY8di7NixXf7c0dHRmDw8DnuOn0RlyAB4BgdDpVbDoNOh4MZNlF5NxOiwcIwYMaLLs1mSlhSyOixmZElkMhnU6uYvkU9ERNQbtaiUzZkzBw8//DAWLlxo/rolBEHA119/3fZ01KvIZDIsW7oUri4u2P/zz0hPToVJKYdQa4SbjQ0WjBuPObNnQ6VSSR1VMq0pZHVYzIiIiIgsW4tKWXJyMgoLC+t93RI874xaS6FQ4MEHH8TkyZNx9epVVFZWQq1WIzw8vNtdMruj5e7+vtWFrE5zxUxQKOA9c3rHBSUiIiKiVmlRKUtJSWn2a6KOplarERsbK3UMi2IfrIHc1gZG7X9uxtuSQlansWImt7WBfbCmY4MSERERUau062oJRqMRFRUV9ZadO3cOtbW17QpFRA3ZDwhC+B9fhtzWBkDrClkdn9mz4P/IcgB3C1n4H1+G/YDOuyE4EREREd1fm0vZ119/jZEjR+Krr74yLzMajVixYgVGjRrV4KbRRNR+dcUs4LGVbT4XzGf2LAQ8tpKFjIiIiMhCtKmUHTx4EP/93/8NpVIJHx8f83Kj0YhnnnkG1tbWWL16NY4ePdphQYnoLvsBQe0+B8x75nQWMiIiIiIL0aZStnHjRvTp0we7du3C1KlTzctVKhWeeuop7Ny5E25ubvj3v//dYUGJiIiIiIh6ojaVshs3bmDKlClwcnJqdL2TkxOmTJmCxMTE9mQjIiIiIiLq8dp082iFQoGSkpJmx1RVVUGh4L2piYiIiIi6k5qaGiQnJ6OyshI2NjYIDQ2FjY2N1LF6tDa1pqioKBw8eBC3bt2Cn59fg/W5ubk4ePAgIiMj2x2QiIiIiIg6n8FgwL59+7D/4GHcLiiBySRAJohwd3XA2DHxmDVrFpRKpdQxe6Q2lbJVq1bh2LFj+NWvfoVly5YhOjoadnZ20Gq1uHz5MrZs2YKKigo8/vjjHZ2XiIiIiIg6mMlkwieffop9+4/D0aM/wofEw8raBnpdNXKzruOrr/chv6AAjz/2GI+G6wRt+onGxsbi9ddfx2uvvYY33ngDgiCY14miCLVajddffx1xcXEdFpSIiIiIiDpHQkICDhw6AV/NcLh7+pqXq6zU8A8aCEdnDxw9cQyREScxatQoCZP2TG2uuQ8++CDGjRuHw4cP49q1aygvL4eNjQ00Gg0mTpwIR0fHjsxJRERk0QwGA8rLy5Geno4bN26guroaNjY2GDRoEIKCgup9gElEZGmOHTsOKBzrFbJ7Obt6IdfGHUd+PoaRI0fyd1oHa9e+RwcHB8ya1bYb2BIREfUEpaWl+Pnnn/Hj3v24nHAZVeXVsJXZw8XBFdb2VtjjtBcRg8OxctWjcHFxkTouEVEDBoMBSSnX4d4npNlx7l7+yMi8iIqKCjg4OHRRut6hXaUsPT0dOTk50Ov1EEWx0TETJkxoz1MQERFZrLy8PKx/cwOuX7qJgtsFMFbI0BcaiLUmGLQm2Mmd4eXqiQuHLkFX8w5+/eKveQUzIrI4RqMRoihCJpc3O04uV8BkEmEwGLooWe/RplJWUlKCZ555BgkJCU2OEUURgiAgOTm5zeGIiIgslcFgwHvvvo9bl3PgonBDYc0d9LfSQCmoAGugprYGebfyYWNji0jvGFw5ex4nT57kh5VEZHFUKhU83N2QeycfXt6BTY4rLc6Hs5M995J1gjaVsjfeeAMXLlzAgAEDEBcXB3t7ex5XSkREvcrVq1dx4+pNBHtE4PS141Ab7FEt1qDSWAlBEGCttIa1oEZudi58fX1ha3LEkUM/Y/z48fybSUQWRRAEjBkdjw8+3oaaai2s1bYNxuj1NSgpzMD0BdN49cVO0Kaf6MGDBxEWFoZt27ZBfp/dnERERD3R5cuXAa0cSkclCkoLYFVuB73BAEGUQYQIyACVSgmZSUBJSQnc7NxwOycfNTU1UKvVUscnIqpnxIgROHb8JBIvHMSA8BFwcHIzr6usKEHqlRPo7+eG0aNHS5iy52pTKdNqtYiPj2chIyKiXquivAJKQYWU3ERUaitgY3SGPZwhkwkQRcBoMqCqphK1eh202kqoHBQQZIBMJpM6OhFRA7a2tliz+mm89/5GJCcfhhE2UFrbolZXDcFUieDAvnji8VVwdnaWOmqP1KZSptFokJaW1tFZiIiIug0HRweU6UpRXHQHdjIHGOV6yIx3D0sUBEAhKGBrckBpbRGKiu5AIYgIHxIMKysriZMTETXOzc0N6377GyQlJSEhIQHlFRWwt7NDVFQUwsPDedhiJ2rTT/app57CmjVr8OOPP2Ly5MkdnYmIiMjiRUdH4yPDZhirTfC28kO2IRM6UzWsxP8cmmg0GWCtUKOotBAOfawxegxvuEpElk0mkyEiIgIRERFSR+lV2lTKkpKSEBwcjOeeew6+vr7w9/eHSqVqME4QBGzYsKHdIYmIiCxNWFgYbO3UKK7RwsHWFQ5WpSgQs+FQ6wo7kyNEI1ALHUy2BhSacjE8ZiYGDx4sdWwiIrJAbSplb7/9tvn/37p1C7du3Wp0HK8uRUREPZVcLkf0oGiczLiAkqoiOIquEFVAqawARYY8CAoBSrUCji6OcLZ1xIOzH+ShP0RE1Kg2X32RiIiot4uIisC1c2noqwjA7bzbkFW5wQFOkNmKcHBygJuLG0wmE6ocytCvXz+p4xIRkYVqUynz8fHp6BxERETdTlxcHPbt2g+ZXkTs0FgYjUYIggD5/11h0WA04HzWKYyfNhouLi4SpyUiIkvVolKWkpICd3d3uLq6mr9uqZCQkLYlIyIisnC+vr6Y+uBk7Nz6HWoL9Ojr2g8KmRKiKKK0qgQ3i1LhHeKJBx54QOqo1EMUFxfjypUr0Gq1sLGxQWRkpPn9GRF1Xy0qZbNnz8bq1auxevVq89ctPV8sOTm57emIiIgsmCAIeOihh2BtbY293+3DhdunoDAqYYQRSjs5QuODsPyR5fDy8pI6KnVzNTU12LZ9B44eO4WyCh1kCiuYDDrY26oQHzcEDz+8kDclt1BVVVVISEjAnTt3oFKpMGDAAAQGBvLaC1RPi0rZnDlzEBoaav66NaWMiIioJ5PJZJg1axbGjRuHCxcuoLi4GAqFAsHBwRgwYAD/XlK71dbW4v33P8Cx05fRxy8S/hGBUCiUMBoNyM9Nx94DJ1FcXIzVq5/hffAsiMlkwr59+7Dn+/0oKqmETKGGyVgLK6UJocGBWLZ0Cby9vaWOSRaiRaXsz3/+c72vV69ejb59+3ZKICIiou7I3t4eY8aMkToG9UBnz57FybOXMSBiNBydPczL5XIFvH0HwN7RFWcTDuHEiRMYN26chEnpXt988w127PwBDu4DEBEbDJWVGqIoouTObVxMvIA7/9yAF19YC09PT6mjkgWQtWWjZcuWYe3atR0chYiIiIjuJYoifv75GBRq13qF7F72Di6wtvfCkZ+PQRTFLk7YOURRxI0bN/D555/jX/96B5s2bcLJkydRU1MjdbQWyc7Oxp69B+HedyACNdFQWd09tFQQBLi49cHA2Em4lVeBXd/tljgpWYo2XX2xqKiIe8qIqMfT6XQ4ceIETp8/j+zbt6FUKBAdFoZRI0ciKCiIh6URUafT6/VIy7gFd8/wZse5e/ohOycBlZWVsLe376J0nUOr1WLTpg9xLiEReqMSKrUjDLU12H/oFHz7uuGxlY9Ao9FIHbNZJ0+ehFYHBPsNaHS9QqlCH79QnDl3EfPmFvPqrNS2UhYbG4sTJ05Ar9dDpVJ1dCYiIsmVlJRg65dfIFerhdK7D+yCAlBda8B3ly7ip7NnMHfSZJ5fS0Sdzrzn636/awQBonj3PKbuzGAw4L33NuLU+RQEhgyHs1sf8+/ZmmotUhNPYf2Gf+M3Lz0PX19fidM27cbNdNg5ekEQmj4ozc3TF/mZF5GTk8NSRm0rZfPnz8drr72GKVOmYNSoUejbty+sra0bHbts2bJ2BSQi6mpGoxEffPwRrpWXI3zmdNg5O5vXeUdGoCA1FV/8sBcuLi48h4iIOpWVlRV8vL2QnpcLL+/AJscVF+bA08Ol2+8lu3r1Ks5dTIImciwcnNzqrbNW2yIiZiwuntqLH37Yh8ceWyVRyvu7W6abL9ICBIjoGYebUvu1qZTdez7ZV1991eQ4QRBYyoio20lKSsLV9Az0GRYL61+8wREEAZ7BwagsuoO9Bw4gPj4eCkWbfpUSEd2XIAgYM3okkj74DNrKMtjaOTYYU11VicrSHCx4YC5ksjZdLsBiHD9+AoLCoUEhqyOTyeHlG4wz5y9h3jzLPewvMKAfLiXdPcevqSMqigqyYWdjjT59+nRxOrJEbXon8frrr/OQHSLqsc6dOwe9vS2c79lD9kt9wkKR8eMBXL9+vd4tQ4iIOtrw4cNx8tRpJCQcQj/NELh5+EAQZBBFEcVFuUi/dhYRGl+MHDlS6qjtlpWdC3unxi9oUsfZ1QtF2Zdw584diy1lcXFx2Lf/Z9zOSUOfvv0brDcYapGbmYTxIyPh5tZ4AaXepU2lbO7cuR2dg4jIYtwpLYXKseGn0fdSOzlBZzSioqKii1IRUW9lbW2N1c88jY8/3ozzF8/h1vXzUKhsYKithlppwvDBwXhkxXLY2tpKHbXdFAoFTFWGZscYjQYIgmDRewX9/PwwacIo7Pr+J9Tqa+Dtp4FCoQQAlJcW4WbKOfRxt8bMmTMlTkqWolWlLC8vD8eOHUNJSQk8PT0xevToZj9JJiLqjmxtbFCbl9vsGH1VFRQyGW/USkRdwt7eHqtXP4OsrCwkJCRAq9XC1tYWAwcOhL+/f485gikiPATf7DkKURzc5PeUn5sONxdH+Pj4dHG6lhMEAQsXLoC1tRX27T+MS6dSIFfaQDQZIYcOwYF98ciKZRb9PVDXanEpe+utt7Bx40YYjUbzMmtra/zmN7/Bww8/3CnhiIikEBUZif1nz6C2qgpo4oOnguvX4eXgaPGXZSainkMQBPj5+cHPz0/qKJ1mxIgR+PHAz8jKSIZfQFiD9VXacpQUpGPa/GlNXmTOUsjlcsydOxfjx4/H+fPnUVxcDKVSCY1Gg5CQEIve00ddr0WlbNeuXXj33XehVqsxbdo0eHp64tatWzh06BD++Mc/ol+/foiLi+vsrEREXSImJgZ+O3ci6ex5uHp6NriQR0VBASqvXcfcadOhVqslSklE1PP4+flh7uzp+GLbLlRVlsHXPxS29k4wGGpxO/smbmclISo8AJMnT5Y6aos5OTlhwoQJUscgC9eiUrZt2zY4ODhg+/bt9T6duXLlCpYsWYKtW7eylBFRj2FtbY3Hli/H6//4B1J3fw/X0BA4eHrAWFuLorR0GLJzMDZyIKZNmyZ1VCKiHmfGjBlwcHDA93t/xI0rB1BrEAGIcHGywaxpIzFnzhzY2NhIHZOoQ7WolKWmpmLq1KkNdpdHRkZi7NixSEhI6JRwRERSCQgIwPKHH0ZOTg5OX7qEO0nJkAky9PfwwLj5CzBmzBgolUqpYxIR9TiCIGD06NEYMWIEUlJSUFZWBpVKBY1GA8f7XISJqLtqUSnTarVwdXVtdJ2/vz8OHTrUoaGIiCyBq6srRo4ciYULF6KkpAQKhQLu7u48D4CIqAsoFApERERIHYOoS7SolBkMBsjl8kbXKZVKGAzNX7qUiKg7s7Gx4aEyRERE1GnadJ8yIiIiIktTVlaGy5cvo6qqCmq1GpGRkbx1DxF1CyxlRERE1K3pdDp8/fU3OHL0BErKqiGTq2Ay1sLR3gqj4ofhoYfm8UqpRGTRWlzKUlJSsHPnzgbLk5OTAaDRdQAwe/bstuQiIiIiui+DwYAPNm3CkeMX4dE3DFGhQVAoVTAYapGfk4bvfjiKoqIiPPPM01CpVFLHJSJqVItL2cGDB3Hw4MEGy0VRBACsW7euwXJBEFjKiIiIqNOcO3cOx04mICh8DJxcPMzLFQolfPoFw97JDWfO/4SYkycxZswYCZMSETWtRaVs9erVnZ2DiIiIqNWOHDkKpdqtXiG7l4OjK6zsvXD4yFGMHj0agiB0cUIiovtjKSMiIqJuSafT4Wb6Lbh6hDU7zt3TD1nZCaioqICDg0MXpSMiajnebIeIiIi6pbunUIgQZM3v/RJkMojif065ICKyNCxlRERE1C1ZWVmhj5cnSorymh1XXJgDdzdn2NnZdVEyIqLWYSkjIiKibkkQBIwZHY/q8jxUacsbHVNTrUV5cRbGjhkJuVzexQmJiFqGpYyIiIi6rbi4OESGBSAp4RDuFOaYD1EURREld27j6vkDCNP4YuTIkRInJSJqGm8eTURERN2WWq3G6meexqYPP8LlK2eQkSqDQmkDQ201rBQGDIkKwqqVj/LQRSKyaCxlRERE1K05Ojri+bXPIT09HRcvXoRWq4WNjQ2ioqLQv39/XgafiCweSxkREVmk2tpaXLlyBbdu3YLJZIKXlxcGDRoEtVotdTSyQIIgIDAwEIGBgVJHISJqNZYyIiKyOFevXsXWzVtx60Y2BJ0cgACjohaefu6Yu2AORo0axb0fRETUY7CUERGRRUlMTMSGf7wN3W0TwjyjYWt191ygmtoaZGTexKZ/fQSTyYSxY8dKG5SIiKiDsJQRUbd0584dnDlzBrdv34ZcLoe/vz+GDBkCGxsbqaNRO5hMJnz1xVeoyTMg2m9Ivb1h1kprhHiH41peMrZ/sQNDhgzhxRuIiKhHYCkjom7FZDJh165d+O7gQRTX6iE4OwEmE4RjR+G961ssW/gwYmNjpY5JbZSSkoL0lEz0dw9t8vDEAPf+SMg5jXPnznFvGRER9QgsZUTUrezatQtb934Pu/AwBIcEQ664+2tMX12NrPMX8K+PP8ZapRLR0dHSBqU2ycnJgaHKCEcXpybHqBQqKGpVyMnJ6bpgREREnYg3jyaibuPOnTv47uBB2IWHwTsi3FzIAEClViMwfgQqnR2x/dtvYTKZJExK7VV3A2AiIqLegKWMiLqNM2fOoLhWD8+Q4EbXC4IAn4EDcTMvFykpKV2cjjqCr68vFDZylFWXNjlGb9DDoNSjb9++XReMiIioE3X7Unb+/HksWbIEgwYNQnx8PP70pz+hqqqqRds+/PDDCA4ObvDfgw8+2Mmpiagtbt++DcHZqd4esl+yc3OFThCQn5/fhcmoo2g0GvQPC0Ra4Y0m95alF9yAm48LhgwZ0sXpiIiIOke3Pqfs0qVLeOSRRxAQEIC1a9ciPz8fW7ZsQVpaGjZt2nTf7VNTUzF27FhMnz693nInJ6dOSkxE7SGXy4H7HJYoiiJgMkEm6/afOfVKMpkMCxctwD+z3sKlW+fR30MDe7UDAKBaX430whvQ21fh0V+tgK2trcRpiYiIOka3LmV//etf4ezsjK1bt5ovi+zr64s//OEP+OmnnzBu3Lgmt83JyYFWq8XYsWO5Z4yom/D394dw7Bhqq6uhVKsbHVOanQM7uQL+/v5dG446TEhICJ59cQ22bvkM165fgVgkQBAEGBUG9An0xLyFixAfHy91TCIiog7TbUtZXl4ezp8/jyeeeKLefWoeeugh/O1vf8Pu3bubLWWpqakAgP79+3d6ViLqGEOGDIH3rm9x60ICAkfENbhkutFgQO6lS4jv3x9+fn4SpaSOEBYWhlf+9EckJiYiIyMDoiiiT58+iIqKgpWVldTxiIiIOlS3LWVXr14FAERERNRbrlQqodFozOubcv36dQBAUFAQAECr1fJQGCILZ2Njg2ULH8a/Pv4YqT8dRt+ogbB1dYUoiijNzkHupUvop1Bi0cKFTd7jiroPuVyOgQMHYuDAgVJHISIi6lTdtpTVncTv5eXVYJ2HhweSk5Ob3f7atWuwsrLCW2+9hd27d6OyshIeHh547LHHsGzZsk7JTETtFxsbi+cUCuzY9S1uHPgJerkA0WiCvVyB+P79sWjhQl6Vj4h6lIrrN1BxLRXeM6fff3ATcnd/D/tgDewHBHVgMiLqKBZXygoLC5tdb2VlBQcHB2i1WgCAtbV1o2N0Oh1MzZzsf/36deh0OuTn5+P1119HdXU1tm3bhj/96U8oLS3Fs88+26b8oii2+OqPZPmqq6vr/S9ZhuDgYPz2hReRmpqKgoICCIKAfv36wdfXF4IgdMhrkHPfu3H+ey9Lm3vtzTTcfP2vMFZVQVdVBc82FLP83d8jd+vnkNvYoP9//wa2/QM7IWnPYGnzT12nM+ZeFMUWH7ljcaVs5MiRza6fMGEC3nnnHfOlkpv6Ru/3A1i4cCGMRmO9vWKzZs3CokWL8P7772PRokVwd3dvZXqgtrb2vnvpqPvJyMiQOgI1oe51qtVqO+XeZJz73o3z33tZwtybcnKh//RzQKcDAORu/RwFBQVQxA1r8WMYTp6GYf9BAICxqgqpr74O1ZJFkPl4d0rmnsIS5p+k0dFzr1KpWjTO4krZa6+91ux6Hx8fAHfPLQEab7M6nQ5qtbrZS2IvXry4wTKZTIaFCxdi3bp1OHfuHKZNm9aa6ADuntNWd54adX/V1dXIyMiAv78/1E1c7Y96Js5978b5770sae4LM7OQ/X+FrI5h/0F4eHi0aI9Z/u7vkft/hcxMp4OHwQj30NCOjNpjWNL8U9fqjLm/ceNGi8daXCmbP39+i8Z5e9/9hKexwx0LCgrg6enZpud3dXUFgDYf/iQIgrkwUs+hVqs5r70U57534/z3XpYw9/3mzoZCJkPGR5vrLc/d+jlUKhV8Zs9qctucnbuQu/XzBsv9H1ne7HZ0lyXMP0mjI+e+NRcd67Z3Vw0PDwcAJCYm1lteW1uLa9euITIyssltc3NzMWPGDLz11lsN1qWlpQG4e78zIiIiIin5zJ4F/0eWN1ie8dFm5Ozc1eg2OTt3NShyAAsZkSXrtqWsT58+iI6Oxtdff43Kykrz8u3bt6O6uhozZ85sdtuysjJs27YNZWVl5uVlZWX4+OOP4ePjg5iYmE7NT0RERNQSrSlmLGRE3ZPFHb7YGv/1X/+F5cuXY/HixXj44YeRnZ2NzZs3Y8yYMRg9erR5XEpKCq5du4aYmBjz1dlefvllrF69GgsWLMCiRYug1+vx5Zdf4s6dO9i4cSMUim79oyEiIqIepK5Q/bJw1X3tM3sWCxlRN9Zt95QBwJAhQ/DBBx9ApVLh9ddfx+7du7FkyRL885//rHcM5/79+/HSSy/h7Nmz5mWTJk3Cu+++C2dnZ7zxxhv497//DX9/f2zduhVxcXFSfDtERERETWpuj9mxxctYyIi6sW6/OyguLg7btm1rdsyaNWuwZs2aBsvHjx+P8ePHd1Y0IiIiog7V1B4zoVLbYCwLGVH30a33lBERERH1Nj6zZ0E9fWqzYy46O6M2emAXJSKi9mIpIyIiIupGamtr8VVGBrQyeaPrdVY2OC444JNPP4Moil2cjojagqWMiIiIqBu5cuUKnG9mwtZkbHS9la4K4+zscf3GLVy/fr2L0xFRW7CUEREREXUj+bv3YKSuutkxYbeuIryq2nz/VSKybCxlRERERN1Ezs5dcDh/scFynZVNg2UjdZVQJDQcS0SWp9tffZGIiIioN2jqPmTpIcORGxAF7/RLCEg5VW+d+tRZ5Ozc1a2uwiiKIlJTU3Hx4kVotVrY2toiKioKGo0GMhn3J1DPxFJGREREZOHuV8gAmP/3l8Xs3htMW7ri4mJ8sOlDXEm8Ab1RCYWVLQx6LXbvPYSw4EA89thKuLm5SR2TqMOxlBERERFZsKYK2XFrG2Sa5OhrNEAuv/uW7pZvGO4U5GBIcVa9sd2hmFVVVWHD2+8g6Xoe+ofGw9HZA4IgQBRFlJcW4mLSKazf8Db+68UXYG9vL3Vcog7FUkZERERkoZoqZP1WLEOxQobru/ch4cQ1WNm4QARQW1UMZ0crRI0cAeWxE/W2sfRidvz4cSSl3kJYzFSobezMywVBgKOzByIGT8TVc3tx/PhxTJ3a/H3aiLobljIiIiIiC5S7+/tGC5n/I8vhM3sW+gKIi4vD6dOnkZ2dA0EQ0K/fWAwbNgxOTk7IGTCgwfYZH22GoFDAe+b0LvouWkYURRz++RhsHX3qFbJ7WVnbwN65Lw4fOYbJkyfz/DLqUVjKiIiIiCyQfbAGclsbGLVV5mV1hayOm5sbZsyY0ej2dePuLWZyWxvYB2s6KXHbVVdXo6DgDpy9BjY7ztnNG0U5F1BZWQkHB4cuSkfU+fgRAxEREZEFsh8QhPA/vgy57d3L3f+ykLWEz+xZ8H9kOYC7hSz8jy/DfkBQh2dtL5lMBkEAxCZuiF3n7nqBe8mox+GeMiIiIiILVVfMKq6ltvmQQ5/ZsyAoFLAP1lhkIQMAKysr9A/oh8Sbt+Dl07/JcYW3M6Hx94GtrW0XpiPqfPyYgYiIiMiC2Q8Iavc5YN4zp1tsIQPuXsxjzJhRMFQXoeTO7UbHlJUUQK8twOhRIyEIQhcnJOpcLGVEREREJLkhQ4Zg1IjBSEs6hsybV1Gr1wEAamt1uJWWiOtXf0b88GgMHz5c4qREHY+HLxIRERGR5BQKBVatWgl3dzf8dOQ4Lp9OhiBTQDQZ4Opki3mzJmL27AehVCqljkrU4VjKiIiIiMgiKJVKPPTQQ5g6dSquXr0KrVYLW1tbhIeHt/qG0VVVVbhy5QrKy8thbW2N8PBwuLi4dFJyovZhKSMiIiIii2JnZ9fmwxSNRiP27NmD/QcOo6C4AoJwd2+bg7014ocPwfz5D/FCIWRxWMqIiIiIqEcQRRGffroVe/cfhbOnBhGxY2BlpYbBUIv83HTsPXASt/Pz8dyza6BWq6WOS2TGC30QERERUY+QmJiIAz8dh2/QMAQMiIKV1d3ipVAo4eOnQUjUeCRcvoHDhw9LG5ToF1jKiIiIiKhHOHr0GIyCLdy9/Bpdb2vvBHsXXxz5+TgMBkMXpyNqGksZEREREfUIySnX4eLu2+wYd69+uF1wB0VFRV2Uiuj+WMqIiIiIqEcwGI0QZM2/vZXLFYAImEymLkpFdH8sZURERETUIwT4+6L0zu1mx9wpzIG9vQ0vj08WhaWMiIiIiHqEUSPjYaguQkV5caPra/U63LmdhtEjh8Pa2rqL0xE1jaWMiIiIiHqEmJgYxESH4NrlwyjKz4IoiuZ1FWV3cOXcAQT4umDChAkSpiRqiPcpIyIiIqIeQaVS4aknn4D64804d+EcMm9cgEJlB6OhBgpUIzTID4+tepSHLpLFYSkjImonnU6HK1euoLS0FCqVCiEhIfDw8JA6FhFRr2RnZ4dnnnkamZmZuHDhAsrLy6FWqxEeHo6wsDDI7nMhECIpsJQREbWRKIo4cOAA9hzYj5ySEpiUSphqa+GkUmFo5EAsWrgQTk5OUsckIup1BEGAv78//P39pY5C1CIsZUREbbRz50588cNeKAL90S8+DlZ2djAZjbiTkYl9ly4jLz8fLzz3HBwdHaWOSkRERBaM+2+JiNogMzMTOw/sh13UQPjHxsLKzg4AIJPL4d4/EEFTJuHy7Vzs27dP4qRERERk6VjKiIja4MSJEyiXyeAZrGl0vZWtLRwHDMCR06dQVVXVxemIqLVMJhNSUlKwd+9e/Pzzzzh58iRfu0TUZXj4IhFRGyRevw6bvt4QBKHJMa7+/shNSUVOTg4GDBjQhemIqDUyMjKwecunuJGWhZpaGXQ6PU6cuYqd3+7BAzOnYtKkSc2+1omI2ouljIioDUwmE2QyebNjZHIZRIgwmUxdlIqIWisrKwtv/HMDispEBASPho2dE8pKy2BjY4287FRs/nQ7dDodHnjgAamjElEPxsMXiYjawN/HB9rbt5sdU5qbBzuVFdzd3bsoFRG11jff7ERBsQGRQybC0dndvEdMZWWN/sExcPYKxbff7UN+fr7ESYmoJ2MpIyJqg/gRI2ClrUJpbm6j640GA4qSkxE3aBBvUkpkofLy8nDxcjL6BoRDLm/84KG+/iGoqDLg1KlTXZyOiHoTljIiojYIDQ3FyKho5B47jqK0dIj3HKJYVVqK6wcOwVdlhWlTpkiYkoiak52djcoqHdw8fZscI5PJYW3nhozMW12YjIh6G55TRkTUBjKZDCsfeQTWn1nh5/PnkJSQAJm9PUR9LZSVWmi8PPHYikfg4+MjdVQiajcBEEWpQxBRD8ZSRkTURtbW1lj56KOYOmUKzp07h5KSEqhUKoSGhiIyMhIKBX/FElkyb29v2NlYoSg/Gx59+jU6xmQyorqiEP7+Q7o4HRH1JnzHQETUTj4+PtwjRtQN+fj4ICoyBCfPJ8LVw6fR88pyMq/BwVaOYcOGSZCQiHoLnlNGREREvdbs2Q/C3VmOK+cOobzsjnl5rV6HtNSLuJObhJnTJ8HLy0vClETU03FPGREREfVa/fr1w9pnn8bmLZ8iLekw9EYFanR6WClM8HBzwJJFszFt2jSpYxJRD8dSRkRERL1a//798YeX/wdJSUlISkpCVlYWIiIiEB8fDzs7O6njEVEvwFJGREREvZ5MJkNERAQCAwORnJyM0NBQ2NjYSB2LiHoJnlNGREREREQkIZYyIiIiIiIiCfHwRSIiIguk0+lw6dIlJCUlQafTw8XFGbGxsejXrx8EQZA6HhERdSCWMiIiIgtz/fp1bNz0EbKyCyEoHSFXKKGvuYw9ew9hWGwUVqxYDrVaLXVMIiLqICxlREREFiQrKwvrN7yLEq0CITHToLa5e/U/URRRVJCNn46dgcFgwDPPPA2ZjGchEBH1BPxtTkREZEF++OEHFJYaEDF4nLmQAYAgCHD39EX/sHicPncZiYmJEqYkIqKOxFJGRERkIYqLi3H67CX08QuFTCZvdIyzqxdMMjucOHGyi9MREVFnYSkjIiKyEIWFhaiu0cPZ1bPZcfZOHriVndtFqYiIqLOxlBEREVkIuVwOQQCMRmOz40xGIxTyxvekERFR98NSRkREZCF8fHzg7GSPgryMJseIognlJbkIDwvuumBERNSpWMqIiIgshFqtxphRcbhz+yaqqyoaHZOVkQJbaxFxcXFdnI6IiDoLSxkREZEFmTp1KiJCfJF4/gBybqXCYKgFAGgry3Dt6imU3k7CnFnT4OvrK3FSIiLqKLxPGRERkQWxs7PD82ufxbbt23Hq9AVczLgIQSaHXBDR19sNM+YvxujRo6WOSUREHYiljIiIyMLY29vj0UcewewHH0Rqair0ej2cnJwQGhoKpVIpdTwiIupgLGVEREQWysXFBcOHD5c6BhERdTKeU0ZERERERCQhljIiIiIiIiIJsZQRERERERFJiKWMiIiIiIhIQixlREREREREEmIpIyIiIiIikhBLGRERERERkYRYyoiIiIiIiCTEm0cTERFRt2cymZCamor8/HwIgoCAgAD4+vpKHYuIqEVYyoiIiKhbu3LlCnZ8vRM307OhrwVE0QRbtRIR4QOwcMF89O3bV+qIRETNYikjIiKibuv8+fN4970PoTPZo1/IGDg4uUEUTSgqyMHZS1eQnf0WXvj1cyxmRGTReE4ZERERdUvV1dX45NMvYJC7ImLwODg4uQEABEEGd09fDIydhLw7tfj8iy8hiqLEaYmImsZSRkRERN3S+fPnkVdQiv7BMRAEocF6hUIJv/4DkZh8A7du3ZIgIRFRy7CUERERUbeUnp4OucoRVtY2TY5xdfdBdY0J6enpja4vKSnBhQsXcPbsWaSnp3OPGhFJgueUERERUbdkNBohyJr/fFkQBAgyASaTqd7ykpIS7Pz2W5w6fR5l5dUwiSLU1kr09++L0NBghIaGdmZ0IqJ6WMqIiIioW/Ly8kJtzUkYjQbI5Y2/pakoL4ZcMMHDw8O8rLi4GG+8uR6p6QXo4xuKfmEBkCsUKL2Tj+QbV3D56rfo06cPRo4c2VXfChH1cjx8kYiIiLqloUOHwtFehZzMa42uF0URt25ehb+fV709X9/s3InU9AJEDpkMn37BUChVEAQZnN36IGLwOMDKA1s/34bKysqu+laIqJfjnjIikpwoisjMzMSpU6eQnZcHpUIBTVAQhg0bBhcXF6njEZGFcnFxwYypE/DVju8BQYCPn8a8x6xWr0NaagLkxmLMnbMScrkcwN29ZKfOJMC7X3ij56IJggC/gIHIun4UZ86cwfjx47v0eyKi3omljIgkVVtbi62ffYaDp0+hUiGHys0NJoMBhxOv4pu9e7F43jyMGTNG6phEZKFmzZoFURSxZ+9BJGQnQ6l2BkwmGHQl8HC1x+JVyzB48GDz+Js3b6KsvBoBEf5NPqZCqYJS7Ypr166zlBFRl2ApIyJJff7FF9h1/Bjch8bCN8DffFlrY20tsi9ewgdffgEbGxvExsZKnJSILJFMJsOcOXMwatQonD59Grdv34ZMJkNAQACGDBkCOzu7euONRiMANHkOWh25Qgl9rb7TchMR3YuljIgkk5OTg4OnTsJtyGC4BQbUWydXKtEvdgiuV1Vh557diImJMR9+RET0S25ubpgxY8Z9x7m6usJapUB5aSEcnT0aHSOKImq0xejjFdXRMYmIGsULfRCRZM6ePYsyiA0K2b28IyNwM+82UlJSujAZEfVUQUFB6B/YF7fSEpu8J1nJnVxYK40YOnRoF6cjot6KpYyIJFNQWAiFs3Oz9xmydXGBXgDu3LnThcmIqKcSBAEPzpoJpViG1MQzMBhqzetEUURRfhbyMi4ibmg0+vXrJ2FSIupNePgiEUlGqVDAWGtodozJaIRoNPLQRSLqMNHR0Vj16BJ8svUrXDz5Laxt3SGXK1BVWQylTIch0UFYtGiR+RxXIqLOxlJGRJIJCgqC7OQJ6KuroVKrGx1TnJkJJysrBAUFdXE6IurJRowYgbCwMJw5cwbJKddgNBjRp08IoqKiUFVVBSsrK6kjElEvwlJGRJIZMmQI+n73HTJPn0HQ6FENDmOsra5G/qUrmBwRCU9PT4lSElFP5eTkhMmTJ2Py5MnmZVVVVUhOTpYwFRH1RjynjIgko1ar8ejixXAoLUPKj/tRmpMDk8kEg16P/GupSN27DyFOzlg4f77UUYmIiIg6DfeUEZGkoqKi8OLTz+Db3btx9eRp5OlrIQiAs1qNB2IGY87s2XBxcZE6JhEREVGnYSkjIsmFhIQgODgYWVlZyM/Ph1wuh7+/P8sYERER9QosZURkEQRBgJ+fH/z8/KSOQkRERNSleE4ZERERERGRhFjKiIiIiIiIJMRSRkREREREJCGWMiIiIiIiIgmxlBEREREREUmIpYyIiIiIiEhCLGVEREREREQSYikjIiIiIiKSEEsZERERERGRhFjKiIiIiIiIJMRSRkREREREJCGWMiIiIiIiIgmxlBEREREREUmoR5WyVatW4fnnn2/x+JKSEvz+97/HyJEjMWjQIKxYsQJJSUmdmJCIiIiIiKi+HlPK3nzzTRw9erTF4/V6PZ544gl8++23mDdvHn79618jNzcXS5YsQXp6eicmJSIiIiIi+g+F1AHaq7q6Gq+++ip27NjRqu2+/fZbXLp0CW+//TYmTZoEAJg6dSqmTZuGN998E+vXr++MuERERHSPwsJCnDx5EhcvXUFNjQ6eHm6IixuO6OhoqFQqqeMREXWJbl3KMjMzsXTpUhQUFOCJJ57Ae++91+Jtd+/eDQ8PD3MhAwB3d3dMmzYN33zzDbRaLWxtbTsjNhEREQE4ceIEtnz6BYrL9LB39oZSZYdbV3Jw6uxGhIUE4Jmnn4SLi4vUMYmIOl23Pnzx9u3bcHV1xebNm/HrX/+6VdsmJiYiPDy8wfLw8HDU1tYiNTW1o2ISEVk0rVaL48ePY/fu3di3bx8yMjIgiqLUsaiHu3r1Kj746FMY5B6IiX8QwRHDEaiJxsAhE6CJnoyr13Lxr3f+Db1eL3VUIqJO1633lA0aNAjffPNNq7fTarWoqKiAl5dXg3UeHh4AgLy8PAwaNKjdGYmILJXJZML333+PH/YdRFGJFoLcGiZjLdQqICJ8AJYuWQxPT0+pY1IPJIoifvhhH3RGWwwMi4UgCPXW29o5IiRqDJIu/YhLly4hNjZWoqRERF3D4kpZYWFhs+utrKzg4OAAAG0+1lyr1QIA1Gp1g3XW1tYAgKqqqjY9tiiKbd6WLE91dXW9/6Xeo6fPvSiK+Prrr7F772E4egxASIwGKpU1RFFEcVEuTidcRN7tN7D22dVwdXWVOm6X6+nzL7W8vDxcTkyFp+9gGI3GRsdYWdtCUDrh55+PNnpkS2fh3PdunP/eqzPmXhTFBh86NcXiStnIkSObXT9hwgS888477XqOlhyW09If4C/V1tYiOTm5TduS5crIyJA6Akmkp859Xl4evvn2Bzh6hsPJ1Q9V2hpUaWsAAHKFLXwDY5Fy5Sds3rwZ06ZNkzitdHrq/EstPT0dJSVlcPGRo7SktMlxIpRIvX5Tkr+rnPvejfPfe3X03Ld0J5LFlbLXXnut2fU+Pj7tfo66C3jU1NQ0WFe3zM7Ork2PrVQqERQU1PZwZFGqq6uRkZEBf3//RvesUs/V0+f+ypWrkFs5ICgkqskPoWqCopCZlYa+ffvC3t6+ixNKq6fPv9RUKhXs7e1gY2sNO3unJsfl5yjQx8sLoaGhXZaNc9+7cf57r86Y+xs3brR4rMWVsvnz53f6c9jZ2cHBwaHRQyULCgoAoM3nUQiCABsbm3blI8ujVqs5r71UT537zFvZcHLtC6VS2eQYL+8ApOSnoKSkpNeeW9ZT519qISEh8O7jjsLbmXBydm90jNFoQHVFPmIfmCXJHHDuezfOf+/VkXPfmiPvuvXVF9sjPDwciYmJDZYnJiZCoVB06adyRERdTRRNwH3+WNT9MeGVGKmjKZVKjBszEhV3MlFWUtBgvSiKuJF8Dq5O1hg+fLgECYmIulavLWVTp05Fbm4uDhw4YF5WWFiIvXv3YtKkSbCyspIwHRFR5wrw74eKkrxmC1dRQTbsbKwavVItUXtNmjQJ8cMicTPxKK4nnUVF2R3UVGtRkJeJS2d+hKDPxyPLF/fKC80QUe9jcYcvdoasrCxcuHABwcHBCAkJAQDMmzcPn332GV588UU8+uijcHFxwZYtWyAIAp599lmJExMRda74+BE4ePgECm/fgkeffg3WGwy1uJ2VgsnjYuDs7CxBQurpVCoVnnzyCfTvvx+HDx9DRvJhGE0irFUKDIsOweTJk3jUChH1Gr2ilJ09exbr1q3D6tWrzaVMqVTio48+wt/+9jd8+umnMBqNiIqKwltvvYXAwECJExMRda7+/ftj/Jg47N1/DHpdNfr4BkEuv/snoby0CGkp5+DjYYvpvfjKi9T5lEolpk+fjkmTJiErKwt6vR7Ozs699hxGIuq9elQpu3btWqPL586di7lz5zZY7urqir/+9a+dHYuIyOIIgoDFi38FtVqNAz8dxcXsRChUdjAa9FDI9NAE9MXKR1egT58+UkelXkCpVPIDUSLq1XpUKSMiopZTKpVYuHABJk2aiHPnzqGkpARKpRIhISEICQmBTNZrTzsmIiLqUixlRES9nIuLCyZPnix1DCIiol6LH4MSERERERFJiKWMiIiIiIhIQixlREREREREEmIpIyIiIiIikhBLGRERERERkYRYyoiIiIiIiCTEUkZERERERCQh3qeMiIhaTK/X49KlS8jMzIQoivD09MSQIUNgY2MjdTQiIqJui6WMiKgRRqMRqampOPzzz8jIzQEAhAQEYmR8PCIjIyGT9b4DDS5fvoxPPv0c2XlFgMwGgkwGY60W7tt2Yu6cmRg3bhwEQZA6JhERUbfDUkZE9As6nQ6bPvoIP546CZW3N5z9fAFRxKGMNBy9dBHjBg/BIytWQKVSSR21y1y9ehUb3tkIveiA4OgpsLF1AADoddW4lZaIj7Z8CVEUMWHCBImTEhERdT8sZUREv/DVtm346cplOMUNh2+wBgrF3V+V3pERKM3Nxb6jx2FvZ4df/epXEiftGiaTCV9t244agy0iBo+utzdMZaVGUOgQ3EyRYcc332Ho0KGwt7eXMC0REVH30/uOvyEiakZRURF+OnUKLtEDYefh3mC9k7c3nAdG4tCpkyguLpYgYddLSUlBWmYe+gUNbPLwRL/+4bhTosXZs2e7OB0REVH3x1JGRHSPCxcuoNRggFtAQJNj3IP6o1ivx8WLF7sumIRyc3NhMMrg4OTW5Bil0gpyK0fk5OR0YTIiIqKegaWMiOgeFRUVEGzVkCmaPrpbrlRCUKtRXl7ehcmkIwgCRFGEKIrNDxTBC30QERG1AUsZEdE9VCoVTDW6ZguIaDJB1OlgZWXVhcmk4+vrCysFUFZS2OQYva4aRn0ZfH19uzAZERFRz8BSRkR0j4iICNiKIspy85ocU5KdAzsIiIiI6MJk0hkwYAAGBPkh88YliKKp0TEZNy7Dw9UesbGxXZyOiIio+2MpIyK6h7+/P6KDBiDv/HnUVlc3WK/TapF37jxiQkJ6zV4hQRDw8ML5cFDrcfncIZSXFpnXVWnLkXz5BAxVuVi4YC5vIk1ERNQGvCQ+EdE9BEHAI8uXo/CNN3Dh4GHoI8Pg5u8PURRRcisLlWnpiPTqg2VLlkgdtUsNGDAAa599Gls/+wJpyUdgEBUQBBlgqoFPHzc8tGw5hg8fLnVMIiKibomljIjoF1xdXfH8mjXYunUr0nJycCc98+5yBwfMmzIV48ePh4ODg8Qpu15wcDD+8PL/IDk5GZmZmTCZTPDy8sLAgQN71Y20iYiIOhpLGRFRIxwcHDB27Fg8GhiIqqoqAICbm1uvubhHU2QyGcLDwxEeHi51FCIioh6DpYyIqBlWVlZwdnaWOgYRERH1YCxlREQtZDKZkJSUhNNnzqCouBjWVlYYGBGB2NhY2NnZSR2PiIiIuimWMiKiFigrK8O/N25EwvVU6O3tYOXkhNrSYhy5chk+e/bgiRUres0l8omIiKhjsZQREd1HbW0t3nnvPZzOzIDf+LGwd3f/z7oaHdJPnsT6jRvx2+eeQ2BgoIRJqTsTRRHZ2dkoLi6GQqFAYGAg1Gq11LGIiKgLsJQREd3HxYsXceHGdfhPnghbF5d665TWVggaMxrJ3+/FDz/+iKeffFKilNSdXb16Fbv3fI+Ua+mo0ddCJpPB1dkeY0bFYcaMGSxnREQ9HEsZEdF9nDh1CiYXlwaFrI5MJoNHSAjOXr6C4uJiuDQxjqgxJ0+exMYPP4HOZAffgGFwcHZHrV6H2zk38dU3+3EzLQPPrnmGxYyIqAeTSR2AiMjS5RTkw9bdrdkx9p4eqK6txZ07d7ooFfUExcXF2PzJ55BZ98HAIRPg4u4NhUIJtY0dAgZEITR6As5fuo69e/dKHZWIiDoRSxkR0X2olCoYDbXNjjHW1kImyKBQ8AAEarmTJ0+iuEyH/iGDIQhCg/W29k5w8eyPIz+fQHV1tQQJiYioK7CUERHdR1RoKKpuZUM0mZocU3jzJvo4O8PHx6cLk1F3dzUxCbYOXpDLmy7zffr2R1FxOTIyMrouGBERdSmWMiKi+xgxYgScBRmyL19udL22uBjV6ZkYO2IEVCpVF6ej7kynq4VCZdXsGIVCBZNJhMFg6KJURETU1VjKiIjuw8fHB7+aPRum6zeRevgIKgoKYDIaodNqkX3xEjIPHMKI4BBMmjRJ6qjUzfTxcoe2vPnzEMtKC2FtpeQFZIiIejCe/EBE1AITJ06Eo6Mj9uzbh9TDR5FtMEAhE+Bh74AHJk7CzJkzYW1tLXVM6maGDRuGw0fPory0CA5ODS8mI4oicjKSER3WH97e3hIkJCKirsBSRkTUQrGxsRg8eDDS0tJQVlYGlUqFoKAgXqqc2iw8PBwxUSE4feEoBkSMhKPzf25MbjDU4mbKOagVVZg+bWqjFwIhIqKegaWMiKgVZDIZgoKCpI5BPYRcLsfjjz8GvL8RFy4dgSi3g42dCwwGParKb8PVyQaPrFqO8PBwqaMSEVEnYikjIiKSkL29PZ5/fi2SkpJw8uQp5BcUwdrKBhERIzB06FCeS0ZE1AuwlBEREUlMJpMhIiICERERUkchIiIJ8OqLREREREREEmIpIyIiIiIikhBLGRERERERkYRYyoiIiIiIiCTEUkZERERERCQhljIiIiIiIiIJsZQRERERERFJiKWMiIiIiIhIQixlREREREREEmIpIyIiIiIikhBLGRERERERkYRYyoiIiIiIiCTEUkZERERERCQhljIiIiIiIiIJsZQRERERERFJiKWMiIiIiIhIQixlREREREREEmIpIyIiIiIikhBLGRERERERkYRYyoiIiIiIiCQkiKIoSh2ip7hw4QJEUYRKpZI6CnUQURRRW1sLpVIJQRCkjkNdiHPfu3H+ey/Ofe/G+e+9OmPu9Xo9BEFATEzMfccqOuQZCQD44u2BBEFgye6lOPe9G+e/9+Lc926c/96rM+ZeEIQW9wPuKSMiIiIiIpIQzykjIiIiIiKSEEsZERERERGRhFjKiIiIiIiIJMRSRkREREREJCGWMiIiIiIiIgmxlBEREREREUmIpYyIiIiIiEhCLGVEREREREQSYikjIiIiIiKSEEsZERERERGRhFjKiIiIiIiIJMRSRkREREREJCGWMqImrFq1Cs8//3yLx5eUlOD3v/89Ro4ciUGDBmHFihVISkrqxITUkc6fP48lS5Zg0KBBiI+Px5/+9CdUVVW1aNuHH34YwcHBDf578MEHOzk1tUVubi6ef/55DB8+HIMHD8YzzzyDrKys+25XU1OD//3f/8W4ceMQFRWFhQsX4uTJk12QmDpKW+f+jTfeaPQ1HhwcjPLy8i5ITh3p/fffR3x8fIvHG41GbNy4EZMnT8bAgQMxa9YsfP/9952YkDpLa+f+yy+/bPK1n5yc3KHZFB36aEQ9xJtvvomjR49i+vTpLRqv1+vxxBNP4Nq1a1ixYgXc3NzwySefYMmSJdixYwcCAgI6OTG1x6VLl/DII48gICAAa9euRX5+PrZs2YK0tDRs2rTpvtunpqZi7NixDf69ODk5dVJiaqvS0lIsW7YMlZWVWL58OVQqFT788EMsXrwYO3fuhIuLS5PbvvDCC/jpp5/wq1/9CoGBgdi+fTtWrVqFzZs3Y8iQIV34XVBbtGfuU1NT4evrizVr1jRYp1arOzM2dbAjR45g/fr1cHR0bPE2f/3rX7F582bMmTMH0dHR+OGHH/D888/DZDJh5syZnZiWOlJb5j41NRW2trZ4+eWXG6zz9vbuyHiASERmVVVV4rp160SNRiNqNBpx7dq1Ldruq6++EjUajfjjjz+alxUUFIiDBw8W16xZ01lxqYMsWrRIHD16tFhRUWFe9tlnn4kajUY8dOhQs9tmZ2eLGo1G/Oyzzzo7JnWAN998UwwODhavXLliXnbt2jUxNDRU/Mtf/tLkdidOnBA1Go340UcfmZdptVpxwoQJ4pw5czozMnWQts69KIriuHHjWvz3gCyTyWQSP/nkEzE8PFzUaDTiiBEjWrRdenq6GBISIr766qvmZQaDQVy4cKEYHx8v6nS6zopMHaStcy+KorhkyRJx/vz5nZjuP3j4ItH/yczMxJQpU/D111/jiSeeaNW2u3fvhoeHByZNmmRe5u7ujmnTpuHQoUPQarUdHZc6SF5eHs6fP48HH3wQdnZ25uUPPfQQbGxssHv37ma3T01NBQD079+/U3NSx9i9ezeio6MRERFhXqbRaDB8+PBm5/q7776DUqnEggULzMtsbGzw0EMPITExERkZGZ0ZmzpAW+e+srISubm5fI13cwsXLsSrr76KYcOGITw8vMXb7dmzByaTCYsXLzYvk8vlWLx4MQoLC3H27NnOiEsdqK1zDwDXr1/vstc+SxnR/7l9+zZcXV2xefNm/PrXv27VtomJiY2+0MPDw1FbW2t+406W5+rVqwBQ740aACiVSmg0GvP6ply/fh0AEBQUBAAs4BasrKwMWVlZDeYauPtaLSgoQEFBQaPbXr16FQEBAbCxsWmwXd16slztmfsbN25AFEXzG7Pq6mqYTKZOzUsdLzc3F6+88go++OAD2Nratni7q1evws7OrsFpCHztdx9tnfvCwkKUlJSYX/s1NTUwGo2dFZOljKjOoEGD8M0332DYsGGt2k6r1aKiogJeXl4N1nl4eAC4uzeGLFN+fj4ANDl/95u7a9euwcrKCm+99RYGDx6MmJgYjBo1Clu2bOmUvNR2dXPt6enZYN39Xqv5+fnNvsZzc3M7KiZ1gvbMfd2HakePHsXYsWMRHR2NwYMH4w9/+AOqq6s7KTF1tEOHDmHhwoUQBKFV2+Xn5zf774avfcvX1rmve+0nJSVhypQpiI6ORnR0NF544QUUFxd3eE5e6IN6tMLCwmbXW1lZwcHBAQCgUqna9Bx1e0YaO9nb2toaAFp8FT/qOC2d+7r5q5urX47R6XQwmUyQyRr/DOv69evQ6XTIz8/H66+/jurqamzbtg1/+tOfUFpaimeffbb93wx1iPa8VrVabbPb8c25ZWvP3Ne9Mbty5QpWr14NOzs7HDlyBJ9//jlu3ryJzZs3N/n7gSxHe/7GN7Z3ha/97qOtc193JMzFixexcuVKeHp64syZM/j000+RnJyM7du3Nzh6oj1YyqhHGzlyZLPrJ0yYgHfeeaddzyGK4n3HtPbTGWq/ls593fw1NUf3m7uFCxfCaDRi2bJl5mWzZs3CokWL8P7772PRokVwd3dvZXrqDPeb6/utaw5f45atPXM/atQo2Nvb47HHHjO/AZs6dSqcnZ2xadMm7N+/H1OmTOn40GQxOuN3Blm+iIgIPPnkk1iyZIn57/jEiRPRr18/vPLKK/jiiy/w6KOPdtjzsZRRj/baa681u97Hx6fdz1H3CVpNTU2DdXXL7r2ABHWNls593Zusxj7t1Ol0UKvVzX4Kfu/J33VkMhkWLlyIdevW4dy5c5g2bVprolMnaW6u7/datbGx4Wu8G2vP3I8ZMwZjxoxpsPxXv/oVNm3ahFOnTrGU9WB87fdeQ4YMafR2JwsWLMDrr7+OU6dOsZQRtdT8+fM7/Tns7Ozg4ODQ6OFydSeON3Y8OnWuls593X1Gmpq/ts6dq6srAB66aknqinhbXqve3t58jXdj7Zn7pvA13jt4e3s3eoVFvvZ7L6VSCQcHhw5/7fMgaKIOEB4ejsTExAbLExMToVAoEBoaKkEqaom6K2j9cv5qa2tx7do1REZGNrltbm4uZsyYgbfeeqvBurS0NACAr69vB6al9rC3t4efn1+Tr1UvL68mDzUNDw/HjRs3GnxiXvdYzf07Iem1Z+5XrFjR6KfhfI33DuHh4eard96Lr/2e7ze/+Q0eeOCBBldbLSkpQXFxcYe/9lnKiDrA1KlTkZubiwMHDpiXFRYWYu/evZg0aRKsrKwkTEfN6dOnD6Kjo/H111+jsrLSvHz79u2orq7GzJkzm922rKwM27ZtQ1lZmXl5WVkZPv74Y/j4+CAmJqZT81PrTJ06FefPn6/35jw1NRWnTp1qdq6nTp0KvV6PL774wrysqqoK27dvx8CBA+Hn59epuan92jr3Tk5OOHHiBBISEszLTCYT3n77bcjlckyfPr1Tc5O0pkyZAkEQ6l1R12g0YuvWrfD09Gz08DbqGdzc3JCamoq9e/fWW75hwwYAwAMPPNChzyeILblKAVEvFBwcjOnTp+PNN9+stzwrKwsXLlxAcHAwQkJCANzdqzJv3jzcunULjz76KFxcXLBlyxaUlJTgyy+/RGBgoBTfArXQuXPnsHz5cgQFBeHhhx9GdnY2Nm/ejBEjRuC9994zn8idkpKCa9euISYmxvwJ2f79+7F69Wr4+/tj0aJF0Ov1+PLLL5Gfn4+NGzciLi5Oym+NfqG0tBQPPPAAamtrsXLlSshkMnz00UdQKpXYsWMHXFxcUFRUhOPHj8PPzw+DBg0yb7tq1SqcPHkSS5YsQUBAAL766iukpqbi448/5huzbqCtc5+dnY05c+ZAFEUsXboULi4u2LdvH86ePYu1a9fiqaeekvg7o9ZaunQp0tLScPz48XrLq6qqsH//fri5uSE+Pt68/OWXX8YXX3yBefPmITo6Gt9//z1OnjyJN998k6W8m2nN3JeXl2P27NkoLCzE4sWL4evri2PHjuHQoUOYP3/+fc9dbzWRiBql0WjEtWvXNli+Y8cOUaPRiOvXr6+3vKioSHzppZfE2NhYMSYmRnzkkUfEpKSkropL7XTixAnxoYceEiMiIsTRo0eLf/7zn0WtVltvzPr160WNRiPu2LGj3vKDBw+KCxcuFCMjI8VBgwaJjz76qHjx4sWujE+tcOvWLfGpp54So6OjxaFDh4qrV68Wb926ZV5/6tQpUaPRiL/5zW/qbVdZWSm++uqrYlxcnBgdHS0uXLhQPHXqVFfHp3Zo69ynpqaKTz/9tDh48GAxMjJSnDNnjvjNN990cXrqKEuWLBFHjBjRYHlWVpao0WjEJUuW1FteW1srrl+/XhwzZow4cOBA8cEHHxR/+OGHropLHai1c5+bmyu++OKL4rBhw8Tw8HBx+vTp4scffywajcYOz8Y9ZURERERERBLiOWVEREREREQSYikjIiIiIiKSEEsZERERERGRhFjKiIiIiIiIJMRSRkREREREJCGWMiIiIiIiIgmxlBEREREREUmIpYyIiIiIiEhCLGVERD3Ahg0bEBwc3OC/8PBwDBs2DEuXLsW3337b4sf77W9/i+DgYCQnJ3diaiA4OBgPPvhgpz4HAHz99dcIDg7Gxx9/3OJtSktL8eGHH2L+/PkYPnw4IiIiMGnSJLzyyivIzc3tvLAEAKioqMCnn37apm2fffbZLvl3RUTUURRSByAioo4zYcIEhIaGmr82GAwoLi7G3r178dJLLyEtLQ3PP//8fR9n4sSJ8PHxgZubW2fGxerVqzv9Odri3LlzWLt2LQoLCxEREYGpU6fCysoKSUlJ2Lp1K3bu3IkPP/wQ0dHRUkftsaZMmQJ3d3csWbKkVdtt2rQJ+/btQ0hISCclIyLqeCxlREQ9yMSJEzF37twGy1euXIk5c+Zg48aNWLBgAXx8fO77OBMnTuysmGZr1qzp9OdorfT0dKxatQoA8O6772L8+PH11h84cADPPfccHnvsMezZswceHh5SxOzx7ty5A3d39xaPNxqN+Mc//oFNmzZ1Yioios7BwxeJiHoBf39/TJgwAUajEceOHZM6jkX7n//5H1RXV+PVV19tUMiAu4V15cqVKC8vx5YtWyRISL+UmJiIuXPnYtOmTRg5cqTUcYiIWo2ljIiol/D09ARw91wp4D/nWe3duxcrV65EZGQkxo0bh6ysrAbnlGVnZyM4OBgbNmzAwYMH8dBDD2HgwIGIi4vD7373OxQXFzd4vrNnz+KJJ57AsGHDMHjwYDz88MM4cOBAvTG/PKes7ty4a9eu4bXXXsPw4cMxePBgrFixAufPn2/wHMXFxfjrX/+KadOmISoqClFRUZgxYwb+/e9/w2AwtPpnlJmZibNnz8LPzw8zZ85sctzSpUvxwgsvYNq0afWWp6en48UXX8SIESMQERGBiRMn4m9/+xsqKirqjfvtb3+LsLAwlJSU4He/+x2GDx+OQYMGYeXKlbh16xb0ej3+/ve/Y+TIkYiJicHSpUuRkpJS7zHGjx+PRYsWISUlBUuXLkVUVBRGjRqFV155xTzHbc0WHByMsrIyvPzyy4iPj0dkZCTmzp2Lffv2NXhcvV6P9957D9OnT0dkZCTi4uLwwgsvICsrq964un9vJ0+exKZNmzB58mRzjnfffRdGoxEAcPr0aQQHBwMAUlJSzP/umnPo0CHcunULL774It5///1mxxIRWSKWMiKiXuLWrVsA/lPO6rz22msoLi7G0qVLERkZCV9f3yYf46effsLq1avh7u6OpUuXwtPTE9u2bcPTTz9db9y3336L5cuX4+zZsxg9ejTmzZuHvLw8PPPMM9ixY8d9s65btw7ffvstpk+fjokTJyIhIQHLly+vt5evoqICCxYswJYtWxAUFIRly5Zh5syZKCwsxJtvvol//OMfrfnxAAB+/vlnAMCIESMgCEKT49zd3fH4448jPDzcvOzSpUuYO3cu9uzZg+joaCxevBiurq7YtGkTFixY0KAoiaKIZcuWISEhAXPmzEFMTAyOHTuGJ554As8++yz27t2LqVOnYtSoUThz5gwef/xxVFdX13uMgoICLFu2DJWVlVi8eDH8/PywdetWLFmyBFqtts3ZAOCRRx7B0aNHMW3aNDzwwAO4fv06nnvuuXpzUFtbi8ceewxvvPEGbG1tsWTJEowaNQo//vgjHnroIaSmpjZ43L///e94++23MXjwYCxevBg1NTX45z//ifXr1wMAfHx8sHr1agCAm5sbVq9ejaFDhzY5FwAwbtw47N+/H4899hjkcnmzY4mILJJIRETd3vr160WNRiPu2LGj0fWXL18Ww8LCxIEDB4p37twRRVEUd+zYIWo0GnH06NFiVVVVvfG/+c1vRI1GIyYlJYmiKIpZWVmiRqMRNRqN+P3335vH6fV6ccaMGaJGoxFv3LghiqIolpaWioMHDxbj4uLEtLQ089g7d+6II0eOFIcOHSrq9XpRFEVRo9GIs2bNavB9xMTEiJmZmeblFy9eFMPCwsQJEyaIRqNRFEVRfO+990SNRiN+9dVX9bLn5uaKERERYnx8vHlZ3ff60UcfNftz/Nvf/taicb9kMBjEyZMni2FhYeKRI0fqrfv73/8uajQacd26deZldT/f+fPnizqdzrx84cKFokajEcePHy9WVFSYl//2t78VNRqNePjwYfOycePGiRqNRnzyySdFg8FgXv7qq6+KGo1GXL9+fbuyPfTQQ6JWqzUv37Vrl6jRaMS1a9eal23cuFHUaDTi3/72t3qPe/nyZTE8PFycN2+eeVndHAwePFjMyMgwL8/KyhLDw8PFESNG1HuMX/7baI32bEtEJAXuKSMi6kEOHDiADRs2mP9788038eyzz2Lx4sUwGAx46aWX4OLiUm+b0aNHQ61Wt+jxfX196x2yp1QqERcXBwDIyckBABw5cgQVFRVYtmwZAgICzGNdXFywbt06rFq1ClVVVc0+z5IlS+Dn52f+OioqCtOnT0dWVhYSEhIAACNHjsQf//hHzJ49u962ffr0ga+vb6OHVN5P3aF8tra2rdouISEBGRkZmDFjBkaPHl1v3bPPPgtPT09899130Ov19dYtWrQIKpXK/PWgQYMAAAsXLoSdnZ15+cCBAwH852dcRxAEvPTSS/X2Dj333HOwsbHBd999165sixcvho2NjfnrMWPGNMiwfft2ODg4NLiiZ2RkJKZOnYorV67g+vXr9dZNnjwZ/fr1M3/dt29f9O/fH0VFRdDpdCAi6o149UUioh7k4MGDOHjwoPlrpVIJJycnxMfHY/HixY1eBKFv374tfnx/f/8Gy+zt7QHA/Ka+7tynxi4XP3369BY9T2OHqw0cOBC7du1CSkoKBg8ejLCwMISFhUGr1eLSpUvIzMxERkYGrly5gszMTPM5Sq3h5OQEACgrK2vVdnXn3sXGxjZYp1KpEBkZiQMHDiAtLa3epdrvLZ4AzCXol3NiZWUFAA2Kk7u7e73iC9ydj4CAACQmJqK6urrN2Rp73HszaLVapKenw93dHe+++26Dxy4qKgJw92czYMAA8/L7/Ruq+16JiHoTljIioh7kz3/+c6OXxG9Oa94E37tXp84vz70qLy8HgHp7elrrl+e9ATDfz6yyshIAoNPp8MYbb+DLL780n2vl6emJ2NhYODs7o7CwsNXPW3c+Xd35d81JS0uDv78/ZDKZOVNT33PdZfN/eU7YvXui7tXYz7kxjf2cgP/8rCoqKtqc7ZcZ6uZZFEUA/5mHwsJCvP32201m/GXBbe7fUN1jExH1NixlRETUoeqKxr0Xmqij1+shk8mgUDT/56empqbBsrpDC52dnQEAf/nLX/DZZ59hypQpWLx4MYKDg817uqZNm9amUla3J/HEiRMQRbHJi30UFhZi5syZ8PLywoEDB8yHO+bn5zc6vq6o1uXrKE0d7nfv83VWtrp5HjJkCLZu3dqqbYmIqD6eU0ZERB1Ko9EAAC5fvtxg3aZNmxAVFYUzZ840+xhXrlxpsKzuXLK686t2794NV1dXvPXWWxg2bJi5VNTU1CA3NxdA6/e89OnTB3FxccjKyjKfk9WYTz/9FEajEcOGDYNMJkNoaCgA4MKFCw3GmkwmnD9/HjY2Nve9aXdrpaenN7ikfXV1Na5du4awsDCoVKpOy2Zvbw9vb2/cuHGj0RK9c+dObNiwAdnZ2a16XCKi3oiljIiIOtTEiRNhY2ODLVu21LsoRGlpKb788kvY2to2er7ZvTZt2oSCggLz1xcuXMB3332H8PBw83lPVlZW0Ol05j09AGA0GvGnP/3JXBJqa2tbnX/dunVQKBR4+eWXcejQoQbrv/76a7z//vuws7PDM888AwAYPHgw+vXrhx9//BFHjhypN379+vXIy8vDtGnTWnxYYkvV1tbijTfeMJdPURTxj3/8A1VVVZg3b16nZ5szZw5KS0vxv//7vzCZTOblN27cwCuvvIKPPvqozXsHlUplm+aPiKg74uGLRETUoZycnPD73/8e69atw5w5czBhwgTY2trihx9+MJ9/dL8CUFpaijlz5mDSpEmorKzEvn37YG1tjVdffdU85oEHHsCHH36IefPmYeLEiTAYDDh27BjS09Ph4uKC4uJilJaWms+Zaqng4GC8/fbbWLt2LZ566ilERkYiOjoaJpMJFy9eRGJiIuzs7PD222+bL8ghk8nwl7/8BStXrsSTTz6JcePGwc/PDwkJCbh48SL69++Pl156qfU/zPtQKpX45ptvkJycjKioKFy6dAkJCQkYNmwYFi1a1OnZHn/8cRw7dgyffPIJzp8/j6FDh6K8vBw//PADqqur8b//+79tPrfQw8MDaWlpePnllzFmzBiMHz++TY9DRNQdcE8ZERF1uDlz5uDDDz9EaGgo9u3bh6+++gp9+/bF+++/j0mTJt13+//3//4fxo8fjz179uDo0aMYN24cvvzyy3o3a37++eexZs0ayGQyfPbZZzhw4AB8fHywadMmPPnkkwDQYM9QS40bNw7ff/89Vq5cCb1ej127duGrr76CVqvFsmXLsGfPHvOtAOrExMRg+/btmD59OhISErB161aUlpbiqaeewrZt2zr8fDIAsLa2xscffwwA+Pzzz1FYWIjVq1fjgw8+qHeZ/M7KZm1tjS1btmDNmjXQ6XT47LPPcOTIEcTExGDLli2YOXNmm7+33//+9+jbty927NhR74qiREQ9kSDyUkdERGQhNmzYgLfffhv/+te/MHHiRKnjWLTx48ejvLwc586dkzoKERG1E/eUERERERERSYiljIiIiIiISEIsZURERERERBLiOWVEREREREQS4p4yIiIiIiIiCbGUERERERERSYiljIiIiIiISEIsZURERERERBJiKSMiIiIiIpIQSxkREREREZGEWMqIiIiIiIgkxFJGREREREQkIZYyIiIiIiIiCf1/sBzFafAfhisAAAAASUVORK5CYII=",
      "text/plain": [
       "<Figure size 1000x800 with 1 Axes>"
      ]
     },
     "metadata": {},
     "output_type": "display_data"
    },
    {
     "ename": "AttributeError",
     "evalue": "module 'matplotlib.pyplot' has no attribute 'write'",
     "output_type": "error",
     "traceback": [
      "\u001b[1;31m---------------------------------------------------------------------------\u001b[0m",
      "\u001b[1;31mAttributeError\u001b[0m                            Traceback (most recent call last)",
      "Cell \u001b[1;32mIn[196], line 40\u001b[0m\n\u001b[0;32m     38\u001b[0m plt\u001b[38;5;241m.\u001b[39mshow()\n\u001b[0;32m     39\u001b[0m \u001b[38;5;66;03m# Save the figure\u001b[39;00m\n\u001b[1;32m---> 40\u001b[0m \u001b[43mplt\u001b[49m\u001b[38;5;241;43m.\u001b[39;49m\u001b[43mwrite\u001b[49m(\u001b[38;5;124m'\u001b[39m\u001b[38;5;124mpca.png\u001b[39m\u001b[38;5;124m'\u001b[39m, dpi\u001b[38;5;241m=\u001b[39m\u001b[38;5;241m300\u001b[39m)  \u001b[38;5;66;03m# Save as PNG with high resolution\u001b[39;00m\n",
      "\u001b[1;31mAttributeError\u001b[0m: module 'matplotlib.pyplot' has no attribute 'write'"
     ]
    }
   ],
   "source": [
    "\n",
    "\n",
    "from sklearn.preprocessing import OneHotEncoder\n",
    "from sklearn.cluster import KMeans\n",
    "from sklearn.impute import SimpleImputer\n",
    "from sklearn.pipeline import Pipeline\n",
    "from sklearn.compose import ColumnTransformer\n",
    "from sklearn.decomposition import PCA\n",
    "\n",
    "data_new=data_cleaned\n",
    "# First, let's check for missing values in the new dataset\n",
    "missing_values_count = data_new.isnull().sum()\n",
    "\n",
    "# If there are missing values, apply appropriate handling methods\n",
    "if missing_values_count.sum() > 0:\n",
    "    # For simplicity, let's use median imputation for numerical columns and drop rows with missing categorical values\n",
    "    numerical_cols_new = data_new.select_dtypes(include=['float64', 'int64']).columns\n",
    "    categorical_cols_with_missing = [col for col in categorical_cols_new if data_new[col].isnull().any()]\n",
    "    \n",
    "    # Creating imputers\n",
    "    numerical_imputer = SimpleImputer(strategy='median')\n",
    "    data_new[numerical_cols_new] = numerical_imputer.fit_transform(data_new[numerical_cols_new])\n",
    "    \n",
    "    # Dropping rows with missing categorical data\n",
    "    data_new.dropna(subset=categorical_cols_with_missing, inplace=True)\n",
    "\n",
    "# Re-apply preprocessing, PCA, and K-Means with a chosen k value (let's use k=5 as a balanced choice)\n",
    "X_new_processed_corrected = preprocessor_new.fit_transform(data_new.drop(columns=['LOD_nM']))\n",
    "kmeans_corrected = KMeans(n_clusters=5, random_state=42).fit(X_new_processed_corrected)\n",
    "X_new_pca_corrected = pca_new.fit_transform(X_new_processed_corrected)\n",
    "\n",
    "# Plotting the corrected PCA-reduced data with cluster labels\n",
    "plt.figure(figsize=(10, 8))\n",
    "plt.scatter(X_new_pca_corrected[:, 0], X_new_pca_corrected[:, 1], c=kmeans_corrected.labels_, cmap='viridis', marker='o', edgecolor='k', s=50, alpha=0.6)\n",
    "plt.title('Cluster Visualization after PCA Reduction')\n",
    "plt.xlabel('Principal Component 1')\n",
    "plt.ylabel('Principal Component 2')\n",
    "centroids_corrected = pca_new.transform(kmeans_corrected.cluster_centers_)\n",
    "plt.scatter(centroids_corrected[:, 0], centroids_corrected[:, 1], marker='x', s=200, linewidths=3, color='r', zorder=10)\n",
    "plt.show()\n"
   ]
  },
  {
   "cell_type": "markdown",
   "metadata": {},
   "source": [
    "The labels on the x and y-axis of the graph, \"Principal Component 1\" and \"Principal Component 2,\" represent the axes of the two-dimensional space onto which the original dataset has been projected using Principal Component Analysis (PCA).\n",
    "\n",
    "Here is what they mean:\n",
    "\n",
    "- **Principal Component 1 (x-axis)**: This is the first principal component and it represents the direction of maximum variance in the data. It's the \"most important\" direction in the sense that it captures the largest spread or diversity in the dataset, considering all features together.\n",
    "\n",
    "- **Principal Component 2 (y-axis)**: This is the second principal component and it represents the second most important direction of variance in the data. It is orthogonal (at a right angle) to the first principal component, capturing the largest remaining variance that is not captured by the first component.\n",
    "\n",
    "Each point in the plot corresponds to a data point from the original dataset, and its location is determined by its values for these two principal components. The graph allows us to visually assess the data's structure in a reduced-dimensional space where similar data points are clustered together."
   ]
  },
  {
   "cell_type": "markdown",
   "metadata": {},
   "source": [
    "In the corrected steps, we performed a series of data preprocessing, clustering, and visualization tasks with the goal of identifying inherent groupings in your dataset. Here's a detailed breakdown of each step, the logic behind them, and the interpretation of the resulting graph:\n",
    "\n",
    "### Step 1: Preprocessing with Updated Pipeline\n",
    "- **Imputation for Missing Values**: We added an imputation step in the preprocessing pipeline to handle any missing values in numerical columns. This is crucial because PCA and K-Means cannot work with missing data. The imputation strategy used was the mean of the column, a common practice that allows us to retain rows with missing values by filling in a reasonable estimate for those missing values.\n",
    "- **One-Hot Encoding for Categorical Variables**: We applied one-hot encoding to transform categorical variables into a numerical format. This is necessary because machine learning algorithms require numerical input. One-hot encoding creates a binary column for each category of a categorical variable, allowing the model to use this information in a numeric format.\n",
    "\n",
    "### Step 2: Clustering with K-Means\n",
    "- **Application of K-Means Clustering**: We chose K-Means clustering with `k=5` as an arbitrary choice to demonstrate the process. K-Means is a popular algorithm for identifying groups (clusters) in the data based on feature similarity. The choice of `k` (the number of clusters) can significantly affect the outcome, and it is often selected based on domain knowledge or by using techniques like the elbow method.\n",
    "\n",
    "### Step 3: Dimensionality Reduction with PCA\n",
    "- **Applying PCA for Visualization**: Because the dataset has multiple dimensions due to one-hot encoding and potentially other numerical features, we used PCA (Principal Component Analysis) to reduce its dimensionality to two components for visualization purposes. PCA finds the directions (principal components) that maximize the variance in the data, which often correspond to underlying patterns.\n",
    "\n",
    "### Step 4: Visualization\n",
    "- **Scatter Plot of Clusters**: The scatter plot displays the data points reduced to two principal components, colored by their cluster assignment. This visualization helps to see how well-separated the clusters are in the reduced-dimensional space.\n",
    "- **Centroids Plotting**: We plotted the centroids of each cluster (the mean point of all points in a cluster in the original high-dimensional space, transformed into the PCA-reduced space). These are shown as red 'X' marks and represent the \"average\" location of each cluster in the reduced space.\n",
    "\n",
    "### Interpretation of the Graph\n",
    "- **Cluster Distribution**: The graph shows how the dataset's entries are distributed into five clusters in the two-dimensional space created by PCA. The distribution and separation of clusters can give insights into the natural groupings within the dataset based on the features considered.\n",
    "- **Centroids**: The centroids' locations provide a sense of the center of mass for each cluster i