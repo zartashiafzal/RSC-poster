
  {
   "cell_type": "markdown",
   "metadata": {},
   "source": [
    "# ⏬ Importing Libraries "
   ]
  },
  {
   "cell_type": "code",
   "execution_count": 134,
   "metadata": {},
   "outputs": [],
   "source": [
    "import pandas as pd\n",
    "import numpy as np\n",
    "import seaborn as sns\n",
    "import matplotlib.pyplot as plt"
   ]
  },
  {
   "cell_type": "markdown",
   "metadata": {},
   "source": [
    "# 📑 Reading Dataset"
   ]
  },
  {
   "cell_type": "code",
   "execution_count": 135,
   "metadata": {},
   "outputs": [
    {
     "data": {
      "text/html": [
       "<div>\n",
       "<style scoped>\n",
       "    .dataframe tbody tr th:only-of-type {\n",
       "        vertical-align: middle;\n",
       "    }\n",
       "\n",
       "    .dataframe tbody tr th {\n",
       "        vertical-align: top;\n",
       "    }\n",
       "\n",
       "    .dataframe thead th {\n",
       "        text-align: right;\n",
       "    }\n",
       "</style>\n",
       "<table border=\"1\" class=\"dataframe\">\n",
       "  <thead>\n",
       "    <tr style=\"text-align: right;\">\n",
       "      <th></th>\n",
       "      <th>Metal used for modification</th>\n",
       "      <th>source of metal</th>\n",
       "      <th>Form of porous carbon</th>\n",
       "      <th>Detection techniques</th>\n",
       "      <th>Mechanism</th>\n",
       "      <th>LOD_nM</th>\n",
       "      <th>Unnamed: 6</th>\n",
       "    </tr>\n",
       "  </thead>\n",
       "  <tbody>\n",
       "    <tr>\n",
       "      <th>0</th>\n",
       "      <td>pd</td>\n",
       "      <td>pdcl2</td>\n",
       "      <td>graphene</td>\n",
       "      <td>cv</td>\n",
       "      <td>electrostatic interaction</td>\n",
       "      <td>1.000000e+03</td>\n",
       "      <td>NaN</td>\n",
       "    </tr>\n",
       "    <tr>\n",
       "      <th>1</th>\n",
       "      <td>pd</td>\n",
       "      <td>pdcl2</td>\n",
       "      <td>graphene</td>\n",
       "      <td>dpv</td>\n",
       "      <td>electrostatic interaction</td>\n",
       "      <td>1.000000e+03</td>\n",
       "      <td>NaN</td>\n",
       "    </tr>\n",
       "    <tr>\n",
       "      <th>2</th>\n",
       "      <td>pd</td>\n",
       "      <td>pd(no3)2·2h2o</td>\n",
       "      <td>nanoporous carbon</td>\n",
       "      <td>dpv</td>\n",
       "      <td>electrocatalysis</td>\n",
       "      <td>7.600000e+01</td>\n",
       "      <td>NaN</td>\n",
       "    </tr>\n",
       "    <tr>\n",
       "      <th>3</th>\n",
       "      <td>pd</td>\n",
       "      <td>pd(no3)2·2h2o</td>\n",
       "      <td>carbon aerogel</td>\n",
       "      <td>dpv</td>\n",
       "      <td>electrooxidation</td>\n",
       "      <td>2.600000e+00</td>\n",
       "      <td>NaN</td>\n",
       "    </tr>\n",
       "    <tr>\n",
       "      <th>4</th>\n",
       "      <td>pd</td>\n",
       "      <td>na2pdcl4, k2ptcl4</td>\n",
       "      <td>nanotubes</td>\n",
       "      <td>cv</td>\n",
       "      <td>electrocatalysis</td>\n",
       "      <td>1.250000e+09</td>\n",
       "      <td>NaN</td>\n",
       "    </tr>\n",
       "    <tr>\n",
       "      <th>5</th>\n",
       "      <td>pd</td>\n",
       "      <td>pdcl2</td>\n",
       "      <td>activated carbon</td>\n",
       "      <td>cv</td>\n",
       "      <td>NaN</td>\n",
       "      <td>5.680000e-03</td>\n",
       "      <td>NaN</td>\n",
       "    </tr>\n",
       "    <tr>\n",
       "      <th>6</th>\n",
       "      <td>pd</td>\n",
       "      <td>pdcl2</td>\n",
       "      <td>activated carbon</td>\n",
       "      <td>dpv</td>\n",
       "      <td>NaN</td>\n",
       "      <td>5.680000e-03</td>\n",
       "      <td>NaN</td>\n",
       "    </tr>\n",
       "    <tr>\n",
       "      <th>7</th>\n",
       "      <td>pd</td>\n",
       "      <td>pdcl2</td>\n",
       "      <td>activated carbon</td>\n",
       "      <td>sr</td>\n",
       "      <td>NaN</td>\n",
       "      <td>5.680000e-03</td>\n",
       "      <td>NaN</td>\n",
       "    </tr>\n",
       "    <tr>\n",
       "      <th>8</th>\n",
       "      <td>pd</td>\n",
       "      <td>pd(ch3coo)2</td>\n",
       "      <td>nanofibers</td>\n",
       "      <td>dpv</td>\n",
       "      <td>electrocatalysis</td>\n",
       "      <td>2.000000e+02</td>\n",
       "      <td>NaN</td>\n",
       "    </tr>\n",
       "    <tr>\n",
       "      <th>9</th>\n",
       "      <td>pd</td>\n",
       "      <td>pd(no3)2·2h2o</td>\n",
       "      <td>carbon paste</td>\n",
       "      <td>dpv</td>\n",
       "      <td>electrooxidation</td>\n",
       "      <td>3.600000e+00</td>\n",
       "      <td>NaN</td>\n",
       "    </tr>\n",
       "  </tbody>\n",
       "</table>\n",
       "</div>"
      ],
      "text/plain": [
       "  Metal used for modification    source of metal Form of porous carbon  \\\n",
       "0                          pd              pdcl2              graphene   \n",
       "1                          pd              pdcl2              graphene   \n",
       "2                          pd      pd(no3)2·2h2o     nanoporous carbon   \n",
       "3                          pd      pd(no3)2·2h2o        carbon aerogel   \n",
       "4                          pd  na2pdcl4, k2ptcl4             nanotubes   \n",
       "5                          pd              pdcl2      activated carbon   \n",
       "6                          pd              pdcl2      activated carbon   \n",
       "7                          pd              pdcl2      activated carbon   \n",
       "8                          pd        pd(ch3coo)2            nanofibers   \n",
       "9                          pd      pd(no3)2·2h2o          carbon paste   \n",
       "\n",
       "  Detection techniques                  Mechanism        LOD_nM  Unnamed: 6  \n",
       "0                   cv  electrostatic interaction  1.000000e+03         NaN  \n",
       "1                  dpv  electrostatic interaction  1.000000e+03         NaN  \n",
       "2                  dpv           electrocatalysis  7.600000e+01         NaN  \n",
       "3                  dpv           electrooxidation  2.600000e+00         NaN  \n",
       "4                   cv           electrocatalysis  1.250000e+09         NaN  \n",
       "5                   cv                        NaN  5.680000e-03         NaN  \n",
       "6                  dpv                        NaN  5.680000e-03         NaN  \n",
       "7                   sr                        NaN  5.680000e-03         NaN  \n",
       "8                  dpv           electrocatalysis  2.000000e+02         NaN  \n",
       "9                  dpv           electrooxidation  3.600000e+00         NaN  "
      ]
     },
     "execution_count": 135,
     "metadata": {},
     "output_type": "execute_result"
    }
   ],
   "source": [
    "# Load the updated CSV file\n",
    "df = pd.read_csv(\"2_data.csv\")\n",
    "df.head(10)"
   ]
  },
  {
   "cell_type": "markdown",
   "metadata": {},
   "source": [
    "-   **Metal used for modification:** Type of metal used for modifying the carbon form.\n",
    "-   **Source of metal:** Chemical source of the metal.\n",
    "-   **Form of porous carbon:** Type of carbon material used.\n",
    "-   **Detection techniques:** Techniques used for detection.\n",
    "-   **Mechanism:** The mechanism of detection or modification.\n",
    "-   **LOD_nM:** Limit of detection in nanomolar (nM), which appears to be a numerical value representing the sensitivity of the detection method.\n",
    "-   **Unnamed: 6:** An unnamed column that appears to contain only missing values."
   ]
  },
  {
   "cell_type": "code",
   "execution_count": 136,
   "metadata": {},
   "outputs": [
    {
     "data": {
      "text/plain": [
       "Detection techniques\n",
       "dpv                        36\n",
       "cv                         18\n",
       "amperometry                 2\n",
       "swv                         2\n",
       "lithium-ion battery         2\n",
       "chronoamperometry           2\n",
       "sr                          1\n",
       "fluorescence microscopy     1\n",
       "ldi-tof ms                  1\n",
       "Name: count, dtype: int64"
      ]
     },
     "execution_count": 136,
     "metadata": {},
     "output_type": "execute_result"
    }
   ],
   "source": [
    "df[\"Detection techniques\"].value_counts()"
   ]
  },
  {
   "cell_type": "code",
   "execution_count": 137,
   "metadata": {},
   "outputs": [],
   "source": [
    "# a later change is data to convert nano spherical composite to a broader term of nanocomposite\n",
    "# nanotube arrays to nanotubes\n",
    "# Replace \"nano spherical composite\" with \"nanocomposite\" \n",
    "# and \"nanotube arrays\" with \"nanotubes\"\n",
    "df[\"Form of porous carbon\"] = df[\"Form of porous carbon\"].replace({\n",
    "    \"nanospherical composites\": \"nanocomposite\",\n",
    "    \"nanotube arrays\": \"nanotubes\"\n",
    "})\n",
    "df[\"Detection techniques\"] = df[\"Detection techniques\"].replace({\n",
    "    \"fluorescence microscopy\": \"fluorescence spectroscopy\"\n",
    "})\n"
   ]
  },
  {
   "cell_type": "code",
   "execution_count": 138,
   "metadata": {},
   "outputs": [],
   "source": [
    "\n",
    "# Replace \"carbon paste\", \"carbon aerogel\", \"hollow carbon spheres\", \"activated carbon\" with \"porous carbon materials\"\n",
    "values_to_replace = [\"carbon paste\", \"carbon aerogel\", \"hollow carbon spheres\", \"activated carbon\", \"nanoporous carbon\"]\n",
    "df[\"Form of porous carbon\"] = df[\"Form of porous carbon\"].replace(values_to_replace, \"porous carbon\")\n",
    "\n",
    "# Now, the specified values in the \"Form of porous carbon\" column are replaced with \"porous carbon materials\"\n"
   ]
  },
  {
   "cell_type": "code",
   "execution_count": 139,
   "metadata": {},
   "outputs": [
    {
     "data": {
      "text/plain": [
       "Form of porous carbon\n",
       "nanocomposite     16\n",
       "porous carbon     11\n",
       "nanoparticle       9\n",
       "nanostructures     7\n",
       "nanofibers         6\n",
       "nanotubes          4\n",
       "graphene           3\n",
       "nanosheet          3\n",
       "mofs               3\n",
       "nanobelts          1\n",
       "nanospheres        1\n",
       "nanorods           1\n",
       "Name: count, dtype: int64"
      ]
     },
     "execution_count": 139,
     "metadata": {},
     "output_type": "execute_result"
    }
   ],
   "source": [
    "df[\"Form of porous carbon\"].value_counts()"
   ]
  },
  {
   "cell_type": "code",
   "execution_count": 140,
   "metadata": {},
   "outputs": [
    {
     "data": {
      "text/plain": [
       "(72, 7)"
      ]
     },
     "execution_count": 140,
     "metadata": {},
     "output_type": "execute_result"
    }
   ],
   "source": [
    "df.shape"
   ]
  },
  {
   "cell_type": "code",
   "execution_count": 141,
   "metadata": {},
   "outputs": [],
   "source": [
    "data=df.copy()"
   ]
  },
  {
   "cell_type": "markdown",
   "metadata": {},
   "source": [
    "# Data Cleaning Steps:\n",
    "\n",
    "-   Remove the 'Unnamed: 6' column as it doesn't contain any useful information.\n",
    "-   Check for missing values in other columns and decide on an appropriate handling strategy.\n",
    "-   Standardize the format of categorical variables for consistency.\n",
    "=   Convert numerical values into a standard notation if necessary, especially for the 'LOD_nM' column to ensure clarity in visualization and analysis."
   ]
  },
  {
   "cell_type": "code",
   "execution_count": 142,
   "metadata": {},
   "outputs": [
    {
     "data": {
      "text/plain": [
       "Metal used for modification     0\n",
       "source of metal                33\n",
       "Form of porous carbon           7\n",
       "Detection techniques            7\n",
       "Mechanism                      30\n",
       "LOD_nM                          6\n",
       "dtype: int64"
      ]
     },
     "execution_count": 142,
     "metadata": {},
     "output_type": "execute_result"
    }
   ],
   "source": [
    "# Remove the 'Unnamed: 6' column\n",
    "data_cleaned = data.drop(columns=['Unnamed: 6'])\n",
    "# Check for missing values in the dataset\n",
    "missing_values = data_cleaned.isnull().sum()\n",
    "missing_values"
   ]
  },
  {
   "cell_type": "markdown",
   "metadata": {},
   "source": [
    "**Missing Values**\n",
    "\n",
    "-   Source of metal: 33 missing values.\n",
    "-   Form of porous carbon: 7 missing values.\n",
    "-   Detection techniques: 7 missing values.\n",
    "-   Mechanism: 30 missing values.\n",
    "-   LOD_nM: 6 missing values.\n",
    "-   Unique Values in Categorical Columns\n",
    "\n",
    "We have several categories within our categorical columns, indicating a diverse dataset. These categories include different metals, sources of metals, forms of porous carbon, detection techniques, and mechanisms.\n",
    "\n",
    "**Data Cleaning Decisions:**\n",
    "\n",
    "**1- Missing values:** Given the scientific nature of the dataset, careful consideration is needed to handle missing values. For categorical variables, if imputation is not scientifically valid, we may consider removing rows with missing values or marking them as \"Unknown\" if their absence won't significantly impact the analysis. For the `LOD_nM`, missing values might be imputed based on the median or mean, if applicable, or those rows could be removed, depending on the size of the dataset and the distribution of `LOD_nM`.\n",
    "\n",
    "**2- Standardization:** It appears the dataset contains consistent categories within the inspected columns, so no major standardization issues were identified at this step, except for handling missing values as \"Unknown\" for a clearer representation.\n",
    "\n",
    "Let's handle the missing values appropriately and then proceed to generate descriptive statistics and visualizations for deeper insights"
   ]
  },
  {
   "cell_type": "code",
   "execution_count": 143,
   "metadata": {},
   "outputs": [],
   "source": [
    "# Convert 'LOD_nM' to a more readable format using scientific notation\n",
    "data_cleaned['LOD_nM'] = data_cleaned['LOD_nM'].apply(lambda x: \"{:.2e}\".format(x))\n",
    "\n",
    "# # Check for unique values in categorical columns to standardize format if necessary\n",
    "# unique_metal = data_cleaned['Metal used for modification'].unique()\n",
    "# unique_source = data_cleaned['source of metal'].unique()\n",
    "# unique_form = data_cleaned['Form of porous carbon'].unique()\n",
    "# unique_techniques = data_cleaned['Detection techniques'].unique()\n",
    "# unique_mechanism = data_cleaned['Mechanism'].unique()\n",
    "\n",
    "# unique_metal, unique_source, unique_form, unique_techniques, unique_mechanism"
   ]
  },
  {
   "cell_type": "code",
   "execution_count": 144,
   "metadata": {},
   "outputs": [
    {
     "name": "stdout",
     "output_type": "stream",
     "text": [
      "Metal used for modification\n",
      "pd    11\n",
      "cu    10\n",
      "ti     9\n",
      "mo     9\n",
      "zr     8\n",
      "au     8\n",
      "fe     7\n",
      "ag     5\n",
      "pt     4\n",
      "co     1\n",
      "Name: count, dtype: int64\n",
      "______________________________\n",
      "source of metal\n",
      "pdcl2                     5\n",
      "moo3                      4\n",
      "pd(no3)2·2h2o             3\n",
      "na2moo4·2h2o              3\n",
      "ptcl2                     2\n",
      "zrcl4                     2\n",
      "cu(no3)2·3h2o             2\n",
      "agno3                     2\n",
      "ti(ch3cochcoch3)4         2\n",
      "tic                       2\n",
      "pd(ch3coo)2               2\n",
      "h2ptcl6·6h2o and agno3    1\n",
      "agsn alloy                1\n",
      "zr based mofs             1\n",
      "zr(no3)2·6h2o             1\n",
      "mo(ch3cochcoch3)3         1\n",
      "(nh4)2moo4·4h2o           1\n",
      "na2pdcl4, k2ptcl4         1\n",
      "haucl4·xh2o               1\n",
      "cuso4.5h2o                1\n",
      "zro2                      1\n",
      "Name: count, dtype: int64\n"
     ]
    }
   ],
   "source": [
    "unique_metal = data_cleaned['Metal used for modification'].value_counts()\n",
    "print(unique_metal)\n",
    "print(30*\"_\")\n",
    "unique_source = data_cleaned['source of metal'].value_counts()\n",
    "print(unique_source)\n",
    "# print(30*\"_\")\n"
   ]
  },
  {
   "cell_type": "code",
   "execution_count": 198,
   "metadata": {},
   "outputs": [
    {
     "data": {
      "text/html": [
       "<div>\n",
       "<style scoped>\n",
       "    .dataframe tbody tr th:only-of-type {\n",
       "        vertical-align: middle;\n",
       "    }\n",
       "\n",
       "    .dataframe tbody tr th {\n",
       "        vertical-align: top;\n",
       "    }\n",
       "\n",
       "    .dataframe thead th {\n",
       "        text-align: right;\n",
       "    }\n",
       "</style>\n",
       "<table border=\"1\" class=\"dataframe\">\n",
       "  <thead>\n",
       "    <tr style=\"text-align: right;\">\n",
       "      <th></th>\n",
       "      <th>LOD_nM</th>\n",
       "      <th>Unnamed: 6</th>\n",
       "    </tr>\n",
       "  </thead>\n",
       "  <tbody>\n",
       "    <tr>\n",
       "      <th>count</th>\n",
       "      <td>6.600000e+01</td>\n",
       "      <td>0.0</td>\n",
       "    </tr>\n",
       "    <tr>\n",
       "      <th>mean</th>\n",
       "      <td>7.250009e+08</td>\n",
       "      <td>NaN</td>\n",
       "    </tr>\n",
       "    <tr>\n",
       "      <th>std</th>\n",
       "      <td>4.943762e+09</td>\n",
       "      <td>NaN</td>\n",
       "    </tr>\n",
       "    <tr>\n",
       "      <th>min</th>\n",
       "      <td>2.400000e-07</td>\n",
       "      <td>NaN</td>\n",
       "    </tr>\n",
       "    <tr>\n",
       "      <th>25%</th>\n",
       "      <td>3.000000e-02</td>\n",
       "      <td>NaN</td>\n",
       "    </tr>\n",
       "    <tr>\n",
       "      <th>50%</th>\n",
       "      <td>3.000000e+00</td>\n",
       "      <td>NaN</td>\n",
       "    </tr>\n",
       "    <tr>\n",
       "      <th>75%</th>\n",
       "      <td>1.500000e+02</td>\n",
       "      <td>NaN</td>\n",
       "    </tr>\n",
       "    <tr>\n",
       "      <th>max</th>\n",
       "      <td>4.000000e+10</td>\n",
       "      <td>NaN</td>\n",
       "    </tr>\n",
       "  </tbody>\n",
       "</table>\n",
       "</div>"
      ],
      "text/plain": [
       "             LOD_nM  Unnamed: 6\n",
       "count  6.600000e+01         0.0\n",
       "mean   7.250009e+08         NaN\n",
       "std    4.943762e+09         NaN\n",
       "min    2.400000e-07         NaN\n",
       "25%    3.000000e-02         NaN\n",
       "50%    3.000000e+00         NaN\n",
       "75%    1.500000e+02         NaN\n",
       "max    4.000000e+10         NaN"
      ]
     },
     "execution_count": 198,
     "metadata": {},
     "output_type": "execute_result"
    }
   ],
   "source": [
    "df.describe()"
   ]
  },
  {
   "cell_type": "code",
   "execution_count": 197,
   "metadata": {},
   "outputs": [
    {
     "data": {
      "text/html": [
       "<div>\n",
       "<style scoped>\n",
       "    .dataframe tbody tr th:only-of-type {\n",
       "        vertical-align: middle;\n",
       "    }\n",
       "\n",
       "    .dataframe tbody tr th {\n",
       "        vertical-align: top;\n",
       "    }\n",
       "\n",
       "    .dataframe thead th {\n",
       "        text-align: right;\n",
       "    }\n",
       "</style>\n",
       "<table border=\"1\" class=\"dataframe\">\n",
       "  <thead>\n",
       "    <tr style=\"text-align: right;\">\n",
       "      <th></th>\n",
       "      <th>LOD_nM</th>\n",
       "    </tr>\n",
       "  </thead>\n",
       "  <tbody>\n",
       "    <tr>\n",
       "      <th>count</th>\n",
       "      <td>7.200000e+01</td>\n",
       "    </tr>\n",
       "    <tr>\n",
       "      <th>mean</th>\n",
       "      <td>6.645842e+08</td>\n",
       "    </tr>\n",
       "    <tr>\n",
       "      <th>std</th>\n",
       "      <td>4.734563e+09</td>\n",
       "    </tr>\n",
       "    <tr>\n",
       "      <th>min</th>\n",
       "      <td>2.400000e-07</td>\n",
       "    </tr>\n",
       "    <tr>\n",
       "      <th>25%</th>\n",
       "      <td>5.100000e-02</td>\n",
       "    </tr>\n",
       "    <tr>\n",
       "      <th>50%</th>\n",
       "      <td>3.000000e+00</td>\n",
       "    </tr>\n",
       "    <tr>\n",
       "      <th>75%</th>\n",
       "      <td>1.200000e+02</td>\n",
       "    </tr>\n",
       "    <tr>\n",
       "      <th>max</th>\n",
       "      <td>4.000000e+10</td>\n",
       "    </tr>\n",
       "  </tbody>\n",
       "</table>\n",
       "</div>"
      ],
      "text/plain": [
       "             LOD_nM\n",
       "count  7.200000e+01\n",
       "mean   6.645842e+08\n",
       "std    4.734563e+09\n",
       "min    2.400000e-07\n",
       "25%    5.100000e-02\n",
       "50%    3.000000e+00\n",
       "75%    1.200000e+02\n",
       "max    4.000000e+10"
      ]
     },
     "execution_count": 197,
     "metadata": {},
     "output_type": "execute_result"
    }
   ],
   "source": [
    "data_cleaned.describe()"
   ]
  },
  {
   "cell_type": "code",
   "execution_count": 145,
   "metadata": {},
   "outputs": [
    {
     "name": "stdout",
     "output_type": "stream",
     "text": [
      "Form of porous carbon\n",
      "nanocomposite     16\n",
      "porous carbon     11\n",
      "nanoparticle       9\n",
      "nanostructures     7\n",
      "nanofibers         6\n",
      "nanotubes          4\n",
      "graphene           3\n",
      "nanosheet          3\n",
      "mofs               3\n",
      "nanobelts          1\n",
      "nanospheres        1\n",
      "nanorods           1\n",
      "Name: count, dtype: int64\n"
     ]
    }
   ],
   "source": [
    "unique_form = data_cleaned['Form of porous carbon'].value_counts()\n",
    "print(unique_form)\n",
    "\n"
   ]
  },
  {
   "cell_type": "code",
   "execution_count": 146,
   "metadata": {},
   "outputs": [
    {
     "name": "stdout",
     "output_type": "stream",
     "text": [
      "Detection techniques\n",
      "dpv                          36\n",
      "cv                           18\n",
      "amperometry                   2\n",
      "swv                           2\n",
      "lithium-ion battery           2\n",
      "chronoamperometry             2\n",
      "sr                            1\n",
      "fluorescence spectroscopy     1\n",
      "ldi-tof ms                    1\n",
      "Name: count, dtype: int64\n"
     ]
    }
   ],
   "source": [
    "unique_techniques = data_cleaned['Detection techniques'].value_counts()\n",
    "print(unique_techniques)"
   ]
  },
  {
   "cell_type": "code",
   "execution_count": 147,
   "metadata": {},
   "outputs": [
    {
     "name": "stdout",
     "output_type": "stream",
     "text": [
      "Mechanism\n",
      "electrooxidation                        22\n",
      "electrocatalysis                         8\n",
      "electrostatic interaction                5\n",
      "electron transfer                        3\n",
      "electrochemical sensing                  2\n",
      "enhanced electrochemical performance     1\n",
      "hydrogen bonding and pi interactions     1\n",
      "Name: count, dtype: int64\n"
     ]
    }
   ],
   "source": [
    "unique_mechanism = data_cleaned['Mechanism'].value_counts()\n",
    "print(unique_mechanism)"
   ]
  },
  {
   "cell_type": "markdown",
   "metadata": {},
   "source": []
  },
  {
   "cell_type": "code",
   "execution_count": 148,
   "metadata": {},
   "outputs": [
    {
     "data": {
      "text/plain": [
       "count    6.600000e+01\n",
       "mean     7.250009e+08\n",
       "std      4.943762e+09\n",
       "min      2.400000e-07\n",
       "25%      3.000000e-02\n",
       "50%      3.000000e+00\n",
       "75%      1.500000e+02\n",
       "max      4.000000e+10\n",
       "Name: LOD_nM, dtype: float64"
      ]
     },
     "execution_count": 148,
     "metadata": {},
     "output_type": "execute_result"
    }
   ],
   "source": [
    "# Handling missing values by replacing them with \"Unknown\" for categorical columns\n",
    "# and removing rows with missing 'LOD_nM' as it's a key quantitative measure for our analysis\n",
    "data_cleaned.fillna({'source of metal': 'Unknown', \n",
    "                     'Form of porous carbon': 'Unknown', \n",
    "                     'Detection techniques': 'Unknown', \n",
    "                     'Mechanism': 'Unknown'}, inplace=True)\n",
    "\n",
    "# For 'LOD_nM', we'll remove rows with missing values to maintain data integrity for quantitative analysis\n",
    "data_cleaned.dropna(subset=['LOD_nM'], inplace=True)\n",
    "\n",
    "# Convert 'LOD_nM' back to float for descriptive statistics and visualization\n",
    "data_cleaned['LOD_nM'] = data_cleaned['LOD_nM'].astype(float).apply(lambda x: \"{:.2e}\".format(x)).astype(float)\n",
    "\n",
    "# Generate descriptive statistics for the numerical column 'LOD_nM'\n",
    "descriptive_stats = data_cleaned['LOD_nM'].describe()\n",
    "\n",
    "descriptive_stats\n"
   ]
  },
  {
   "cell_type": "markdown",
   "metadata": {},
   "source": [
    "### Interpretation:\n",
    "\n",
    "-   The wide range in `LOD_nM` values and the **high standard deviation** indicate a diverse dataset with varying levels of detection sensitivity.\n",
    "-   The extremely low minimum value suggests the presence of highly sensitive detection techniques, whereas the maximum value might point to much less sensitive methods or potential outliers.\n",
    "-   This variation underscores the importance of choosing the right detection technique and modification material based on the required sensitivity for specific applications.\n",
    "\n",
    "Next, we'll create visualizations to further explore these distributions and uncover any hidden patterns or insights between variables."
   ]
  },
  {
   "cell_type": "code",
   "execution_count": 181,
   "metadata": {},
   "outputs": [
    {
     "data": {
      "image/png": "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",
      "text/plain": [
       "<Figure size 1000x600 with 1 Axes>"
      ]
     },
     "metadata": {},
     "output_type": "display_data"
    }
   ],
   "source": [
    "import matplotlib.pyplot as plt\n",
    "import seaborn as sns\n",
    "\n",
    "# Setting style for publication-ready visuals\n",
    "sns.set(style=\"whitegrid\", font_scale=1.2)\n",
    "\n",
    "# Distribution of LOD_nM values\n",
    "plt.figure(figsize=(10, 6))\n",
    "sns.histplot(data_cleaned['LOD_nM'], kde=True, log_scale=True, color='darkblue')\n",
    "plt.title('Distribution of LOD_nM (Log Scale)')\n",
    "plt.xlabel('Limit of Detection (LOD) in nM (Log Scale)')\n",
    "plt.ylabel('Frequency')\n",
    "plt.tight_layout()\n",
    "\n",
    "# Save the figure\n",
    "plt.savefig('1.png', dpi=300)  # Save as PNG with high resolution\n"
   ]
  },
  {
   "cell_type": "markdown",
   "metadata": {},
   "source": [
    "The visualizations provide a deeper insight into the distribution of the Limit of Detection (LOD) values in the dataset:\n",
    "\n",
    "### Distribution of LOD_nM (Log Scale)\n",
    "\n",
    ">   The histogram, plotted on a logarithmic scale due to the wide range of LOD values, shows a **skewed distribution** with a concentration of values at the lower end of the scale. This suggests >    that a significant portion of the detection methods are highly sensitive, capable of detecting very low concentrations of substances.\n",
    "\n",
    ">   The presence of a long tail towards the higher LOD values indicates outliers or a subset of less sensitive detection methods.\n",
    "\n"
   ]
  },
  {
   "cell_type": "code",
   "execution_count": 152,
   "metadata": {},
   "outputs": [
    {
     "data": {
      "image/png": "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",
      "text/plain": [
       "<Figure size 1000x600 with 1 Axes>"
      ]
     },
     "metadata": {},
     "output_type": "display_data"
    }
   ],
   "source": [
    "# Boxplot for LOD_nM to identify outliers and distribution\n",
    "plt.figure(figsize=(10, 6))\n",
    "sns.boxplot(x=data_cleaned['LOD_nM'], color='lightgreen')\n",
    "plt.title('Boxplot of LOD_nM')\n",
    "plt.xlabel('Limit of Detection (LOD) in nM')\n",
    "plt.xscale('log')\n",
    "plt.tight_layout()\n",
    "\n",
    "plt.show()"
   ]
  },
  {
   "cell_type": "markdown",
   "metadata": {},
   "source": [
    "### Boxplot of LOD_nM\n",
    "\n",
    "The boxplot further illustrates the **skewed distribution** of LOD values. \n",
    "\n",
    ">   Most of the data is concentrated towards the lower end of the scale, with the median (indicated by the line inside the box) closer to the first quartile than the third, reflecting the\n",
    "> skewness observed in the histogram.\n",
    "\n",
    ">   There are several points beyond the upper whisker of the boxplot, indicating potential outliers in the dataset with significantly higher LOD values compared to the majority.\n",
    "> These could represent less sensitive detection methods or specific cases where higher LODs are acceptable.\n",
    "\n",
    "\n",
    "### Interpretation and Insights:\n",
    "\n",
    "**High Sensitivity:** The majority of detection methods in this dataset are designed for high sensitivity, capable of detecting substances at very low concentrations, which is critical for applications requiring precise measurements.\n",
    "\n",
    "**Variation in Sensitivity:** The wide range and variation in LOD values highlight the diverse capabilities of detection methods and materials used for modification. This underscores the importance of selecting appropriate techniques based on specific sensitivity requirements.\n",
    "\n",
    "**Potential for Optimization:** The presence of outliers suggests opportunities for optimization or the need for alternative methods in cases where high LOD values are not suitable for the application at hand.\n",
    "\n",
    "This analysis underscores the importance of method selection in detection applications, balancing sensitivity requirements with practical considerations. Next steps in the research could involve examining the relationships between the materials used for modification, detection techniques, and their impact on LOD values to identify optimal combinations for various applications"
   ]
  },
  {
   "cell_type": "code",
   "execution_count": 153,
   "metadata": {},
   "outputs": [],
   "source": [
    "data_cleaned.to_csv(\"data_cleaned.csv\")"
   ]
  },
  {
   "cell_type": "markdown",
   "metadata": {},
   "source": [
    "# Plotly graphs"
   ]
  },
  {
   "cell_type": "code",
   "execution_count": 154,
   "metadata": {},
   "outputs": [],
   "source": [
    "import plotly.express as px"
   ]
  },
  {
   "cell_type": "code",
   "execution_count": 186,
   "metadata": {},
   "outputs": [
    {
     "data": {
      "application/vnd.plotly.v1+json": {
       "config": {
        "plotlyServerURL": "https://plot.ly"
       },
       "data": [
        {
         "branchvalues": "total",
         "domain": {
          "x": [
           0,
           1
          ],
          "y": [
           0,
           1
          ]
         },
         "hovertemplate": "labels=%{label}<br>counts=%{value}<br>parent=%{parent}<br>id=%{id}<extra></extra>",
         "ids": [
          "pd/graphene",
          "zr/graphene",
          "au/mofs",
          "cu/mofs",
          "fe/mofs",
          "ag/nanobelts",
          "au/nanocomposite",
          "co/nanocomposite",
          "cu/nanocomposite",
          "fe/nanocomposite",
          "mo/nanocomposite",
          "pd/nanocomposite",
          "ti/nanocomposite",
          "zr/nanocomposite",
          "ag/nanofibers",
          "mo/nanofibers",
          "pd/nanofibers",
          "ti/nanofibers",
          "au/nanoparticle",
          "fe/nanoparticle",
          "pt/nanoparticle",
          "zr/nanoparticle",
          "au/nanorods",
          "ag/nanosheet",
          "mo/nanosheet",
          "mo/nanospheres",
          "cu/nanostructures",
          "mo/nanostructures",
          "pd/nanotubes",
          "ti/nanotubes",
          "zr/nanotubes",
          "ag/porous carbon",
          "pd/porous carbon",
          "ti/porous carbon",
          "zr/porous carbon",
          "ag",
          "au",
          "co",
          "cu",
          "fe",
          "mo",
          "pd",
          "pt",
          "ti",
          "zr"
         ],
         "labels": [
          "graphene",
          "graphene",
          "mofs",
          "mofs",
          "mofs",
          "nanobelts",
          "nanocomposite",
          "nanocomposite",
          "nanocomposite",
          "nanocomposite",
          "nanocomposite",
          "nanocomposite",
          "nanocomposite",
          "nanocomposite",
          "nanofibers",
          "nanofibers",
          "nanofibers",
          "nanofibers",
          "nanoparticle",
          "nanoparticle",
          "nanoparticle",
          "nanoparticle",
          "nanorods",
          "nanosheet",
          "nanosheet",
          "nanospheres",
          "nanostructures",
          "nanostructures",
          "nanotubes",
          "nanotubes",
          "nanotubes",
          "porous carbon",
          "porous carbon",
          "porous carbon",
          "porous carbon",
          "ag",
          "au",
          "co",
          "cu",
          "fe",
          "mo",
          "pd",
          "pt",
          "ti",
          "zr"
         ],
         "name": "",
         "parents": [
          "pd",
          "zr",
          "au",
          "cu",
          "fe",
          "ag",
          "au",
          "co",
          "cu",
          "fe",
          "mo",
          "pd",
          "ti",
          "zr",
          "ag",
          "mo",
          "pd",
          "ti",
          "au",
          "fe",
          "pt",
          "zr",
          "au",
          "ag",
          "mo",
          "mo",
          "cu",
          "mo",
          "pd",
          "ti",
          "zr",
          "ag",
          "pd",
          "ti",
          "zr",
          "",
          "",
          "",
          "",
          "",
          "",
          "",
          "",
          "",
          ""
         ],
         "type": "treemap",
         "values": [
          2,
          1,
          1,
          1,
          1,
          1,
          3,
          1,
          4,
          4,
          1,
          1,
          1,
          1,
          1,
          3,
          1,
          1,
          3,
          2,
          2,
          2,
          1,
          1,
          2,
          1,
          5,
          2,
          1,
          1,
          2,
          2,
          6,
          1,
          2,
          5,
          8,
          1,
          10,
          7,
          9,
          11,
          2,
          4,
          8
         ]
        }
       ],
       "layout": {
        "legend": {
         "tracegroupgap": 0
        },
        "template": {
         "data": {
          "bar": [
           {
            "error_x": {
             "color": "#2a3f5f"
            },
            "error_y": {
             "color": "#2a3f5f"
            },
            "marker": {
             "line": {
              "color": "#E5ECF6",
              "width": 0.5
             },
             "pattern": {
              "fillmode": "overlay",
              "size": 10,
              "solidity": 0.2
             }
            },
            "type": "bar"
           }
          ],
          "barpolar": [
           {
            "marker": {
             "line": {
              "color": "#E5ECF6",
              "width": 0.5
             },
             "pattern": {
              "fillmode": "overlay",
              "size": 10,
              "solidity": 0.2
             }
            },
            "type": "barpolar"
           }
          ],
          "carpet": [
           {
            "aaxis": {
             "endlinecolor": "#2a3f5f",
             "gridcolor": "white",
             "linecolor": "white",
             "minorgridcolor": "white",
             "startlinecolor": "#2a3f5f"
            },
            "baxis": {
             "endlinecolor": "#2a3f5f",
             "gridcolor": "white",
             "linecolor": "white",
             "minorgridcolor": "white",
             "startlinecolor": "#2a3f5f"
            },
            "type": "carpet"
           }
          ],
          "choropleth": [
           {
            "colorbar": {
             "outlinewidth": 0,
             "ticks": ""
            },
            "type": "choropleth"
           }
          ],
          "contour": [
           {
            "colorbar": {
             "outlinewidth": 0,
             "ticks": ""
            },
            "colorscale": [
             [
              0,
              "#0d0887"
             ],
             [
              0.1111111111111111,
              "#46039f"
             ],
             [
              0.2222222222222222,
              "#7201a8"
             ],
             [
              0.3333333333333333,
              "#9c179e"
             ],
             [
              0.4444444444444444,
              "#bd3786"
             ],
             [
              0.5555555555555556,
              "#d8576b"
             ],
             [
              0.6666666666666666,
              "#ed7953"
             ],
             [
              0.7777777777777778,
              "#fb9f3a"
             ],
             [
              0.8888888888888888,
              "#fdca26"
             ],
             [
              1,
              "#f0f921"
             ]
            ],
            "type": "contour"
           }
          ],
          "contourcarpet": [
           {
            "colorbar": {
             "outlinewidth": 0,
             "ticks": ""
            },
            "type": "contourcarpet"
           }
          ],
          "heatmap": [
           {
            "colorbar": {
             "outlinewidth": 0,
             "ticks": ""
            },
            "colorscale": [
             [
              0,
              "#0d0887"
             ],
             [
              0.1111111111111111,
              "#46039f"
             ],
             [
              0.2222222222222222,
              "#7201a8"
             ],
             [
              0.3333333333333333,
              "#9c179e"
             ],
             [
              0.4444444444444444,
              "#bd3786"
             ],
             [
              0.5555555555555556,
              "#d8576b"
             ],
             [
              0.6666666666666666,
              "#ed7953"
             ],
             [
              0.7777777777777778,
              "#fb9f3a"
             ],
             [
              0.8888888888888888,
              "#fdca26"
             ],
             [
              1,
              "#f0f921"
             ]
            ],
            "type": "heatmap"
           }
          ],
          "heatmapgl": [
           {
            "colorbar": {
             "outlinewidth": 0,
             "ticks": ""
            },
            "colorscale": [
             [
              0,
              "#0d0887"
             ],
             [
              0.1111111111111111,
              "#46039f"
             ],
             [
              0.2222222222222222,
              "#7201a8"
             ],
             [
              0.3333333333333333,
              "#9c179e"
             ],
             [
              0.4444444444444444,
              "#bd3786"
             ],
             [
              0.5555555555555556,
              "#d8576b"
             ],
             [
              0.6666666666666666,
              "#ed7953"
             ],
             [
              0.7777777777777778,
              "#fb9f3a"
             ],
             [
              0.8888888888888888,
              "#fdca26"
             ],
             [
              1,
              "#f0f921"
             ]
            ],
            "type": "heatmapgl"
           }
          ],
          "histogram": [
           {
            "marker": {
             "pattern": {
              "fillmode": "overlay",
              "size": 10,
              "solidity": 0.2
             }
            },
            "type": "histogram"
           }
          ],
          "histogram2d": [
           {
            "colorbar": {
             "outlinewidth": 0,
             "ticks": ""
            },
            "colorscale": [
             [
              0,
              "#0d0887"
             ],
             [
              0.1111111111111111,
              "#46039f"
             ],
             [
              0.2222222222222222,
              "#7201a8"
             ],
             [
              0.3333333333333333,
              "#9c179e"
             ],
             [
              0.4444444444444444,
              "#bd3786"
             ],
             [
              0.5555555555555556,
              "#d8576b"
             ],
             [
              0.6666666666666666,
              "#ed7953"
             ],
             [
              0.7777777777777778,
              "#fb9f3a"
             ],
             [
              0.8888888888888888,
              "#fdca26"
             ],
             [
              1,
              "#f0f921"
             ]
            ],
            "type": "histogram2d"
           }
          ],
          "histogram2dcontour": [
           {
            "colorbar": {
             "outlinewidth": 0,
             "ticks": ""
            },
            "colorscale": [
             [
              0,
              "#0d0887"
             ],
             [
              0.1111111111111111,
              "#46039f"
             ],
             [
              0.2222222222222222,
              "#7201a8"
             ],
             [
              0.3333333333333333,
              "#9c179e"
             ],
             [
              0.4444444444444444,
              "#bd3786"
             ],
             [
              0.5555555555555556,
              "#d8576b"
             ],
             [
              0.6666666666666666,
              "#ed7953"
             ],
             [
              0.7777777777777778,
              "#fb9f3a"
             ],
             [
              0.8888888888888888,
              "#fdca26"
             ],
             [
              1,
              "#f0f921"
             ]
            ],
            "type": "histogram2dcontour"
           }
          ],
          "mesh3d": [
           {
            "colorbar": {
             "outlinewidth": 0,
             "ticks": ""
            },
            "type": "mesh3d"
           }
          ],
          "parcoords": [
           {
            "line": {
             "colorbar": {
              "outlinewidth": 0,
              "ticks": ""
             }
            },
            "type": "parcoords"
           }
          ],
          "pie": [
           {
            "automargin": true,
            "type": "pie"
           }
          ],
          "scatter": [
           {
            "fillpattern": {
             "fillmode": "overlay",
             "size": 10,
             "solidity": 0.2
            },
            "type": "scatter"
           }
          ],
          "scatter3d": [
           {
            "line": {
             "colorbar": {
              "outlinewidth": 0,
              "ticks": ""
             }
            },
            "marker": {
             "colorbar": {
              "outlinewidth": 0,
              "ticks": ""
             }
            },
            "type": "scatter3d"
           }
          ],
          "scattercarpet": [
           {
            "marker": {
             "colorbar": {
              "outlinewidth": 0,
              "ticks": ""
             }
            },
            "type": "scattercarpet"
           }
          ],
          "scattergeo": [
           {
            "marker": {
             "colorbar": {
              "outlinewidth": 0,
              "ticks": ""
             }
            },
            "type": "scattergeo"
           }
          ],
          "scattergl": [
           {
            "marker": {
             "colorbar": {
              "outlinewidth": 0,
              "ticks": ""
             }
            },
            "type": "scattergl"
           }
          ],
          "scattermapbox": [
           {
            "marker": {
             "colorbar": {
              "outlinewidth": 0,
              "ticks": ""
             }
            },
            "type": "scattermapbox"
           }
          ],
          "scatterpolar": [
           {
            "marker": {
             "colorbar": {
              "outlinewidth": 0,
              "ticks": ""
             }
            },
            "type": "scatterpolar"
           }
          ],
          "scatterpolargl": [
           {
            "marker": {
             "colorbar": {
              "outlinewidth": 0,
              "ticks": ""
             }
            },
            "type": "scatterpolargl"
           }
          ],
          "scatterternary": [
           {
            "marker": {
             "colorbar": {
              "outlinewidth": 0,
              "ticks": ""
             }
            },
            "type": "scatterternary"
           }
          ],
          "surface": [
           {
            "colorbar": {
             "outlinewidth": 0,
             "ticks": ""
            },
            "colorscale": [
             [
              0,
              "#0d0887"
             ],
             [
              0.1111111111111111,
              "#46039f"
             ],
             [
              0.2222222222222222,
              "#7201a8"
             ],
             [
              0.3333333333333333,
              "#9c179e"
             ],
             [
              0.4444444444444444,
              "#bd3786"
             ],
             [
              0.5555555555555556,
              "#d8576b"
             ],
             [
              0.6666666666666666,
              "#ed7953"
             ],
             [
              0.7777777777777778,
              "#fb9f3a"
             ],
             [
              0.8888888888888888,
              "#fdca26"
             ],
             [
              1,
              "#f0f921"
             ]
            ],
            "type": "surface"
           }
          ],
          "table": [
           {
            "cells": {
             "fill": {
              "color": "#EBF0F8"
             },
             "line": {
              "color": "white"
             }
            },
            "header": {
             "fill": {
              "color": "#C8D4E3"
             },
             "line": {
              "color": "white"
             }
            },
            "type": "table"
           }
          ]
         },
         "layout": {
          "annotationdefaults": {
           "arrowcolor": "#2a3f5f",
           "arrowhead": 0,
           "arrowwidth": 1
          },
          "autotypenumbers": "strict",
          "coloraxis": {
           "colorbar": {
            "outlinewidth": 0,
            "ticks": ""
           }
          },
          "colorscale": {
           "diverging": [
            [
             0,
             "#8e0152"
            ],
            [
             0.1,
             "#c51b7d"
            ],
            [
             0.2,
             "#de77ae"
            ],
            [
             0.3,
             "#f1b6da"
            ],
            [
             0.4,
             "#fde0ef"
            ],
            [
             0.5,
             "#f7f7f7"
            ],
            [
             0.6,
             "#e6f5d0"
            ],
            [
             0.7,
             "#b8e186"
            ],
            [
             0.8,
             "#7fbc41"
            ],
            [
             0.9,
             "#4d9221"
            ],
            [
             1,
             "#276419"
            ]
           ],
           "sequential": [
            [
             0,
             "#0d0887"
            ],
            [
             0.1111111111111111,
             "#46039f"
            ],
            [
             0.2222222222222222,
             "#7201a8"
            ],
            [
             0.3333333333333333,
             "#9c179e"
            ],
            [
             0.4444444444444444,
             "#bd3786"
            ],
            [
             0.5555555555555556,
             "#d8576b"
            ],
            [
             0.6666666666666666,
             "#ed7953"
            ],
            [
             0.7777777777777778,
             "#fb9f3a"
            ],
            [
             0.8888888888888888,
             "#fdca26"
            ],
            [
             1,
             "#f0f921"
            ]
           ],
           "sequentialminus": [
            [
             0,
             "#0d0887"
            ],
            [
             0.1111111111111111,
             "#46039f"
            ],
            [
             0.2222222222222222,
             "#7201a8"
            ],
            [
             0.3333333333333333,
             "#9c179e"
            ],
            [
             0.4444444444444444,
             "#bd3786"
            ],
            [
             0.5555555555555556,
             "#d8576b"
            ],
            [
             0.6666666666666666,
             "#ed7953"
            ],
            [
             0.7777777777777778,
             "#fb9f3a"
            ],
            [
             0.8888888888888888,
             "#fdca26"
            ],
            [
             1,
             "#f0f921"
            ]
           ]
          },
          "colorway": [
           "#636efa",
           "#EF553B",
           "#00cc96",
           "#ab63fa",
           "#FFA15A",
           "#19d3f3",
           "#FF6692",
           "#B6E880",
           "#FF97FF",
           "#FECB52"
          ],
          "font": {
           "color": "#2a3f5f"
          },
          "geo": {
           "bgcolor": "white",
           "lakecolor": "white",
           "landcolor": "#E5ECF6",
           "showlakes": true,
           "showland": true,
           "subunitcolor": "white"
          },
          "hoverlabel": {
           "align": "left"
          },
          "hovermode": "closest",
          "mapbox": {
           "style": "light"
          },
          "paper_bgcolor": "white",
          "plot_bgcolor": "#E5ECF6",
          "polar": {
           "angularaxis": {
            "gridcolor": "white",
            "linecolor": "white",
            "ticks": ""
           },
           "bgcolor": "#E5ECF6",
           "radialaxis": {
            "gridcolor": "white",
            "linecolor": "white",
            "ticks": ""
           }
          },
          "scene": {
           "xaxis": {
            "backgroundcolor": "#E5ECF6",
            "gridcolor": "white",
            "gridwidth": 2,
            "linecolor": "white",
            "showbackground": true,
            "ticks": "",
            "zerolinecolor": "white"
           },
           "yaxis": {
            "backgroundcolor": "#E5ECF6",
            "gridcolor": "white",
            "gridwidth": 2,
            "linecolor": "white",
            "showbackground": true,
            "ticks": "",
            "zerolinecolor": "white"
           },
           "zaxis": {
            "backgroundcolor": "#E5ECF6",
            "gridcolor": "white",
            "gridwidth": 2,
            "linecolor": "white",
            "showbackground": true,
            "ticks": "",
            "zerolinecolor": "white"
           }
          },
          "shapedefaults": {
           "line": {
            "color": "#2a3f5f"
           }
          },
          "ternary": {
           "aaxis": {
            "gridcolor": "white",
            "linecolor": "white",
            "ticks": ""
           },
           "baxis": {
            "gridcolor": "white",
            "linecolor": "white",
            "ticks": ""
           },
           "bgcolor": "#E5ECF6",
           "caxis": {
            "gridcolor": "white",
            "linecolor": "white",
            "ticks": ""
           }
          },
          "title": {
           "x": 0.05
          },
          "xaxis": {
           "automargin": true,
           "gridcolor": "white",
           "linecolor": "white",
           "ticks": "",
           "title": {
            "standoff": 15
           },
           "zerolinecolor": "white",
           "zerolinewidth": 2
          },
          "yaxis": {
           "automargin": true,
           "gridcolor": "white",
           "linecolor": "white",
           "ticks": "",
           "title": {
            "standoff": 15
           },
           "zerolinecolor": "white",
           "zerolinewidth": 2
          }
         }
        },
        "title": {
         "text": "Treemap of Metal Used for Modification and Form of Porous Carbon"
        }
       }
      }
     },
     "metadata": {},
     "output_type": "display_data"
    },
    {
     "data": {
      "text/plain": [
       "<Figure size 640x480 with 0 Axes>"
      ]
     },
     "metadata": {},
     "output_type": "display_data"
    }
   ],
   "source": [
    "# Since the squarify module was missing and caused an interruption, we didn't define treemap_data.\n",
    "# We will prepare the data for treemap and sunburst chart again using plotly this time.\n",
    "\n",
    "# Grouping data for treemap visualization\n",
    "treemap_data = data.groupby(['Metal used for modification', 'Form of porous carbon']).size().reset_index(name='counts')\n",
    "\n",
    "# Creating treemap using Plotly Express\n",
    "fig_treemap = px.treemap(treemap_data, path=['Metal used for modification', 'Form of porous carbon'], values='counts',\n",
    "                         title='Treemap of Metal Used for Modification and Form of Porous Carbon')\n",
    "\n",
    "fig_treemap.show()\n",
    "# Save the figure\n",
    "plt.savefig('2.png', dpi=300)  # Save as PNG with high resolution"
   ]
  },
  {
   "cell_type": "code",
   "execution_count": 161,
   "metadata": {},
   "outputs": [
    {
     "data": {
      "application/vnd.plotly.v1+json": {
       "config": {
        "plotlyServerURL": "https://plot.ly"
       },
       "data": [
        {
         "hovertemplate": "Metal used for modification=%{x}<br>LOD_nM=%{y}<extra></extra>",
         "legendgroup": "pd",
         "marker": {
          "color": "#636efa",
          "size": 10,
          "symbol": "circle"
         },
         "mode": "markers",
         "name": "pd",
         "orientation": "v",
         "showlegend": true,
         "type": "scatter",
         "x": [
          "pd",
          "pd",
          "pd",
          "pd",
          "pd",
          "pd",
          "pd",
          "pd",
          "pd",
          "pd",
          "pd"
         ],
         "xaxis": "x",
         "y": [
          1000,
          1000,
          76,
          2.6,
          1250000000,
          0.00568,
          0.00568,
          0.00568,
          200,
          3.6,
          25.8
         ],
         "yaxis": "y"
        },
        {
         "hovertemplate": "Metal used for modification=%{x}<br>LOD_nM=%{y}<extra></extra>",
         "legendgroup": "pt",
         "marker": {
          "color": "#EF553B",
          "size": 10,
          "symbol": "circle"
         },
         "mode": "markers",
         "name": "pt",
         "orientation": "v",
         "showlegend": true,
         "type": "scatter",
         "x": [
          "pt",
          "pt",
          "pt",
          "pt"
         ],
         "xaxis": "x",
         "y": [
          24000,
          24000,
          0.03,
          0.03
         ],
         "yaxis": "y"
        },
        {
         "hovertemplate": "Metal used for modification=%{x}<br>LOD_nM=%{y}<extra></extra>",
         "legendgroup": "ti",
         "marker": {
          "color": "#00cc96",
          "size": 10,
          "symbol": "circle"
         },
         "mode": "markers",
         "name": "ti",
         "orientation": "v",
         "showlegend": true,
         "type": "scatter",
         "x": [
          "ti",
          "ti",
          "ti",
          "ti",
          "ti",
          "ti",
          "ti",
          "ti",
          "ti"
         ],
         "xaxis": "x",
         "y": [
          15,
          null,
          9.5,
          null,
          0.2,
          null,
          null,
          40000000000,
          8
         ],
         "yaxis": "y"
        },
        {
         "hovertemplate": "Metal used for modification=%{x}<br>LOD_nM=%{y}<extra></extra>",
         "legendgroup": "ag",
         "marker": {
          "color": "#ab63fa",
          "size": 10,
          "symbol": "circle"
         },
         "mode": "markers",
         "name": "ag",
         "orientation": "v",
         "showlegend": true,
         "type": "scatter",
         "x": [
          "ag",
          "ag",
          "ag",
          "ag",
          "ag"
         ],
         "xaxis": "x",
         "y": [
          600,
          7,
          110,
          10,
          218
         ],
         "yaxis": "y"
        },
        {
         "hovertemplate": "Metal used for modification=%{x}<br>LOD_nM=%{y}<extra></extra>",
         "legendgroup": "zr",
         "marker": {
          "color": "#FFA15A",
          "size": 10,
          "symbol": "circle"
         },
         "mode": "markers",
         "name": "zr",
         "orientation": "v",
         "showlegend": true,
         "type": "scatter",
         "x": [
          "zr",
          "zr",
          "zr",
          "zr",
          "zr",
          "zr",
          "zr",
          "zr"
         ],
         "xaxis": "x",
         "y": [
          3300000000,
          3600,
          11.03,
          null,
          20,
          2000,
          2000,
          3300000000
         ],
         "yaxis": "y"
        },
        {
         "hovertemplate": "Metal used for modification=%{x}<br>LOD_nM=%{y}<extra></extra>",
         "legendgroup": "fe",
         "marker": {
          "color": "#19d3f3",
          "size": 10,
          "symbol": "circle"
         },
         "mode": "markers",
         "name": "fe",
         "orientation": "v",
         "showlegend": true,
         "type": "scatter",
         "x": [
          "fe",
          "fe",
          "fe",
          "fe",
          "fe",
          "fe",
          "fe"
         ],
         "xaxis": "x",
         "y": [
          58,
          null,
          150,
          150,
          1,
          2,
          2
         ],
         "yaxis": "y"
        },
        {
         "hovertemplate": "Metal used for modification=%{x}<br>LOD_nM=%{y}<extra></extra>",
         "legendgroup": "cu",
         "marker": {
          "color": "#FF6692",
          "size": 10,
          "symbol": "circle"
         },
         "mode": "markers",
         "name": "cu",
         "orientation": "v",
         "showlegend": true,
         "type": "scatter",
         "x": [
          "cu",
          "cu",
          "cu",
          "cu",
          "cu",
          "cu",
          "cu",
          "cu",
          "cu",
          "cu"
         ],
         "xaxis": "x",
         "y": [
          58,
          150,
          150,
          0.0076,
          0.868,
          0.868,
          0.03,
          0.03,
          0.03,
          3.4
         ],
         "yaxis": "y"
        },
        {
         "hovertemplate": "Metal used for modification=%{x}<br>LOD_nM=%{y}<extra></extra>",
         "legendgroup": "co",
         "marker": {
          "color": "#B6E880",
          "size": 10,
          "symbol": "circle"
         },
         "mode": "markers",
         "name": "co",
         "orientation": "v",
         "showlegend": true,
         "type": "scatter",
         "x": [
          "co"
         ],
         "xaxis": "x",
         "y": [
          1
         ],
         "yaxis": "y"
        },
        {
         "hovertemplate": "Metal used for modification=%{x}<br>LOD_nM=%{y}<extra></extra>",
         "legendgroup": "mo",
         "marker": {
          "color": "#FF97FF",
          "size": 10,
          "symbol": "circle"
         },
         "mode": "markers",
         "name": "mo",
         "orientation": "v",
         "showlegend": true,
         "type": "scatter",
         "x": [
          "mo",
          "mo",
          "mo",
          "mo",
          "mo",
          "mo",
          "mo",
          "mo",
          "mo"
         ],
         "xaxis": "x",
         "y": [
          0.00235,
          0.00000271,
          0.00000271,
          0.058,
          0.539,
          0.45,
          0.45,
          0.069,
          0.069
         ],
         "yaxis": "y"
        },
        {
         "hovertemplate": "Metal used for modification=%{x}<br>LOD_nM=%{y}<extra></extra>",
         "legendgroup": "au",
         "marker": {
          "color": "#FECB52",
          "size": 10,
          "symbol": "circle"
         },
         "mode": "markers",
         "name": "au",
         "orientation": "v",
         "showlegend": true,
         "type": "scatter",
         "x": [
          "au",
          "au",
          "au",
          "au",
          "au",
          "au",
          "au",
          "au"
         ],
         "xaxis": "x",
         "y": [
          0.087,
          0.007,
          2.4e-7,
          2.4e-7,
          0.0076,
          0.027,
          0.027,
          3.4
         ],
         "yaxis": "y"
        }
       ],
       "layout": {
        "coloraxis": {
         "colorbar": {
          "ticktext": [
           "Metal A",
           "Metal B",
           "Metal C"
          ],
          "tickvals": [
           0,
           1,
           2
          ],
          "title": {
           "text": "Metal used for modification"
          }
         }
        },
        "height": 600,
        "legend": {
         "title": {
          "text": "Metal used for modification"
         },
         "tracegroupgap": 0
        },
        "template": {
         "data": {
          "bar": [
           {
            "error_x": {
             "color": "#2a3f5f"
            },
            "error_y": {
             "color": "#2a3f5f"
            },
            "marker": {
             "line": {
              "color": "#E5ECF6",
              "width": 0.5
             },
             "pattern": {
              "fillmode": "overlay",
              "size": 10,
              "solidity": 0.2
             }
            },
            "type": "bar"
           }
          ],
          "barpolar": [
           {
            "marker": {
             "line": {
              "color": "#E5ECF6",
              "width": 0.5
             },
             "pattern": {
              "fillmode": "overlay",
              "size": 10,
              "solidity": 0.2
             }
            },
            "type": "barpolar"
           }
          ],
          "carpet": [
           {
            "aaxis": {
             "endlinecolor": "#2a3f5f",
             "gridcolor": "white",
             "linecolor": "white",
             "minorgridcolor": "white",
             "startlinecolor": "#2a3f5f"
            },
            "baxis": {
             "endlinecolor": "#2a3f5f",
             "gridcolor": "white",
             "linecolor": "white",
             "minorgridcolor": "white",
             "startlinecolor": "#2a3f5f"
            },
            "type": "carpet"
           }
          ],
          "choropleth": [
           {
            "colorbar": {
             "outlinewidth": 0,
             "ticks": ""
            },
            "type": "choropleth"
           }
          ],
          "contour": [
           {
            "colorbar": {
             "outlinewidth": 0,
             "ticks": ""
            },
            "colorscale": [
             [
              0,
              "#0d0887"
             ],
             [
              0.1111111111111111,
              "#46039f"
             ],
             [
              0.2222222222222222,
              "#7201a8"
             ],
             [
              0.3333333333333333,
              "#9c179e"
             ],
             [
              0.4444444444444444,
              "#bd3786"
             ],
             [
              0.5555555555555556,
              "#d8576b"
             ],
             [
              0.6666666666666666,
              "#ed7953"
             ],
             [
              0.7777777777777778,
              "#fb9f3a"
             ],
             [
              0.8888888888888888,
              "#fdca26"
             ],
             [
              1,
              "#f0f921"
             ]
            ],
            "type": "contour"
           }
          ],
          "contourcarpet": [
           {
            "colorbar": {
             "outlinewidth": 0,
             "ticks": ""
            },
            "type": "contourcarpet"
           }
          ],
          "heatmap": [
           {
            "colorbar": {
             "outlinewidth": 0,
             "ticks": ""
            },
            "colorscale": [
             [
              0,
              "#0d0887"
             ],
             [
              0.1111111111111111,
              "#46039f"
             ],
             [
              0.2222222222222222,
              "#7201a8"
             ],
             [
              0.3333333333333333,
              "#9c179e"
             ],
             [
              0.4444444444444444,
              "#bd3786"
             ],
             [
              0.5555555555555556,
              "#d8576b"
             ],
             [
              0.6666666666666666,
              "#ed7953"
             ],
             [
              0.7777777777777778,
              "#fb9f3a"
             ],
             [
              0.8888888888888888,
              "#fdca26"
             ],
             [
              1,
              "#f0f921"
             ]
            ],
            "type": "heatmap"
           }
          ],
          "heatmapgl": [
           {
            "colorbar": {
             "outlinewidth": 0,
             "ticks": ""
            },
            "colorscale": [
             [
              0,
              "#0d0887"
             ],
             [
              0.1111111111111111,
              "#46039f"
             ],
             [
              0.2222222222222222,
              "#7201a8"
             ],
             [
              0.3333333333333333,
              "#9c179e"
             ],
             [
              0.4444444444444444,
              "#bd3786"
             ],
             [
              0.5555555555555556,
              "#d8576b"
             ],
             [
              0.6666666666666666,
              "#ed7953"
             ],
             [
              0.7777777777777778,
              "#fb9f3a"
             ],
             [
              0.8888888888888888,
              "#fdca26"
             ],
             [
              1,
              "#f0f921"
             ]
            ],
            "type": "heatmapgl"
           }
          ],
          "histogram": [
           {
            "marker": {
             "pattern": {
              "fillmode": "overlay",
              "size": 10,
              "solidity": 0.2
             }
            },
            "type": "histogram"
           }
          ],
          "histogram2d": [
           {
            "colorbar": {
             "outlinewidth": 0,
             "ticks": ""
            },
            "colorscale": [
             [
              0,
              "#0d0887"
             ],
             [
              0.1111111111111111,
              "#46039f"
             ],
             [
              0.2222222222222222,
              "#7201a8"
             ],
             [
              0.3333333333333333,
              "#9c179e"
             ],
             [
              0.4444444444444444,
              "#bd3786"
             ],
             [
              0.5555555555555556,
              "#d8576b"
             ],
             [
              0.6666666666666666,
              "#ed7953"
             ],
             [
              0.7777777777777778,
              "#fb9f3a"
             ],
             [
              0.8888888888888888,
              "#fdca26"
             ],
             [
              1,
              "#f0f921"
             ]
            ],
            "type": "histogram2d"
           }
          ],
          "histogram2dcontour": [
           {
            "colorbar": {
             "outlinewidth": 0,
             "ticks": ""
            },
            "colorscale": [
             [
              0,
              "#0d0887"
             ],
             [
              0.1111111111111111,
              "#46039f"
             ],
             [
              0.2222222222222222,
              "#7201a8"
             ],
             [
              0.3333333333333333,
              "#9c179e"
             ],
             [
              0.4444444444444444,
              "#bd3786"
             ],
             [
              0.5555555555555556,
              "#d8576b"
             ],
             [
              0.6666666666666666,
              "#ed7953"
             ],
             [
              0.7777777777777778,
              "#fb9f3a"
             ],
             [
              0.8888888888888888,
              "#fdca26"
             ],
             [
              1,
              "#f0f921"
             ]
            ],
            "type": "histogram2dcontour"
           }
          ],
          "mesh3d": [
           {
            "colorbar": {
             "outlinewidth": 0,
             "ticks": ""
            },
            "type": "mesh3d"
           }
          ],
          "parcoords": [
           {
            "line": {
             "colorbar": {
              "outlinewidth": 0,
              "ticks": ""
             }
            },
            "type": "parcoords"
           }
          ],
          "pie": [
           {
            "automargin": true,
            "type": "pie"
           }
          ],
          "scatter": [
           {
            "fillpattern": {
             "fillmode": "overlay",
             "size": 10,
             "solidity": 0.2
            },
            "type": "scatter"
           }
          ],
          "scatter3d": [
           {
            "line": {
             "colorbar": {
              "outlinewidth": 0,
              "ticks": ""
             }
            },
            "marker": {
             "colorbar": {
              "outlinewidth": 0,
              "ticks": ""
             }
            },
            "type": "scatter3d"
           }
          ],
          "scattercarpet": [
           {
            "marker": {
             "colorbar": {
              "outlinewidth": 0,
              "ticks": ""
             }
            },
            "type": "scattercarpet"
           }
          ],
          "scattergeo": [
           {
            "marker": {
             "colorbar": {
              "outlinewidth": 0,
              "ticks": ""
             }
            },
            "type": "scattergeo"
           }
          ],
          "scattergl": [
           {
            "marker": {
             "colorbar": {
              "outlinewidth": 0,
              "ticks": ""
             }
            },
            "type": "scattergl"
           }
          ],
          "scattermapbox": [
           {
            "marker": {
             "colorbar": {
              "outlinewidth": 0,
              "ticks": ""
             }
            },
            "type": "scattermapbox"
           }
          ],
          "scatterpolar": [
           {
            "marker": {
             "colorbar": {
              "outlinewidth": 0,
              "ticks": ""
             }
            },
            "type": "scatterpolar"
           }
          ],
          "scatterpolargl": [
           {
            "marker": {
             "colorbar": {
              "outlinewidth": 0,
              "ticks": ""
             }
            },
            "type": "scatterpolargl"
           }
          ],
          "scatterternary": [
           {
            "marker": {
             "colorbar": {
              "outlinewidth": 0,
              "ticks": ""
             }
            },
            "type": "scatterternary"
           }
          ],
          "surface": [
           {
            "colorbar": {
             "outlinewidth": 0,
             "ticks": ""
            },
            "colorscale": [
             [
              0,
              "#0d0887"
             ],
             [
              0.1111111111111111,
              "#46039f"
             ],
             [
              0.2222222222222222,
              "#7201a8"
             ],
             [
              0.3333333333333333,
              "#9c179e"
             ],
             [
              0.4444444444444444,
              "#bd3786"
             ],
             [
              0.5555555555555556,
              "#d8576b"
             ],
             [
              0.6666666666666666,
              "#ed7953"
             ],
             [
              0.7777777777777778,
              "#fb9f3a"
             ],
             [
              0.8888888888888888,
              "#fdca26"
             ],
             [
              1,
              "#f0f921"
             ]
            ],
            "type": "surface"
           }
          ],
          "table": [
           {
            "cells": {
             "fill": {
              "color": "#EBF0F8"
             },
             "line": {
              "color": "white"
             }
            },
            "header": {
             "fill": {
              "color": "#C8D4E3"
             },
             "line": {
              "color": "white"
             }
            },
            "type": "table"
           }
          ]
         },
         "layout": {
          "annotationdefaults": {
           "arrowcolor": "#2a3f5f",
           "arrowhead": 0,
           "arrowwidth": 1
          },
          "autotypenumbers": "strict",
          "coloraxis": {
           "colorbar": {
            "outlinewidth": 0,
            "ticks": ""
           }
          },
          "colorscale": {
           "diverging": [
            [
             0,
             "#8e0152"
            ],
            [
             0.1,
             "#c51b7d"
            ],
            [
             0.2,
             "#de77ae"
            ],
            [
             0.3,
             "#f1b6da"
            ],
            [
             0.4,
             "#fde0ef"
            ],
            [
             0.5,
             "#f7f7f7"
            ],
            [
             0.6,
             "#e6f5d0"
            ],
            [
             0.7,
             "#b8e186"
            ],
            [
             0.8,
             "#7fbc41"
            ],
            [
             0.9,
             "#4d9221"
            ],
            [
             1,
             "#276419"
            ]
           ],
           "sequential": [
            [
             0,
             "#0d0887"
            ],
            [
             0.1111111111111111,
             "#46039f"
            ],
            [
             0.2222222222222222,
             "#7201a8"
            ],
            [
             0.3333333333333333,
             "#9c179e"
            ],
            [
             0.4444444444444444,
             "#bd3786"
            ],
            [
             0.5555555555555556,
             "#d8576b"
            ],
            [
             0.6666666666666666,
             "#ed7953"
            ],
            [
             0.7777777777777778,
             "#fb9f3a"
            ],
            [
             0.8888888888888888,
             "#fdca26"
            ],
            [
             1,
             "#f0f921"
            ]
           ],
           "sequentialminus": [
            [
             0,
             "#0d0887"
            ],
            [
             0.1111111111111111,
             "#46039f"
            ],
            [
             0.2222222222222222,
             "#7201a8"
            ],
            [
             0.3333333333333333,
             "#9c179e"
            ],
            [
             0.4444444444444444,
             "#bd3786"
            ],
            [
             0.5555555555555556,
             "#d8576b"
            ],
            [
             0.6666666666666666,
             "#ed7953"
            ],
            [
             0.7777777777777778,
             "#fb9f3a"
            ],
            [
             0.8888888888888888,
             "#fdca26"
            ],
            [
             1,
             "#f0f921"
            ]
           ]
          },
          "colorway": [
           "#636efa",
           "#EF553B",
           "#00cc96",
           "#ab63fa",
           "#FFA15A",
           "#19d3f3",
           "#FF6692",
           "#B6E880",
           "#FF97FF",
           "#FECB52"
          ],
          "font": {
           "color": "#2a3f5f"
          },
          "geo": {
           "bgcolor": "white",
           "lakecolor": "white",
           "landcolor": "#E5ECF6",
           "showlakes": true,
           "showland": true,
           "subunitcolor": "white"
          },
          "hoverlabel": {
           "align": "left"
          },
          "hovermode": "closest",
          "mapbox": {
           "style": "light"
          },
          "paper_bgcolor": "white",
          "plot_bgcolor": "#E5ECF6",
          "polar": {
           "angularaxis": {
            "gridcolor": "white",
            "linecolor": "white",
            "ticks": ""
           },
           "bgcolor": "#E5ECF6",
           "radialaxis": {
            "gridcolor": "white",
            "linecolor": "white",
            "ticks": ""
           }
          },
          "scene": {
           "xaxis": {
            "backgroundcolor": "#E5ECF6",
            "gridcolor": "white",
            "gridwidth": 2,
            "linecolor": "white",
            "showbackground": true,
            "ticks": "",
            "zerolinecolor": "white"
           },
           "yaxis": {
            "backgroundcolor": "#E5ECF6",
            "gridcolor": "white",
            "gridwidth": 2,
            "linecolor": "white",
            "showbackground": true,
            "ticks": "",
            "zerolinecolor": "white"
           },
           "zaxis": {
            "backgroundcolor": "#E5ECF6",
            "gridcolor": "white",
            "gridwidth": 2,
            "linecolor": "white",
            "showbackground": true,
            "ticks": "",
            "zerolinecolor": "white"
           }
          },
          "shapedefaults": {
           "line": {
            "color": "#2a3f5f"
           }
          },
          "ternary": {
           "aaxis": {
            "gridcolor": "white",
            "linecolor": "white",
            "ticks": ""
           },
           "baxis": {
            "gridcolor": "white",
            "linecolor": "white",
            "ticks": ""
           },
           "bgcolor": "#E5ECF6",
           "caxis": {
            "gridcolor": "white",
            "linecolor": "white",
            "ticks": ""
           }
          },
          "title": {
           "x": 0.05
          },
          "xaxis": {
           "automargin": true,
           "gridcolor": "white",
           "linecolor": "white",
           "ticks": "",
           "title": {
            "standoff": 15
           },
           "zerolinecolor": "white",
           "zerolinewidth": 2
          },
          "yaxis": {
           "automargin": true,
           "gridcolor": "white",
           "linecolor": "white",
           "ticks": "",
           "title": {
            "standoff": 15
           },
           "zerolinecolor": "white",
           "zerolinewidth": 2
          }
         }
        },
        "title": {
         "text": "Scatter Plot of LOD_nM vs. Metal Used for Modification"
        },
        "width": 1000,
        "xaxis": {
         "anchor": "y",
         "categoryarray": [
          "pd",
          "pt",
          "ti",
          "ag",
          "zr",
          "fe",
          "cu",
          "co",
          "mo",
          "au"
         ],
         "categoryorder": "array",
         "domain": [
          0,
          1
         ],
         "title": {
          "text": "Metal used for modification"
         }
        },
        "yaxis": {
         "anchor": "x",
         "domain": [
          0,
          1
         ],
         "title": {
          "text": "LOD_nM"
         },
         "type": "log"
        }
       }
      }
     },
     "metadata": {},
     "output_type": "display_data"
    }
   ],
   "source": [
    "import plotly.express as px\n",
    "\n",
    "# Scatter Plot of LOD_nM vs. Metal Used for Modification\n",
    "fig_scatter_lod_metal = px.scatter(data, x='Metal used for modification', y='LOD_nM', log_y=True, color='Metal used for modification',\n",
    "                                   title='Scatter Plot of LOD_nM vs. Metal Used for Modification',\n",
    "                                   width=1000, height=600)  # Increase size and resolution\n",
    "\n",
    "fig_scatter_lod_metal.update_traces(marker=dict(size=10))  # Increase marker size\n",
    "\n",
    "# Use a professional color scheme\n",
    "fig_scatter_lod_metal.update_layout(coloraxis_colorbar=dict(\n",
    "    title='Metal used for modification',\n",
    "    tickvals=[0, 1, 2],  # Example tick values\n",
    "    ticktext=['Metal A', 'Metal B', 'Metal C'],  # Example tick labels\n",
    "))\n",
    "\n",
    "fig_scatter_lod_metal.show()\n"
   ]
  },
  {
   "cell_type": "code",
   "execution_count": 163,
   "metadata": {},
   "outputs": [],
   "source": [
    "\n",
    "# # Set resolution to 300 dpi and export to TIFF using kaleido engine\n",
    "# fig_scatter_lod_metal.write_image(\"scatter_plot.tiff\", scale=3, engine='kaleido')\n"
   ]
  },
  {
   "cell_type": "code",
   "execution_count": 194,
   "metadata": {},
   "outputs": [
    {
     "data": {
      "application/vnd.plotly.v1+json": {
       "config": {
        "plotlyServerURL": "https://plot.ly"
       },
       "data": [
        {
         "branchvalues": "total",
         "customdata": [
          [
           "nanofibers"
          ],
          [
           "nanocomposite"
          ],
          [
           "nanoparticle"
          ],
          [
           "porous carbon"
          ],
          [
           "nanoparticle"
          ],
          [
           "nanotubes"
          ],
          [
           "nanospheres"
          ],
          [
           "nanosheet"
          ],
          [
           "porous carbon"
          ],
          [
           "nanotubes"
          ],
          [
           "nanostructures"
          ],
          [
           "nanostructures"
          ],
          [
           "nanofibers"
          ],
          [
           "nanocomposite"
          ],
          [
           "nanocomposite"
          ],
          [
           "nanosheet"
          ],
          [
           "nanosheet"
          ],
          [
           "mofs"
          ],
          [
           "porous carbon"
          ],
          [
           "nanosheet"
          ],
          [
           "nanoparticle"
          ],
          [
           "nanotubes"
          ],
          [
           "porous carbon"
          ],
          [
           "nanocomposite"
          ],
          [
           "nanostructures"
          ],
          [
           "graphene"
          ],
          [
           "nanobelts"
          ],
          [
           "nanofibers"
          ],
          [
           "mofs"
          ],
          [
           "nanocomposite"
          ],
          [
           "graphene"
          ],
          [
           "nanospheres"
          ],
          [
           "nanostructures"
          ],
          [
           "nanotubes"
          ],
          [
           "nanobelts"
          ],
          [
           "graphene"
          ],
          [
           "porous carbon"
          ]
         ],
         "domain": {
          "x": [
           0,
           1
          ],
          "y": [
           0,
           1
          ]
         },
         "hovertemplate": "labels=%{label}<br>counts=%{value}<br>parent=%{parent}<br>id=%{id}<br>Form of porous carbon=%{customdata[0]}<extra></extra>",
         "ids": [
          "nanofibers",
          "nanocomposite",
          "nanoparticle/dpv",
          "porous carbon/amperometry",
          "nanoparticle",
          "nanotubes/fluorescence spectroscopy",
          "nanospheres/dpv",
          "nanosheet/dpv",
          "porous carbon/cv",
          "nanotubes/cv",
          "nanostructures/dpv",
          "nanostructures/cv",
          "nanofibers/cv",
          "nanocomposite/cv",
          "nanocomposite/lithium-ion battery",
          "nanosheet",
          "nanosheet/chronoamperometry",
          "mofs/ldi-tof ms",
          "porous carbon/dpv",
          "nanosheet/cv",
          "nanoparticle/cv",
          "nanotubes/dpv",
          "porous carbon/sr",
          "nanocomposite/swv",
          "nanostructures/chronoamperometry",
          "graphene",
          "nanobelts",
          "nanofibers/dpv",
          "mofs",
          "nanocomposite/dpv",
          "graphene/dpv",
          "nanospheres",
          "nanostructures",
          "nanotubes",
          "nanobelts/cv",
          "graphene/cv",
          "porous carbon"
         ],
         "labels": [
          "nanofibers",
          "nanocomposite",
          "dpv",
          "amperometry",
          "nanoparticle",
          "fluorescence spectroscopy",
          "dpv",
          "dpv",
          "cv",
          "cv",
          "dpv",
          "cv",
          "cv",
          "cv",
          "lithium-ion battery",
          "nanosheet",
          "chronoamperometry",
          "ldi-tof ms",
          "dpv",
          "cv",
          "cv",
          "dpv",
          "sr",
          "swv",
          "chronoamperometry",
          "graphene",
          "nanobelts",
          "dpv",
          "mofs",
          "dpv",
          "dpv",
          "nanospheres",
          "nanostructures",
          "nanotubes",
          "cv",
          "cv",
          "porous carbon"
         ],
         "marker": {
          "colors": [
           "#636efa",
           "#EF553B",
           "#00cc96",
           "#ab63fa",
           "#00cc96",
           "#FFA15A",
           "#19d3f3",
           "#FF6692",
           "#ab63fa",
           "#FFA15A",
           "#B6E880",
           "#B6E880",
           "#636efa",
           "#EF553B",
           "#EF553B",
           "#FF6692",
           "#FF6692",
           "#FF97FF",
           "#ab63fa",
           "#FF6692",
           "#00cc96",
           "#FFA15A",
           "#ab63fa",
           "#EF553B",
           "#B6E880",
           "#FECB52",
           "#636efa",
           "#636efa",
           "#FF97FF",
           "#EF553B",
           "#FECB52",
           "#19d3f3",
           "#B6E880",
           "#FFA15A",
           "#636efa",
           "#FECB52",
           "#ab63fa"
          ]
         },
         "name": "",
         "parents": [
          "",
          "",
          "nanoparticle",
          "porous carbon",
          "",
          "nanotubes",
          "nanospheres",
          "nanosheet",
          "porous carbon",
          "nanotubes",
          "nanostructures",
          "nanostructures",
          "nanofibers",
          "nanocomposite",
          "nanocomposite",
          "",
          "nanosheet",
          "mofs",
          "porous carbon",
          "nanosheet",
          "nanoparticle",
          "nanotubes",
          "porous carbon",
          "nanocomposite",
          "nanostructures",
          "",
          "",
          "nanofibers",
          "",
          "nanocomposite",
          "graphene",
          "",
          "",
          "",
          "nanobelts",
          "graphene",
          ""
         ],
         "type": "sunburst",
         "values": [
          5,
          16,
          5,
          1,
          8,
          1,
          1,
          1,
          1,
          1,
          3,
          3,
          1,
          5,
          2,
          3,
          1,
          1,
          8,
          1,
          3,
          2,
          1,
          1,
          1,
          3,
          1,
          4,
          1,
          8,
          2,
          1,
          7,
          4,
          1,
          1,
          11
         ]
        }
       ],
       "layout": {
        "height": 800,
        "legend": {
         "tracegroupgap": 0
        },
        "template": {
         "data": {
          "bar": [
           {
            "error_x": {
             "color": "#2a3f5f"
            },
            "error_y": {
             "color": "#2a3f5f"
            },
            "marker": {
             "line": {
              "color": "#E5ECF6",
              "width": 0.5
             },
             "pattern": {
              "fillmode": "overlay",
              "size": 10,
              "solidity": 0.2
             }
            },
            "type": "bar"
           }
          ],
          "barpolar": [
           {
            "marker": {
             "line": {
              "color": "#E5ECF6",
              "width": 0.5
             },
             "pattern": {
              "fillmode": "overlay",
              "size": 10,
              "solidity": 0.2
             }
            },
            "type": "barpolar"
           }
          ],
          "carpet": [
           {
            "aaxis": {
             "endlinecolor": "#2a3f5f",
             "gridcolor": "white",
             "linecolor": "white",
             "minorgridcolor": "white",
             "startlinecolor": "#2a3f5f"
            },
            "baxis": {
             "endlinecolor": "#2a3f5f",
             "gridcolor": "white",
             "linecolor": "white",
             "minorgridcolor": "white",
             "startlinecolor": "#2a3f5f"
            },
            "type": "carpet"
           }
          ],
          "choropleth": [
           {
            "colorbar": {
             "outlinewidth": 0,
             "ticks": ""
            },
            "type": "choropleth"
           }
          ],
          "contour": [
           {
            "colorbar": {
             "outlinewidth": 0,
             "ticks": ""
            },
            "colorscale": [
             [
              0,
              "#0d0887"
             ],
             [
              0.1111111111111111,
              "#46039f"
             ],
             [
              0.2222222222222222,
              "#7201a8"
             ],
             [
              0.3333333333333333,
              "#9c179e"
             ],
             [
              0.4444444444444444,
              "#bd3786"
             ],
             [
              0.5555555555555556,
              "#d8576b"
             ],
             [
              0.6666666666666666,
              "#ed7953"
             ],
             [
              0.7777777777777778,
              "#fb9f3a"
             ],
             [
              0.8888888888888888,
              "#fdca26"
             ],
             [
              1,
              "#f0f921"
             ]
            ],
            "type": "contour"
           }
          ],
          "contourcarpet": [
           {
            "colorbar": {
             "outlinewidth": 0,
             "ticks": ""
            },
            "type": "contourcarpet"
           }
          ],
          "heatmap": [
           {
            "colorbar": {
             "outlinewidth": 0,
             "ticks": ""
            },
            "colorscale": [
             [
              0,
              "#0d0887"
             ],
             [
              0.1111111111111111,
              "#46039f"
             ],
             [
              0.2222222222222222,
              "#7201a8"
             ],
             [
              0.3333333333333333,
              "#9c179e"
             ],
             [
              0.4444444444444444,
              "#bd3786"
             ],
             [
              0.5555555555555556,
              "#d8576b"
             ],
             [
              0.6666666666666666,
              "#ed7953"
             ],
             [
              0.7777777777777778,
              "#fb9f3a"
             ],
             [
              0.8888888888888888,
              "#fdca26"
             ],
             [
              1,
              "#f0f921"
             ]
            ],
            "type": "heatmap"
           }
          ],
          "heatmapgl": [
           {
            "colorbar": {
             "outlinewidth": 0,
             "ticks": ""
            },
            "colorscale": [
             [
              0,
              "#0d0887"
             ],
             [
              0.1111111111111111,
              "#46039f"
             ],
             [
              0.2222222222222222,
              "#7201a8"
             ],
             [
              0.3333333333333333,
              "#9c179e"
             ],
             [
              0.4444444444444444,
              "#bd3786"
             ],
             [
              0.5555555555555556,
              "#d8576b"
             ],
             [
              0.6666666666666666,
              "#ed7953"
             ],
             [
              0.7777777777777778,
              "#fb9f3a"
             ],
             [
              0.8888888888888888,
              "#fdca26"
             ],
             [
              1,
              "#f0f921"
             ]
            ],
            "type": "heatmapgl"
           }
          ],
          "histogram": [
           {
            "marker": {
             "pattern": {
              "fillmode": "overlay",
              "size": 10,
              "solidity": 0.2
             }
            },
            "type": "histogram"
           }
          ],
          "histogram2d": [
           {
            "colorbar": {
             "outlinewidth": 0,
             "ticks": ""
            },
            "colorscale": [
             [
              0,
              "#0d0887"
             ],
             [
              0.1111111111111111,
              "#46039f"
             ],
             [
              0.2222222222222222,
              "#7201a8"
             ],
             [
              0.3333333333333333,
              "#9c179e"
             ],
             [
              0.4444444444444444,
              "#bd3786"
             ],
             [
              0.5555555555555556,
              "#d8576b"
             ],
             [
              0.6666666666666666,
              "#ed7953"
             ],
             [
              0.7777777777777778,
              "#fb9f3a"
             ],
             [
              0.8888888888888888,
              "#fdca26"
             ],
             [
              1,
              "#f0f921"
             ]
            ],
            "type": "histogram2d"
           }
          ],
          "histogram2dcontour": [
           {
            "colorbar": {
             "outlinewidth": 0,
             "ticks": ""
            },
            "colorscale": [
             [
              0,
              "#0d0887"
             ],
             [
              0.1111111111111111,
              "#46039f"
             ],
             [
              0.2222222222222222,
              "#7201a8"
             ],
             [
              0.3333333333333333,
              "#9c179e"
             ],
             [
              0.4444444444444444,
              "#bd3786"
             ],
             [
              0.5555555555555556,
              "#d8576b"
             ],
             [
              0.6666666666666666,
              "#ed7953"
             ],
             [
              0.7777777777777778,
              "#fb9f3a"
             ],
             [
              0.8888888888888888,
              "#fdca26"
             ],
             [
              1,
              "#f0f921"
             ]
            ],
            "type": "histogram2dcontour"
           }
          ],
          "mesh3d": [
           {
            "colorbar": {
             "outlinewidth": 0,
             "ticks": ""
            },
            "type": "mesh3d"
           }
          ],
          "parcoords": [
           {
            "line": {
             "colorbar": {
              "outlinewidth": 0,
              "ticks": ""
             }
            },
            "type": "parcoords"
           }
          ],
          "pie": [
           {
            "automargin": true,
            "type": "pie"
           }
          ],
          "scatter": [
           {
            "fillpattern": {
             "fillmode": "overlay",
             "size": 10,
             "solidity": 0.2
            },
            "type": "scatter"
           }
          ],
          "scatter3d": [
           {
            "line": {
             "colorbar": {
              "outlinewidth": 0,
              "ticks": ""
             }
            },
            "marker": {
             "colorbar": {
              "outlinewidth": 0,
              "ticks": ""
             }
            },
            "type": "scatter3d"
           }
          ],
          "scattercarpet": [
           {
            "marker": {
             "colorbar": {
              "outlinewidth": 0,
              "ticks": ""
             }
            },
            "type": "scattercarpet"
           }
          ],
          "scattergeo": [
           {
            "marker": {
             "colorbar": {
              "outlinewidth": 0,
              "ticks": ""
             }
            },
            "type": "scattergeo"
           }
          ],
          "scattergl": [
           {
            "marker": {
             "colorbar": {
              "outlinewidth": 0,
              "ticks": ""
             }
            },
            "type": "scattergl"
           }
          ],
          "scattermapbox": [
           {
            "marker": {
             "colorbar": {
              "outlinewidth": 0,
              "ticks": ""
             }
            },
            "type": "scattermapbox"
           }
          ],
          "scatterpolar": [
           {
            "marker": {
             "colorbar": {
              "outlinewidth": 0,
              "ticks": ""
             }
            },
            "type": "scatterpolar"
           }
          ],
          "scatterpolargl": [
           {
            "marker": {
             "colorbar": {
              "outlinewidth": 0,
              "ticks": ""
             }
            },
            "type": "scatterpolargl"
           }
          ],
          "scatterternary": [
           {
            "marker": {
             "colorbar": {
              "outlinewidth": 0,
              "ticks": ""
             }
            },
            "type": "scatterternary"
           }
          ],
          "surface": [
           {
            "colorbar": {
             "outlinewidth": 0,
             "ticks": ""
            },
            "colorscale": [
             [
              0,
              "#0d0887"
             ],
             [
              0.1111111111111111,
              "#46039f"
             ],
             [
              0.2222222222222222,
              "#7201a8"
             ],
             [
              0.3333333333333333,
              "#9c179e"
             ],
             [
              0.4444444444444444,
              "#bd3786"
             ],
             [
              0.5555555555555556,
              "#d8576b"
             ],
             [
              0.6666666666666666,
              "#ed7953"
             ],
             [
              0.7777777777777778,
              "#fb9f3a"
             ],
             [
              0.8888888888888888,
              "#fdca26"
             ],
             [
              1,
              "#f0f921"
             ]
            ],
            "type": "surface"
           }
          ],
          "table": [
           {
            "cells": {
             "fill": {
              "color": "#EBF0F8"
             },
             "line": {
              "color": "white"
             }
            },
            "header": {
             "fill": {
              "color": "#C8D4E3"
             },
             "line": {
              "color": "white"
             }
            },
            "type": "table"
           }
          ]
         },
         "layout": {
          "annotationdefaults": {
           "arrowcolor": "#2a3f5f",
           "arrowhead": 0,
           "arrowwidth": 1
          },
          "autotypenumbers": "strict",
          "coloraxis": {
           "colorbar": {
            "outlinewidth": 0,
            "ticks": ""
           }
          },
          "colorscale": {
           "diverging": [
            [
             0,
             "#8e0152"
            ],
            [
             0.1,
             "#c51b7d"
            ],
            [
             0.2,
             "#de77ae"
            ],
            [
             0.3,
             "#f1b6da"
            ],
            [
             0.4,
             "#fde0ef"
            ],
            [
             0.5,
             "#f7f7f7"
            ],
            [
             0.6,
             "#e6f5d0"
            ],
            [
             0.7,
             "#b8e186"
            ],
            [
             0.8,
             "#7fbc41"
            ],
            [
             0.9,
             "#4d9221"
            ],
            [
             1,
             "#276419"
            ]
           ],
           "sequential": [
            [
             0,
             "#0d0887"
            ],
            [
             0.1111111111111111,
             "#46039f"
            ],
            [
             0.2222222222222222,
             "#7201a8"
            ],
            [
             0.3333333333333333,
             "#9c179e"
            ],
            [
             0.4444444444444444,
             "#bd3786"
            ],
            [
             0.5555555555555556,
             "#d8576b"
            ],
            [
             0.6666666666666666,
             "#ed7953"
            ],
            [
             0.7777777777777778,
             "#fb9f3a"
            ],
            [
             0.8888888888888888,
             "#fdca26"
            ],
            [
             1,
             "#f0f921"
            ]
           ],
           "sequentialminus": [
            [
             0,
             "#0d0887"
            ],
            [
             0.1111111111111111,
             "#46039f"
            ],
            [
             0.2222222222222222,
             "#7201a8"
            ],
            [
             0.3333333333333333,
             "#9c179e"
            ],
            [
             0.4444444444444444,
             "#bd3786"
            ],
            [
             0.5555555555555556,
             "#d8576b"
            ],
            [
             0.6666666666666666,
             "#ed7953"
            ],
            [
             0.7777777777777778,
             "#fb9f3a"
            ],
            [
             0.8888888888888888,
             "#fdca26"
            ],
            [
             1,
             "#f0f921"
            ]
           ]
          },
          "colorway": [
           "#636efa",
           "#EF553B",
           "#00cc96",
           "#ab63fa",
           "#FFA15A",
           "#19d3f3",
           "#FF6692",
           "#B6E880",
           "#FF97FF",
           "#FECB52"
          ],
          "font": {
           "color": "#2a3f5f"
          },
          "geo": {
           "bgcolor": "white",
           "lakecolor": "white",
           "landcolor": "#E5ECF6",
           "showlakes": true,
           "showland": true,
           "subunitcolor": "white"
          },
          "hoverlabel": {
           "align": "left"
          },
          "hovermode": "closest",
          "mapbox": {
           "style": "light"
          },
          "paper_bgcolor": "white",
          "plot_bgcolor": "#E5ECF6",
          "polar": {
           "angularaxis": {
            "gridcolor": "white",
            "linecolor": "white",
            "ticks": ""
           },
           "bgcolor": "#E5ECF6",
           "radialaxis": {
            "gridcolor": "white",
            "linecolor": "white",
            "ticks": ""
           }
          },
          "scene": {
           "xaxis": {
            "backgroundcolor": "#E5ECF6",
            "gridcolor": "white",
            "gridwidth": 2,
            "linecolor": "white",
            "showbackground": true,
            "ticks": "",
            "zerolinecolor": "white"
           },
           "yaxis": {
            "backgroundcolor": "#E5ECF6",
            "gridcolor": "white",
            "gridwidth": 2,
            "linecolor": "white",
            "showbackground": true,
            "ticks": "",
            "zerolinecolor": "white"
           },
           "zaxis": {
            "backgroundcolor": "#E5ECF6",
            "gridcolor": "white",
            "gridwidth": 2,
            "linecolor": "white",
            "showbackground": true,
            "ticks": "",
            "zerolinecolor": "white"
           }
          },
          "shapedefaults": {
           "line": {
            "color": "#2a3f5f"
           }
          },
          "ternary": {
           "aaxis": {
            "gridcolor": "white",
            "linecolor": "white",
            "ticks": ""
           },
           "baxis": {
            "gridcolor": "white",
            "linecolor": "white",
            "ticks": ""
           },
           "bgcolor": "#E5ECF6",
           "caxis": {
            "gridcolor": "white",
            "linecolor": "white",
            "ticks": ""
           }
          },
          "title": {
           "x": 0.05
          },
          "xaxis": {
           "automargin": true,
           "gridcolor": "white",
           "linecolor": "white",
           "ticks": "",
           "title": {
            "standoff": 15
           },
           "zerolinecolor": "white",
           "zerolinewidth": 2
          },
          "yaxis": {
           "automargin": true,
           "gridcolor": "white",
           "linecolor": "white",
           "ticks": "",
           "title": {
            "standoff": 15
           },
           "zerolinecolor": "white",
           "zerolinewidth": 2
          }
         }
        },
        "title": {
         "text": "Sunburst Chart of Metal Modification, Form of Porous Carbon, and Detection Techniques"
        },
        "width": 1200
       }
      }
     },
     "metadata": {},
     "output_type": "display_data"
    }
   ],
   "source": [
    "import plotly.express as px\n",
    "\n",
    "# Assuming sunburst_data is your DataFrame prepared for the sunburst chart\n",
    "fig_sunburst = px.sunburst(sunburst_data, path=['Form of porous carbon', 'Detection techniques'], values='counts',\n",
    "                           title='Sunburst Chart of Metal Modification, Form of Porous Carbon, and Detection Techniques',\n",
    "                           color='Form of porous carbon',  # This assigns different colors based on the 'Form of porous carbon' category\n",
    "                           color_continuous_scale=px.colors.sequential.Viridis)  # Using a professional and contrasting color scale\n",
    "\n",
    "# Adjusting the layout for a larger figure\n",
    "fig_sunburst.update_layout(width=1200, height=800)\n",
    "\n",
    "# Show the figure in the notebook (or IDE)\n",
    "fig_sunburst.show()\n",
    "\n",
    "# Saving the figure as a PNG file. Ensure the kaleido package is installed.\n",
    "fig_sunburst.write_image(\"5.png\")\n"
   ]
  },
  {
   "cell_type": "markdown",
   "metadata": {},
   "source": [
    "# Clustering to find patterns: Without a specific prediction task in mind, you might apply clustering techniques to discover inherent groupings or patterns in the data. This could reveal relationships between materials, techniques, and outcomes that aren't immediately obvious."
   ]
  },
  {
   "cell_type": "code",
   "execution_count": 196,
   "metadata": {},
   "outputs": [
    {
     "name": "stderr",
     "output_type": "stream",
     "text": [
      "c:\\Users\\DELL\\AppData\\Local\\Programs\\Python\\Python312\\Lib\\site-packages\\sklearn\\preprocessing\\_encoders.py:975: FutureWarning:\n",
      "\n",
      "`sparse` was renamed to `sparse_output` in version 1.2 and will be removed in 1.4. `sparse_output` is ignored unless you leave `sparse` to its default value.\n",
      "\n",
      "c:\\Users\\DELL\\AppData\\Local\\Programs\\Python\\Python312\\Lib\\site-packages\\sklearn\\cluster\\_kmeans.py:1416: FutureWarning:\n",
      "\n",
      "The default value of `n_init` will change from 10 to 'auto' in 1.4. Set the value of `n_init` explicitly to suppress the warning\n",
      "\n"
     ]
    },
    {
     "data": {
      "image/png": "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",
      "text/plain": [
       "<Figure size 1000x800 with 1 Axes>"
      ]
     },
     "metadata": {},
     "output_type": "display_data"
    },
    {
     "ename": "AttributeError",
     "evalue": "module 'matplotlib.pyplot' has no attribute 'write'",
     "output_type": "error",
     "traceback": [
      "\u001b[1;31m---------------------------------------------------------------------------\u001b[0m",
      "\u001b[1;31mAttributeError\u001b[0m                            Traceback (most recent call last)",
      "Cell \u001b[1;32mIn[196], line 40\u001b[0m\n\u001b[0;32m     38\u001b[0m plt\u001b[38;5;241m.\u001b[39mshow()\n\u001b[0;32m     39\u001b[0m \u001b[38;5;66;03m# Save the figure\u001b[39;00m\n\u001b[1;32m---> 40\u001b[0m \u001b[43mplt\u001b[49m\u001b[38;5;241;43m.\u001b[39;49m\u001b[43mwrite\u001b[49m(\u001b[38;5;124m'\u001b[39m\u001b[38;5;124mpca.png\u001b[39m\u001b[38;5;124m'\u001b[39m, dpi\u001b[38;5;241m=\u001b[39m\u001b[38;5;241m300\u001b[39m)  \u001b[38;5;66;03m# Save as PNG with high resolution\u001b[39;00m\n",
      "\u001b[1;31mAttributeError\u001b[0m: module 'matplotlib.pyplot' has no attribute 'write'"
     ]
    }
   ],
   "source": [
    "\n",
    "\n",
    "from sklearn.preprocessing import OneHotEncoder\n",
    "from sklearn.cluster import KMeans\n",
    "from sklearn.impute import SimpleImputer\n",
    "from sklearn.pipeline import Pipeline\n",
    "from sklearn.compose import ColumnTransformer\n",
    "from sklearn.decomposition import PCA\n",
    "\n",
    "data_new=data_cleaned\n",
    "# First, let's check for missing values in the new dataset\n",
    "missing_values_count = data_new.isnull().sum()\n",
    "\n",
    "# If there are missing values, apply appropriate handling methods\n",
    "if missing_values_count.sum() > 0:\n",
    "    # For simplicity, let's use median imputation for numerical columns and drop rows with missing categorical values\n",
    "    numerical_cols_new = data_new.select_dtypes(include=['float64', 'int64']).columns\n",
    "    categorical_cols_with_missing = [col for col in categorical_cols_new if data_new[col].isnull().any()]\n",
    "    \n",
    "    # Creating imputers\n",
    "    numerical_imputer = SimpleImputer(strategy='median')\n",
    "    data_new[numerical_cols_new] = numerical_imputer.fit_transform(data_new[numerical_cols_new])\n",
    "    \n",
    "    # Dropping rows with missing categorical data\n",
    "    data_new.dropna(subset=categorical_cols_with_missing, inplace=True)\n",
    "\n",
    "# Re-apply preprocessing, PCA, and K-Means with a chosen k value (let's use k=5 as a balanced choice)\n",
    "X_new_processed_corrected = preprocessor_new.fit_transform(data_new.drop(columns=['LOD_nM']))\n",
    "kmeans_corrected = KMeans(n_clusters=5, random_state=42).fit(X_new_processed_corrected)\n",
    "X_new_pca_corrected = pca_new.fit_transform(X_new_processed_corrected)\n",
    "\n",
    "# Plotting the corrected PCA-reduced data with cluster labels\n",
    "plt.figure(figsize=(10, 8))\n",
    "plt.scatter(X_new_pca_corrected[:, 0], X_new_pca_corrected[:, 1], c=kmeans_corrected.labels_, cmap='viridis', marker='o', edgecolor='k', s=50, alpha=0.6)\n",
    "plt.title('Cluster Visualization after PCA Reduction')\n",
    "plt.xlabel('Principal Component 1')\n",
    "plt.ylabel('Principal Component 2')\n",
    "centroids_corrected = pca_new.transform(kmeans_corrected.cluster_centers_)\n",
    "plt.scatter(centroids_corrected[:, 0], centroids_corrected[:, 1], marker='x', s=200, linewidths=3, color='r', zorder=10)\n",
    "plt.show()\n"
   ]
  }
 ],
 "metadata": {
  "kernelspec": {
   "display_name": "Python 3",
   "language": "python",
   "name": "python3"
  },
  "language_info": {
   "codemirror_mode": {
    "name": "ipython",
    "version": 3
   },
   "file_extension": ".py",
   "mimetype": "text/x-python",
   "name": "python",
   "nbconvert_exporter": "python",
   "pygments_lexer": "ipython3",
   "version": "3.12.0"
  }
 },
 "nbformat": 4,
 "nbformat_minor": 2
}
